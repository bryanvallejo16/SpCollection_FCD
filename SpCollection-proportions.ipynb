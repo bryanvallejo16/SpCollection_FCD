{
 "cells": [
  {
   "cell_type": "markdown",
   "metadata": {},
   "source": [
    "# Specie data collection \n",
    "\n",
    "This notebook is part of a Technical test at FCD. The main task is to write Python code that describes the sample dataset using categorical attributes. The second part of the task should include visualization of proportion per category and geo-visualization. \n",
    "\n",
    "Run the next cells to get all results. If needed.\n",
    "\n",
    "## GitHub Repository\n",
    "\n",
    "Find more information about this code in the repository [SpCollection_FCD Repository](https://github.com/bryanvallejo16/SpCollection_FCD)\n",
    "\n",
    "\n",
    "## Hands on coding"
   ]
  },
  {
   "cell_type": "code",
   "execution_count": 17,
   "metadata": {},
   "outputs": [],
   "source": [
    "import pandas as pd\n",
    "import plotly.express as px"
   ]
  },
  {
   "cell_type": "markdown",
   "metadata": {},
   "source": [
    "- Load data using pandas"
   ]
  },
  {
   "cell_type": "code",
   "execution_count": 18,
   "metadata": {},
   "outputs": [],
   "source": [
    "# read data\n",
    "data = pd.read_csv('data/CDFCollections240508csv.csv')"
   ]
  },
  {
   "cell_type": "code",
   "execution_count": 19,
   "metadata": {},
   "outputs": [
    {
     "data": {
      "text/html": [
       "<div>\n",
       "<style scoped>\n",
       "    .dataframe tbody tr th:only-of-type {\n",
       "        vertical-align: middle;\n",
       "    }\n",
       "\n",
       "    .dataframe tbody tr th {\n",
       "        vertical-align: top;\n",
       "    }\n",
       "\n",
       "    .dataframe thead th {\n",
       "        text-align: right;\n",
       "    }\n",
       "</style>\n",
       "<table border=\"1\" class=\"dataframe\">\n",
       "  <thead>\n",
       "    <tr style=\"text-align: right;\">\n",
       "      <th></th>\n",
       "      <th>Kingdom</th>\n",
       "      <th>Family</th>\n",
       "      <th>SciName</th>\n",
       "      <th>LatitudeDecimal</th>\n",
       "      <th>LongitudeDecimal</th>\n",
       "      <th>CollectionCode</th>\n",
       "      <th>Origin</th>\n",
       "      <th>StartDate</th>\n",
       "    </tr>\n",
       "  </thead>\n",
       "  <tbody>\n",
       "    <tr>\n",
       "      <th>0</th>\n",
       "      <td>Plantae</td>\n",
       "      <td>Salviniaceae</td>\n",
       "      <td>Azolla filiculoides subsp. cristata</td>\n",
       "      <td>-0.616700</td>\n",
       "      <td>-90.350000</td>\n",
       "      <td>CDS</td>\n",
       "      <td>Native</td>\n",
       "      <td>2003-04-20 00:00:00</td>\n",
       "    </tr>\n",
       "    <tr>\n",
       "      <th>1</th>\n",
       "      <td>Plantae</td>\n",
       "      <td>Boraginaceae</td>\n",
       "      <td>Tournefortia pubescens</td>\n",
       "      <td>-0.496722</td>\n",
       "      <td>-90.358638</td>\n",
       "      <td>CDS</td>\n",
       "      <td>Endemic</td>\n",
       "      <td>1963-02-10 00:00:00</td>\n",
       "    </tr>\n",
       "    <tr>\n",
       "      <th>2</th>\n",
       "      <td>Plantae</td>\n",
       "      <td>Sapindaceae</td>\n",
       "      <td>Cardiospermum galapageium</td>\n",
       "      <td>-0.396666</td>\n",
       "      <td>-90.290833</td>\n",
       "      <td>CDS</td>\n",
       "      <td>Endemic</td>\n",
       "      <td>1963-02-10 00:00:00</td>\n",
       "    </tr>\n",
       "    <tr>\n",
       "      <th>3</th>\n",
       "      <td>Plantae</td>\n",
       "      <td>Euphorbiaceae</td>\n",
       "      <td>Croton scouleri var. darwinii</td>\n",
       "      <td>1.375000</td>\n",
       "      <td>-91.819400</td>\n",
       "      <td>CDS</td>\n",
       "      <td>Endemic</td>\n",
       "      <td>1963-02-16 00:00:00</td>\n",
       "    </tr>\n",
       "    <tr>\n",
       "      <th>4</th>\n",
       "      <td>Plantae</td>\n",
       "      <td>Boraginaceae</td>\n",
       "      <td>Tiquilia fusca</td>\n",
       "      <td>-0.582327</td>\n",
       "      <td>-90.165816</td>\n",
       "      <td>CDS</td>\n",
       "      <td>Endemic</td>\n",
       "      <td>1963-02-20 00:00:00</td>\n",
       "    </tr>\n",
       "  </tbody>\n",
       "</table>\n",
       "</div>"
      ],
      "text/plain": [
       "   Kingdom         Family                              SciName  \\\n",
       "0  Plantae   Salviniaceae  Azolla filiculoides subsp. cristata   \n",
       "1  Plantae   Boraginaceae              Tournefortia pubescens    \n",
       "2  Plantae    Sapindaceae           Cardiospermum galapageium    \n",
       "3  Plantae  Euphorbiaceae        Croton scouleri var. darwinii   \n",
       "4  Plantae   Boraginaceae                      Tiquilia fusca    \n",
       "\n",
       "   LatitudeDecimal  LongitudeDecimal CollectionCode   Origin  \\\n",
       "0        -0.616700        -90.350000            CDS   Native   \n",
       "1        -0.496722        -90.358638            CDS  Endemic   \n",
       "2        -0.396666        -90.290833            CDS  Endemic   \n",
       "3         1.375000        -91.819400            CDS  Endemic   \n",
       "4        -0.582327        -90.165816            CDS  Endemic   \n",
       "\n",
       "             StartDate  \n",
       "0  2003-04-20 00:00:00  \n",
       "1  1963-02-10 00:00:00  \n",
       "2  1963-02-10 00:00:00  \n",
       "3  1963-02-16 00:00:00  \n",
       "4  1963-02-20 00:00:00  "
      ]
     },
     "execution_count": 19,
     "metadata": {},
     "output_type": "execute_result"
    }
   ],
   "source": [
    "data.head()"
   ]
  },
  {
   "cell_type": "markdown",
   "metadata": {},
   "source": [
    "- For each collection (identified by CollectionCode), calculate taxonomic family proportion"
   ]
  },
  {
   "cell_type": "code",
   "execution_count": 20,
   "metadata": {},
   "outputs": [
    {
     "name": "stdout",
     "output_type": "stream",
     "text": [
      "The dataset contains in total 4 unique Collection Codes\n",
      "\n",
      "['CDS' 'ICCDRS' 'VCCDRS' 'MCCDRS']\n"
     ]
    }
   ],
   "source": [
    "print(f'The dataset contains in total {data.CollectionCode.nunique()} unique Collection Codes\\n\\n{data.CollectionCode.unique()}')"
   ]
  },
  {
   "cell_type": "code",
   "execution_count": 21,
   "metadata": {},
   "outputs": [
    {
     "data": {
      "text/html": [
       "<div>\n",
       "<style scoped>\n",
       "    .dataframe tbody tr th:only-of-type {\n",
       "        vertical-align: middle;\n",
       "    }\n",
       "\n",
       "    .dataframe tbody tr th {\n",
       "        vertical-align: top;\n",
       "    }\n",
       "\n",
       "    .dataframe thead th {\n",
       "        text-align: right;\n",
       "    }\n",
       "</style>\n",
       "<table border=\"1\" class=\"dataframe\">\n",
       "  <thead>\n",
       "    <tr style=\"text-align: right;\">\n",
       "      <th></th>\n",
       "      <th>CollectionCode</th>\n",
       "      <th>Family</th>\n",
       "      <th>proportion</th>\n",
       "    </tr>\n",
       "  </thead>\n",
       "  <tbody>\n",
       "    <tr>\n",
       "      <th>0</th>\n",
       "      <td>CDS</td>\n",
       "      <td>Asteraceae</td>\n",
       "      <td>0.061828</td>\n",
       "    </tr>\n",
       "    <tr>\n",
       "      <th>1</th>\n",
       "      <td>CDS</td>\n",
       "      <td>Poaceae</td>\n",
       "      <td>0.052307</td>\n",
       "    </tr>\n",
       "    <tr>\n",
       "      <th>2</th>\n",
       "      <td>CDS</td>\n",
       "      <td>Physciaceae (= Caliciaceae)</td>\n",
       "      <td>0.045480</td>\n",
       "    </tr>\n",
       "    <tr>\n",
       "      <th>3</th>\n",
       "      <td>CDS</td>\n",
       "      <td>Parmeliaceae</td>\n",
       "      <td>0.044223</td>\n",
       "    </tr>\n",
       "    <tr>\n",
       "      <th>4</th>\n",
       "      <td>CDS</td>\n",
       "      <td>Fabaceae</td>\n",
       "      <td>0.040301</td>\n",
       "    </tr>\n",
       "    <tr>\n",
       "      <th>5</th>\n",
       "      <td>CDS</td>\n",
       "      <td>Euphorbiaceae</td>\n",
       "      <td>0.034402</td>\n",
       "    </tr>\n",
       "    <tr>\n",
       "      <th>6</th>\n",
       "      <td>CDS</td>\n",
       "      <td>Roccellaceae</td>\n",
       "      <td>0.033594</td>\n",
       "    </tr>\n",
       "    <tr>\n",
       "      <th>7</th>\n",
       "      <td>CDS</td>\n",
       "      <td>Boraginaceae</td>\n",
       "      <td>0.033504</td>\n",
       "    </tr>\n",
       "    <tr>\n",
       "      <th>8</th>\n",
       "      <td>CDS</td>\n",
       "      <td>Ramalinaceae</td>\n",
       "      <td>0.032246</td>\n",
       "    </tr>\n",
       "    <tr>\n",
       "      <th>9</th>\n",
       "      <td>CDS</td>\n",
       "      <td>Malvaceae</td>\n",
       "      <td>0.027516</td>\n",
       "    </tr>\n",
       "    <tr>\n",
       "      <th>10</th>\n",
       "      <td>CDS</td>\n",
       "      <td>Amaranthaceae</td>\n",
       "      <td>0.025360</td>\n",
       "    </tr>\n",
       "    <tr>\n",
       "      <th>11</th>\n",
       "      <td>CDS</td>\n",
       "      <td>Solanaceae</td>\n",
       "      <td>0.025091</td>\n",
       "    </tr>\n",
       "  </tbody>\n",
       "</table>\n",
       "</div>"
      ],
      "text/plain": [
       "   CollectionCode                       Family  proportion\n",
       "0             CDS                   Asteraceae    0.061828\n",
       "1             CDS                      Poaceae    0.052307\n",
       "2             CDS  Physciaceae (= Caliciaceae)    0.045480\n",
       "3             CDS                 Parmeliaceae    0.044223\n",
       "4             CDS                     Fabaceae    0.040301\n",
       "5             CDS                Euphorbiaceae    0.034402\n",
       "6             CDS                 Roccellaceae    0.033594\n",
       "7             CDS                 Boraginaceae    0.033504\n",
       "8             CDS                 Ramalinaceae    0.032246\n",
       "9             CDS                    Malvaceae    0.027516\n",
       "10            CDS                Amaranthaceae    0.025360\n",
       "11            CDS                   Solanaceae    0.025091"
      ]
     },
     "execution_count": 21,
     "metadata": {},
     "output_type": "execute_result"
    }
   ],
   "source": [
    "# get subset with only needed classes - Family and CollectionCode\n",
    "data_taxonomy = data[['Family', 'CollectionCode']]\n",
    "\n",
    "# get a DF with proportion - Normalize=True gives a total proportion of 1 per collection code.\n",
    "data_taxonomy_df = data_taxonomy.groupby('CollectionCode', as_index=False).value_counts(normalize=True)\n",
    "\n",
    "data_taxonomy_df.head(12)"
   ]
  },
  {
   "cell_type": "code",
   "execution_count": 22,
   "metadata": {},
   "outputs": [],
   "source": [
    "# save table in OUTPUT folder\n",
    "data_taxonomy_df.to_csv('output/CollectioCode_Family_proportion.csv', index=False)"
   ]
  },
  {
   "cell_type": "markdown",
   "metadata": {},
   "source": [
    "- Calculate the *species origin* status proportion"
   ]
  },
  {
   "cell_type": "code",
   "execution_count": 23,
   "metadata": {},
   "outputs": [
    {
     "name": "stdout",
     "output_type": "stream",
     "text": [
      "The dataset contains in total 9 unique Specie Origins\n",
      "\n",
      "['Native' 'Endemic' 'Cryptogenic' 'Introduced - established' 'No data'\n",
      " 'Introduced - eradicated' 'Introduced - intercepted' 'Migrant' 'Vagrant']\n"
     ]
    }
   ],
   "source": [
    "print(f'The dataset contains in total {data.Origin.nunique()} unique Specie Origins\\n\\n{data.Origin.unique()}')"
   ]
  },
  {
   "cell_type": "code",
   "execution_count": 24,
   "metadata": {},
   "outputs": [
    {
     "data": {
      "text/html": [
       "<div>\n",
       "<style scoped>\n",
       "    .dataframe tbody tr th:only-of-type {\n",
       "        vertical-align: middle;\n",
       "    }\n",
       "\n",
       "    .dataframe tbody tr th {\n",
       "        vertical-align: top;\n",
       "    }\n",
       "\n",
       "    .dataframe thead th {\n",
       "        text-align: right;\n",
       "    }\n",
       "</style>\n",
       "<table border=\"1\" class=\"dataframe\">\n",
       "  <thead>\n",
       "    <tr style=\"text-align: right;\">\n",
       "      <th></th>\n",
       "      <th>Origin</th>\n",
       "      <th>proportion</th>\n",
       "    </tr>\n",
       "  </thead>\n",
       "  <tbody>\n",
       "    <tr>\n",
       "      <th>0</th>\n",
       "      <td>Native</td>\n",
       "      <td>0.368857</td>\n",
       "    </tr>\n",
       "    <tr>\n",
       "      <th>1</th>\n",
       "      <td>Endemic</td>\n",
       "      <td>0.303960</td>\n",
       "    </tr>\n",
       "    <tr>\n",
       "      <th>2</th>\n",
       "      <td>Introduced - established</td>\n",
       "      <td>0.271644</td>\n",
       "    </tr>\n",
       "    <tr>\n",
       "      <th>3</th>\n",
       "      <td>Cryptogenic</td>\n",
       "      <td>0.031823</td>\n",
       "    </tr>\n",
       "    <tr>\n",
       "      <th>4</th>\n",
       "      <td>No data</td>\n",
       "      <td>0.021370</td>\n",
       "    </tr>\n",
       "    <tr>\n",
       "      <th>5</th>\n",
       "      <td>Migrant</td>\n",
       "      <td>0.000803</td>\n",
       "    </tr>\n",
       "    <tr>\n",
       "      <th>6</th>\n",
       "      <td>Vagrant</td>\n",
       "      <td>0.000571</td>\n",
       "    </tr>\n",
       "    <tr>\n",
       "      <th>7</th>\n",
       "      <td>Introduced - eradicated</td>\n",
       "      <td>0.000494</td>\n",
       "    </tr>\n",
       "    <tr>\n",
       "      <th>8</th>\n",
       "      <td>Introduced - intercepted</td>\n",
       "      <td>0.000479</td>\n",
       "    </tr>\n",
       "  </tbody>\n",
       "</table>\n",
       "</div>"
      ],
      "text/plain": [
       "                     Origin  proportion\n",
       "0                    Native    0.368857\n",
       "1                   Endemic    0.303960\n",
       "2  Introduced - established    0.271644\n",
       "3               Cryptogenic    0.031823\n",
       "4                   No data    0.021370\n",
       "5                   Migrant    0.000803\n",
       "6                   Vagrant    0.000571\n",
       "7   Introduced - eradicated    0.000494\n",
       "8  Introduced - intercepted    0.000479"
      ]
     },
     "execution_count": 24,
     "metadata": {},
     "output_type": "execute_result"
    }
   ],
   "source": [
    "# get subset with only needed classes - Specie origin\n",
    "data_sp_origin = data[['Origin']]\n",
    "\n",
    "# get a DF with proportion - Normalize=True gives a total proportion of \n",
    "data_sp_origin_df = data_sp_origin.value_counts(normalize=True).to_frame().reset_index(drop=False).rename(columns={0:'proportion'})\n",
    "\n",
    "data_sp_origin_df\n"
   ]
  },
  {
   "cell_type": "code",
   "execution_count": 25,
   "metadata": {},
   "outputs": [],
   "source": [
    "# save table in OUTPUT folder\n",
    "data_taxonomy_df.to_csv('output/SpecieOrigin_proportion.csv', index=False)"
   ]
  },
  {
   "cell_type": "markdown",
   "metadata": {},
   "source": [
    "## Visualization\n",
    "\n",
    "- Visualize these results using Plotly, with proper labels and a title"
   ]
  },
  {
   "cell_type": "code",
   "execution_count": 26,
   "metadata": {},
   "outputs": [
    {
     "data": {
      "application/vnd.plotly.v1+json": {
       "config": {
        "plotlyServerURL": "https://plot.ly"
       },
       "data": [
        {
         "alignmentgroup": "True",
         "customdata": [
          [
           "Formicidae"
          ]
         ],
         "hovertemplate": "Family=%{customdata[0]}<br>Proportion=%{y}<extra></extra>",
         "legendgroup": "Formicidae",
         "marker": {
          "color": "#636efa",
          "pattern": {
           "shape": ""
          }
         },
         "name": "Formicidae",
         "offsetgroup": "Formicidae",
         "orientation": "v",
         "showlegend": true,
         "textposition": "auto",
         "type": "bar",
         "x": [
          "ICCDRS"
         ],
         "xaxis": "x",
         "y": [
          0.22684302349170285
         ],
         "yaxis": "y"
        },
        {
         "alignmentgroup": "True",
         "customdata": [
          [
           "Otariidae"
          ]
         ],
         "hovertemplate": "Family=%{customdata[0]}<br>Proportion=%{y}<extra></extra>",
         "legendgroup": "Otariidae",
         "marker": {
          "color": "#EF553B",
          "pattern": {
           "shape": ""
          }
         },
         "name": "Otariidae",
         "offsetgroup": "Otariidae",
         "orientation": "v",
         "showlegend": true,
         "textposition": "auto",
         "type": "bar",
         "x": [
          "VCCDRS"
         ],
         "xaxis": "x",
         "y": [
          0.16005291005291006
         ],
         "yaxis": "y"
        },
        {
         "alignmentgroup": "True",
         "customdata": [
          [
           "Thraupidae"
          ]
         ],
         "hovertemplate": "Family=%{customdata[0]}<br>Proportion=%{y}<extra></extra>",
         "legendgroup": "Thraupidae",
         "marker": {
          "color": "#00cc96",
          "pattern": {
           "shape": ""
          }
         },
         "name": "Thraupidae",
         "offsetgroup": "Thraupidae",
         "orientation": "v",
         "showlegend": true,
         "textposition": "auto",
         "type": "bar",
         "x": [
          "VCCDRS"
         ],
         "xaxis": "x",
         "y": [
          0.15145502645502645
         ],
         "yaxis": "y"
        },
        {
         "alignmentgroup": "True",
         "customdata": [
          [
           "Iguanidae"
          ]
         ],
         "hovertemplate": "Family=%{customdata[0]}<br>Proportion=%{y}<extra></extra>",
         "legendgroup": "Iguanidae",
         "marker": {
          "color": "#ab63fa",
          "pattern": {
           "shape": ""
          }
         },
         "name": "Iguanidae",
         "offsetgroup": "Iguanidae",
         "orientation": "v",
         "showlegend": true,
         "textposition": "auto",
         "type": "bar",
         "x": [
          "VCCDRS"
         ],
         "xaxis": "x",
         "y": [
          0.06944444444444445
         ],
         "yaxis": "y"
        },
        {
         "alignmentgroup": "True",
         "customdata": [
          [
           "Noctuidae"
          ],
          [
           "Noctuidae"
          ]
         ],
         "hovertemplate": "Family=%{customdata[0]}<br>Proportion=%{y}<extra></extra>",
         "legendgroup": "Noctuidae",
         "marker": {
          "color": "#FFA15A",
          "pattern": {
           "shape": ""
          }
         },
         "name": "Noctuidae",
         "offsetgroup": "Noctuidae",
         "orientation": "v",
         "showlegend": true,
         "textposition": "auto",
         "type": "bar",
         "x": [
          "ICCDRS",
          "CDS"
         ],
         "xaxis": "x",
         "y": [
          0.06256339513936787,
          0.00002994101619808976
         ],
         "yaxis": "y"
        },
        {
         "alignmentgroup": "True",
         "customdata": [
          [
           "Asteraceae"
          ]
         ],
         "hovertemplate": "Family=%{customdata[0]}<br>Proportion=%{y}<extra></extra>",
         "legendgroup": "Asteraceae",
         "marker": {
          "color": "#19d3f3",
          "pattern": {
           "shape": ""
          }
         },
         "name": "Asteraceae",
         "offsetgroup": "Asteraceae",
         "orientation": "v",
         "showlegend": true,
         "textposition": "auto",
         "type": "bar",
         "x": [
          "CDS"
         ],
         "xaxis": "x",
         "y": [
          0.06182819844905536
         ],
         "yaxis": "y"
        },
        {
         "alignmentgroup": "True",
         "customdata": [
          [
           "Tenebrionidae"
          ]
         ],
         "hovertemplate": "Family=%{customdata[0]}<br>Proportion=%{y}<extra></extra>",
         "legendgroup": "Tenebrionidae",
         "marker": {
          "color": "#FF6692",
          "pattern": {
           "shape": ""
          }
         },
         "name": "Tenebrionidae",
         "offsetgroup": "Tenebrionidae",
         "orientation": "v",
         "showlegend": true,
         "textposition": "auto",
         "type": "bar",
         "x": [
          "ICCDRS"
         ],
         "xaxis": "x",
         "y": [
          0.05599058708970666
         ],
         "yaxis": "y"
        },
        {
         "alignmentgroup": "True",
         "customdata": [
          [
           "Poaceae"
          ]
         ],
         "hovertemplate": "Family=%{customdata[0]}<br>Proportion=%{y}<extra></extra>",
         "legendgroup": "Poaceae",
         "marker": {
          "color": "#B6E880",
          "pattern": {
           "shape": ""
          }
         },
         "name": "Poaceae",
         "offsetgroup": "Poaceae",
         "orientation": "v",
         "showlegend": true,
         "textposition": "auto",
         "type": "bar",
         "x": [
          "CDS"
         ],
         "xaxis": "x",
         "y": [
          0.05230695529806282
         ],
         "yaxis": "y"
        },
        {
         "alignmentgroup": "True",
         "customdata": [
          [
           "Muridae"
          ]
         ],
         "hovertemplate": "Family=%{customdata[0]}<br>Proportion=%{y}<extra></extra>",
         "legendgroup": "Muridae",
         "marker": {
          "color": "#FF97FF",
          "pattern": {
           "shape": ""
          }
         },
         "name": "Muridae",
         "offsetgroup": "Muridae",
         "orientation": "v",
         "showlegend": true,
         "textposition": "auto",
         "type": "bar",
         "x": [
          "VCCDRS"
         ],
         "xaxis": "x",
         "y": [
          0.046957671957671955
         ],
         "yaxis": "y"
        },
        {
         "alignmentgroup": "True",
         "customdata": [
          [
           "Physciaceae (= Caliciaceae)"
          ]
         ],
         "hovertemplate": "Family=%{customdata[0]}<br>Proportion=%{y}<extra></extra>",
         "legendgroup": "Physciaceae (= Caliciaceae)",
         "marker": {
          "color": "#FECB52",
          "pattern": {
           "shape": ""
          }
         },
         "name": "Physciaceae (= Caliciaceae)",
         "offsetgroup": "Physciaceae (= Caliciaceae)",
         "orientation": "v",
         "showlegend": true,
         "textposition": "auto",
         "type": "bar",
         "x": [
          "CDS"
         ],
         "xaxis": "x",
         "y": [
          0.04548040360489835
         ],
         "yaxis": "y"
        },
        {
         "alignmentgroup": "True",
         "customdata": [
          [
           "Parmeliaceae"
          ]
         ],
         "hovertemplate": "Family=%{customdata[0]}<br>Proportion=%{y}<extra></extra>",
         "legendgroup": "Parmeliaceae",
         "marker": {
          "color": "#636efa",
          "pattern": {
           "shape": ""
          }
         },
         "name": "Parmeliaceae",
         "offsetgroup": "Parmeliaceae",
         "orientation": "v",
         "showlegend": true,
         "textposition": "auto",
         "type": "bar",
         "x": [
          "CDS"
         ],
         "xaxis": "x",
         "y": [
          0.04422288092457858
         ],
         "yaxis": "y"
        },
        {
         "alignmentgroup": "True",
         "customdata": [
          [
           "Fabaceae"
          ]
         ],
         "hovertemplate": "Family=%{customdata[0]}<br>Proportion=%{y}<extra></extra>",
         "legendgroup": "Fabaceae",
         "marker": {
          "color": "#EF553B",
          "pattern": {
           "shape": ""
          }
         },
         "name": "Fabaceae",
         "offsetgroup": "Fabaceae",
         "orientation": "v",
         "showlegend": true,
         "textposition": "auto",
         "type": "bar",
         "x": [
          "CDS"
         ],
         "xaxis": "x",
         "y": [
          0.04030060780262882
         ],
         "yaxis": "y"
        },
        {
         "alignmentgroup": "True",
         "customdata": [
          [
           "Parulidae"
          ]
         ],
         "hovertemplate": "Family=%{customdata[0]}<br>Proportion=%{y}<extra></extra>",
         "legendgroup": "Parulidae",
         "marker": {
          "color": "#00cc96",
          "pattern": {
           "shape": ""
          }
         },
         "name": "Parulidae",
         "offsetgroup": "Parulidae",
         "orientation": "v",
         "showlegend": true,
         "textposition": "auto",
         "type": "bar",
         "x": [
          "VCCDRS"
         ],
         "xaxis": "x",
         "y": [
          0.03835978835978836
         ],
         "yaxis": "y"
        },
        {
         "alignmentgroup": "True",
         "customdata": [
          [
           "Gekkonidae"
          ]
         ],
         "hovertemplate": "Family=%{customdata[0]}<br>Proportion=%{y}<extra></extra>",
         "legendgroup": "Gekkonidae",
         "marker": {
          "color": "#ab63fa",
          "pattern": {
           "shape": ""
          }
         },
         "name": "Gekkonidae",
         "offsetgroup": "Gekkonidae",
         "orientation": "v",
         "showlegend": true,
         "textposition": "auto",
         "type": "bar",
         "x": [
          "VCCDRS"
         ],
         "xaxis": "x",
         "y": [
          0.037698412698412696
         ],
         "yaxis": "y"
        },
        {
         "alignmentgroup": "True",
         "customdata": [
          [
           "Euphorbiaceae"
          ]
         ],
         "hovertemplate": "Family=%{customdata[0]}<br>Proportion=%{y}<extra></extra>",
         "legendgroup": "Euphorbiaceae",
         "marker": {
          "color": "#FFA15A",
          "pattern": {
           "shape": ""
          }
         },
         "name": "Euphorbiaceae",
         "offsetgroup": "Euphorbiaceae",
         "orientation": "v",
         "showlegend": true,
         "textposition": "auto",
         "type": "bar",
         "x": [
          "CDS"
         ],
         "xaxis": "x",
         "y": [
          0.034402227611605135
         ],
         "yaxis": "y"
        },
        {
         "alignmentgroup": "True",
         "customdata": [
          [
           "Hylidae"
          ]
         ],
         "hovertemplate": "Family=%{customdata[0]}<br>Proportion=%{y}<extra></extra>",
         "legendgroup": "Hylidae",
         "marker": {
          "color": "#19d3f3",
          "pattern": {
           "shape": ""
          }
         },
         "name": "Hylidae",
         "offsetgroup": "Hylidae",
         "orientation": "v",
         "showlegend": true,
         "textposition": "auto",
         "type": "bar",
         "x": [
          "VCCDRS"
         ],
         "xaxis": "x",
         "y": [
          0.03439153439153439
         ],
         "yaxis": "y"
        },
        {
         "alignmentgroup": "True",
         "customdata": [
          [
           "Roccellaceae"
          ]
         ],
         "hovertemplate": "Family=%{customdata[0]}<br>Proportion=%{y}<extra></extra>",
         "legendgroup": "Roccellaceae",
         "marker": {
          "color": "#FF6692",
          "pattern": {
           "shape": ""
          }
         },
         "name": "Roccellaceae",
         "offsetgroup": "Roccellaceae",
         "orientation": "v",
         "showlegend": true,
         "textposition": "auto",
         "type": "bar",
         "x": [
          "CDS"
         ],
         "xaxis": "x",
         "y": [
          0.03359382017425672
         ],
         "yaxis": "y"
        },
        {
         "alignmentgroup": "True",
         "customdata": [
          [
           "Boraginaceae"
          ]
         ],
         "hovertemplate": "Family=%{customdata[0]}<br>Proportion=%{y}<extra></extra>",
         "legendgroup": "Boraginaceae",
         "marker": {
          "color": "#B6E880",
          "pattern": {
           "shape": ""
          }
         },
         "name": "Boraginaceae",
         "offsetgroup": "Boraginaceae",
         "orientation": "v",
         "showlegend": true,
         "textposition": "auto",
         "type": "bar",
         "x": [
          "CDS"
         ],
         "xaxis": "x",
         "y": [
          0.033503997125662446
         ],
         "yaxis": "y"
        },
        {
         "alignmentgroup": "True",
         "customdata": [
          [
           "Testunidae"
          ]
         ],
         "hovertemplate": "Family=%{customdata[0]}<br>Proportion=%{y}<extra></extra>",
         "legendgroup": "Testunidae",
         "marker": {
          "color": "#FF97FF",
          "pattern": {
           "shape": ""
          }
         },
         "name": "Testunidae",
         "offsetgroup": "Testunidae",
         "orientation": "v",
         "showlegend": true,
         "textposition": "auto",
         "type": "bar",
         "x": [
          "VCCDRS"
         ],
         "xaxis": "x",
         "y": [
          0.03306878306878307
         ],
         "yaxis": "y"
        },
        {
         "alignmentgroup": "True",
         "customdata": [
          [
           "Xanthidae"
          ]
         ],
         "hovertemplate": "Family=%{customdata[0]}<br>Proportion=%{y}<extra></extra>",
         "legendgroup": "Xanthidae",
         "marker": {
          "color": "#FECB52",
          "pattern": {
           "shape": ""
          }
         },
         "name": "Xanthidae",
         "offsetgroup": "Xanthidae",
         "orientation": "v",
         "showlegend": true,
         "textposition": "auto",
         "type": "bar",
         "x": [
          "MCCDRS"
         ],
         "xaxis": "x",
         "y": [
          0.03303245630881506
         ],
         "yaxis": "y"
        },
        {
         "alignmentgroup": "True",
         "customdata": [
          [
           "Muricidae"
          ]
         ],
         "hovertemplate": "Family=%{customdata[0]}<br>Proportion=%{y}<extra></extra>",
         "legendgroup": "Muricidae",
         "marker": {
          "color": "#636efa",
          "pattern": {
           "shape": ""
          }
         },
         "name": "Muricidae",
         "offsetgroup": "Muricidae",
         "orientation": "v",
         "showlegend": true,
         "textposition": "auto",
         "type": "bar",
         "x": [
          "MCCDRS"
         ],
         "xaxis": "x",
         "y": [
          0.032648357979642786
         ],
         "yaxis": "y"
        },
        {
         "alignmentgroup": "True",
         "customdata": [
          [
           "Ramalinaceae"
          ]
         ],
         "hovertemplate": "Family=%{customdata[0]}<br>Proportion=%{y}<extra></extra>",
         "legendgroup": "Ramalinaceae",
         "marker": {
          "color": "#EF553B",
          "pattern": {
           "shape": ""
          }
         },
         "name": "Ramalinaceae",
         "offsetgroup": "Ramalinaceae",
         "orientation": "v",
         "showlegend": true,
         "textposition": "auto",
         "type": "bar",
         "x": [
          "CDS"
         ],
         "xaxis": "x",
         "y": [
          0.03224647444534268
         ],
         "yaxis": "y"
        },
        {
         "alignmentgroup": "True",
         "customdata": [
          [
           "Curculionidae"
          ]
         ],
         "hovertemplate": "Family=%{customdata[0]}<br>Proportion=%{y}<extra></extra>",
         "legendgroup": "Curculionidae",
         "marker": {
          "color": "#00cc96",
          "pattern": {
           "shape": ""
          }
         },
         "name": "Curculionidae",
         "offsetgroup": "Curculionidae",
         "orientation": "v",
         "showlegend": true,
         "textposition": "auto",
         "type": "bar",
         "x": [
          "ICCDRS"
         ],
         "xaxis": "x",
         "y": [
          0.031768572240029214
         ],
         "yaxis": "y"
        },
        {
         "alignmentgroup": "True",
         "customdata": [
          [
           "Cricetidae"
          ]
         ],
         "hovertemplate": "Family=%{customdata[0]}<br>Proportion=%{y}<extra></extra>",
         "legendgroup": "Cricetidae",
         "marker": {
          "color": "#ab63fa",
          "pattern": {
           "shape": ""
          }
         },
         "name": "Cricetidae",
         "offsetgroup": "Cricetidae",
         "orientation": "v",
         "showlegend": true,
         "textposition": "auto",
         "type": "bar",
         "x": [
          "VCCDRS"
         ],
         "xaxis": "x",
         "y": [
          0.03042328042328042
         ],
         "yaxis": "y"
        },
        {
         "alignmentgroup": "True",
         "customdata": [
          [
           "Dipsadidae"
          ]
         ],
         "hovertemplate": "Family=%{customdata[0]}<br>Proportion=%{y}<extra></extra>",
         "legendgroup": "Dipsadidae",
         "marker": {
          "color": "#FFA15A",
          "pattern": {
           "shape": ""
          }
         },
         "name": "Dipsadidae",
         "offsetgroup": "Dipsadidae",
         "orientation": "v",
         "showlegend": true,
         "textposition": "auto",
         "type": "bar",
         "x": [
          "VCCDRS"
         ],
         "xaxis": "x",
         "y": [
          0.0291005291005291
         ],
         "yaxis": "y"
        },
        {
         "alignmentgroup": "True",
         "customdata": [
          [
           "Cuculidae"
          ]
         ],
         "hovertemplate": "Family=%{customdata[0]}<br>Proportion=%{y}<extra></extra>",
         "legendgroup": "Cuculidae",
         "marker": {
          "color": "#19d3f3",
          "pattern": {
           "shape": ""
          }
         },
         "name": "Cuculidae",
         "offsetgroup": "Cuculidae",
         "orientation": "v",
         "showlegend": true,
         "textposition": "auto",
         "type": "bar",
         "x": [
          "VCCDRS"
         ],
         "xaxis": "x",
         "y": [
          0.0291005291005291
         ],
         "yaxis": "y"
        },
        {
         "alignmentgroup": "True",
         "customdata": [
          [
           "Procellariidae"
          ]
         ],
         "hovertemplate": "Family=%{customdata[0]}<br>Proportion=%{y}<extra></extra>",
         "legendgroup": "Procellariidae",
         "marker": {
          "color": "#FF6692",
          "pattern": {
           "shape": ""
          }
         },
         "name": "Procellariidae",
         "offsetgroup": "Procellariidae",
         "orientation": "v",
         "showlegend": true,
         "textposition": "auto",
         "type": "bar",
         "x": [
          "VCCDRS"
         ],
         "xaxis": "x",
         "y": [
          0.027777777777777776
         ],
         "yaxis": "y"
        },
        {
         "alignmentgroup": "True",
         "customdata": [
          [
           "Malvaceae"
          ]
         ],
         "hovertemplate": "Family=%{customdata[0]}<br>Proportion=%{y}<extra></extra>",
         "legendgroup": "Malvaceae",
         "marker": {
          "color": "#B6E880",
          "pattern": {
           "shape": ""
          }
         },
         "name": "Malvaceae",
         "offsetgroup": "Malvaceae",
         "orientation": "v",
         "showlegend": true,
         "textposition": "auto",
         "type": "bar",
         "x": [
          "CDS"
         ],
         "xaxis": "x",
         "y": [
          0.02751579388604449
         ],
         "yaxis": "y"
        },
        {
         "alignmentgroup": "True",
         "customdata": [
          [
           "Muscidae"
          ]
         ],
         "hovertemplate": "Family=%{customdata[0]}<br>Proportion=%{y}<extra></extra>",
         "legendgroup": "Muscidae",
         "marker": {
          "color": "#FF97FF",
          "pattern": {
           "shape": ""
          }
         },
         "name": "Muscidae",
         "offsetgroup": "Muscidae",
         "orientation": "v",
         "showlegend": true,
         "textposition": "auto",
         "type": "bar",
         "x": [
          "ICCDRS"
         ],
         "xaxis": "x",
         "y": [
          0.027305554428530856
         ],
         "yaxis": "y"
        },
        {
         "alignmentgroup": "True",
         "customdata": [
          [
           "Cheloniidae"
          ]
         ],
         "hovertemplate": "Family=%{customdata[0]}<br>Proportion=%{y}<extra></extra>",
         "legendgroup": "Cheloniidae",
         "marker": {
          "color": "#FECB52",
          "pattern": {
           "shape": ""
          }
         },
         "name": "Cheloniidae",
         "offsetgroup": "Cheloniidae",
         "orientation": "v",
         "showlegend": true,
         "textposition": "auto",
         "type": "bar",
         "x": [
          "VCCDRS"
         ],
         "xaxis": "x",
         "y": [
          0.027116402116402115
         ],
         "yaxis": "y"
        },
        {
         "alignmentgroup": "True",
         "customdata": [
          [
           "Columbellidae"
          ]
         ],
         "hovertemplate": "Family=%{customdata[0]}<br>Proportion=%{y}<extra></extra>",
         "legendgroup": "Columbellidae",
         "marker": {
          "color": "#636efa",
          "pattern": {
           "shape": ""
          }
         },
         "name": "Columbellidae",
         "offsetgroup": "Columbellidae",
         "orientation": "v",
         "showlegend": true,
         "textposition": "auto",
         "type": "bar",
         "x": [
          "MCCDRS"
         ],
         "xaxis": "x",
         "y": [
          0.027078932206644903
         ],
         "yaxis": "y"
        },
        {
         "alignmentgroup": "True",
         "customdata": [
          [
           "Columbidae"
          ]
         ],
         "hovertemplate": "Family=%{customdata[0]}<br>Proportion=%{y}<extra></extra>",
         "legendgroup": "Columbidae",
         "marker": {
          "color": "#EF553B",
          "pattern": {
           "shape": ""
          }
         },
         "name": "Columbidae",
         "offsetgroup": "Columbidae",
         "orientation": "v",
         "showlegend": true,
         "textposition": "auto",
         "type": "bar",
         "x": [
          "VCCDRS"
         ],
         "xaxis": "x",
         "y": [
          0.026455026455026454
         ],
         "yaxis": "y"
        },
        {
         "alignmentgroup": "True",
         "customdata": [
          [
           "Sulidae"
          ]
         ],
         "hovertemplate": "Family=%{customdata[0]}<br>Proportion=%{y}<extra></extra>",
         "legendgroup": "Sulidae",
         "marker": {
          "color": "#00cc96",
          "pattern": {
           "shape": ""
          }
         },
         "name": "Sulidae",
         "offsetgroup": "Sulidae",
         "orientation": "v",
         "showlegend": true,
         "textposition": "auto",
         "type": "bar",
         "x": [
          "VCCDRS"
         ],
         "xaxis": "x",
         "y": [
          0.025793650793650792
         ],
         "yaxis": "y"
        },
        {
         "alignmentgroup": "True",
         "customdata": [
          [
           "Amaranthaceae"
          ]
         ],
         "hovertemplate": "Family=%{customdata[0]}<br>Proportion=%{y}<extra></extra>",
         "legendgroup": "Amaranthaceae",
         "marker": {
          "color": "#ab63fa",
          "pattern": {
           "shape": ""
          }
         },
         "name": "Amaranthaceae",
         "offsetgroup": "Amaranthaceae",
         "orientation": "v",
         "showlegend": true,
         "textposition": "auto",
         "type": "bar",
         "x": [
          "CDS"
         ],
         "xaxis": "x",
         "y": [
          0.02536004071978203
         ],
         "yaxis": "y"
        },
        {
         "alignmentgroup": "True",
         "customdata": [
          [
           "Solanaceae"
          ]
         ],
         "hovertemplate": "Family=%{customdata[0]}<br>Proportion=%{y}<extra></extra>",
         "legendgroup": "Solanaceae",
         "marker": {
          "color": "#FFA15A",
          "pattern": {
           "shape": ""
          }
         },
         "name": "Solanaceae",
         "offsetgroup": "Solanaceae",
         "orientation": "v",
         "showlegend": true,
         "textposition": "auto",
         "type": "bar",
         "x": [
          "CDS"
         ],
         "xaxis": "x",
         "y": [
          0.025090571573999222
         ],
         "yaxis": "y"
        },
        {
         "alignmentgroup": "True",
         "customdata": [
          [
           "Alpheidae"
          ]
         ],
         "hovertemplate": "Family=%{customdata[0]}<br>Proportion=%{y}<extra></extra>",
         "legendgroup": "Alpheidae",
         "marker": {
          "color": "#19d3f3",
          "pattern": {
           "shape": ""
          }
         },
         "name": "Alpheidae",
         "offsetgroup": "Alpheidae",
         "orientation": "v",
         "showlegend": true,
         "textposition": "auto",
         "type": "bar",
         "x": [
          "MCCDRS"
         ],
         "xaxis": "x",
         "y": [
          0.024774342231611294
         ],
         "yaxis": "y"
        },
        {
         "alignmentgroup": "True",
         "customdata": [
          [
           "Conidae"
          ]
         ],
         "hovertemplate": "Family=%{customdata[0]}<br>Proportion=%{y}<extra></extra>",
         "legendgroup": "Conidae",
         "marker": {
          "color": "#FF6692",
          "pattern": {
           "shape": ""
          }
         },
         "name": "Conidae",
         "offsetgroup": "Conidae",
         "orientation": "v",
         "showlegend": true,
         "textposition": "auto",
         "type": "bar",
         "x": [
          "MCCDRS"
         ],
         "xaxis": "x",
         "y": [
          0.024006145573266757
         ],
         "yaxis": "y"
        },
        {
         "alignmentgroup": "True",
         "customdata": [
          [
           "Gryllidae"
          ]
         ],
         "hovertemplate": "Family=%{customdata[0]}<br>Proportion=%{y}<extra></extra>",
         "legendgroup": "Gryllidae",
         "marker": {
          "color": "#B6E880",
          "pattern": {
           "shape": ""
          }
         },
         "name": "Gryllidae",
         "offsetgroup": "Gryllidae",
         "orientation": "v",
         "showlegend": true,
         "textposition": "auto",
         "type": "bar",
         "x": [
          "ICCDRS"
         ],
         "xaxis": "x",
         "y": [
          0.02369456729013673
         ],
         "yaxis": "y"
        },
        {
         "alignmentgroup": "True",
         "customdata": [
          [
           "Pyralidae"
          ]
         ],
         "hovertemplate": "Family=%{customdata[0]}<br>Proportion=%{y}<extra></extra>",
         "legendgroup": "Pyralidae",
         "marker": {
          "color": "#FF97FF",
          "pattern": {
           "shape": ""
          }
         },
         "name": "Pyralidae",
         "offsetgroup": "Pyralidae",
         "orientation": "v",
         "showlegend": true,
         "textposition": "auto",
         "type": "bar",
         "x": [
          "ICCDRS"
         ],
         "xaxis": "x",
         "y": [
          0.02186878727634195
         ],
         "yaxis": "y"
        },
        {
         "alignmentgroup": "True",
         "customdata": [
          [
           "Ardeidae"
          ]
         ],
         "hovertemplate": "Family=%{customdata[0]}<br>Proportion=%{y}<extra></extra>",
         "legendgroup": "Ardeidae",
         "marker": {
          "color": "#FECB52",
          "pattern": {
           "shape": ""
          }
         },
         "name": "Ardeidae",
         "offsetgroup": "Ardeidae",
         "orientation": "v",
         "showlegend": true,
         "textposition": "auto",
         "type": "bar",
         "x": [
          "VCCDRS"
         ],
         "xaxis": "x",
         "y": [
          0.021825396825396824
         ],
         "yaxis": "y"
        },
        {
         "alignmentgroup": "True",
         "customdata": [
          [
           "Graphidaceae"
          ]
         ],
         "hovertemplate": "Family=%{customdata[0]}<br>Proportion=%{y}<extra></extra>",
         "legendgroup": "Graphidaceae",
         "marker": {
          "color": "#636efa",
          "pattern": {
           "shape": ""
          }
         },
         "name": "Graphidaceae",
         "offsetgroup": "Graphidaceae",
         "orientation": "v",
         "showlegend": true,
         "textposition": "auto",
         "type": "bar",
         "x": [
          "CDS"
         ],
         "xaxis": "x",
         "y": [
          0.021797059792209347
         ],
         "yaxis": "y"
        },
        {
         "alignmentgroup": "True",
         "customdata": [
          [
           "Holothuriidae"
          ]
         ],
         "hovertemplate": "Family=%{customdata[0]}<br>Proportion=%{y}<extra></extra>",
         "legendgroup": "Holothuriidae",
         "marker": {
          "color": "#EF553B",
          "pattern": {
           "shape": ""
          }
         },
         "name": "Holothuriidae",
         "offsetgroup": "Holothuriidae",
         "orientation": "v",
         "showlegend": true,
         "textposition": "auto",
         "type": "bar",
         "x": [
          "MCCDRS"
         ],
         "xaxis": "x",
         "y": [
          0.01997311311695794
         ],
         "yaxis": "y"
        },
        {
         "alignmentgroup": "True",
         "customdata": [
          [
           "Sarcophagidae"
          ]
         ],
         "hovertemplate": "Family=%{customdata[0]}<br>Proportion=%{y}<extra></extra>",
         "legendgroup": "Sarcophagidae",
         "marker": {
          "color": "#00cc96",
          "pattern": {
           "shape": ""
          }
         },
         "name": "Sarcophagidae",
         "offsetgroup": "Sarcophagidae",
         "orientation": "v",
         "showlegend": true,
         "textposition": "auto",
         "type": "bar",
         "x": [
          "ICCDRS"
         ],
         "xaxis": "x",
         "y": [
          0.01971842414898365
         ],
         "yaxis": "y"
        },
        {
         "alignmentgroup": "True",
         "customdata": [
          [
           "Blattellidae"
          ]
         ],
         "hovertemplate": "Family=%{customdata[0]}<br>Proportion=%{y}<extra></extra>",
         "legendgroup": "Blattellidae",
         "marker": {
          "color": "#ab63fa",
          "pattern": {
           "shape": ""
          }
         },
         "name": "Blattellidae",
         "offsetgroup": "Blattellidae",
         "orientation": "v",
         "showlegend": true,
         "textposition": "auto",
         "type": "bar",
         "x": [
          "ICCDRS"
         ],
         "xaxis": "x",
         "y": [
          0.018988112143465737
         ],
         "yaxis": "y"
        },
        {
         "alignmentgroup": "True",
         "customdata": [
          [
           "Mimidae"
          ]
         ],
         "hovertemplate": "Family=%{customdata[0]}<br>Proportion=%{y}<extra></extra>",
         "legendgroup": "Mimidae",
         "marker": {
          "color": "#FFA15A",
          "pattern": {
           "shape": ""
          }
         },
         "name": "Mimidae",
         "offsetgroup": "Mimidae",
         "orientation": "v",
         "showlegend": true,
         "textposition": "auto",
         "type": "bar",
         "x": [
          "VCCDRS"
         ],
         "xaxis": "x",
         "y": [
          0.018518518518518517
         ],
         "yaxis": "y"
        },
        {
         "alignmentgroup": "True",
         "customdata": [
          [
           "Convolvulaceae"
          ]
         ],
         "hovertemplate": "Family=%{customdata[0]}<br>Proportion=%{y}<extra></extra>",
         "legendgroup": "Convolvulaceae",
         "marker": {
          "color": "#19d3f3",
          "pattern": {
           "shape": ""
          }
         },
         "name": "Convolvulaceae",
         "offsetgroup": "Convolvulaceae",
         "orientation": "v",
         "showlegend": true,
         "textposition": "auto",
         "type": "bar",
         "x": [
          "CDS"
         ],
         "xaxis": "x",
         "y": [
          0.018503548010419472
         ],
         "yaxis": "y"
        },
        {
         "alignmentgroup": "True",
         "customdata": [
          [
           "Cactaceae"
          ]
         ],
         "hovertemplate": "Family=%{customdata[0]}<br>Proportion=%{y}<extra></extra>",
         "legendgroup": "Cactaceae",
         "marker": {
          "color": "#FF6692",
          "pattern": {
           "shape": ""
          }
         },
         "name": "Cactaceae",
         "offsetgroup": "Cactaceae",
         "orientation": "v",
         "showlegend": true,
         "textposition": "auto",
         "type": "bar",
         "x": [
          "CDS"
         ],
         "xaxis": "x",
         "y": [
          0.01772508158926914
         ],
         "yaxis": "y"
        },
        {
         "alignmentgroup": "True",
         "customdata": [
          [
           "Hydrophilidae"
          ]
         ],
         "hovertemplate": "Family=%{customdata[0]}<br>Proportion=%{y}<extra></extra>",
         "legendgroup": "Hydrophilidae",
         "marker": {
          "color": "#B6E880",
          "pattern": {
           "shape": ""
          }
         },
         "name": "Hydrophilidae",
         "offsetgroup": "Hydrophilidae",
         "orientation": "v",
         "showlegend": true,
         "textposition": "auto",
         "type": "bar",
         "x": [
          "ICCDRS"
         ],
         "xaxis": "x",
         "y": [
          0.01760863391082079
         ],
         "yaxis": "y"
        },
        {
         "alignmentgroup": "True",
         "customdata": [
          [
           "Coccinellidae"
          ]
         ],
         "hovertemplate": "Family=%{customdata[0]}<br>Proportion=%{y}<extra></extra>",
         "legendgroup": "Coccinellidae",
         "marker": {
          "color": "#FF97FF",
          "pattern": {
           "shape": ""
          }
         },
         "name": "Coccinellidae",
         "offsetgroup": "Coccinellidae",
         "orientation": "v",
         "showlegend": true,
         "textposition": "auto",
         "type": "bar",
         "x": [
          "ICCDRS"
         ],
         "xaxis": "x",
         "y": [
          0.017000040572889195
         ],
         "yaxis": "y"
        },
        {
         "alignmentgroup": "True",
         "customdata": [
          [
           "Drosophilidae"
          ]
         ],
         "hovertemplate": "Family=%{customdata[0]}<br>Proportion=%{y}<extra></extra>",
         "legendgroup": "Drosophilidae",
         "marker": {
          "color": "#FECB52",
          "pattern": {
           "shape": ""
          }
         },
         "name": "Drosophilidae",
         "offsetgroup": "Drosophilidae",
         "orientation": "v",
         "showlegend": true,
         "textposition": "auto",
         "type": "bar",
         "x": [
          "ICCDRS"
         ],
         "xaxis": "x",
         "y": [
          0.016634884570130237
         ],
         "yaxis": "y"
        },
        {
         "alignmentgroup": "True",
         "customdata": [
          [
           "Styelidae"
          ]
         ],
         "hovertemplate": "Family=%{customdata[0]}<br>Proportion=%{y}<extra></extra>",
         "legendgroup": "Styelidae",
         "marker": {
          "color": "#636efa",
          "pattern": {
           "shape": ""
          }
         },
         "name": "Styelidae",
         "offsetgroup": "Styelidae",
         "orientation": "v",
         "showlegend": true,
         "textposition": "auto",
         "type": "bar",
         "x": [
          "MCCDRS"
         ],
         "xaxis": "x",
         "y": [
          0.01613212982523526
         ],
         "yaxis": "y"
        },
        {
         "alignmentgroup": "True",
         "customdata": [
          [
           "Dendrophylliidae"
          ]
         ],
         "hovertemplate": "Family=%{customdata[0]}<br>Proportion=%{y}<extra></extra>",
         "legendgroup": "Dendrophylliidae",
         "marker": {
          "color": "#EF553B",
          "pattern": {
           "shape": ""
          }
         },
         "name": "Dendrophylliidae",
         "offsetgroup": "Dendrophylliidae",
         "orientation": "v",
         "showlegend": true,
         "textposition": "auto",
         "type": "bar",
         "x": [
          "MCCDRS"
         ],
         "xaxis": "x",
         "y": [
          0.01613212982523526
         ],
         "yaxis": "y"
        },
        {
         "alignmentgroup": "True",
         "customdata": [
          [
           "Cyperaceae"
          ]
         ],
         "hovertemplate": "Family=%{customdata[0]}<br>Proportion=%{y}<extra></extra>",
         "legendgroup": "Cyperaceae",
         "marker": {
          "color": "#00cc96",
          "pattern": {
           "shape": ""
          }
         },
         "name": "Cyperaceae",
         "offsetgroup": "Cyperaceae",
         "orientation": "v",
         "showlegend": true,
         "textposition": "auto",
         "type": "bar",
         "x": [
          "CDS"
         ],
         "xaxis": "x",
         "y": [
          0.015539387406808587
         ],
         "yaxis": "y"
        },
        {
         "alignmentgroup": "True",
         "customdata": [
          [
           "Phasianidae"
          ]
         ],
         "hovertemplate": "Family=%{customdata[0]}<br>Proportion=%{y}<extra></extra>",
         "legendgroup": "Phasianidae",
         "marker": {
          "color": "#ab63fa",
          "pattern": {
           "shape": ""
          }
         },
         "name": "Phasianidae",
         "offsetgroup": "Phasianidae",
         "orientation": "v",
         "showlegend": true,
         "textposition": "auto",
         "type": "bar",
         "x": [
          "VCCDRS"
         ],
         "xaxis": "x",
         "y": [
          0.01521164021164021
         ],
         "yaxis": "y"
        },
        {
         "alignmentgroup": "True",
         "customdata": [
          [
           "Arthoniaceae"
          ]
         ],
         "hovertemplate": "Family=%{customdata[0]}<br>Proportion=%{y}<extra></extra>",
         "legendgroup": "Arthoniaceae",
         "marker": {
          "color": "#FFA15A",
          "pattern": {
           "shape": ""
          }
         },
         "name": "Arthoniaceae",
         "offsetgroup": "Arthoniaceae",
         "orientation": "v",
         "showlegend": true,
         "textposition": "auto",
         "type": "bar",
         "x": [
          "CDS"
         ],
         "xaxis": "x",
         "y": [
          0.015150154196233421
         ],
         "yaxis": "y"
        },
        {
         "alignmentgroup": "True",
         "customdata": [
          [
           "Mithracidae"
          ]
         ],
         "hovertemplate": "Family=%{customdata[0]}<br>Proportion=%{y}<extra></extra>",
         "legendgroup": "Mithracidae",
         "marker": {
          "color": "#19d3f3",
          "pattern": {
           "shape": ""
          }
         },
         "name": "Mithracidae",
         "offsetgroup": "Mithracidae",
         "orientation": "v",
         "showlegend": true,
         "textposition": "auto",
         "type": "bar",
         "x": [
          "MCCDRS"
         ],
         "xaxis": "x",
         "y": [
          0.014979834837718456
         ],
         "yaxis": "y"
        },
        {
         "alignmentgroup": "True",
         "customdata": [
          [
           "Verbenaceae"
          ]
         ],
         "hovertemplate": "Family=%{customdata[0]}<br>Proportion=%{y}<extra></extra>",
         "legendgroup": "Verbenaceae",
         "marker": {
          "color": "#FF6692",
          "pattern": {
           "shape": ""
          }
         },
         "name": "Verbenaceae",
         "offsetgroup": "Verbenaceae",
         "orientation": "v",
         "showlegend": true,
         "textposition": "auto",
         "type": "bar",
         "x": [
          "CDS"
         ],
         "xaxis": "x",
         "y": [
          0.014880685050450612
         ],
         "yaxis": "y"
        },
        {
         "alignmentgroup": "True",
         "customdata": [
          [
           "Balanidae"
          ]
         ],
         "hovertemplate": "Family=%{customdata[0]}<br>Proportion=%{y}<extra></extra>",
         "legendgroup": "Balanidae",
         "marker": {
          "color": "#B6E880",
          "pattern": {
           "shape": ""
          }
         },
         "name": "Balanidae",
         "offsetgroup": "Balanidae",
         "orientation": "v",
         "showlegend": true,
         "textposition": "auto",
         "type": "bar",
         "x": [
          "MCCDRS"
         ],
         "xaxis": "x",
         "y": [
          0.014787785673132322
         ],
         "yaxis": "y"
        },
        {
         "alignmentgroup": "True",
         "customdata": [
          [
           "Lygaeidae"
          ]
         ],
         "hovertemplate": "Family=%{customdata[0]}<br>Proportion=%{y}<extra></extra>",
         "legendgroup": "Lygaeidae",
         "marker": {
          "color": "#FF97FF",
          "pattern": {
           "shape": ""
          }
         },
         "name": "Lygaeidae",
         "offsetgroup": "Lygaeidae",
         "orientation": "v",
         "showlegend": true,
         "textposition": "auto",
         "type": "bar",
         "x": [
          "ICCDRS"
         ],
         "xaxis": "x",
         "y": [
          0.014687385888749138
         ],
         "yaxis": "y"
        },
        {
         "alignmentgroup": "True",
         "customdata": [
          [
           "Carabidae"
          ]
         ],
         "hovertemplate": "Family=%{customdata[0]}<br>Proportion=%{y}<extra></extra>",
         "legendgroup": "Carabidae",
         "marker": {
          "color": "#FECB52",
          "pattern": {
           "shape": ""
          }
         },
         "name": "Carabidae",
         "offsetgroup": "Carabidae",
         "orientation": "v",
         "showlegend": true,
         "textposition": "auto",
         "type": "bar",
         "x": [
          "ICCDRS"
         ],
         "xaxis": "x",
         "y": [
          0.014646812999553699
         ],
         "yaxis": "y"
        },
        {
         "alignmentgroup": "True",
         "customdata": [
          [
           "Laridae"
          ]
         ],
         "hovertemplate": "Family=%{customdata[0]}<br>Proportion=%{y}<extra></extra>",
         "legendgroup": "Laridae",
         "marker": {
          "color": "#636efa",
          "pattern": {
           "shape": ""
          }
         },
         "name": "Laridae",
         "offsetgroup": "Laridae",
         "orientation": "v",
         "showlegend": true,
         "textposition": "auto",
         "type": "bar",
         "x": [
          "VCCDRS"
         ],
         "xaxis": "x",
         "y": [
          0.01455026455026455
         ],
         "yaxis": "y"
        },
        {
         "alignmentgroup": "True",
         "customdata": [
          [
           "Lecanoraceae"
          ]
         ],
         "hovertemplate": "Family=%{customdata[0]}<br>Proportion=%{y}<extra></extra>",
         "legendgroup": "Lecanoraceae",
         "marker": {
          "color": "#EF553B",
          "pattern": {
           "shape": ""
          }
         },
         "name": "Lecanoraceae",
         "offsetgroup": "Lecanoraceae",
         "orientation": "v",
         "showlegend": true,
         "textposition": "auto",
         "type": "bar",
         "x": [
          "CDS"
         ],
         "xaxis": "x",
         "y": [
          0.01398245456450792
         ],
         "yaxis": "y"
        },
        {
         "alignmentgroup": "True",
         "customdata": [
          [
           "Didemnidae"
          ]
         ],
         "hovertemplate": "Family=%{customdata[0]}<br>Proportion=%{y}<extra></extra>",
         "legendgroup": "Didemnidae",
         "marker": {
          "color": "#00cc96",
          "pattern": {
           "shape": ""
          }
         },
         "name": "Didemnidae",
         "offsetgroup": "Didemnidae",
         "orientation": "v",
         "showlegend": true,
         "textposition": "auto",
         "type": "bar",
         "x": [
          "MCCDRS"
         ],
         "xaxis": "x",
         "y": [
          0.013827539850201652
         ],
         "yaxis": "y"
        },
        {
         "alignmentgroup": "True",
         "customdata": [
          [
           "Fissurellidae"
          ]
         ],
         "hovertemplate": "Family=%{customdata[0]}<br>Proportion=%{y}<extra></extra>",
         "legendgroup": "Fissurellidae",
         "marker": {
          "color": "#ab63fa",
          "pattern": {
           "shape": ""
          }
         },
         "name": "Fissurellidae",
         "offsetgroup": "Fissurellidae",
         "orientation": "v",
         "showlegend": true,
         "textposition": "auto",
         "type": "bar",
         "x": [
          "MCCDRS"
         ],
         "xaxis": "x",
         "y": [
          0.013635490685615518
         ],
         "yaxis": "y"
        },
        {
         "alignmentgroup": "True",
         "customdata": [
          [
           "Staphylinidae"
          ]
         ],
         "hovertemplate": "Family=%{customdata[0]}<br>Proportion=%{y}<extra></extra>",
         "legendgroup": "Staphylinidae",
         "marker": {
          "color": "#FFA15A",
          "pattern": {
           "shape": ""
          }
         },
         "name": "Staphylinidae",
         "offsetgroup": "Staphylinidae",
         "orientation": "v",
         "showlegend": true,
         "textposition": "auto",
         "type": "bar",
         "x": [
          "ICCDRS"
         ],
         "xaxis": "x",
         "y": [
          0.013632490769667709
         ],
         "yaxis": "y"
        },
        {
         "alignmentgroup": "True",
         "customdata": [
          [
           "Myrtaceae"
          ]
         ],
         "hovertemplate": "Family=%{customdata[0]}<br>Proportion=%{y}<extra></extra>",
         "legendgroup": "Myrtaceae",
         "marker": {
          "color": "#19d3f3",
          "pattern": {
           "shape": ""
          }
         },
         "name": "Myrtaceae",
         "offsetgroup": "Myrtaceae",
         "orientation": "v",
         "showlegend": true,
         "textposition": "auto",
         "type": "bar",
         "x": [
          "CDS"
         ],
         "xaxis": "x",
         "y": [
          0.013563280337734662
         ],
         "yaxis": "y"
        },
        {
         "alignmentgroup": "True",
         "customdata": [
          [
           "Arcidae"
          ]
         ],
         "hovertemplate": "Family=%{customdata[0]}<br>Proportion=%{y}<extra></extra>",
         "legendgroup": "Arcidae",
         "marker": {
          "color": "#FF6692",
          "pattern": {
           "shape": ""
          }
         },
         "name": "Arcidae",
         "offsetgroup": "Arcidae",
         "orientation": "v",
         "showlegend": true,
         "textposition": "auto",
         "type": "bar",
         "x": [
          "MCCDRS"
         ],
         "xaxis": "x",
         "y": [
          0.013251392356443249
         ],
         "yaxis": "y"
        },
        {
         "alignmentgroup": "True",
         "customdata": [
          [
           "Rallidae"
          ]
         ],
         "hovertemplate": "Family=%{customdata[0]}<br>Proportion=%{y}<extra></extra>",
         "legendgroup": "Rallidae",
         "marker": {
          "color": "#B6E880",
          "pattern": {
           "shape": ""
          }
         },
         "name": "Rallidae",
         "offsetgroup": "Rallidae",
         "orientation": "v",
         "showlegend": true,
         "textposition": "auto",
         "type": "bar",
         "x": [
          "VCCDRS"
         ],
         "xaxis": "x",
         "y": [
          0.013227513227513227
         ],
         "yaxis": "y"
        },
        {
         "alignmentgroup": "True",
         "customdata": [
          [
           "Delphinidae"
          ]
         ],
         "hovertemplate": "Family=%{customdata[0]}<br>Proportion=%{y}<extra></extra>",
         "legendgroup": "Delphinidae",
         "marker": {
          "color": "#FF97FF",
          "pattern": {
           "shape": ""
          }
         },
         "name": "Delphinidae",
         "offsetgroup": "Delphinidae",
         "orientation": "v",
         "showlegend": true,
         "textposition": "auto",
         "type": "bar",
         "x": [
          "VCCDRS"
         ],
         "xaxis": "x",
         "y": [
          0.013227513227513227
         ],
         "yaxis": "y"
        },
        {
         "alignmentgroup": "True",
         "customdata": [
          [
           "Elateridae"
          ]
         ],
         "hovertemplate": "Family=%{customdata[0]}<br>Proportion=%{y}<extra></extra>",
         "legendgroup": "Elateridae",
         "marker": {
          "color": "#FECB52",
          "pattern": {
           "shape": ""
          }
         },
         "name": "Elateridae",
         "offsetgroup": "Elateridae",
         "orientation": "v",
         "showlegend": true,
         "textposition": "auto",
         "type": "bar",
         "x": [
          "ICCDRS"
         ],
         "xaxis": "x",
         "y": [
          0.013145616099322433
         ],
         "yaxis": "y"
        },
        {
         "alignmentgroup": "True",
         "customdata": [
          [
           "Cypraeidae"
          ]
         ],
         "hovertemplate": "Family=%{customdata[0]}<br>Proportion=%{y}<extra></extra>",
         "legendgroup": "Cypraeidae",
         "marker": {
          "color": "#636efa",
          "pattern": {
           "shape": ""
          }
         },
         "name": "Cypraeidae",
         "offsetgroup": "Cypraeidae",
         "orientation": "v",
         "showlegend": true,
         "textposition": "auto",
         "type": "bar",
         "x": [
          "MCCDRS"
         ],
         "xaxis": "x",
         "y": [
          0.012867294027270982
         ],
         "yaxis": "y"
        },
        {
         "alignmentgroup": "True",
         "customdata": [
          [
           "Palaemonidae"
          ]
         ],
         "hovertemplate": "Family=%{customdata[0]}<br>Proportion=%{y}<extra></extra>",
         "legendgroup": "Palaemonidae",
         "marker": {
          "color": "#EF553B",
          "pattern": {
           "shape": ""
          }
         },
         "name": "Palaemonidae",
         "offsetgroup": "Palaemonidae",
         "orientation": "v",
         "showlegend": true,
         "textposition": "auto",
         "type": "bar",
         "x": [
          "MCCDRS"
         ],
         "xaxis": "x",
         "y": [
          0.012675244862684848
         ],
         "yaxis": "y"
        },
        {
         "alignmentgroup": "True",
         "customdata": [
          [
           "Rubiaceae"
          ]
         ],
         "hovertemplate": "Family=%{customdata[0]}<br>Proportion=%{y}<extra></extra>",
         "legendgroup": "Rubiaceae",
         "marker": {
          "color": "#00cc96",
          "pattern": {
           "shape": ""
          }
         },
         "name": "Rubiaceae",
         "offsetgroup": "Rubiaceae",
         "orientation": "v",
         "showlegend": true,
         "textposition": "auto",
         "type": "bar",
         "x": [
          "CDS"
         ],
         "xaxis": "x",
         "y": [
          0.01260516781939579
         ],
         "yaxis": "y"
        },
        {
         "alignmentgroup": "True",
         "customdata": [
          [
           "Miridae"
          ]
         ],
         "hovertemplate": "Family=%{customdata[0]}<br>Proportion=%{y}<extra></extra>",
         "legendgroup": "Miridae",
         "marker": {
          "color": "#ab63fa",
          "pattern": {
           "shape": ""
          }
         },
         "name": "Miridae",
         "offsetgroup": "Miridae",
         "orientation": "v",
         "showlegend": true,
         "textposition": "auto",
         "type": "bar",
         "x": [
          "ICCDRS"
         ],
         "xaxis": "x",
         "y": [
          0.012212439647827322
         ],
         "yaxis": "y"
        },
        {
         "alignmentgroup": "True",
         "customdata": [
          [
           "Pisaniidae"
          ]
         ],
         "hovertemplate": "Family=%{customdata[0]}<br>Proportion=%{y}<extra></extra>",
         "legendgroup": "Pisaniidae",
         "marker": {
          "color": "#FFA15A",
          "pattern": {
           "shape": ""
          }
         },
         "name": "Pisaniidae",
         "offsetgroup": "Pisaniidae",
         "orientation": "v",
         "showlegend": true,
         "textposition": "auto",
         "type": "bar",
         "x": [
          "MCCDRS"
         ],
         "xaxis": "x",
         "y": [
          0.011907048204340312
         ],
         "yaxis": "y"
        },
        {
         "alignmentgroup": "True",
         "customdata": [
          [
           "Hydrobatidae"
          ]
         ],
         "hovertemplate": "Family=%{customdata[0]}<br>Proportion=%{y}<extra></extra>",
         "legendgroup": "Hydrobatidae",
         "marker": {
          "color": "#19d3f3",
          "pattern": {
           "shape": ""
          }
         },
         "name": "Hydrobatidae",
         "offsetgroup": "Hydrobatidae",
         "orientation": "v",
         "showlegend": true,
         "textposition": "auto",
         "type": "bar",
         "x": [
          "VCCDRS"
         ],
         "xaxis": "x",
         "y": [
          0.011904761904761904
         ],
         "yaxis": "y"
        },
        {
         "alignmentgroup": "True",
         "customdata": [
          [
           "Fasciolariidae"
          ]
         ],
         "hovertemplate": "Family=%{customdata[0]}<br>Proportion=%{y}<extra></extra>",
         "legendgroup": "Fasciolariidae",
         "marker": {
          "color": "#FF6692",
          "pattern": {
           "shape": ""
          }
         },
         "name": "Fasciolariidae",
         "offsetgroup": "Fasciolariidae",
         "orientation": "v",
         "showlegend": true,
         "textposition": "auto",
         "type": "bar",
         "x": [
          "MCCDRS"
         ],
         "xaxis": "x",
         "y": [
          0.011714999039754178
         ],
         "yaxis": "y"
        },
        {
         "alignmentgroup": "True",
         "customdata": [
          [
           "Porcellanidae"
          ]
         ],
         "hovertemplate": "Family=%{customdata[0]}<br>Proportion=%{y}<extra></extra>",
         "legendgroup": "Porcellanidae",
         "marker": {
          "color": "#B6E880",
          "pattern": {
           "shape": ""
          }
         },
         "name": "Porcellanidae",
         "offsetgroup": "Porcellanidae",
         "orientation": "v",
         "showlegend": true,
         "textposition": "auto",
         "type": "bar",
         "x": [
          "MCCDRS"
         ],
         "xaxis": "x",
         "y": [
          0.011522949875168043
         ],
         "yaxis": "y"
        },
        {
         "alignmentgroup": "True",
         "customdata": [
          [
           "Agariciidae"
          ]
         ],
         "hovertemplate": "Family=%{customdata[0]}<br>Proportion=%{y}<extra></extra>",
         "legendgroup": "Agariciidae",
         "marker": {
          "color": "#FF97FF",
          "pattern": {
           "shape": ""
          }
         },
         "name": "Agariciidae",
         "offsetgroup": "Agariciidae",
         "orientation": "v",
         "showlegend": true,
         "textposition": "auto",
         "type": "bar",
         "x": [
          "MCCDRS"
         ],
         "xaxis": "x",
         "y": [
          0.011522949875168043
         ],
         "yaxis": "y"
        },
        {
         "alignmentgroup": "True",
         "customdata": [
          [
           "Congridae"
          ]
         ],
         "hovertemplate": "Family=%{customdata[0]}<br>Proportion=%{y}<extra></extra>",
         "legendgroup": "Congridae",
         "marker": {
          "color": "#FECB52",
          "pattern": {
           "shape": ""
          }
         },
         "name": "Congridae",
         "offsetgroup": "Congridae",
         "orientation": "v",
         "showlegend": true,
         "textposition": "auto",
         "type": "bar",
         "x": [
          "MCCDRS"
         ],
         "xaxis": "x",
         "y": [
          0.011330900710581909
         ],
         "yaxis": "y"
        },
        {
         "alignmentgroup": "True",
         "customdata": [
          [
           "Cerithiidae"
          ]
         ],
         "hovertemplate": "Family=%{customdata[0]}<br>Proportion=%{y}<extra></extra>",
         "legendgroup": "Cerithiidae",
         "marker": {
          "color": "#636efa",
          "pattern": {
           "shape": ""
          }
         },
         "name": "Cerithiidae",
         "offsetgroup": "Cerithiidae",
         "orientation": "v",
         "showlegend": true,
         "textposition": "auto",
         "type": "bar",
         "x": [
          "MCCDRS"
         ],
         "xaxis": "x",
         "y": [
          0.011330900710581909
         ],
         "yaxis": "y"
        },
        {
         "alignmentgroup": "True",
         "customdata": [
          [
           "Nassariidae"
          ]
         ],
         "hovertemplate": "Family=%{customdata[0]}<br>Proportion=%{y}<extra></extra>",
         "legendgroup": "Nassariidae",
         "marker": {
          "color": "#EF553B",
          "pattern": {
           "shape": ""
          }
         },
         "name": "Nassariidae",
         "offsetgroup": "Nassariidae",
         "orientation": "v",
         "showlegend": true,
         "textposition": "auto",
         "type": "bar",
         "x": [
          "MCCDRS"
         ],
         "xaxis": "x",
         "y": [
          0.011330900710581909
         ],
         "yaxis": "y"
        },
        {
         "alignmentgroup": "True",
         "customdata": [
          [
           "Spheniscidae"
          ]
         ],
         "hovertemplate": "Family=%{customdata[0]}<br>Proportion=%{y}<extra></extra>",
         "legendgroup": "Spheniscidae",
         "marker": {
          "color": "#00cc96",
          "pattern": {
           "shape": ""
          }
         },
         "name": "Spheniscidae",
         "offsetgroup": "Spheniscidae",
         "orientation": "v",
         "showlegend": true,
         "textposition": "auto",
         "type": "bar",
         "x": [
          "VCCDRS"
         ],
         "xaxis": "x",
         "y": [
          0.011243386243386243
         ],
         "yaxis": "y"
        },
        {
         "alignmentgroup": "True",
         "customdata": [
          [
           "Teloschistaceae"
          ]
         ],
         "hovertemplate": "Family=%{customdata[0]}<br>Proportion=%{y}<extra></extra>",
         "legendgroup": "Teloschistaceae",
         "marker": {
          "color": "#ab63fa",
          "pattern": {
           "shape": ""
          }
         },
         "name": "Teloschistaceae",
         "offsetgroup": "Teloschistaceae",
         "orientation": "v",
         "showlegend": true,
         "textposition": "auto",
         "type": "bar",
         "x": [
          "CDS"
         ],
         "xaxis": "x",
         "y": [
          0.011197940058085571
         ],
         "yaxis": "y"
        },
        {
         "alignmentgroup": "True",
         "customdata": [
          [
           "Hipponicidae"
          ]
         ],
         "hovertemplate": "Family=%{customdata[0]}<br>Proportion=%{y}<extra></extra>",
         "legendgroup": "Hipponicidae",
         "marker": {
          "color": "#FFA15A",
          "pattern": {
           "shape": ""
          }
         },
         "name": "Hipponicidae",
         "offsetgroup": "Hipponicidae",
         "orientation": "v",
         "showlegend": true,
         "textposition": "auto",
         "type": "bar",
         "x": [
          "MCCDRS"
         ],
         "xaxis": "x",
         "y": [
          0.01094680238140964
         ],
         "yaxis": "y"
        },
        {
         "alignmentgroup": "True",
         "customdata": [
          [
           "Nitidulidae"
          ]
         ],
         "hovertemplate": "Family=%{customdata[0]}<br>Proportion=%{y}<extra></extra>",
         "legendgroup": "Nitidulidae",
         "marker": {
          "color": "#19d3f3",
          "pattern": {
           "shape": ""
          }
         },
         "name": "Nitidulidae",
         "offsetgroup": "Nitidulidae",
         "orientation": "v",
         "showlegend": true,
         "textposition": "auto",
         "type": "bar",
         "x": [
          "ICCDRS"
         ],
         "xaxis": "x",
         "y": [
          0.010832961415182375
         ],
         "yaxis": "y"
        },
        {
         "alignmentgroup": "True",
         "customdata": [
          [
           "Lamiaceae"
          ]
         ],
         "hovertemplate": "Family=%{customdata[0]}<br>Proportion=%{y}<extra></extra>",
         "legendgroup": "Lamiaceae",
         "marker": {
          "color": "#FF6692",
          "pattern": {
           "shape": ""
          }
         },
         "name": "Lamiaceae",
         "offsetgroup": "Lamiaceae",
         "orientation": "v",
         "showlegend": true,
         "textposition": "auto",
         "type": "bar",
         "x": [
          "CDS"
         ],
         "xaxis": "x",
         "y": [
          0.010718883798916135
         ],
         "yaxis": "y"
        },
        {
         "alignmentgroup": "True",
         "customdata": [
          [
           "Collemataceae"
          ]
         ],
         "hovertemplate": "Family=%{customdata[0]}<br>Proportion=%{y}<extra></extra>",
         "legendgroup": "Collemataceae",
         "marker": {
          "color": "#B6E880",
          "pattern": {
           "shape": ""
          }
         },
         "name": "Collemataceae",
         "offsetgroup": "Collemataceae",
         "orientation": "v",
         "showlegend": true,
         "textposition": "auto",
         "type": "bar",
         "x": [
          "CDS"
         ],
         "xaxis": "x",
         "y": [
          0.010718883798916135
         ],
         "yaxis": "y"
        },
        {
         "alignmentgroup": "True",
         "customdata": [
          [
           "Chrysomelidae"
          ]
         ],
         "hovertemplate": "Family=%{customdata[0]}<br>Proportion=%{y}<extra></extra>",
         "legendgroup": "Chrysomelidae",
         "marker": {
          "color": "#FF97FF",
          "pattern": {
           "shape": ""
          }
         },
         "name": "Chrysomelidae",
         "offsetgroup": "Chrysomelidae",
         "orientation": "v",
         "showlegend": true,
         "textposition": "auto",
         "type": "bar",
         "x": [
          "ICCDRS"
         ],
         "xaxis": "x",
         "y": [
          0.010630096969205177
         ],
         "yaxis": "y"
        },
        {
         "alignmentgroup": "True",
         "customdata": [
          [
           "Pilocarpaceae"
          ]
         ],
         "hovertemplate": "Family=%{customdata[0]}<br>Proportion=%{y}<extra></extra>",
         "legendgroup": "Pilocarpaceae",
         "marker": {
          "color": "#FECB52",
          "pattern": {
           "shape": ""
          }
         },
         "name": "Pilocarpaceae",
         "offsetgroup": "Pilocarpaceae",
         "orientation": "v",
         "showlegend": true,
         "textposition": "auto",
         "type": "bar",
         "x": [
          "CDS"
         ],
         "xaxis": "x",
         "y": [
          0.010569178717925686
         ],
         "yaxis": "y"
        },
        {
         "alignmentgroup": "True",
         "customdata": [
          [
           "Pyrenulaceae"
          ]
         ],
         "hovertemplate": "Family=%{customdata[0]}<br>Proportion=%{y}<extra></extra>",
         "legendgroup": "Pyrenulaceae",
         "marker": {
          "color": "#636efa",
          "pattern": {
           "shape": ""
          }
         },
         "name": "Pyrenulaceae",
         "offsetgroup": "Pyrenulaceae",
         "orientation": "v",
         "showlegend": true,
         "textposition": "auto",
         "type": "bar",
         "x": [
          "CDS"
         ],
         "xaxis": "x",
         "y": [
          0.010449414653133328
         ],
         "yaxis": "y"
        },
        {
         "alignmentgroup": "True",
         "customdata": [
          [
           "Pterophoridae"
          ]
         ],
         "hovertemplate": "Family=%{customdata[0]}<br>Proportion=%{y}<extra></extra>",
         "legendgroup": "Pterophoridae",
         "marker": {
          "color": "#EF553B",
          "pattern": {
           "shape": ""
          }
         },
         "name": "Pterophoridae",
         "offsetgroup": "Pterophoridae",
         "orientation": "v",
         "showlegend": true,
         "textposition": "auto",
         "type": "bar",
         "x": [
          "ICCDRS"
         ],
         "xaxis": "x",
         "y": [
          0.01030551385564166
         ],
         "yaxis": "y"
        },
        {
         "alignmentgroup": "True",
         "customdata": [
          [
           "Dolichopodidae"
          ]
         ],
         "hovertemplate": "Family=%{customdata[0]}<br>Proportion=%{y}<extra></extra>",
         "legendgroup": "Dolichopodidae",
         "marker": {
          "color": "#00cc96",
          "pattern": {
           "shape": ""
          }
         },
         "name": "Dolichopodidae",
         "offsetgroup": "Dolichopodidae",
         "orientation": "v",
         "showlegend": true,
         "textposition": "auto",
         "type": "bar",
         "x": [
          "ICCDRS"
         ],
         "xaxis": "x",
         "y": [
          0.010062076520469023
         ],
         "yaxis": "y"
        },
        {
         "alignmentgroup": "True",
         "customdata": [
          [
           "Cladoniaceae"
          ]
         ],
         "hovertemplate": "Family=%{customdata[0]}<br>Proportion=%{y}<extra></extra>",
         "legendgroup": "Cladoniaceae",
         "marker": {
          "color": "#ab63fa",
          "pattern": {
           "shape": ""
          }
         },
         "name": "Cladoniaceae",
         "offsetgroup": "Cladoniaceae",
         "orientation": "v",
         "showlegend": true,
         "textposition": "auto",
         "type": "bar",
         "x": [
          "CDS"
         ],
         "xaxis": "x",
         "y": [
          0.01006018144255816
         ],
         "yaxis": "y"
        },
        {
         "alignmentgroup": "True",
         "customdata": [
          [
           "Epialtidae"
          ]
         ],
         "hovertemplate": "Family=%{customdata[0]}<br>Proportion=%{y}<extra></extra>",
         "legendgroup": "Epialtidae",
         "marker": {
          "color": "#FFA15A",
          "pattern": {
           "shape": ""
          }
         },
         "name": "Epialtidae",
         "offsetgroup": "Epialtidae",
         "orientation": "v",
         "showlegend": true,
         "textposition": "auto",
         "type": "bar",
         "x": [
          "MCCDRS"
         ],
         "xaxis": "x",
         "y": [
          0.00998655655847897
         ],
         "yaxis": "y"
        },
        {
         "alignmentgroup": "True",
         "customdata": [
          [
           "Tyrannidae"
          ]
         ],
         "hovertemplate": "Family=%{customdata[0]}<br>Proportion=%{y}<extra></extra>",
         "legendgroup": "Tyrannidae",
         "marker": {
          "color": "#19d3f3",
          "pattern": {
           "shape": ""
          }
         },
         "name": "Tyrannidae",
         "offsetgroup": "Tyrannidae",
         "orientation": "v",
         "showlegend": true,
         "textposition": "auto",
         "type": "bar",
         "x": [
          "VCCDRS"
         ],
         "xaxis": "x",
         "y": [
          0.00992063492063492
         ],
         "yaxis": "y"
        },
        {
         "alignmentgroup": "True",
         "customdata": [
          [
           "Tytonidae"
          ]
         ],
         "hovertemplate": "Family=%{customdata[0]}<br>Proportion=%{y}<extra></extra>",
         "legendgroup": "Tytonidae",
         "marker": {
          "color": "#FF6692",
          "pattern": {
           "shape": ""
          }
         },
         "name": "Tytonidae",
         "offsetgroup": "Tytonidae",
         "orientation": "v",
         "showlegend": true,
         "textposition": "auto",
         "type": "bar",
         "x": [
          "VCCDRS"
         ],
         "xaxis": "x",
         "y": [
          0.00992063492063492
         ],
         "yaxis": "y"
        },
        {
         "alignmentgroup": "True",
         "customdata": [
          [
           "Serranidae"
          ]
         ],
         "hovertemplate": "Family=%{customdata[0]}<br>Proportion=%{y}<extra></extra>",
         "legendgroup": "Serranidae",
         "marker": {
          "color": "#B6E880",
          "pattern": {
           "shape": ""
          }
         },
         "name": "Serranidae",
         "offsetgroup": "Serranidae",
         "orientation": "v",
         "showlegend": true,
         "textposition": "auto",
         "type": "bar",
         "x": [
          "MCCDRS"
         ],
         "xaxis": "x",
         "y": [
          0.009602458229306703
         ],
         "yaxis": "y"
        },
        {
         "alignmentgroup": "True",
         "customdata": [
          [
           "Mitridae"
          ]
         ],
         "hovertemplate": "Family=%{customdata[0]}<br>Proportion=%{y}<extra></extra>",
         "legendgroup": "Mitridae",
         "marker": {
          "color": "#FF97FF",
          "pattern": {
           "shape": ""
          }
         },
         "name": "Mitridae",
         "offsetgroup": "Mitridae",
         "orientation": "v",
         "showlegend": true,
         "textposition": "auto",
         "type": "bar",
         "x": [
          "MCCDRS"
         ],
         "xaxis": "x",
         "y": [
          0.009602458229306703
         ],
         "yaxis": "y"
        },
        {
         "alignmentgroup": "True",
         "customdata": [
          [
           "Phalacrocoracidae"
          ]
         ],
         "hovertemplate": "Family=%{customdata[0]}<br>Proportion=%{y}<extra></extra>",
         "legendgroup": "Phalacrocoracidae",
         "marker": {
          "color": "#FECB52",
          "pattern": {
           "shape": ""
          }
         },
         "name": "Phalacrocoracidae",
         "offsetgroup": "Phalacrocoracidae",
         "orientation": "v",
         "showlegend": true,
         "textposition": "auto",
         "type": "bar",
         "x": [
          "VCCDRS"
         ],
         "xaxis": "x",
         "y": [
          0.009259259259259259
         ],
         "yaxis": "y"
        },
        {
         "alignmentgroup": "True",
         "customdata": [
          [
           "Phaethontidae"
          ]
         ],
         "hovertemplate": "Family=%{customdata[0]}<br>Proportion=%{y}<extra></extra>",
         "legendgroup": "Phaethontidae",
         "marker": {
          "color": "#636efa",
          "pattern": {
           "shape": ""
          }
         },
         "name": "Phaethontidae",
         "offsetgroup": "Phaethontidae",
         "orientation": "v",
         "showlegend": true,
         "textposition": "auto",
         "type": "bar",
         "x": [
          "VCCDRS"
         ],
         "xaxis": "x",
         "y": [
          0.009259259259259259
         ],
         "yaxis": "y"
        },
        {
         "alignmentgroup": "True",
         "customdata": [
          [
           "Celleporidae"
          ]
         ],
         "hovertemplate": "Family=%{customdata[0]}<br>Proportion=%{y}<extra></extra>",
         "legendgroup": "Celleporidae",
         "marker": {
          "color": "#EF553B",
          "pattern": {
           "shape": ""
          }
         },
         "name": "Celleporidae",
         "offsetgroup": "Celleporidae",
         "orientation": "v",
         "showlegend": true,
         "textposition": "auto",
         "type": "bar",
         "x": [
          "MCCDRS"
         ],
         "xaxis": "x",
         "y": [
          0.009218359900134435
         ],
         "yaxis": "y"
        },
        {
         "alignmentgroup": "True",
         "customdata": [
          [
           "Passifloraceae"
          ]
         ],
         "hovertemplate": "Family=%{customdata[0]}<br>Proportion=%{y}<extra></extra>",
         "legendgroup": "Passifloraceae",
         "marker": {
          "color": "#00cc96",
          "pattern": {
           "shape": ""
          }
         },
         "name": "Passifloraceae",
         "offsetgroup": "Passifloraceae",
         "orientation": "v",
         "showlegend": true,
         "textposition": "auto",
         "type": "bar",
         "x": [
          "CDS"
         ],
         "xaxis": "x",
         "y": [
          0.009042186891823109
         ],
         "yaxis": "y"
        },
        {
         "alignmentgroup": "True",
         "customdata": [
          [
           "Pertusariaceae"
          ]
         ],
         "hovertemplate": "Family=%{customdata[0]}<br>Proportion=%{y}<extra></extra>",
         "legendgroup": "Pertusariaceae",
         "marker": {
          "color": "#ab63fa",
          "pattern": {
           "shape": ""
          }
         },
         "name": "Pertusariaceae",
         "offsetgroup": "Pertusariaceae",
         "orientation": "v",
         "showlegend": true,
         "textposition": "auto",
         "type": "bar",
         "x": [
          "CDS"
         ],
         "xaxis": "x",
         "y": [
          0.0087727177460403
         ],
         "yaxis": "y"
        },
        {
         "alignmentgroup": "True",
         "customdata": [
          [
           "Caesalpinaceae"
          ]
         ],
         "hovertemplate": "Family=%{customdata[0]}<br>Proportion=%{y}<extra></extra>",
         "legendgroup": "Caesalpinaceae",
         "marker": {
          "color": "#FFA15A",
          "pattern": {
           "shape": ""
          }
         },
         "name": "Caesalpinaceae",
         "offsetgroup": "Caesalpinaceae",
         "orientation": "v",
         "showlegend": true,
         "textposition": "auto",
         "type": "bar",
         "x": [
          "CDS"
         ],
         "xaxis": "x",
         "y": [
          0.008413425551663224
         ],
         "yaxis": "y"
        },
        {
         "alignmentgroup": "True",
         "customdata": [
          [
           "Nyctaginaceae"
          ]
         ],
         "hovertemplate": "Family=%{customdata[0]}<br>Proportion=%{y}<extra></extra>",
         "legendgroup": "Nyctaginaceae",
         "marker": {
          "color": "#19d3f3",
          "pattern": {
           "shape": ""
          }
         },
         "name": "Nyctaginaceae",
         "offsetgroup": "Nyctaginaceae",
         "orientation": "v",
         "showlegend": true,
         "textposition": "auto",
         "type": "bar",
         "x": [
          "CDS"
         ],
         "xaxis": "x",
         "y": [
          0.008353543519267044
         ],
         "yaxis": "y"
        },
        {
         "alignmentgroup": "True",
         "customdata": [
          [
           "Terebridae"
          ]
         ],
         "hovertemplate": "Family=%{customdata[0]}<br>Proportion=%{y}<extra></extra>",
         "legendgroup": "Terebridae",
         "marker": {
          "color": "#FF6692",
          "pattern": {
           "shape": ""
          }
         },
         "name": "Terebridae",
         "offsetgroup": "Terebridae",
         "orientation": "v",
         "showlegend": true,
         "textposition": "auto",
         "type": "bar",
         "x": [
          "MCCDRS"
         ],
         "xaxis": "x",
         "y": [
          0.008258114077203765
         ],
         "yaxis": "y"
        },
        {
         "alignmentgroup": "True",
         "customdata": [
          [
           "Paradoxosomatidae"
          ]
         ],
         "hovertemplate": "Family=%{customdata[0]}<br>Proportion=%{y}<extra></extra>",
         "legendgroup": "Paradoxosomatidae",
         "marker": {
          "color": "#B6E880",
          "pattern": {
           "shape": ""
          }
         },
         "name": "Paradoxosomatidae",
         "offsetgroup": "Paradoxosomatidae",
         "orientation": "v",
         "showlegend": true,
         "textposition": "auto",
         "type": "bar",
         "x": [
          "ICCDRS"
         ],
         "xaxis": "x",
         "y": [
          0.00815515072828336
         ],
         "yaxis": "y"
        },
        {
         "alignmentgroup": "True",
         "customdata": [
          [
           "Cicadellidae"
          ]
         ],
         "hovertemplate": "Family=%{customdata[0]}<br>Proportion=%{y}<extra></extra>",
         "legendgroup": "Cicadellidae",
         "marker": {
          "color": "#FF97FF",
          "pattern": {
           "shape": ""
          }
         },
         "name": "Cicadellidae",
         "offsetgroup": "Cicadellidae",
         "orientation": "v",
         "showlegend": true,
         "textposition": "auto",
         "type": "bar",
         "x": [
          "ICCDRS"
         ],
         "xaxis": "x",
         "y": [
          0.008114577839087922
         ],
         "yaxis": "y"
        },
        {
         "alignmentgroup": "True",
         "customdata": [
          [
           "Polyclinidae"
          ]
         ],
         "hovertemplate": "Family=%{customdata[0]}<br>Proportion=%{y}<extra></extra>",
         "legendgroup": "Polyclinidae",
         "marker": {
          "color": "#FECB52",
          "pattern": {
           "shape": ""
          }
         },
         "name": "Polyclinidae",
         "offsetgroup": "Polyclinidae",
         "orientation": "v",
         "showlegend": true,
         "textposition": "auto",
         "type": "bar",
         "x": [
          "MCCDRS"
         ],
         "xaxis": "x",
         "y": [
          0.00806606491261763
         ],
         "yaxis": "y"
        },
        {
         "alignmentgroup": "True",
         "customdata": [
          [
           "Tropiduridae"
          ]
         ],
         "hovertemplate": "Family=%{customdata[0]}<br>Proportion=%{y}<extra></extra>",
         "legendgroup": "Tropiduridae",
         "marker": {
          "color": "#636efa",
          "pattern": {
           "shape": ""
          }
         },
         "name": "Tropiduridae",
         "offsetgroup": "Tropiduridae",
         "orientation": "v",
         "showlegend": true,
         "textposition": "auto",
         "type": "bar",
         "x": [
          "VCCDRS"
         ],
         "xaxis": "x",
         "y": [
          0.007936507936507936
         ],
         "yaxis": "y"
        },
        {
         "alignmentgroup": "True",
         "customdata": [
          [
           "Fregatidae"
          ]
         ],
         "hovertemplate": "Family=%{customdata[0]}<br>Proportion=%{y}<extra></extra>",
         "legendgroup": "Fregatidae",
         "marker": {
          "color": "#EF553B",
          "pattern": {
           "shape": ""
          }
         },
         "name": "Fregatidae",
         "offsetgroup": "Fregatidae",
         "orientation": "v",
         "showlegend": true,
         "textposition": "auto",
         "type": "bar",
         "x": [
          "VCCDRS"
         ],
         "xaxis": "x",
         "y": [
          0.007936507936507936
         ],
         "yaxis": "y"
        },
        {
         "alignmentgroup": "True",
         "customdata": [
          [
           "Vespertilionidae"
          ]
         ],
         "hovertemplate": "Family=%{customdata[0]}<br>Proportion=%{y}<extra></extra>",
         "legendgroup": "Vespertilionidae",
         "marker": {
          "color": "#00cc96",
          "pattern": {
           "shape": ""
          }
         },
         "name": "Vespertilionidae",
         "offsetgroup": "Vespertilionidae",
         "orientation": "v",
         "showlegend": true,
         "textposition": "auto",
         "type": "bar",
         "x": [
          "VCCDRS"
         ],
         "xaxis": "x",
         "y": [
          0.007936507936507936
         ],
         "yaxis": "y"
        },
        {
         "alignmentgroup": "True",
         "customdata": [
          [
           "Bullidae"
          ]
         ],
         "hovertemplate": "Family=%{customdata[0]}<br>Proportion=%{y}<extra></extra>",
         "legendgroup": "Bullidae",
         "marker": {
          "color": "#ab63fa",
          "pattern": {
           "shape": ""
          }
         },
         "name": "Bullidae",
         "offsetgroup": "Bullidae",
         "orientation": "v",
         "showlegend": true,
         "textposition": "auto",
         "type": "bar",
         "x": [
          "MCCDRS"
         ],
         "xaxis": "x",
         "y": [
          0.007874015748031496
         ],
         "yaxis": "y"
        },
        {
         "alignmentgroup": "True",
         "customdata": [
          [
           "Veneridae"
          ]
         ],
         "hovertemplate": "Family=%{customdata[0]}<br>Proportion=%{y}<extra></extra>",
         "legendgroup": "Veneridae",
         "marker": {
          "color": "#FFA15A",
          "pattern": {
           "shape": ""
          }
         },
         "name": "Veneridae",
         "offsetgroup": "Veneridae",
         "orientation": "v",
         "showlegend": true,
         "textposition": "auto",
         "type": "bar",
         "x": [
          "MCCDRS"
         ],
         "xaxis": "x",
         "y": [
          0.007874015748031496
         ],
         "yaxis": "y"
        },
        {
         "alignmentgroup": "True",
         "customdata": [
          [
           "Vespidae"
          ]
         ],
         "hovertemplate": "Family=%{customdata[0]}<br>Proportion=%{y}<extra></extra>",
         "legendgroup": "Vespidae",
         "marker": {
          "color": "#19d3f3",
          "pattern": {
           "shape": ""
          }
         },
         "name": "Vespidae",
         "offsetgroup": "Vespidae",
         "orientation": "v",
         "showlegend": true,
         "textposition": "auto",
         "type": "bar",
         "x": [
          "ICCDRS"
         ],
         "xaxis": "x",
         "y": [
          0.007830567614719845
         ],
         "yaxis": "y"
        },
        {
         "alignmentgroup": "True",
         "customdata": [
          [
           "Burseraceae"
          ]
         ],
         "hovertemplate": "Family=%{customdata[0]}<br>Proportion=%{y}<extra></extra>",
         "legendgroup": "Burseraceae",
         "marker": {
          "color": "#FF6692",
          "pattern": {
           "shape": ""
          }
         },
         "name": "Burseraceae",
         "offsetgroup": "Burseraceae",
         "orientation": "v",
         "showlegend": true,
         "textposition": "auto",
         "type": "bar",
         "x": [
          "CDS"
         ],
         "xaxis": "x",
         "y": [
          0.007664900146710979
         ],
         "yaxis": "y"
        },
        {
         "alignmentgroup": "True",
         "customdata": [
          [
           "Acanthaceae"
          ]
         ],
         "hovertemplate": "Family=%{customdata[0]}<br>Proportion=%{y}<extra></extra>",
         "legendgroup": "Acanthaceae",
         "marker": {
          "color": "#B6E880",
          "pattern": {
           "shape": ""
          }
         },
         "name": "Acanthaceae",
         "offsetgroup": "Acanthaceae",
         "orientation": "v",
         "showlegend": true,
         "textposition": "auto",
         "type": "bar",
         "x": [
          "CDS"
         ],
         "xaxis": "x",
         "y": [
          0.00763495913051289
         ],
         "yaxis": "y"
        },
        {
         "alignmentgroup": "True",
         "customdata": [
          [
           "Ulidiidae"
          ]
         ],
         "hovertemplate": "Family=%{customdata[0]}<br>Proportion=%{y}<extra></extra>",
         "legendgroup": "Ulidiidae",
         "marker": {
          "color": "#FF97FF",
          "pattern": {
           "shape": ""
          }
         },
         "name": "Ulidiidae",
         "offsetgroup": "Ulidiidae",
         "orientation": "v",
         "showlegend": true,
         "textposition": "auto",
         "type": "bar",
         "x": [
          "ICCDRS"
         ],
         "xaxis": "x",
         "y": [
          0.007587130279547207
         ],
         "yaxis": "y"
        },
        {
         "alignmentgroup": "True",
         "customdata": [
          [
           "Geometridae"
          ]
         ],
         "hovertemplate": "Family=%{customdata[0]}<br>Proportion=%{y}<extra></extra>",
         "legendgroup": "Geometridae",
         "marker": {
          "color": "#FECB52",
          "pattern": {
           "shape": ""
          }
         },
         "name": "Geometridae",
         "offsetgroup": "Geometridae",
         "orientation": "v",
         "showlegend": true,
         "textposition": "auto",
         "type": "bar",
         "x": [
          "ICCDRS"
         ],
         "xaxis": "x",
         "y": [
          0.007546557390351767
         ],
         "yaxis": "y"
        },
        {
         "alignmentgroup": "True",
         "customdata": [
          [
           "Mytilidae"
          ]
         ],
         "hovertemplate": "Family=%{customdata[0]}<br>Proportion=%{y}<extra></extra>",
         "legendgroup": "Mytilidae",
         "marker": {
          "color": "#636efa",
          "pattern": {
           "shape": ""
          }
         },
         "name": "Mytilidae",
         "offsetgroup": "Mytilidae",
         "orientation": "v",
         "showlegend": true,
         "textposition": "auto",
         "type": "bar",
         "x": [
          "MCCDRS"
         ],
         "xaxis": "x",
         "y": [
          0.007489917418859228
         ],
         "yaxis": "y"
        },
        {
         "alignmentgroup": "True",
         "customdata": [
          [
           "Orthalicidae"
          ]
         ],
         "hovertemplate": "Family=%{customdata[0]}<br>Proportion=%{y}<extra></extra>",
         "legendgroup": "Orthalicidae",
         "marker": {
          "color": "#EF553B",
          "pattern": {
           "shape": ""
          }
         },
         "name": "Orthalicidae",
         "offsetgroup": "Orthalicidae",
         "orientation": "v",
         "showlegend": true,
         "textposition": "auto",
         "type": "bar",
         "x": [
          "ICCDRS"
         ],
         "xaxis": "x",
         "y": [
          0.007343692944374569
         ],
         "yaxis": "y"
        },
        {
         "alignmentgroup": "True",
         "customdata": [
          [
           "Cymatiidae"
          ]
         ],
         "hovertemplate": "Family=%{customdata[0]}<br>Proportion=%{y}<extra></extra>",
         "legendgroup": "Cymatiidae",
         "marker": {
          "color": "#00cc96",
          "pattern": {
           "shape": ""
          }
         },
         "name": "Cymatiidae",
         "offsetgroup": "Cymatiidae",
         "orientation": "v",
         "showlegend": true,
         "textposition": "auto",
         "type": "bar",
         "x": [
          "MCCDRS"
         ],
         "xaxis": "x",
         "y": [
          0.007297868254273094
         ],
         "yaxis": "y"
        },
        {
         "alignmentgroup": "True",
         "customdata": [
          [
           "Elapidae"
          ],
          [
           "Elapidae"
          ]
         ],
         "hovertemplate": "Family=%{customdata[0]}<br>Proportion=%{y}<extra></extra>",
         "legendgroup": "Elapidae",
         "marker": {
          "color": "#ab63fa",
          "pattern": {
           "shape": ""
          }
         },
         "name": "Elapidae",
         "offsetgroup": "Elapidae",
         "orientation": "v",
         "showlegend": true,
         "textposition": "auto",
         "type": "bar",
         "x": [
          "VCCDRS",
          "MCCDRS"
         ],
         "xaxis": "x",
         "y": [
          0.007275132275132275,
          0.00019204916458613405
         ],
         "yaxis": "y"
        },
        {
         "alignmentgroup": "True",
         "customdata": [
          [
           "Oziidae"
          ]
         ],
         "hovertemplate": "Family=%{customdata[0]}<br>Proportion=%{y}<extra></extra>",
         "legendgroup": "Oziidae",
         "marker": {
          "color": "#FFA15A",
          "pattern": {
           "shape": ""
          }
         },
         "name": "Oziidae",
         "offsetgroup": "Oziidae",
         "orientation": "v",
         "showlegend": true,
         "textposition": "auto",
         "type": "bar",
         "x": [
          "MCCDRS"
         ],
         "xaxis": "x",
         "y": [
          0.0071058190896869594
         ],
         "yaxis": "y"
        },
        {
         "alignmentgroup": "True",
         "customdata": [
          [
           "Caraboctonidae"
          ],
          [
           "Caraboctonidae"
          ]
         ],
         "hovertemplate": "Family=%{customdata[0]}<br>Proportion=%{y}<extra></extra>",
         "legendgroup": "Caraboctonidae",
         "marker": {
          "color": "#19d3f3",
          "pattern": {
           "shape": ""
          }
         },
         "name": "Caraboctonidae",
         "offsetgroup": "Caraboctonidae",
         "orientation": "v",
         "showlegend": true,
         "textposition": "auto",
         "type": "bar",
         "x": [
          "ICCDRS",
          "MCCDRS"
         ],
         "xaxis": "x",
         "y": [
          0.007019109830811052,
          0.00019204916458613405
         ],
         "yaxis": "y"
        },
        {
         "alignmentgroup": "True",
         "customdata": [
          [
           "Haemulidae"
          ]
         ],
         "hovertemplate": "Family=%{customdata[0]}<br>Proportion=%{y}<extra></extra>",
         "legendgroup": "Haemulidae",
         "marker": {
          "color": "#FF6692",
          "pattern": {
           "shape": ""
          }
         },
         "name": "Haemulidae",
         "offsetgroup": "Haemulidae",
         "orientation": "v",
         "showlegend": true,
         "textposition": "auto",
         "type": "bar",
         "x": [
          "MCCDRS"
         ],
         "xaxis": "x",
         "y": [
          0.006913769925100826
         ],
         "yaxis": "y"
        },
        {
         "alignmentgroup": "True",
         "customdata": [
          [
           "Erebidae"
          ]
         ],
         "hovertemplate": "Family=%{customdata[0]}<br>Proportion=%{y}<extra></extra>",
         "legendgroup": "Erebidae",
         "marker": {
          "color": "#B6E880",
          "pattern": {
           "shape": ""
          }
         },
         "name": "Erebidae",
         "offsetgroup": "Erebidae",
         "orientation": "v",
         "showlegend": true,
         "textposition": "auto",
         "type": "bar",
         "x": [
          "ICCDRS"
         ],
         "xaxis": "x",
         "y": [
          0.006856818274029294
         ],
         "yaxis": "y"
        },
        {
         "alignmentgroup": "True",
         "customdata": [
          [
           "Schizoporellidae"
          ]
         ],
         "hovertemplate": "Family=%{customdata[0]}<br>Proportion=%{y}<extra></extra>",
         "legendgroup": "Schizoporellidae",
         "marker": {
          "color": "#FF97FF",
          "pattern": {
           "shape": ""
          }
         },
         "name": "Schizoporellidae",
         "offsetgroup": "Schizoporellidae",
         "orientation": "v",
         "showlegend": true,
         "textposition": "auto",
         "type": "bar",
         "x": [
          "MCCDRS"
         ],
         "xaxis": "x",
         "y": [
          0.006721720760514692
         ],
         "yaxis": "y"
        },
        {
         "alignmentgroup": "True",
         "customdata": [
          [
           "Portunidae"
          ]
         ],
         "hovertemplate": "Family=%{customdata[0]}<br>Proportion=%{y}<extra></extra>",
         "legendgroup": "Portunidae",
         "marker": {
          "color": "#FECB52",
          "pattern": {
           "shape": ""
          }
         },
         "name": "Portunidae",
         "offsetgroup": "Portunidae",
         "orientation": "v",
         "showlegend": true,
         "textposition": "auto",
         "type": "bar",
         "x": [
          "MCCDRS"
         ],
         "xaxis": "x",
         "y": [
          0.006721720760514692
         ],
         "yaxis": "y"
        },
        {
         "alignmentgroup": "True",
         "customdata": [
          [
           "Mugilidae"
          ]
         ],
         "hovertemplate": "Family=%{customdata[0]}<br>Proportion=%{y}<extra></extra>",
         "legendgroup": "Mugilidae",
         "marker": {
          "color": "#636efa",
          "pattern": {
           "shape": ""
          }
         },
         "name": "Mugilidae",
         "offsetgroup": "Mugilidae",
         "orientation": "v",
         "showlegend": true,
         "textposition": "auto",
         "type": "bar",
         "x": [
          "MCCDRS"
         ],
         "xaxis": "x",
         "y": [
          0.006721720760514692
         ],
         "yaxis": "y"
        },
        {
         "alignmentgroup": "True",
         "customdata": [
          [
           "Diogenidae"
          ]
         ],
         "hovertemplate": "Family=%{customdata[0]}<br>Proportion=%{y}<extra></extra>",
         "legendgroup": "Diogenidae",
         "marker": {
          "color": "#EF553B",
          "pattern": {
           "shape": ""
          }
         },
         "name": "Diogenidae",
         "offsetgroup": "Diogenidae",
         "orientation": "v",
         "showlegend": true,
         "textposition": "auto",
         "type": "bar",
         "x": [
          "MCCDRS"
         ],
         "xaxis": "x",
         "y": [
          0.006721720760514692
         ],
         "yaxis": "y"
        },
        {
         "alignmentgroup": "True",
         "customdata": [
          [
           "Strigidae"
          ]
         ],
         "hovertemplate": "Family=%{customdata[0]}<br>Proportion=%{y}<extra></extra>",
         "legendgroup": "Strigidae",
         "marker": {
          "color": "#00cc96",
          "pattern": {
           "shape": ""
          }
         },
         "name": "Strigidae",
         "offsetgroup": "Strigidae",
         "orientation": "v",
         "showlegend": true,
         "textposition": "auto",
         "type": "bar",
         "x": [
          "VCCDRS"
         ],
         "xaxis": "x",
         "y": [
          0.006613756613756613
         ],
         "yaxis": "y"
        },
        {
         "alignmentgroup": "True",
         "customdata": [
          [
           "Diomedeidae"
          ]
         ],
         "hovertemplate": "Family=%{customdata[0]}<br>Proportion=%{y}<extra></extra>",
         "legendgroup": "Diomedeidae",
         "marker": {
          "color": "#ab63fa",
          "pattern": {
           "shape": ""
          }
         },
         "name": "Diomedeidae",
         "offsetgroup": "Diomedeidae",
         "orientation": "v",
         "showlegend": true,
         "textposition": "auto",
         "type": "bar",
         "x": [
          "VCCDRS"
         ],
         "xaxis": "x",
         "y": [
          0.006613756613756613
         ],
         "yaxis": "y"
        },
        {
         "alignmentgroup": "True",
         "customdata": [
          [
           "Apocynaceae"
          ]
         ],
         "hovertemplate": "Family=%{customdata[0]}<br>Proportion=%{y}<extra></extra>",
         "legendgroup": "Apocynaceae",
         "marker": {
          "color": "#FFA15A",
          "pattern": {
           "shape": ""
          }
         },
         "name": "Apocynaceae",
         "offsetgroup": "Apocynaceae",
         "orientation": "v",
         "showlegend": true,
         "textposition": "auto",
         "type": "bar",
         "x": [
          "CDS"
         ],
         "xaxis": "x",
         "y": [
          0.006587023563579748
         ],
         "yaxis": "y"
        },
        {
         "alignmentgroup": "True",
         "customdata": [
          [
           "Syrphidae"
          ],
          [
           "Syrphidae"
          ]
         ],
         "hovertemplate": "Family=%{customdata[0]}<br>Proportion=%{y}<extra></extra>",
         "legendgroup": "Syrphidae",
         "marker": {
          "color": "#19d3f3",
          "pattern": {
           "shape": ""
          }
         },
         "name": "Syrphidae",
         "offsetgroup": "Syrphidae",
         "orientation": "v",
         "showlegend": true,
         "textposition": "auto",
         "type": "bar",
         "x": [
          "ICCDRS",
          "MCCDRS"
         ],
         "xaxis": "x",
         "y": [
          0.006532235160465777,
          0.00019204916458613405
         ],
         "yaxis": "y"
        },
        {
         "alignmentgroup": "True",
         "customdata": [
          [
           "Cerambycidae"
          ]
         ],
         "hovertemplate": "Family=%{customdata[0]}<br>Proportion=%{y}<extra></extra>",
         "legendgroup": "Cerambycidae",
         "marker": {
          "color": "#FF6692",
          "pattern": {
           "shape": ""
          }
         },
         "name": "Cerambycidae",
         "offsetgroup": "Cerambycidae",
         "orientation": "v",
         "showlegend": true,
         "textposition": "auto",
         "type": "bar",
         "x": [
          "ICCDRS"
         ],
         "xaxis": "x",
         "y": [
          0.006532235160465777
         ],
         "yaxis": "y"
        },
        {
         "alignmentgroup": "True",
         "customdata": [
          [
           "Tegulidae"
          ]
         ],
         "hovertemplate": "Family=%{customdata[0]}<br>Proportion=%{y}<extra></extra>",
         "legendgroup": "Tegulidae",
         "marker": {
          "color": "#B6E880",
          "pattern": {
           "shape": ""
          }
         },
         "name": "Tegulidae",
         "offsetgroup": "Tegulidae",
         "orientation": "v",
         "showlegend": true,
         "textposition": "auto",
         "type": "bar",
         "x": [
          "MCCDRS"
         ],
         "xaxis": "x",
         "y": [
          0.006529671595928557
         ],
         "yaxis": "y"
        },
        {
         "alignmentgroup": "True",
         "customdata": [
          [
           "Pteridaceae"
          ]
         ],
         "hovertemplate": "Family=%{customdata[0]}<br>Proportion=%{y}<extra></extra>",
         "legendgroup": "Pteridaceae",
         "marker": {
          "color": "#FF97FF",
          "pattern": {
           "shape": ""
          }
         },
         "name": "Pteridaceae",
         "offsetgroup": "Pteridaceae",
         "orientation": "v",
         "showlegend": true,
         "textposition": "auto",
         "type": "bar",
         "x": [
          "CDS"
         ],
         "xaxis": "x",
         "y": [
          0.00634749543399503
         ],
         "yaxis": "y"
        },
        {
         "alignmentgroup": "True",
         "customdata": [
          [
           "Bugulidae"
          ]
         ],
         "hovertemplate": "Family=%{customdata[0]}<br>Proportion=%{y}<extra></extra>",
         "legendgroup": "Bugulidae",
         "marker": {
          "color": "#FECB52",
          "pattern": {
           "shape": ""
          }
         },
         "name": "Bugulidae",
         "offsetgroup": "Bugulidae",
         "orientation": "v",
         "showlegend": true,
         "textposition": "auto",
         "type": "bar",
         "x": [
          "MCCDRS"
         ],
         "xaxis": "x",
         "y": [
          0.006337622431342424
         ],
         "yaxis": "y"
        },
        {
         "alignmentgroup": "True",
         "customdata": [
          [
           "Littorinidae"
          ]
         ],
         "hovertemplate": "Family=%{customdata[0]}<br>Proportion=%{y}<extra></extra>",
         "legendgroup": "Littorinidae",
         "marker": {
          "color": "#636efa",
          "pattern": {
           "shape": ""
          }
         },
         "name": "Littorinidae",
         "offsetgroup": "Littorinidae",
         "orientation": "v",
         "showlegend": true,
         "textposition": "auto",
         "type": "bar",
         "x": [
          "MCCDRS"
         ],
         "xaxis": "x",
         "y": [
          0.0061455732667562895
         ],
         "yaxis": "y"
        },
        {
         "alignmentgroup": "True",
         "customdata": [
          [
           "Plantaginaceae"
          ]
         ],
         "hovertemplate": "Family=%{customdata[0]}<br>Proportion=%{y}<extra></extra>",
         "legendgroup": "Plantaginaceae",
         "marker": {
          "color": "#EF553B",
          "pattern": {
           "shape": ""
          }
         },
         "name": "Plantaginaceae",
         "offsetgroup": "Plantaginaceae",
         "orientation": "v",
         "showlegend": true,
         "textposition": "auto",
         "type": "bar",
         "x": [
          "CDS"
         ],
         "xaxis": "x",
         "y": [
          0.006078026288212222
         ],
         "yaxis": "y"
        },
        {
         "alignmentgroup": "True",
         "customdata": [
          [
           "Ceratopogonidae"
          ]
         ],
         "hovertemplate": "Family=%{customdata[0]}<br>Proportion=%{y}<extra></extra>",
         "legendgroup": "Ceratopogonidae",
         "marker": {
          "color": "#00cc96",
          "pattern": {
           "shape": ""
          }
         },
         "name": "Ceratopogonidae",
         "offsetgroup": "Ceratopogonidae",
         "orientation": "v",
         "showlegend": true,
         "textposition": "auto",
         "type": "bar",
         "x": [
          "ICCDRS"
         ],
         "xaxis": "x",
         "y": [
          0.006004787600925062
         ],
         "yaxis": "y"
        },
        {
         "alignmentgroup": "True",
         "customdata": [
          [
           "Scolopacidae"
          ]
         ],
         "hovertemplate": "Family=%{customdata[0]}<br>Proportion=%{y}<extra></extra>",
         "legendgroup": "Scolopacidae",
         "marker": {
          "color": "#ab63fa",
          "pattern": {
           "shape": ""
          }
         },
         "name": "Scolopacidae",
         "offsetgroup": "Scolopacidae",
         "orientation": "v",
         "showlegend": true,
         "textposition": "auto",
         "type": "bar",
         "x": [
          "VCCDRS"
         ],
         "xaxis": "x",
         "y": [
          0.005952380952380952
         ],
         "yaxis": "y"
        },
        {
         "alignmentgroup": "True",
         "customdata": [
          [
           "Anisolabididae"
          ]
         ],
         "hovertemplate": "Family=%{customdata[0]}<br>Proportion=%{y}<extra></extra>",
         "legendgroup": "Anisolabididae",
         "marker": {
          "color": "#FFA15A",
          "pattern": {
           "shape": ""
          }
         },
         "name": "Anisolabididae",
         "offsetgroup": "Anisolabididae",
         "orientation": "v",
         "showlegend": true,
         "textposition": "auto",
         "type": "bar",
         "x": [
          "ICCDRS"
         ],
         "xaxis": "x",
         "y": [
          0.005801923154947864
         ],
         "yaxis": "y"
        },
        {
         "alignmentgroup": "True",
         "customdata": [
          [
           "Vesiculariidae"
          ]
         ],
         "hovertemplate": "Family=%{customdata[0]}<br>Proportion=%{y}<extra></extra>",
         "legendgroup": "Vesiculariidae",
         "marker": {
          "color": "#19d3f3",
          "pattern": {
           "shape": ""
          }
         },
         "name": "Vesiculariidae",
         "offsetgroup": "Vesiculariidae",
         "orientation": "v",
         "showlegend": true,
         "textposition": "auto",
         "type": "bar",
         "x": [
          "MCCDRS"
         ],
         "xaxis": "x",
         "y": [
          0.005761474937584022
         ],
         "yaxis": "y"
        },
        {
         "alignmentgroup": "True",
         "customdata": [
          [
           "Porcellionidae"
          ]
         ],
         "hovertemplate": "Family=%{customdata[0]}<br>Proportion=%{y}<extra></extra>",
         "legendgroup": "Porcellionidae",
         "marker": {
          "color": "#FF6692",
          "pattern": {
           "shape": ""
          }
         },
         "name": "Porcellionidae",
         "offsetgroup": "Porcellionidae",
         "orientation": "v",
         "showlegend": true,
         "textposition": "auto",
         "type": "bar",
         "x": [
          "ICCDRS"
         ],
         "xaxis": "x",
         "y": [
          0.005599058708970666
         ],
         "yaxis": "y"
        },
        {
         "alignmentgroup": "True",
         "customdata": [
          [
           "Lucinidae"
          ]
         ],
         "hovertemplate": "Family=%{customdata[0]}<br>Proportion=%{y}<extra></extra>",
         "legendgroup": "Lucinidae",
         "marker": {
          "color": "#B6E880",
          "pattern": {
           "shape": ""
          }
         },
         "name": "Lucinidae",
         "offsetgroup": "Lucinidae",
         "orientation": "v",
         "showlegend": true,
         "textposition": "auto",
         "type": "bar",
         "x": [
          "MCCDRS"
         ],
         "xaxis": "x",
         "y": [
          0.005569425772997887
         ],
         "yaxis": "y"
        },
        {
         "alignmentgroup": "True",
         "customdata": [
          [
           "Mimosaceae"
          ]
         ],
         "hovertemplate": "Family=%{customdata[0]}<br>Proportion=%{y}<extra></extra>",
         "legendgroup": "Mimosaceae",
         "marker": {
          "color": "#FF97FF",
          "pattern": {
           "shape": ""
          }
         },
         "name": "Mimosaceae",
         "offsetgroup": "Mimosaceae",
         "orientation": "v",
         "showlegend": true,
         "textposition": "auto",
         "type": "bar",
         "x": [
          "CDS"
         ],
         "xaxis": "x",
         "y": [
          0.005449264948052337
         ],
         "yaxis": "y"
        },
        {
         "alignmentgroup": "True",
         "customdata": [
          [
           "Pentatomidae"
          ]
         ],
         "hovertemplate": "Family=%{customdata[0]}<br>Proportion=%{y}<extra></extra>",
         "legendgroup": "Pentatomidae",
         "marker": {
          "color": "#FECB52",
          "pattern": {
           "shape": ""
          }
         },
         "name": "Pentatomidae",
         "offsetgroup": "Pentatomidae",
         "orientation": "v",
         "showlegend": true,
         "textposition": "auto",
         "type": "bar",
         "x": [
          "ICCDRS"
         ],
         "xaxis": "x",
         "y": [
          0.005436767152188908
         ],
         "yaxis": "y"
        },
        {
         "alignmentgroup": "True",
         "customdata": [
          [
           "Pomacentridae"
          ]
         ],
         "hovertemplate": "Family=%{customdata[0]}<br>Proportion=%{y}<extra></extra>",
         "legendgroup": "Pomacentridae",
         "marker": {
          "color": "#636efa",
          "pattern": {
           "shape": ""
          }
         },
         "name": "Pomacentridae",
         "offsetgroup": "Pomacentridae",
         "orientation": "v",
         "showlegend": true,
         "textposition": "auto",
         "type": "bar",
         "x": [
          "MCCDRS"
         ],
         "xaxis": "x",
         "y": [
          0.005377376608411754
         ],
         "yaxis": "y"
        },
        {
         "alignmentgroup": "True",
         "customdata": [
          [
           "Accipitridae"
          ]
         ],
         "hovertemplate": "Family=%{customdata[0]}<br>Proportion=%{y}<extra></extra>",
         "legendgroup": "Accipitridae",
         "marker": {
          "color": "#EF553B",
          "pattern": {
           "shape": ""
          }
         },
         "name": "Accipitridae",
         "offsetgroup": "Accipitridae",
         "orientation": "v",
         "showlegend": true,
         "textposition": "auto",
         "type": "bar",
         "x": [
          "VCCDRS"
         ],
         "xaxis": "x",
         "y": [
          0.005291005291005291
         ],
         "yaxis": "y"
        },
        {
         "alignmentgroup": "True",
         "customdata": [
          [
           "Trypetheliaceae"
          ]
         ],
         "hovertemplate": "Family=%{customdata[0]}<br>Proportion=%{y}<extra></extra>",
         "legendgroup": "Trypetheliaceae",
         "marker": {
          "color": "#00cc96",
          "pattern": {
           "shape": ""
          }
         },
         "name": "Trypetheliaceae",
         "offsetgroup": "Trypetheliaceae",
         "orientation": "v",
         "showlegend": true,
         "textposition": "auto",
         "type": "bar",
         "x": [
          "CDS"
         ],
         "xaxis": "x",
         "y": [
          0.005239677834665709
         ],
         "yaxis": "y"
        },
        {
         "alignmentgroup": "True",
         "customdata": [
          [
           "Philosciidae"
          ]
         ],
         "hovertemplate": "Family=%{customdata[0]}<br>Proportion=%{y}<extra></extra>",
         "legendgroup": "Philosciidae",
         "marker": {
          "color": "#ab63fa",
          "pattern": {
           "shape": ""
          }
         },
         "name": "Philosciidae",
         "offsetgroup": "Philosciidae",
         "orientation": "v",
         "showlegend": true,
         "textposition": "auto",
         "type": "bar",
         "x": [
          "ICCDRS"
         ],
         "xaxis": "x",
         "y": [
          0.005233902706211709
         ],
         "yaxis": "y"
        },
        {
         "alignmentgroup": "True",
         "customdata": [
          [
           "Molluginaceae"
          ]
         ],
         "hovertemplate": "Family=%{customdata[0]}<br>Proportion=%{y}<extra></extra>",
         "legendgroup": "Molluginaceae",
         "marker": {
          "color": "#FFA15A",
          "pattern": {
           "shape": ""
          }
         },
         "name": "Molluginaceae",
         "offsetgroup": "Molluginaceae",
         "orientation": "v",
         "showlegend": true,
         "textposition": "auto",
         "type": "bar",
         "x": [
          "CDS"
         ],
         "xaxis": "x",
         "y": [
          0.005209736818467619
         ],
         "yaxis": "y"
        },
        {
         "alignmentgroup": "True",
         "customdata": [
          [
           "Pocilloporidae"
          ]
         ],
         "hovertemplate": "Family=%{customdata[0]}<br>Proportion=%{y}<extra></extra>",
         "legendgroup": "Pocilloporidae",
         "marker": {
          "color": "#19d3f3",
          "pattern": {
           "shape": ""
          }
         },
         "name": "Pocilloporidae",
         "offsetgroup": "Pocilloporidae",
         "orientation": "v",
         "showlegend": true,
         "textposition": "auto",
         "type": "bar",
         "x": [
          "MCCDRS"
         ],
         "xaxis": "x",
         "y": [
          0.0051853274438256195
         ],
         "yaxis": "y"
        },
        {
         "alignmentgroup": "True",
         "customdata": [
          [
           "Ophiotrichidae"
          ]
         ],
         "hovertemplate": "Family=%{customdata[0]}<br>Proportion=%{y}<extra></extra>",
         "legendgroup": "Ophiotrichidae",
         "marker": {
          "color": "#FF6692",
          "pattern": {
           "shape": ""
          }
         },
         "name": "Ophiotrichidae",
         "offsetgroup": "Ophiotrichidae",
         "orientation": "v",
         "showlegend": true,
         "textposition": "auto",
         "type": "bar",
         "x": [
          "MCCDRS"
         ],
         "xaxis": "x",
         "y": [
          0.0051853274438256195
         ],
         "yaxis": "y"
        },
        {
         "alignmentgroup": "True",
         "customdata": [
          [
           "Ocypodidae"
          ]
         ],
         "hovertemplate": "Family=%{customdata[0]}<br>Proportion=%{y}<extra></extra>",
         "legendgroup": "Ocypodidae",
         "marker": {
          "color": "#B6E880",
          "pattern": {
           "shape": ""
          }
         },
         "name": "Ocypodidae",
         "offsetgroup": "Ocypodidae",
         "orientation": "v",
         "showlegend": true,
         "textposition": "auto",
         "type": "bar",
         "x": [
          "MCCDRS"
         ],
         "xaxis": "x",
         "y": [
          0.0051853274438256195
         ],
         "yaxis": "y"
        },
        {
         "alignmentgroup": "True",
         "customdata": [
          [
           "Labrisomidae"
          ]
         ],
         "hovertemplate": "Family=%{customdata[0]}<br>Proportion=%{y}<extra></extra>",
         "legendgroup": "Labrisomidae",
         "marker": {
          "color": "#FF97FF",
          "pattern": {
           "shape": ""
          }
         },
         "name": "Labrisomidae",
         "offsetgroup": "Labrisomidae",
         "orientation": "v",
         "showlegend": true,
         "textposition": "auto",
         "type": "bar",
         "x": [
          "MCCDRS"
         ],
         "xaxis": "x",
         "y": [
          0.0051853274438256195
         ],
         "yaxis": "y"
        },
        {
         "alignmentgroup": "True",
         "customdata": [
          [
           "Tephritidae"
          ]
         ],
         "hovertemplate": "Family=%{customdata[0]}<br>Proportion=%{y}<extra></extra>",
         "legendgroup": "Tephritidae",
         "marker": {
          "color": "#FECB52",
          "pattern": {
           "shape": ""
          }
         },
         "name": "Tephritidae",
         "offsetgroup": "Tephritidae",
         "orientation": "v",
         "showlegend": true,
         "textposition": "auto",
         "type": "bar",
         "x": [
          "ICCDRS"
         ],
         "xaxis": "x",
         "y": [
          0.00515275692782083
         ],
         "yaxis": "y"
        },
        {
         "alignmentgroup": "True",
         "customdata": [
          [
           "Blaberidae"
          ]
         ],
         "hovertemplate": "Family=%{customdata[0]}<br>Proportion=%{y}<extra></extra>",
         "legendgroup": "Blaberidae",
         "marker": {
          "color": "#636efa",
          "pattern": {
           "shape": ""
          }
         },
         "name": "Blaberidae",
         "offsetgroup": "Blaberidae",
         "orientation": "v",
         "showlegend": true,
         "textposition": "auto",
         "type": "bar",
         "x": [
          "ICCDRS"
         ],
         "xaxis": "x",
         "y": [
          0.005112184038625391
         ],
         "yaxis": "y"
        },
        {
         "alignmentgroup": "True",
         "customdata": [
          [
           "Dytiscidae"
          ]
         ],
         "hovertemplate": "Family=%{customdata[0]}<br>Proportion=%{y}<extra></extra>",
         "legendgroup": "Dytiscidae",
         "marker": {
          "color": "#EF553B",
          "pattern": {
           "shape": ""
          }
         },
         "name": "Dytiscidae",
         "offsetgroup": "Dytiscidae",
         "orientation": "v",
         "showlegend": true,
         "textposition": "auto",
         "type": "bar",
         "x": [
          "ICCDRS"
         ],
         "xaxis": "x",
         "y": [
          0.005031038260234512
         ],
         "yaxis": "y"
        },
        {
         "alignmentgroup": "True",
         "customdata": [
          [
           "Oedemeridae"
          ]
         ],
         "hovertemplate": "Family=%{customdata[0]}<br>Proportion=%{y}<extra></extra>",
         "legendgroup": "Oedemeridae",
         "marker": {
          "color": "#00cc96",
          "pattern": {
           "shape": ""
          }
         },
         "name": "Oedemeridae",
         "offsetgroup": "Oedemeridae",
         "orientation": "v",
         "showlegend": true,
         "textposition": "auto",
         "type": "bar",
         "x": [
          "ICCDRS"
         ],
         "xaxis": "x",
         "y": [
          0.005031038260234512
         ],
         "yaxis": "y"
        },
        {
         "alignmentgroup": "True",
         "customdata": [
          [
           "Tettigoniidae"
          ]
         ],
         "hovertemplate": "Family=%{customdata[0]}<br>Proportion=%{y}<extra></extra>",
         "legendgroup": "Tettigoniidae",
         "marker": {
          "color": "#ab63fa",
          "pattern": {
           "shape": ""
          }
         },
         "name": "Tettigoniidae",
         "offsetgroup": "Tettigoniidae",
         "orientation": "v",
         "showlegend": true,
         "textposition": "auto",
         "type": "bar",
         "x": [
          "ICCDRS"
         ],
         "xaxis": "x",
         "y": [
          0.005031038260234512
         ],
         "yaxis": "y"
        },
        {
         "alignmentgroup": "True",
         "customdata": [
          [
           "Loasaceae"
          ]
         ],
         "hovertemplate": "Family=%{customdata[0]}<br>Proportion=%{y}<extra></extra>",
         "legendgroup": "Loasaceae",
         "marker": {
          "color": "#FFA15A",
          "pattern": {
           "shape": ""
          }
         },
         "name": "Loasaceae",
         "offsetgroup": "Loasaceae",
         "orientation": "v",
         "showlegend": true,
         "textposition": "auto",
         "type": "bar",
         "x": [
          "CDS"
         ],
         "xaxis": "x",
         "y": [
          0.00503009072127908
         ],
         "yaxis": "y"
        },
        {
         "alignmentgroup": "True",
         "customdata": [
          [
           "Cardiidae"
          ]
         ],
         "hovertemplate": "Family=%{customdata[0]}<br>Proportion=%{y}<extra></extra>",
         "legendgroup": "Cardiidae",
         "marker": {
          "color": "#19d3f3",
          "pattern": {
           "shape": ""
          }
         },
         "name": "Cardiidae",
         "offsetgroup": "Cardiidae",
         "orientation": "v",
         "showlegend": true,
         "textposition": "auto",
         "type": "bar",
         "x": [
          "MCCDRS"
         ],
         "xaxis": "x",
         "y": [
          0.004993278279239485
         ],
         "yaxis": "y"
        },
        {
         "alignmentgroup": "True",
         "customdata": [
          [
           "Neritidae"
          ]
         ],
         "hovertemplate": "Family=%{customdata[0]}<br>Proportion=%{y}<extra></extra>",
         "legendgroup": "Neritidae",
         "marker": {
          "color": "#FF6692",
          "pattern": {
           "shape": ""
          }
         },
         "name": "Neritidae",
         "offsetgroup": "Neritidae",
         "orientation": "v",
         "showlegend": true,
         "textposition": "auto",
         "type": "bar",
         "x": [
          "MCCDRS"
         ],
         "xaxis": "x",
         "y": [
          0.004993278279239485
         ],
         "yaxis": "y"
        },
        {
         "alignmentgroup": "True",
         "customdata": [
          [
           "Acrididae"
          ]
         ],
         "hovertemplate": "Family=%{customdata[0]}<br>Proportion=%{y}<extra></extra>",
         "legendgroup": "Acrididae",
         "marker": {
          "color": "#B6E880",
          "pattern": {
           "shape": ""
          }
         },
         "name": "Acrididae",
         "offsetgroup": "Acrididae",
         "orientation": "v",
         "showlegend": true,
         "textposition": "auto",
         "type": "bar",
         "x": [
          "ICCDRS"
         ],
         "xaxis": "x",
         "y": [
          0.004909319592648192
         ],
         "yaxis": "y"
        },
        {
         "alignmentgroup": "True",
         "customdata": [
          [
           "Calliphoridae"
          ]
         ],
         "hovertemplate": "Family=%{customdata[0]}<br>Proportion=%{y}<extra></extra>",
         "legendgroup": "Calliphoridae",
         "marker": {
          "color": "#FF97FF",
          "pattern": {
           "shape": ""
          }
         },
         "name": "Calliphoridae",
         "offsetgroup": "Calliphoridae",
         "orientation": "v",
         "showlegend": true,
         "textposition": "auto",
         "type": "bar",
         "x": [
          "ICCDRS"
         ],
         "xaxis": "x",
         "y": [
          0.004868746703452753
         ],
         "yaxis": "y"
        },
        {
         "alignmentgroup": "True",
         "customdata": [
          [
           "Scarabaeidae"
          ]
         ],
         "hovertemplate": "Family=%{customdata[0]}<br>Proportion=%{y}<extra></extra>",
         "legendgroup": "Scarabaeidae",
         "marker": {
          "color": "#FECB52",
          "pattern": {
           "shape": ""
          }
         },
         "name": "Scarabaeidae",
         "offsetgroup": "Scarabaeidae",
         "orientation": "v",
         "showlegend": true,
         "textposition": "auto",
         "type": "bar",
         "x": [
          "ICCDRS"
         ],
         "xaxis": "x",
         "y": [
          0.004828173814257313
         ],
         "yaxis": "y"
        },
        {
         "alignmentgroup": "True",
         "customdata": [
          [
           "Stereocaulaceae"
          ]
         ],
         "hovertemplate": "Family=%{customdata[0]}<br>Proportion=%{y}<extra></extra>",
         "legendgroup": "Stereocaulaceae",
         "marker": {
          "color": "#636efa",
          "pattern": {
           "shape": ""
          }
         },
         "name": "Stereocaulaceae",
         "offsetgroup": "Stereocaulaceae",
         "orientation": "v",
         "showlegend": true,
         "textposition": "auto",
         "type": "bar",
         "x": [
          "CDS"
         ],
         "xaxis": "x",
         "y": [
          0.004820503607892452
         ],
         "yaxis": "y"
        },
        {
         "alignmentgroup": "True",
         "customdata": [
          [
           "Muraenidae"
          ]
         ],
         "hovertemplate": "Family=%{customdata[0]}<br>Proportion=%{y}<extra></extra>",
         "legendgroup": "Muraenidae",
         "marker": {
          "color": "#EF553B",
          "pattern": {
           "shape": ""
          }
         },
         "name": "Muraenidae",
         "offsetgroup": "Muraenidae",
         "orientation": "v",
         "showlegend": true,
         "textposition": "auto",
         "type": "bar",
         "x": [
          "MCCDRS"
         ],
         "xaxis": "x",
         "y": [
          0.004801229114653352
         ],
         "yaxis": "y"
        },
        {
         "alignmentgroup": "True",
         "customdata": [
          [
           "Cassidae"
          ]
         ],
         "hovertemplate": "Family=%{customdata[0]}<br>Proportion=%{y}<extra></extra>",
         "legendgroup": "Cassidae",
         "marker": {
          "color": "#00cc96",
          "pattern": {
           "shape": ""
          }
         },
         "name": "Cassidae",
         "offsetgroup": "Cassidae",
         "orientation": "v",
         "showlegend": true,
         "textposition": "auto",
         "type": "bar",
         "x": [
          "MCCDRS"
         ],
         "xaxis": "x",
         "y": [
          0.004801229114653352
         ],
         "yaxis": "y"
        },
        {
         "alignmentgroup": "True",
         "customdata": [
          [
           "Mycalidae"
          ]
         ],
         "hovertemplate": "Family=%{customdata[0]}<br>Proportion=%{y}<extra></extra>",
         "legendgroup": "Mycalidae",
         "marker": {
          "color": "#ab63fa",
          "pattern": {
           "shape": ""
          }
         },
         "name": "Mycalidae",
         "offsetgroup": "Mycalidae",
         "orientation": "v",
         "showlegend": true,
         "textposition": "auto",
         "type": "bar",
         "x": [
          "MCCDRS"
         ],
         "xaxis": "x",
         "y": [
          0.004801229114653352
         ],
         "yaxis": "y"
        },
        {
         "alignmentgroup": "True",
         "customdata": [
          [
           "Hypogastruridae"
          ]
         ],
         "hovertemplate": "Family=%{customdata[0]}<br>Proportion=%{y}<extra></extra>",
         "legendgroup": "Hypogastruridae",
         "marker": {
          "color": "#FFA15A",
          "pattern": {
           "shape": ""
          }
         },
         "name": "Hypogastruridae",
         "offsetgroup": "Hypogastruridae",
         "orientation": "v",
         "showlegend": true,
         "textposition": "auto",
         "type": "bar",
         "x": [
          "ICCDRS"
         ],
         "xaxis": "x",
         "y": [
          0.004787600925061874
         ],
         "yaxis": "y"
        },
        {
         "alignmentgroup": "True",
         "customdata": [
          [
           "Lottiidae"
          ]
         ],
         "hovertemplate": "Family=%{customdata[0]}<br>Proportion=%{y}<extra></extra>",
         "legendgroup": "Lottiidae",
         "marker": {
          "color": "#19d3f3",
          "pattern": {
           "shape": ""
          }
         },
         "name": "Lottiidae",
         "offsetgroup": "Lottiidae",
         "orientation": "v",
         "showlegend": true,
         "textposition": "auto",
         "type": "bar",
         "x": [
          "MCCDRS"
         ],
         "xaxis": "x",
         "y": [
          0.004609179950067217
         ],
         "yaxis": "y"
        },
        {
         "alignmentgroup": "True",
         "customdata": [
          [
           "Savignyellidae"
          ]
         ],
         "hovertemplate": "Family=%{customdata[0]}<br>Proportion=%{y}<extra></extra>",
         "legendgroup": "Savignyellidae",
         "marker": {
          "color": "#FF6692",
          "pattern": {
           "shape": ""
          }
         },
         "name": "Savignyellidae",
         "offsetgroup": "Savignyellidae",
         "orientation": "v",
         "showlegend": true,
         "textposition": "auto",
         "type": "bar",
         "x": [
          "MCCDRS"
         ],
         "xaxis": "x",
         "y": [
          0.004609179950067217
         ],
         "yaxis": "y"
        },
        {
         "alignmentgroup": "True",
         "customdata": [
          [
           "Rhizangiidae"
          ]
         ],
         "hovertemplate": "Family=%{customdata[0]}<br>Proportion=%{y}<extra></extra>",
         "legendgroup": "Rhizangiidae",
         "marker": {
          "color": "#B6E880",
          "pattern": {
           "shape": ""
          }
         },
         "name": "Rhizangiidae",
         "offsetgroup": "Rhizangiidae",
         "orientation": "v",
         "showlegend": true,
         "textposition": "auto",
         "type": "bar",
         "x": [
          "MCCDRS"
         ],
         "xaxis": "x",
         "y": [
          0.004609179950067217
         ],
         "yaxis": "y"
        },
        {
         "alignmentgroup": "True",
         "customdata": [
          [
           "Penaeidae"
          ]
         ],
         "hovertemplate": "Family=%{customdata[0]}<br>Proportion=%{y}<extra></extra>",
         "legendgroup": "Penaeidae",
         "marker": {
          "color": "#FF97FF",
          "pattern": {
           "shape": ""
          }
         },
         "name": "Penaeidae",
         "offsetgroup": "Penaeidae",
         "orientation": "v",
         "showlegend": true,
         "textposition": "auto",
         "type": "bar",
         "x": [
          "MCCDRS"
         ],
         "xaxis": "x",
         "y": [
          0.004609179950067217
         ],
         "yaxis": "y"
        },
        {
         "alignmentgroup": "True",
         "customdata": [
          [
           "Isognomonidae"
          ]
         ],
         "hovertemplate": "Family=%{customdata[0]}<br>Proportion=%{y}<extra></extra>",
         "legendgroup": "Isognomonidae",
         "marker": {
          "color": "#FECB52",
          "pattern": {
           "shape": ""
          }
         },
         "name": "Isognomonidae",
         "offsetgroup": "Isognomonidae",
         "orientation": "v",
         "showlegend": true,
         "textposition": "auto",
         "type": "bar",
         "x": [
          "MCCDRS"
         ],
         "xaxis": "x",
         "y": [
          0.004609179950067217
         ],
         "yaxis": "y"
        },
        {
         "alignmentgroup": "True",
         "customdata": [
          [
           "Thelypteridaceae"
          ]
         ],
         "hovertemplate": "Family=%{customdata[0]}<br>Proportion=%{y}<extra></extra>",
         "legendgroup": "Thelypteridaceae",
         "marker": {
          "color": "#636efa",
          "pattern": {
           "shape": ""
          }
         },
         "name": "Thelypteridaceae",
         "offsetgroup": "Thelypteridaceae",
         "orientation": "v",
         "showlegend": true,
         "textposition": "auto",
         "type": "bar",
         "x": [
          "CDS"
         ],
         "xaxis": "x",
         "y": [
          0.0045210934459115545
         ],
         "yaxis": "y"
        },
        {
         "alignmentgroup": "True",
         "customdata": [
          [
           "Cucurbitaceae"
          ]
         ],
         "hovertemplate": "Family=%{customdata[0]}<br>Proportion=%{y}<extra></extra>",
         "legendgroup": "Cucurbitaceae",
         "marker": {
          "color": "#EF553B",
          "pattern": {
           "shape": ""
          }
         },
         "name": "Cucurbitaceae",
         "offsetgroup": "Cucurbitaceae",
         "orientation": "v",
         "showlegend": true,
         "textposition": "auto",
         "type": "bar",
         "x": [
          "CDS"
         ],
         "xaxis": "x",
         "y": [
          0.004461211413515374
         ],
         "yaxis": "y"
        },
        {
         "alignmentgroup": "True",
         "customdata": [
          [
           "Triviidae"
          ]
         ],
         "hovertemplate": "Family=%{customdata[0]}<br>Proportion=%{y}<extra></extra>",
         "legendgroup": "Triviidae",
         "marker": {
          "color": "#00cc96",
          "pattern": {
           "shape": ""
          }
         },
         "name": "Triviidae",
         "offsetgroup": "Triviidae",
         "orientation": "v",
         "showlegend": true,
         "textposition": "auto",
         "type": "bar",
         "x": [
          "MCCDRS"
         ],
         "xaxis": "x",
         "y": [
          0.004417130785481083
         ],
         "yaxis": "y"
        },
        {
         "alignmentgroup": "True",
         "customdata": [
          [
           "Pseudorhombilidae"
          ]
         ],
         "hovertemplate": "Family=%{customdata[0]}<br>Proportion=%{y}<extra></extra>",
         "legendgroup": "Pseudorhombilidae",
         "marker": {
          "color": "#ab63fa",
          "pattern": {
           "shape": ""
          }
         },
         "name": "Pseudorhombilidae",
         "offsetgroup": "Pseudorhombilidae",
         "orientation": "v",
         "showlegend": true,
         "textposition": "auto",
         "type": "bar",
         "x": [
          "MCCDRS"
         ],
         "xaxis": "x",
         "y": [
          0.004417130785481083
         ],
         "yaxis": "y"
        },
        {
         "alignmentgroup": "True",
         "customdata": [
          [
           "Rutaceae"
          ]
         ],
         "hovertemplate": "Family=%{customdata[0]}<br>Proportion=%{y}<extra></extra>",
         "legendgroup": "Rutaceae",
         "marker": {
          "color": "#FFA15A",
          "pattern": {
           "shape": ""
          }
         },
         "name": "Rutaceae",
         "offsetgroup": "Rutaceae",
         "orientation": "v",
         "showlegend": true,
         "textposition": "auto",
         "type": "bar",
         "x": [
          "CDS"
         ],
         "xaxis": "x",
         "y": [
          0.004341447348723016
         ],
         "yaxis": "y"
        },
        {
         "alignmentgroup": "True",
         "customdata": [
          [
           "Aizoaceae"
          ]
         ],
         "hovertemplate": "Family=%{customdata[0]}<br>Proportion=%{y}<extra></extra>",
         "legendgroup": "Aizoaceae",
         "marker": {
          "color": "#19d3f3",
          "pattern": {
           "shape": ""
          }
         },
         "name": "Aizoaceae",
         "offsetgroup": "Aizoaceae",
         "orientation": "v",
         "showlegend": true,
         "textposition": "auto",
         "type": "bar",
         "x": [
          "CDS"
         ],
         "xaxis": "x",
         "y": [
          0.004311506332524926
         ],
         "yaxis": "y"
        },
        {
         "alignmentgroup": "True",
         "customdata": [
          [
           "Polypodiaceae"
          ]
         ],
         "hovertemplate": "Family=%{customdata[0]}<br>Proportion=%{y}<extra></extra>",
         "legendgroup": "Polypodiaceae",
         "marker": {
          "color": "#FF6692",
          "pattern": {
           "shape": ""
          }
         },
         "name": "Polypodiaceae",
         "offsetgroup": "Polypodiaceae",
         "orientation": "v",
         "showlegend": true,
         "textposition": "auto",
         "type": "bar",
         "x": [
          "CDS"
         ],
         "xaxis": "x",
         "y": [
          0.004311506332524926
         ],
         "yaxis": "y"
        },
        {
         "alignmentgroup": "True",
         "customdata": [
          [
           "Caryophylliidae"
          ]
         ],
         "hovertemplate": "Family=%{customdata[0]}<br>Proportion=%{y}<extra></extra>",
         "legendgroup": "Caryophylliidae",
         "marker": {
          "color": "#B6E880",
          "pattern": {
           "shape": ""
          }
         },
         "name": "Caryophylliidae",
         "offsetgroup": "Caryophylliidae",
         "orientation": "v",
         "showlegend": true,
         "textposition": "auto",
         "type": "bar",
         "x": [
          "MCCDRS"
         ],
         "xaxis": "x",
         "y": [
          0.0042250816208949495
         ],
         "yaxis": "y"
        },
        {
         "alignmentgroup": "True",
         "customdata": [
          [
           "Actiniidae"
          ]
         ],
         "hovertemplate": "Family=%{customdata[0]}<br>Proportion=%{y}<extra></extra>",
         "legendgroup": "Actiniidae",
         "marker": {
          "color": "#FF97FF",
          "pattern": {
           "shape": ""
          }
         },
         "name": "Actiniidae",
         "offsetgroup": "Actiniidae",
         "orientation": "v",
         "showlegend": true,
         "textposition": "auto",
         "type": "bar",
         "x": [
          "MCCDRS"
         ],
         "xaxis": "x",
         "y": [
          0.0042250816208949495
         ],
         "yaxis": "y"
        },
        {
         "alignmentgroup": "True",
         "customdata": [
          [
           "Sepsidae"
          ]
         ],
         "hovertemplate": "Family=%{customdata[0]}<br>Proportion=%{y}<extra></extra>",
         "legendgroup": "Sepsidae",
         "marker": {
          "color": "#FECB52",
          "pattern": {
           "shape": ""
          }
         },
         "name": "Sepsidae",
         "offsetgroup": "Sepsidae",
         "orientation": "v",
         "showlegend": true,
         "textposition": "auto",
         "type": "bar",
         "x": [
          "ICCDRS"
         ],
         "xaxis": "x",
         "y": [
          0.0041790075871302795
         ],
         "yaxis": "y"
        },
        {
         "alignmentgroup": "True",
         "customdata": [
          [
           "Oxalidaceae"
          ]
         ],
         "hovertemplate": "Family=%{customdata[0]}<br>Proportion=%{y}<extra></extra>",
         "legendgroup": "Oxalidaceae",
         "marker": {
          "color": "#636efa",
          "pattern": {
           "shape": ""
          }
         },
         "name": "Oxalidaceae",
         "offsetgroup": "Oxalidaceae",
         "orientation": "v",
         "showlegend": true,
         "textposition": "auto",
         "type": "bar",
         "x": [
          "CDS"
         ],
         "xaxis": "x",
         "y": [
          0.004101919219138298
         ],
         "yaxis": "y"
        },
        {
         "alignmentgroup": "True",
         "customdata": [
          [
           "Urticaceae"
          ]
         ],
         "hovertemplate": "Family=%{customdata[0]}<br>Proportion=%{y}<extra></extra>",
         "legendgroup": "Urticaceae",
         "marker": {
          "color": "#EF553B",
          "pattern": {
           "shape": ""
          }
         },
         "name": "Urticaceae",
         "offsetgroup": "Urticaceae",
         "orientation": "v",
         "showlegend": true,
         "textposition": "auto",
         "type": "bar",
         "x": [
          "CDS"
         ],
         "xaxis": "x",
         "y": [
          0.004042037186742118
         ],
         "yaxis": "y"
        },
        {
         "alignmentgroup": "True",
         "customdata": [
          [
           "Coccocarpiaceae"
          ]
         ],
         "hovertemplate": "Family=%{customdata[0]}<br>Proportion=%{y}<extra></extra>",
         "legendgroup": "Coccocarpiaceae",
         "marker": {
          "color": "#00cc96",
          "pattern": {
           "shape": ""
          }
         },
         "name": "Coccocarpiaceae",
         "offsetgroup": "Coccocarpiaceae",
         "orientation": "v",
         "showlegend": true,
         "textposition": "auto",
         "type": "bar",
         "x": [
          "CDS"
         ],
         "xaxis": "x",
         "y": [
          0.004042037186742118
         ],
         "yaxis": "y"
        },
        {
         "alignmentgroup": "True",
         "customdata": [
          [
           "Ophidiasteridae"
          ]
         ],
         "hovertemplate": "Family=%{customdata[0]}<br>Proportion=%{y}<extra></extra>",
         "legendgroup": "Ophidiasteridae",
         "marker": {
          "color": "#ab63fa",
          "pattern": {
           "shape": ""
          }
         },
         "name": "Ophidiasteridae",
         "offsetgroup": "Ophidiasteridae",
         "orientation": "v",
         "showlegend": true,
         "textposition": "auto",
         "type": "bar",
         "x": [
          "MCCDRS"
         ],
         "xaxis": "x",
         "y": [
          0.004033032456308815
         ],
         "yaxis": "y"
        },
        {
         "alignmentgroup": "True",
         "customdata": [
          [
           "Carangidae"
          ]
         ],
         "hovertemplate": "Family=%{customdata[0]}<br>Proportion=%{y}<extra></extra>",
         "legendgroup": "Carangidae",
         "marker": {
          "color": "#FFA15A",
          "pattern": {
           "shape": ""
          }
         },
         "name": "Carangidae",
         "offsetgroup": "Carangidae",
         "orientation": "v",
         "showlegend": true,
         "textposition": "auto",
         "type": "bar",
         "x": [
          "MCCDRS"
         ],
         "xaxis": "x",
         "y": [
          0.004033032456308815
         ],
         "yaxis": "y"
        },
        {
         "alignmentgroup": "True",
         "customdata": [
          [
           "Tingidae"
          ]
         ],
         "hovertemplate": "Family=%{customdata[0]}<br>Proportion=%{y}<extra></extra>",
         "legendgroup": "Tingidae",
         "marker": {
          "color": "#19d3f3",
          "pattern": {
           "shape": ""
          }
         },
         "name": "Tingidae",
         "offsetgroup": "Tingidae",
         "orientation": "v",
         "showlegend": true,
         "textposition": "auto",
         "type": "bar",
         "x": [
          "ICCDRS"
         ],
         "xaxis": "x",
         "y": [
          0.0040167160303485215
         ],
         "yaxis": "y"
        },
        {
         "alignmentgroup": "True",
         "customdata": [
          [
           "Spirostreptidae"
          ]
         ],
         "hovertemplate": "Family=%{customdata[0]}<br>Proportion=%{y}<extra></extra>",
         "legendgroup": "Spirostreptidae",
         "marker": {
          "color": "#FF6692",
          "pattern": {
           "shape": ""
          }
         },
         "name": "Spirostreptidae",
         "offsetgroup": "Spirostreptidae",
         "orientation": "v",
         "showlegend": true,
         "textposition": "auto",
         "type": "bar",
         "x": [
          "ICCDRS"
         ],
         "xaxis": "x",
         "y": [
          0.0040167160303485215
         ],
         "yaxis": "y"
        },
        {
         "alignmentgroup": "True",
         "customdata": [
          [
           "Gomphillaceae"
          ]
         ],
         "hovertemplate": "Family=%{customdata[0]}<br>Proportion=%{y}<extra></extra>",
         "legendgroup": "Gomphillaceae",
         "marker": {
          "color": "#B6E880",
          "pattern": {
           "shape": ""
          }
         },
         "name": "Gomphillaceae",
         "offsetgroup": "Gomphillaceae",
         "orientation": "v",
         "showlegend": true,
         "textposition": "auto",
         "type": "bar",
         "x": [
          "CDS"
         ],
         "xaxis": "x",
         "y": [
          0.003982155154345938
         ],
         "yaxis": "y"
        },
        {
         "alignmentgroup": "True",
         "customdata": [
          [
           "Piperaceae"
          ]
         ],
         "hovertemplate": "Family=%{customdata[0]}<br>Proportion=%{y}<extra></extra>",
         "legendgroup": "Piperaceae",
         "marker": {
          "color": "#FF97FF",
          "pattern": {
           "shape": ""
          }
         },
         "name": "Piperaceae",
         "offsetgroup": "Piperaceae",
         "orientation": "v",
         "showlegend": true,
         "textposition": "auto",
         "type": "bar",
         "x": [
          "CDS"
         ],
         "xaxis": "x",
         "y": [
          0.003982155154345938
         ],
         "yaxis": "y"
        },
        {
         "alignmentgroup": "True",
         "customdata": [
          [
           "Felidae"
          ]
         ],
         "hovertemplate": "Family=%{customdata[0]}<br>Proportion=%{y}<extra></extra>",
         "legendgroup": "Felidae",
         "marker": {
          "color": "#FECB52",
          "pattern": {
           "shape": ""
          }
         },
         "name": "Felidae",
         "offsetgroup": "Felidae",
         "orientation": "v",
         "showlegend": true,
         "textposition": "auto",
         "type": "bar",
         "x": [
          "VCCDRS"
         ],
         "xaxis": "x",
         "y": [
          0.003968253968253968
         ],
         "yaxis": "y"
        },
        {
         "alignmentgroup": "True",
         "customdata": [
          [
           "Simaroubaceae"
          ]
         ],
         "hovertemplate": "Family=%{customdata[0]}<br>Proportion=%{y}<extra></extra>",
         "legendgroup": "Simaroubaceae",
         "marker": {
          "color": "#636efa",
          "pattern": {
           "shape": ""
          }
         },
         "name": "Simaroubaceae",
         "offsetgroup": "Simaroubaceae",
         "orientation": "v",
         "showlegend": true,
         "textposition": "auto",
         "type": "bar",
         "x": [
          "CDS"
         ],
         "xaxis": "x",
         "y": [
          0.003952214138147849
         ],
         "yaxis": "y"
        },
        {
         "alignmentgroup": "True",
         "customdata": [
          [
           "Armadillidae"
          ]
         ],
         "hovertemplate": "Family=%{customdata[0]}<br>Proportion=%{y}<extra></extra>",
         "legendgroup": "Armadillidae",
         "marker": {
          "color": "#EF553B",
          "pattern": {
           "shape": ""
          }
         },
         "name": "Armadillidae",
         "offsetgroup": "Armadillidae",
         "orientation": "v",
         "showlegend": true,
         "textposition": "auto",
         "type": "bar",
         "x": [
          "ICCDRS"
         ],
         "xaxis": "x",
         "y": [
          0.003935570251957642
         ],
         "yaxis": "y"
        },
        {
         "alignmentgroup": "True",
         "customdata": [
          [
           "Entomobryidae"
          ]
         ],
         "hovertemplate": "Family=%{customdata[0]}<br>Proportion=%{y}<extra></extra>",
         "legendgroup": "Entomobryidae",
         "marker": {
          "color": "#00cc96",
          "pattern": {
           "shape": ""
          }
         },
         "name": "Entomobryidae",
         "offsetgroup": "Entomobryidae",
         "orientation": "v",
         "showlegend": true,
         "textposition": "auto",
         "type": "bar",
         "x": [
          "ICCDRS"
         ],
         "xaxis": "x",
         "y": [
          0.003894997362762202
         ],
         "yaxis": "y"
        },
        {
         "alignmentgroup": "True",
         "customdata": [
          [
           "Agromyzidae"
          ]
         ],
         "hovertemplate": "Family=%{customdata[0]}<br>Proportion=%{y}<extra></extra>",
         "legendgroup": "Agromyzidae",
         "marker": {
          "color": "#ab63fa",
          "pattern": {
           "shape": ""
          }
         },
         "name": "Agromyzidae",
         "offsetgroup": "Agromyzidae",
         "orientation": "v",
         "showlegend": true,
         "textposition": "auto",
         "type": "bar",
         "x": [
          "ICCDRS"
         ],
         "xaxis": "x",
         "y": [
          0.003894997362762202
         ],
         "yaxis": "y"
        },
        {
         "alignmentgroup": "True",
         "customdata": [
          [
           "Araceae"
          ]
         ],
         "hovertemplate": "Family=%{customdata[0]}<br>Proportion=%{y}<extra></extra>",
         "legendgroup": "Araceae",
         "marker": {
          "color": "#FFA15A",
          "pattern": {
           "shape": ""
          }
         },
         "name": "Araceae",
         "offsetgroup": "Araceae",
         "orientation": "v",
         "showlegend": true,
         "textposition": "auto",
         "type": "bar",
         "x": [
          "CDS"
         ],
         "xaxis": "x",
         "y": [
          0.0038923321057516692
         ],
         "yaxis": "y"
        },
        {
         "alignmentgroup": "True",
         "customdata": [
          [
           "Celastraceae"
          ]
         ],
         "hovertemplate": "Family=%{customdata[0]}<br>Proportion=%{y}<extra></extra>",
         "legendgroup": "Celastraceae",
         "marker": {
          "color": "#19d3f3",
          "pattern": {
           "shape": ""
          }
         },
         "name": "Celastraceae",
         "offsetgroup": "Celastraceae",
         "orientation": "v",
         "showlegend": true,
         "textposition": "auto",
         "type": "bar",
         "x": [
          "CDS"
         ],
         "xaxis": "x",
         "y": [
          0.0038923321057516692
         ],
         "yaxis": "y"
        },
        {
         "alignmentgroup": "True",
         "customdata": [
          [
           "Naticidae"
          ]
         ],
         "hovertemplate": "Family=%{customdata[0]}<br>Proportion=%{y}<extra></extra>",
         "legendgroup": "Naticidae",
         "marker": {
          "color": "#FF6692",
          "pattern": {
           "shape": ""
          }
         },
         "name": "Naticidae",
         "offsetgroup": "Naticidae",
         "orientation": "v",
         "showlegend": true,
         "textposition": "auto",
         "type": "bar",
         "x": [
          "MCCDRS"
         ],
         "xaxis": "x",
         "y": [
          0.003840983291722681
         ],
         "yaxis": "y"
        },
        {
         "alignmentgroup": "True",
         "customdata": [
          [
           "Cidaridae"
          ]
         ],
         "hovertemplate": "Family=%{customdata[0]}<br>Proportion=%{y}<extra></extra>",
         "legendgroup": "Cidaridae",
         "marker": {
          "color": "#B6E880",
          "pattern": {
           "shape": ""
          }
         },
         "name": "Cidaridae",
         "offsetgroup": "Cidaridae",
         "orientation": "v",
         "showlegend": true,
         "textposition": "auto",
         "type": "bar",
         "x": [
          "MCCDRS"
         ],
         "xaxis": "x",
         "y": [
          0.003840983291722681
         ],
         "yaxis": "y"
        },
        {
         "alignmentgroup": "True",
         "customdata": [
          [
           "Chamidae"
          ]
         ],
         "hovertemplate": "Family=%{customdata[0]}<br>Proportion=%{y}<extra></extra>",
         "legendgroup": "Chamidae",
         "marker": {
          "color": "#FF97FF",
          "pattern": {
           "shape": ""
          }
         },
         "name": "Chamidae",
         "offsetgroup": "Chamidae",
         "orientation": "v",
         "showlegend": true,
         "textposition": "auto",
         "type": "bar",
         "x": [
          "MCCDRS"
         ],
         "xaxis": "x",
         "y": [
          0.003840983291722681
         ],
         "yaxis": "y"
        },
        {
         "alignmentgroup": "True",
         "customdata": [
          [
           "Campanulariidae"
          ]
         ],
         "hovertemplate": "Family=%{customdata[0]}<br>Proportion=%{y}<extra></extra>",
         "legendgroup": "Campanulariidae",
         "marker": {
          "color": "#FECB52",
          "pattern": {
           "shape": ""
          }
         },
         "name": "Campanulariidae",
         "offsetgroup": "Campanulariidae",
         "orientation": "v",
         "showlegend": true,
         "textposition": "auto",
         "type": "bar",
         "x": [
          "MCCDRS"
         ],
         "xaxis": "x",
         "y": [
          0.003840983291722681
         ],
         "yaxis": "y"
        },
        {
         "alignmentgroup": "True",
         "customdata": [
          [
           "Gobiidae"
          ]
         ],
         "hovertemplate": "Family=%{customdata[0]}<br>Proportion=%{y}<extra></extra>",
         "legendgroup": "Gobiidae",
         "marker": {
          "color": "#636efa",
          "pattern": {
           "shape": ""
          }
         },
         "name": "Gobiidae",
         "offsetgroup": "Gobiidae",
         "orientation": "v",
         "showlegend": true,
         "textposition": "auto",
         "type": "bar",
         "x": [
          "MCCDRS"
         ],
         "xaxis": "x",
         "y": [
          0.003840983291722681
         ],
         "yaxis": "y"
        },
        {
         "alignmentgroup": "True",
         "customdata": [
          [
           "Paguridae"
          ]
         ],
         "hovertemplate": "Family=%{customdata[0]}<br>Proportion=%{y}<extra></extra>",
         "legendgroup": "Paguridae",
         "marker": {
          "color": "#EF553B",
          "pattern": {
           "shape": ""
          }
         },
         "name": "Paguridae",
         "offsetgroup": "Paguridae",
         "orientation": "v",
         "showlegend": true,
         "textposition": "auto",
         "type": "bar",
         "x": [
          "MCCDRS"
         ],
         "xaxis": "x",
         "y": [
          0.003840983291722681
         ],
         "yaxis": "y"
        },
        {
         "alignmentgroup": "True",
         "customdata": [
          [
           "Portulacaceae"
          ]
         ],
         "hovertemplate": "Family=%{customdata[0]}<br>Proportion=%{y}<extra></extra>",
         "legendgroup": "Portulacaceae",
         "marker": {
          "color": "#00cc96",
          "pattern": {
           "shape": ""
          }
         },
         "name": "Portulacaceae",
         "offsetgroup": "Portulacaceae",
         "orientation": "v",
         "showlegend": true,
         "textposition": "auto",
         "type": "bar",
         "x": [
          "CDS"
         ],
         "xaxis": "x",
         "y": [
          0.0038025090571574
         ],
         "yaxis": "y"
        },
        {
         "alignmentgroup": "True",
         "customdata": [
          [
           "Cosmopterigidae"
          ]
         ],
         "hovertemplate": "Family=%{customdata[0]}<br>Proportion=%{y}<extra></extra>",
         "legendgroup": "Cosmopterigidae",
         "marker": {
          "color": "#ab63fa",
          "pattern": {
           "shape": ""
          }
         },
         "name": "Cosmopterigidae",
         "offsetgroup": "Cosmopterigidae",
         "orientation": "v",
         "showlegend": true,
         "textposition": "auto",
         "type": "bar",
         "x": [
          "ICCDRS"
         ],
         "xaxis": "x",
         "y": [
          0.0037732786951758836
         ],
         "yaxis": "y"
        },
        {
         "alignmentgroup": "True",
         "customdata": [
          [
           "Rosaceae"
          ]
         ],
         "hovertemplate": "Family=%{customdata[0]}<br>Proportion=%{y}<extra></extra>",
         "legendgroup": "Rosaceae",
         "marker": {
          "color": "#FFA15A",
          "pattern": {
           "shape": ""
          }
         },
         "name": "Rosaceae",
         "offsetgroup": "Rosaceae",
         "orientation": "v",
         "showlegend": true,
         "textposition": "auto",
         "type": "bar",
         "x": [
          "CDS"
         ],
         "xaxis": "x",
         "y": [
          0.00377256804095931
         ],
         "yaxis": "y"
        },
        {
         "alignmentgroup": "True",
         "customdata": [
          [
           "Lobariaceae"
          ]
         ],
         "hovertemplate": "Family=%{customdata[0]}<br>Proportion=%{y}<extra></extra>",
         "legendgroup": "Lobariaceae",
         "marker": {
          "color": "#19d3f3",
          "pattern": {
           "shape": ""
          }
         },
         "name": "Lobariaceae",
         "offsetgroup": "Lobariaceae",
         "orientation": "v",
         "showlegend": true,
         "textposition": "auto",
         "type": "bar",
         "x": [
          "CDS"
         ],
         "xaxis": "x",
         "y": [
          0.003652803976166951
         ],
         "yaxis": "y"
        },
        {
         "alignmentgroup": "True",
         "customdata": [
          [
           "Nabidae"
          ]
         ],
         "hovertemplate": "Family=%{customdata[0]}<br>Proportion=%{y}<extra></extra>",
         "legendgroup": "Nabidae",
         "marker": {
          "color": "#FF6692",
          "pattern": {
           "shape": ""
          }
         },
         "name": "Nabidae",
         "offsetgroup": "Nabidae",
         "orientation": "v",
         "showlegend": true,
         "textposition": "auto",
         "type": "bar",
         "x": [
          "ICCDRS"
         ],
         "xaxis": "x",
         "y": [
          0.0036515600275895646
         ],
         "yaxis": "y"
        },
        {
         "alignmentgroup": "True",
         "customdata": [
          [
           "Epitoniidae"
          ]
         ],
         "hovertemplate": "Family=%{customdata[0]}<br>Proportion=%{y}<extra></extra>",
         "legendgroup": "Epitoniidae",
         "marker": {
          "color": "#B6E880",
          "pattern": {
           "shape": ""
          }
         },
         "name": "Epitoniidae",
         "offsetgroup": "Epitoniidae",
         "orientation": "v",
         "showlegend": true,
         "textposition": "auto",
         "type": "bar",
         "x": [
          "MCCDRS"
         ],
         "xaxis": "x",
         "y": [
          0.003648934127136547
         ],
         "yaxis": "y"
        },
        {
         "alignmentgroup": "True",
         "customdata": [
          [
           "Rissoinidae"
          ]
         ],
         "hovertemplate": "Family=%{customdata[0]}<br>Proportion=%{y}<extra></extra>",
         "legendgroup": "Rissoinidae",
         "marker": {
          "color": "#FF97FF",
          "pattern": {
           "shape": ""
          }
         },
         "name": "Rissoinidae",
         "offsetgroup": "Rissoinidae",
         "orientation": "v",
         "showlegend": true,
         "textposition": "auto",
         "type": "bar",
         "x": [
          "MCCDRS"
         ],
         "xaxis": "x",
         "y": [
          0.003648934127136547
         ],
         "yaxis": "y"
        },
        {
         "alignmentgroup": "True",
         "customdata": [
          [
           "Tellinidae"
          ]
         ],
         "hovertemplate": "Family=%{customdata[0]}<br>Proportion=%{y}<extra></extra>",
         "legendgroup": "Tellinidae",
         "marker": {
          "color": "#FECB52",
          "pattern": {
           "shape": ""
          }
         },
         "name": "Tellinidae",
         "offsetgroup": "Tellinidae",
         "orientation": "v",
         "showlegend": true,
         "textposition": "auto",
         "type": "bar",
         "x": [
          "MCCDRS"
         ],
         "xaxis": "x",
         "y": [
          0.003648934127136547
         ],
         "yaxis": "y"
        },
        {
         "alignmentgroup": "True",
         "customdata": [
          [
           "Litiopidae"
          ]
         ],
         "hovertemplate": "Family=%{customdata[0]}<br>Proportion=%{y}<extra></extra>",
         "legendgroup": "Litiopidae",
         "marker": {
          "color": "#636efa",
          "pattern": {
           "shape": ""
          }
         },
         "name": "Litiopidae",
         "offsetgroup": "Litiopidae",
         "orientation": "v",
         "showlegend": true,
         "textposition": "auto",
         "type": "bar",
         "x": [
          "MCCDRS"
         ],
         "xaxis": "x",
         "y": [
          0.003648934127136547
         ],
         "yaxis": "y"
        },
        {
         "alignmentgroup": "True",
         "customdata": [
          [
           "Brassicaceae"
          ]
         ],
         "hovertemplate": "Family=%{customdata[0]}<br>Proportion=%{y}<extra></extra>",
         "legendgroup": "Brassicaceae",
         "marker": {
          "color": "#EF553B",
          "pattern": {
           "shape": ""
          }
         },
         "name": "Brassicaceae",
         "offsetgroup": "Brassicaceae",
         "orientation": "v",
         "showlegend": true,
         "textposition": "auto",
         "type": "bar",
         "x": [
          "CDS"
         ],
         "xaxis": "x",
         "y": [
          0.0035929219437707714
         ],
         "yaxis": "y"
        },
        {
         "alignmentgroup": "True",
         "customdata": [
          [
           "Delphacidae"
          ]
         ],
         "hovertemplate": "Family=%{customdata[0]}<br>Proportion=%{y}<extra></extra>",
         "legendgroup": "Delphacidae",
         "marker": {
          "color": "#00cc96",
          "pattern": {
           "shape": ""
          }
         },
         "name": "Delphacidae",
         "offsetgroup": "Delphacidae",
         "orientation": "v",
         "showlegend": true,
         "textposition": "auto",
         "type": "bar",
         "x": [
          "ICCDRS"
         ],
         "xaxis": "x",
         "y": [
          0.0035704142491986856
         ],
         "yaxis": "y"
        },
        {
         "alignmentgroup": "True",
         "customdata": [
          [
           "Chrysopidae"
          ]
         ],
         "hovertemplate": "Family=%{customdata[0]}<br>Proportion=%{y}<extra></extra>",
         "legendgroup": "Chrysopidae",
         "marker": {
          "color": "#ab63fa",
          "pattern": {
           "shape": ""
          }
         },
         "name": "Chrysopidae",
         "offsetgroup": "Chrysopidae",
         "orientation": "v",
         "showlegend": true,
         "textposition": "auto",
         "type": "bar",
         "x": [
          "ICCDRS"
         ],
         "xaxis": "x",
         "y": [
          0.0035704142491986856
         ],
         "yaxis": "y"
        },
        {
         "alignmentgroup": "True",
         "customdata": [
          [
           "Ellobiidae"
          ]
         ],
         "hovertemplate": "Family=%{customdata[0]}<br>Proportion=%{y}<extra></extra>",
         "legendgroup": "Ellobiidae",
         "marker": {
          "color": "#FFA15A",
          "pattern": {
           "shape": ""
          }
         },
         "name": "Ellobiidae",
         "offsetgroup": "Ellobiidae",
         "orientation": "v",
         "showlegend": true,
         "textposition": "auto",
         "type": "bar",
         "x": [
          "MCCDRS"
         ],
         "xaxis": "x",
         "y": [
          0.003456884962550413
         ],
         "yaxis": "y"
        },
        {
         "alignmentgroup": "True",
         "customdata": [
          [
           "Serpulidae"
          ]
         ],
         "hovertemplate": "Family=%{customdata[0]}<br>Proportion=%{y}<extra></extra>",
         "legendgroup": "Serpulidae",
         "marker": {
          "color": "#19d3f3",
          "pattern": {
           "shape": ""
          }
         },
         "name": "Serpulidae",
         "offsetgroup": "Serpulidae",
         "orientation": "v",
         "showlegend": true,
         "textposition": "auto",
         "type": "bar",
         "x": [
          "MCCDRS"
         ],
         "xaxis": "x",
         "y": [
          0.003456884962550413
         ],
         "yaxis": "y"
        },
        {
         "alignmentgroup": "True",
         "customdata": [
          [
           "Chitonidae"
          ]
         ],
         "hovertemplate": "Family=%{customdata[0]}<br>Proportion=%{y}<extra></extra>",
         "legendgroup": "Chitonidae",
         "marker": {
          "color": "#FF6692",
          "pattern": {
           "shape": ""
          }
         },
         "name": "Chitonidae",
         "offsetgroup": "Chitonidae",
         "orientation": "v",
         "showlegend": true,
         "textposition": "auto",
         "type": "bar",
         "x": [
          "MCCDRS"
         ],
         "xaxis": "x",
         "y": [
          0.003456884962550413
         ],
         "yaxis": "y"
        },
        {
         "alignmentgroup": "True",
         "customdata": [
          [
           "Inachoididae"
          ]
         ],
         "hovertemplate": "Family=%{customdata[0]}<br>Proportion=%{y}<extra></extra>",
         "legendgroup": "Inachoididae",
         "marker": {
          "color": "#B6E880",
          "pattern": {
           "shape": ""
          }
         },
         "name": "Inachoididae",
         "offsetgroup": "Inachoididae",
         "orientation": "v",
         "showlegend": true,
         "textposition": "auto",
         "type": "bar",
         "x": [
          "MCCDRS"
         ],
         "xaxis": "x",
         "y": [
          0.003456884962550413
         ],
         "yaxis": "y"
        },
        {
         "alignmentgroup": "True",
         "customdata": [
          [
           "Cydnidae"
          ]
         ],
         "hovertemplate": "Family=%{customdata[0]}<br>Proportion=%{y}<extra></extra>",
         "legendgroup": "Cydnidae",
         "marker": {
          "color": "#FF97FF",
          "pattern": {
           "shape": ""
          }
         },
         "name": "Cydnidae",
         "offsetgroup": "Cydnidae",
         "orientation": "v",
         "showlegend": true,
         "textposition": "auto",
         "type": "bar",
         "x": [
          "ICCDRS"
         ],
         "xaxis": "x",
         "y": [
          0.0034486955816123667
         ],
         "yaxis": "y"
        },
        {
         "alignmentgroup": "True",
         "customdata": [
          [
           "Dryopteridaceae"
          ]
         ],
         "hovertemplate": "Family=%{customdata[0]}<br>Proportion=%{y}<extra></extra>",
         "legendgroup": "Dryopteridaceae",
         "marker": {
          "color": "#FECB52",
          "pattern": {
           "shape": ""
          }
         },
         "name": "Dryopteridaceae",
         "offsetgroup": "Dryopteridaceae",
         "orientation": "v",
         "showlegend": true,
         "textposition": "auto",
         "type": "bar",
         "x": [
          "CDS"
         ],
         "xaxis": "x",
         "y": [
          0.0034432168627803227
         ],
         "yaxis": "y"
        },
        {
         "alignmentgroup": "True",
         "customdata": [
          [
           "Chloropidae"
          ]
         ],
         "hovertemplate": "Family=%{customdata[0]}<br>Proportion=%{y}<extra></extra>",
         "legendgroup": "Chloropidae",
         "marker": {
          "color": "#636efa",
          "pattern": {
           "shape": ""
          }
         },
         "name": "Chloropidae",
         "offsetgroup": "Chloropidae",
         "orientation": "v",
         "showlegend": true,
         "textposition": "auto",
         "type": "bar",
         "x": [
          "ICCDRS"
         ],
         "xaxis": "x",
         "y": [
          0.003367549803221487
         ],
         "yaxis": "y"
        },
        {
         "alignmentgroup": "True",
         "customdata": [
          [
           "Lejeuneaceae"
          ]
         ],
         "hovertemplate": "Family=%{customdata[0]}<br>Proportion=%{y}<extra></extra>",
         "legendgroup": "Lejeuneaceae",
         "marker": {
          "color": "#EF553B",
          "pattern": {
           "shape": ""
          }
         },
         "name": "Lejeuneaceae",
         "offsetgroup": "Lejeuneaceae",
         "orientation": "v",
         "showlegend": true,
         "textposition": "auto",
         "type": "bar",
         "x": [
          "CDS"
         ],
         "xaxis": "x",
         "y": [
          0.0033234527979879636
         ],
         "yaxis": "y"
        },
        {
         "alignmentgroup": "True",
         "customdata": [
          [
           "Chalcididae"
          ]
         ],
         "hovertemplate": "Family=%{customdata[0]}<br>Proportion=%{y}<extra></extra>",
         "legendgroup": "Chalcididae",
         "marker": {
          "color": "#00cc96",
          "pattern": {
           "shape": ""
          }
         },
         "name": "Chalcididae",
         "offsetgroup": "Chalcididae",
         "orientation": "v",
         "showlegend": true,
         "textposition": "auto",
         "type": "bar",
         "x": [
          "ICCDRS"
         ],
         "xaxis": "x",
         "y": [
          0.003286404024830608
         ],
         "yaxis": "y"
        },
        {
         "alignmentgroup": "True",
         "customdata": [
          [
           "Carditidae"
          ]
         ],
         "hovertemplate": "Family=%{customdata[0]}<br>Proportion=%{y}<extra></extra>",
         "legendgroup": "Carditidae",
         "marker": {
          "color": "#ab63fa",
          "pattern": {
           "shape": ""
          }
         },
         "name": "Carditidae",
         "offsetgroup": "Carditidae",
         "orientation": "v",
         "showlegend": true,
         "textposition": "auto",
         "type": "bar",
         "x": [
          "MCCDRS"
         ],
         "xaxis": "x",
         "y": [
          0.0032648357979642786
         ],
         "yaxis": "y"
        },
        {
         "alignmentgroup": "True",
         "customdata": [
          [
           "Pennariidae"
          ],
          [
           "Pennariidae"
          ]
         ],
         "hovertemplate": "Family=%{customdata[0]}<br>Proportion=%{y}<extra></extra>",
         "legendgroup": "Pennariidae",
         "marker": {
          "color": "#FFA15A",
          "pattern": {
           "shape": ""
          }
         },
         "name": "Pennariidae",
         "offsetgroup": "Pennariidae",
         "orientation": "v",
         "showlegend": true,
         "textposition": "auto",
         "type": "bar",
         "x": [
          "MCCDRS",
          "CDS"
         ],
         "xaxis": "x",
         "y": [
          0.0032648357979642786,
          0.00002994101619808976
         ],
         "yaxis": "y"
        },
        {
         "alignmentgroup": "True",
         "customdata": [
          [
           "Grapsidae"
          ]
         ],
         "hovertemplate": "Family=%{customdata[0]}<br>Proportion=%{y}<extra></extra>",
         "legendgroup": "Grapsidae",
         "marker": {
          "color": "#19d3f3",
          "pattern": {
           "shape": ""
          }
         },
         "name": "Grapsidae",
         "offsetgroup": "Grapsidae",
         "orientation": "v",
         "showlegend": true,
         "textposition": "auto",
         "type": "bar",
         "x": [
          "MCCDRS"
         ],
         "xaxis": "x",
         "y": [
          0.0032648357979642786
         ],
         "yaxis": "y"
        },
        {
         "alignmentgroup": "True",
         "customdata": [
          [
           "Gonodactylidae"
          ]
         ],
         "hovertemplate": "Family=%{customdata[0]}<br>Proportion=%{y}<extra></extra>",
         "legendgroup": "Gonodactylidae",
         "marker": {
          "color": "#FF6692",
          "pattern": {
           "shape": ""
          }
         },
         "name": "Gonodactylidae",
         "offsetgroup": "Gonodactylidae",
         "orientation": "v",
         "showlegend": true,
         "textposition": "auto",
         "type": "bar",
         "x": [
          "MCCDRS"
         ],
         "xaxis": "x",
         "y": [
          0.0032648357979642786
         ],
         "yaxis": "y"
        },
        {
         "alignmentgroup": "True",
         "customdata": [
          [
           "Noetiidae"
          ]
         ],
         "hovertemplate": "Family=%{customdata[0]}<br>Proportion=%{y}<extra></extra>",
         "legendgroup": "Noetiidae",
         "marker": {
          "color": "#B6E880",
          "pattern": {
           "shape": ""
          }
         },
         "name": "Noetiidae",
         "offsetgroup": "Noetiidae",
         "orientation": "v",
         "showlegend": true,
         "textposition": "auto",
         "type": "bar",
         "x": [
          "MCCDRS"
         ],
         "xaxis": "x",
         "y": [
          0.0032648357979642786
         ],
         "yaxis": "y"
        },
        {
         "alignmentgroup": "True",
         "customdata": [
          [
           "Semelidae"
          ]
         ],
         "hovertemplate": "Family=%{customdata[0]}<br>Proportion=%{y}<extra></extra>",
         "legendgroup": "Semelidae",
         "marker": {
          "color": "#FF97FF",
          "pattern": {
           "shape": ""
          }
         },
         "name": "Semelidae",
         "offsetgroup": "Semelidae",
         "orientation": "v",
         "showlegend": true,
         "textposition": "auto",
         "type": "bar",
         "x": [
          "MCCDRS"
         ],
         "xaxis": "x",
         "y": [
          0.0032648357979642786
         ],
         "yaxis": "y"
        },
        {
         "alignmentgroup": "True",
         "customdata": [
          [
           "Gelechiidae"
          ]
         ],
         "hovertemplate": "Family=%{customdata[0]}<br>Proportion=%{y}<extra></extra>",
         "legendgroup": "Gelechiidae",
         "marker": {
          "color": "#FECB52",
          "pattern": {
           "shape": ""
          }
         },
         "name": "Gelechiidae",
         "offsetgroup": "Gelechiidae",
         "orientation": "v",
         "showlegend": true,
         "textposition": "auto",
         "type": "bar",
         "x": [
          "ICCDRS"
         ],
         "xaxis": "x",
         "y": [
          0.0032458311356351687
         ],
         "yaxis": "y"
        },
        {
         "alignmentgroup": "True",
         "customdata": [
          [
           "Zygophyllaceae"
          ]
         ],
         "hovertemplate": "Family=%{customdata[0]}<br>Proportion=%{y}<extra></extra>",
         "legendgroup": "Zygophyllaceae",
         "marker": {
          "color": "#636efa",
          "pattern": {
           "shape": ""
          }
         },
         "name": "Zygophyllaceae",
         "offsetgroup": "Zygophyllaceae",
         "orientation": "v",
         "showlegend": true,
         "textposition": "auto",
         "type": "bar",
         "x": [
          "CDS"
         ],
         "xaxis": "x",
         "y": [
          0.0032336297493936943
         ],
         "yaxis": "y"
        },
        {
         "alignmentgroup": "True",
         "customdata": [
          [
           "Commelinaceae"
          ]
         ],
         "hovertemplate": "Family=%{customdata[0]}<br>Proportion=%{y}<extra></extra>",
         "legendgroup": "Commelinaceae",
         "marker": {
          "color": "#EF553B",
          "pattern": {
           "shape": ""
          }
         },
         "name": "Commelinaceae",
         "offsetgroup": "Commelinaceae",
         "orientation": "v",
         "showlegend": true,
         "textposition": "auto",
         "type": "bar",
         "x": [
          "CDS"
         ],
         "xaxis": "x",
         "y": [
          0.0032036887331956046
         ],
         "yaxis": "y"
        },
        {
         "alignmentgroup": "True",
         "customdata": [
          [
           "Combretaceae"
          ]
         ],
         "hovertemplate": "Family=%{customdata[0]}<br>Proportion=%{y}<extra></extra>",
         "legendgroup": "Combretaceae",
         "marker": {
          "color": "#00cc96",
          "pattern": {
           "shape": ""
          }
         },
         "name": "Combretaceae",
         "offsetgroup": "Combretaceae",
         "orientation": "v",
         "showlegend": true,
         "textposition": "auto",
         "type": "bar",
         "x": [
          "CDS"
         ],
         "xaxis": "x",
         "y": [
          0.003113865684601335
         ],
         "yaxis": "y"
        },
        {
         "alignmentgroup": "True",
         "customdata": [
          [
           "Araneidae"
          ]
         ],
         "hovertemplate": "Family=%{customdata[0]}<br>Proportion=%{y}<extra></extra>",
         "legendgroup": "Araneidae",
         "marker": {
          "color": "#ab63fa",
          "pattern": {
           "shape": ""
          }
         },
         "name": "Araneidae",
         "offsetgroup": "Araneidae",
         "orientation": "v",
         "showlegend": true,
         "textposition": "auto",
         "type": "bar",
         "x": [
          "ICCDRS"
         ],
         "xaxis": "x",
         "y": [
          0.0030835395788534102
         ],
         "yaxis": "y"
        },
        {
         "alignmentgroup": "True",
         "customdata": [
          [
           "Vertiginidae"
          ]
         ],
         "hovertemplate": "Family=%{customdata[0]}<br>Proportion=%{y}<extra></extra>",
         "legendgroup": "Vertiginidae",
         "marker": {
          "color": "#FFA15A",
          "pattern": {
           "shape": ""
          }
         },
         "name": "Vertiginidae",
         "offsetgroup": "Vertiginidae",
         "orientation": "v",
         "showlegend": true,
         "textposition": "auto",
         "type": "bar",
         "x": [
          "ICCDRS"
         ],
         "xaxis": "x",
         "y": [
          0.0030835395788534102
         ],
         "yaxis": "y"
        },
        {
         "alignmentgroup": "True",
         "customdata": [
          [
           "Pectinidae"
          ]
         ],
         "hovertemplate": "Family=%{customdata[0]}<br>Proportion=%{y}<extra></extra>",
         "legendgroup": "Pectinidae",
         "marker": {
          "color": "#19d3f3",
          "pattern": {
           "shape": ""
          }
         },
         "name": "Pectinidae",
         "offsetgroup": "Pectinidae",
         "orientation": "v",
         "showlegend": true,
         "textposition": "auto",
         "type": "bar",
         "x": [
          "MCCDRS"
         ],
         "xaxis": "x",
         "y": [
          0.0030727866333781447
         ],
         "yaxis": "y"
        },
        {
         "alignmentgroup": "True",
         "customdata": [
          [
           "Planaxidae"
          ]
         ],
         "hovertemplate": "Family=%{customdata[0]}<br>Proportion=%{y}<extra></extra>",
         "legendgroup": "Planaxidae",
         "marker": {
          "color": "#FF6692",
          "pattern": {
           "shape": ""
          }
         },
         "name": "Planaxidae",
         "offsetgroup": "Planaxidae",
         "orientation": "v",
         "showlegend": true,
         "textposition": "auto",
         "type": "bar",
         "x": [
          "MCCDRS"
         ],
         "xaxis": "x",
         "y": [
          0.0030727866333781447
         ],
         "yaxis": "y"
        },
        {
         "alignmentgroup": "True",
         "customdata": [
          [
           "Lysmatidae"
          ]
         ],
         "hovertemplate": "Family=%{customdata[0]}<br>Proportion=%{y}<extra></extra>",
         "legendgroup": "Lysmatidae",
         "marker": {
          "color": "#B6E880",
          "pattern": {
           "shape": ""
          }
         },
         "name": "Lysmatidae",
         "offsetgroup": "Lysmatidae",
         "orientation": "v",
         "showlegend": true,
         "textposition": "auto",
         "type": "bar",
         "x": [
          "MCCDRS"
         ],
         "xaxis": "x",
         "y": [
          0.0030727866333781447
         ],
         "yaxis": "y"
        },
        {
         "alignmentgroup": "True",
         "customdata": [
          [
           "Ophiocomidae"
          ]
         ],
         "hovertemplate": "Family=%{customdata[0]}<br>Proportion=%{y}<extra></extra>",
         "legendgroup": "Ophiocomidae",
         "marker": {
          "color": "#FF97FF",
          "pattern": {
           "shape": ""
          }
         },
         "name": "Ophiocomidae",
         "offsetgroup": "Ophiocomidae",
         "orientation": "v",
         "showlegend": true,
         "textposition": "auto",
         "type": "bar",
         "x": [
          "MCCDRS"
         ],
         "xaxis": "x",
         "y": [
          0.0030727866333781447
         ],
         "yaxis": "y"
        },
        {
         "alignmentgroup": "True",
         "customdata": [
          [
           "Calyptraeidae"
          ]
         ],
         "hovertemplate": "Family=%{customdata[0]}<br>Proportion=%{y}<extra></extra>",
         "legendgroup": "Calyptraeidae",
         "marker": {
          "color": "#FECB52",
          "pattern": {
           "shape": ""
          }
         },
         "name": "Calyptraeidae",
         "offsetgroup": "Calyptraeidae",
         "orientation": "v",
         "showlegend": true,
         "textposition": "auto",
         "type": "bar",
         "x": [
          "MCCDRS"
         ],
         "xaxis": "x",
         "y": [
          0.0030727866333781447
         ],
         "yaxis": "y"
        },
        {
         "alignmentgroup": "True",
         "customdata": [
          [
           "Dynomenidae"
          ]
         ],
         "hovertemplate": "Family=%{customdata[0]}<br>Proportion=%{y}<extra></extra>",
         "legendgroup": "Dynomenidae",
         "marker": {
          "color": "#636efa",
          "pattern": {
           "shape": ""
          }
         },
         "name": "Dynomenidae",
         "offsetgroup": "Dynomenidae",
         "orientation": "v",
         "showlegend": true,
         "textposition": "auto",
         "type": "bar",
         "x": [
          "MCCDRS"
         ],
         "xaxis": "x",
         "y": [
          0.0030727866333781447
         ],
         "yaxis": "y"
        },
        {
         "alignmentgroup": "True",
         "customdata": [
          [
           "Bostrichidae"
          ]
         ],
         "hovertemplate": "Family=%{customdata[0]}<br>Proportion=%{y}<extra></extra>",
         "legendgroup": "Bostrichidae",
         "marker": {
          "color": "#EF553B",
          "pattern": {
           "shape": ""
          }
         },
         "name": "Bostrichidae",
         "offsetgroup": "Bostrichidae",
         "orientation": "v",
         "showlegend": true,
         "textposition": "auto",
         "type": "bar",
         "x": [
          "ICCDRS"
         ],
         "xaxis": "x",
         "y": [
          0.0029618209112670913
         ],
         "yaxis": "y"
        },
        {
         "alignmentgroup": "True",
         "customdata": [
          [
           "Tortricidae"
          ]
         ],
         "hovertemplate": "Family=%{customdata[0]}<br>Proportion=%{y}<extra></extra>",
         "legendgroup": "Tortricidae",
         "marker": {
          "color": "#00cc96",
          "pattern": {
           "shape": ""
          }
         },
         "name": "Tortricidae",
         "offsetgroup": "Tortricidae",
         "orientation": "v",
         "showlegend": true,
         "textposition": "auto",
         "type": "bar",
         "x": [
          "ICCDRS"
         ],
         "xaxis": "x",
         "y": [
          0.0029618209112670913
         ],
         "yaxis": "y"
        },
        {
         "alignmentgroup": "True",
         "customdata": [
          [
           "Rhopalidae"
          ]
         ],
         "hovertemplate": "Family=%{customdata[0]}<br>Proportion=%{y}<extra></extra>",
         "legendgroup": "Rhopalidae",
         "marker": {
          "color": "#ab63fa",
          "pattern": {
           "shape": ""
          }
         },
         "name": "Rhopalidae",
         "offsetgroup": "Rhopalidae",
         "orientation": "v",
         "showlegend": true,
         "textposition": "auto",
         "type": "bar",
         "x": [
          "ICCDRS"
         ],
         "xaxis": "x",
         "y": [
          0.0029618209112670913
         ],
         "yaxis": "y"
        },
        {
         "alignmentgroup": "True",
         "customdata": [
          [
           "Orchidaceae"
          ]
         ],
         "hovertemplate": "Family=%{customdata[0]}<br>Proportion=%{y}<extra></extra>",
         "legendgroup": "Orchidaceae",
         "marker": {
          "color": "#FFA15A",
          "pattern": {
           "shape": ""
          }
         },
         "name": "Orchidaceae",
         "offsetgroup": "Orchidaceae",
         "orientation": "v",
         "showlegend": true,
         "textposition": "auto",
         "type": "bar",
         "x": [
          "CDS"
         ],
         "xaxis": "x",
         "y": [
          0.002934219587412797
         ],
         "yaxis": "y"
        },
        {
         "alignmentgroup": "True",
         "customdata": [
          [
           "Aplysiidae"
          ]
         ],
         "hovertemplate": "Family=%{customdata[0]}<br>Proportion=%{y}<extra></extra>",
         "legendgroup": "Aplysiidae",
         "marker": {
          "color": "#19d3f3",
          "pattern": {
           "shape": ""
          }
         },
         "name": "Aplysiidae",
         "offsetgroup": "Aplysiidae",
         "orientation": "v",
         "showlegend": true,
         "textposition": "auto",
         "type": "bar",
         "x": [
          "MCCDRS"
         ],
         "xaxis": "x",
         "y": [
          0.002880737468792011
         ],
         "yaxis": "y"
        },
        {
         "alignmentgroup": "True",
         "customdata": [
          [
           "Trapeziidae"
          ]
         ],
         "hovertemplate": "Family=%{customdata[0]}<br>Proportion=%{y}<extra></extra>",
         "legendgroup": "Trapeziidae",
         "marker": {
          "color": "#FF6692",
          "pattern": {
           "shape": ""
          }
         },
         "name": "Trapeziidae",
         "offsetgroup": "Trapeziidae",
         "orientation": "v",
         "showlegend": true,
         "textposition": "auto",
         "type": "bar",
         "x": [
          "MCCDRS"
         ],
         "xaxis": "x",
         "y": [
          0.002880737468792011
         ],
         "yaxis": "y"
        },
        {
         "alignmentgroup": "True",
         "customdata": [
          [
           "Gerreidae"
          ]
         ],
         "hovertemplate": "Family=%{customdata[0]}<br>Proportion=%{y}<extra></extra>",
         "legendgroup": "Gerreidae",
         "marker": {
          "color": "#B6E880",
          "pattern": {
           "shape": ""
          }
         },
         "name": "Gerreidae",
         "offsetgroup": "Gerreidae",
         "orientation": "v",
         "showlegend": true,
         "textposition": "auto",
         "type": "bar",
         "x": [
          "MCCDRS"
         ],
         "xaxis": "x",
         "y": [
          0.002880737468792011
         ],
         "yaxis": "y"
        },
        {
         "alignmentgroup": "True",
         "customdata": [
          [
           "Exocoetidae"
          ]
         ],
         "hovertemplate": "Family=%{customdata[0]}<br>Proportion=%{y}<extra></extra>",
         "legendgroup": "Exocoetidae",
         "marker": {
          "color": "#FF97FF",
          "pattern": {
           "shape": ""
          }
         },
         "name": "Exocoetidae",
         "offsetgroup": "Exocoetidae",
         "orientation": "v",
         "showlegend": true,
         "textposition": "auto",
         "type": "bar",
         "x": [
          "MCCDRS"
         ],
         "xaxis": "x",
         "y": [
          0.002880737468792011
         ],
         "yaxis": "y"
        },
        {
         "alignmentgroup": "True",
         "customdata": [
          [
           "Onchidiidae"
          ]
         ],
         "hovertemplate": "Family=%{customdata[0]}<br>Proportion=%{y}<extra></extra>",
         "legendgroup": "Onchidiidae",
         "marker": {
          "color": "#FECB52",
          "pattern": {
           "shape": ""
          }
         },
         "name": "Onchidiidae",
         "offsetgroup": "Onchidiidae",
         "orientation": "v",
         "showlegend": true,
         "textposition": "auto",
         "type": "bar",
         "x": [
          "MCCDRS"
         ],
         "xaxis": "x",
         "y": [
          0.002880737468792011
         ],
         "yaxis": "y"
        },
        {
         "alignmentgroup": "True",
         "customdata": [
          [
           "Drilliidae"
          ]
         ],
         "hovertemplate": "Family=%{customdata[0]}<br>Proportion=%{y}<extra></extra>",
         "legendgroup": "Drilliidae",
         "marker": {
          "color": "#636efa",
          "pattern": {
           "shape": ""
          }
         },
         "name": "Drilliidae",
         "offsetgroup": "Drilliidae",
         "orientation": "v",
         "showlegend": true,
         "textposition": "auto",
         "type": "bar",
         "x": [
          "MCCDRS"
         ],
         "xaxis": "x",
         "y": [
          0.002880737468792011
         ],
         "yaxis": "y"
        },
        {
         "alignmentgroup": "True",
         "customdata": [
          [
           "Gorgoniidae"
          ]
         ],
         "hovertemplate": "Family=%{customdata[0]}<br>Proportion=%{y}<extra></extra>",
         "legendgroup": "Gorgoniidae",
         "marker": {
          "color": "#EF553B",
          "pattern": {
           "shape": ""
          }
         },
         "name": "Gorgoniidae",
         "offsetgroup": "Gorgoniidae",
         "orientation": "v",
         "showlegend": true,
         "textposition": "auto",
         "type": "bar",
         "x": [
          "MCCDRS"
         ],
         "xaxis": "x",
         "y": [
          0.002880737468792011
         ],
         "yaxis": "y"
        },
        {
         "alignmentgroup": "True",
         "customdata": [
          [
           "Apidae"
          ]
         ],
         "hovertemplate": "Family=%{customdata[0]}<br>Proportion=%{y}<extra></extra>",
         "legendgroup": "Apidae",
         "marker": {
          "color": "#00cc96",
          "pattern": {
           "shape": ""
          }
         },
         "name": "Apidae",
         "offsetgroup": "Apidae",
         "orientation": "v",
         "showlegend": true,
         "textposition": "auto",
         "type": "bar",
         "x": [
          "ICCDRS"
         ],
         "xaxis": "x",
         "y": [
          0.0028806751328762123
         ],
         "yaxis": "y"
        },
        {
         "alignmentgroup": "True",
         "customdata": [
          [
           "Dictyotaceae"
          ],
          [
           "Dictyotaceae"
          ]
         ],
         "hovertemplate": "Family=%{customdata[0]}<br>Proportion=%{y}<extra></extra>",
         "legendgroup": "Dictyotaceae",
         "marker": {
          "color": "#ab63fa",
          "pattern": {
           "shape": ""
          }
         },
         "name": "Dictyotaceae",
         "offsetgroup": "Dictyotaceae",
         "orientation": "v",
         "showlegend": true,
         "textposition": "auto",
         "type": "bar",
         "x": [
          "CDS",
          "MCCDRS"
         ],
         "xaxis": "x",
         "y": [
          0.002874337555016617,
          0.00019204916458613405
         ],
         "yaxis": "y"
        },
        {
         "alignmentgroup": "True",
         "customdata": [
          [
           "Anobiidae"
          ]
         ],
         "hovertemplate": "Family=%{customdata[0]}<br>Proportion=%{y}<extra></extra>",
         "legendgroup": "Anobiidae",
         "marker": {
          "color": "#FFA15A",
          "pattern": {
           "shape": ""
          }
         },
         "name": "Anobiidae",
         "offsetgroup": "Anobiidae",
         "orientation": "v",
         "showlegend": true,
         "textposition": "auto",
         "type": "bar",
         "x": [
          "ICCDRS"
         ],
         "xaxis": "x",
         "y": [
          0.0028401022436807723
         ],
         "yaxis": "y"
        },
        {
         "alignmentgroup": "True",
         "customdata": [
          [
           "Reduviidae"
          ]
         ],
         "hovertemplate": "Family=%{customdata[0]}<br>Proportion=%{y}<extra></extra>",
         "legendgroup": "Reduviidae",
         "marker": {
          "color": "#19d3f3",
          "pattern": {
           "shape": ""
          }
         },
         "name": "Reduviidae",
         "offsetgroup": "Reduviidae",
         "orientation": "v",
         "showlegend": true,
         "textposition": "auto",
         "type": "bar",
         "x": [
          "ICCDRS"
         ],
         "xaxis": "x",
         "y": [
          0.002799529354485333
         ],
         "yaxis": "y"
        },
        {
         "alignmentgroup": "True",
         "customdata": [
          [
           "Apiaceae"
          ]
         ],
         "hovertemplate": "Family=%{customdata[0]}<br>Proportion=%{y}<extra></extra>",
         "legendgroup": "Apiaceae",
         "marker": {
          "color": "#FF6692",
          "pattern": {
           "shape": ""
          }
         },
         "name": "Apiaceae",
         "offsetgroup": "Apiaceae",
         "orientation": "v",
         "showlegend": true,
         "textposition": "auto",
         "type": "bar",
         "x": [
          "CDS"
         ],
         "xaxis": "x",
         "y": [
          0.0027246324740261684
         ],
         "yaxis": "y"
        },
        {
         "alignmentgroup": "True",
         "customdata": [
          [
           "Anthribidae"
          ]
         ],
         "hovertemplate": "Family=%{customdata[0]}<br>Proportion=%{y}<extra></extra>",
         "legendgroup": "Anthribidae",
         "marker": {
          "color": "#B6E880",
          "pattern": {
           "shape": ""
          }
         },
         "name": "Anthribidae",
         "offsetgroup": "Anthribidae",
         "orientation": "v",
         "showlegend": true,
         "textposition": "auto",
         "type": "bar",
         "x": [
          "ICCDRS"
         ],
         "xaxis": "x",
         "y": [
          0.002718383576094454
         ],
         "yaxis": "y"
        },
        {
         "alignmentgroup": "True",
         "customdata": [
          [
           "Sapindaceae"
          ]
         ],
         "hovertemplate": "Family=%{customdata[0]}<br>Proportion=%{y}<extra></extra>",
         "legendgroup": "Sapindaceae",
         "marker": {
          "color": "#FF97FF",
          "pattern": {
           "shape": ""
          }
         },
         "name": "Sapindaceae",
         "offsetgroup": "Sapindaceae",
         "orientation": "v",
         "showlegend": true,
         "textposition": "auto",
         "type": "bar",
         "x": [
          "CDS"
         ],
         "xaxis": "x",
         "y": [
          0.0026946914578280788
         ],
         "yaxis": "y"
        },
        {
         "alignmentgroup": "True",
         "customdata": [
          [
           "Hippopodinidae"
          ]
         ],
         "hovertemplate": "Family=%{customdata[0]}<br>Proportion=%{y}<extra></extra>",
         "legendgroup": "Hippopodinidae",
         "marker": {
          "color": "#FECB52",
          "pattern": {
           "shape": ""
          }
         },
         "name": "Hippopodinidae",
         "offsetgroup": "Hippopodinidae",
         "orientation": "v",
         "showlegend": true,
         "textposition": "auto",
         "type": "bar",
         "x": [
          "MCCDRS"
         ],
         "xaxis": "x",
         "y": [
          0.002688688304205877
         ],
         "yaxis": "y"
        },
        {
         "alignmentgroup": "True",
         "customdata": [
          [
           "Hymedesmiidae"
          ]
         ],
         "hovertemplate": "Family=%{customdata[0]}<br>Proportion=%{y}<extra></extra>",
         "legendgroup": "Hymedesmiidae",
         "marker": {
          "color": "#636efa",
          "pattern": {
           "shape": ""
          }
         },
         "name": "Hymedesmiidae",
         "offsetgroup": "Hymedesmiidae",
         "orientation": "v",
         "showlegend": true,
         "textposition": "auto",
         "type": "bar",
         "x": [
          "MCCDRS"
         ],
         "xaxis": "x",
         "y": [
          0.002688688304205877
         ],
         "yaxis": "y"
        },
        {
         "alignmentgroup": "True",
         "customdata": [
          [
           "Eriphiidae"
          ]
         ],
         "hovertemplate": "Family=%{customdata[0]}<br>Proportion=%{y}<extra></extra>",
         "legendgroup": "Eriphiidae",
         "marker": {
          "color": "#EF553B",
          "pattern": {
           "shape": ""
          }
         },
         "name": "Eriphiidae",
         "offsetgroup": "Eriphiidae",
         "orientation": "v",
         "showlegend": true,
         "textposition": "auto",
         "type": "bar",
         "x": [
          "MCCDRS"
         ],
         "xaxis": "x",
         "y": [
          0.002688688304205877
         ],
         "yaxis": "y"
        },
        {
         "alignmentgroup": "True",
         "customdata": [
          [
           "Psammocoridae"
          ]
         ],
         "hovertemplate": "Family=%{customdata[0]}<br>Proportion=%{y}<extra></extra>",
         "legendgroup": "Psammocoridae",
         "marker": {
          "color": "#00cc96",
          "pattern": {
           "shape": ""
          }
         },
         "name": "Psammocoridae",
         "offsetgroup": "Psammocoridae",
         "orientation": "v",
         "showlegend": true,
         "textposition": "auto",
         "type": "bar",
         "x": [
          "MCCDRS"
         ],
         "xaxis": "x",
         "y": [
          0.002688688304205877
         ],
         "yaxis": "y"
        },
        {
         "alignmentgroup": "True",
         "customdata": [
          [
           "Scorpaenidae"
          ]
         ],
         "hovertemplate": "Family=%{customdata[0]}<br>Proportion=%{y}<extra></extra>",
         "legendgroup": "Scorpaenidae",
         "marker": {
          "color": "#ab63fa",
          "pattern": {
           "shape": ""
          }
         },
         "name": "Scorpaenidae",
         "offsetgroup": "Scorpaenidae",
         "orientation": "v",
         "showlegend": true,
         "textposition": "auto",
         "type": "bar",
         "x": [
          "MCCDRS"
         ],
         "xaxis": "x",
         "y": [
          0.002688688304205877
         ],
         "yaxis": "y"
        },
        {
         "alignmentgroup": "True",
         "customdata": [
          [
           "Marginellidae"
          ]
         ],
         "hovertemplate": "Family=%{customdata[0]}<br>Proportion=%{y}<extra></extra>",
         "legendgroup": "Marginellidae",
         "marker": {
          "color": "#FFA15A",
          "pattern": {
           "shape": ""
          }
         },
         "name": "Marginellidae",
         "offsetgroup": "Marginellidae",
         "orientation": "v",
         "showlegend": true,
         "textposition": "auto",
         "type": "bar",
         "x": [
          "MCCDRS"
         ],
         "xaxis": "x",
         "y": [
          0.002688688304205877
         ],
         "yaxis": "y"
        },
        {
         "alignmentgroup": "True",
         "customdata": [
          [
           "Blenniidae"
          ]
         ],
         "hovertemplate": "Family=%{customdata[0]}<br>Proportion=%{y}<extra></extra>",
         "legendgroup": "Blenniidae",
         "marker": {
          "color": "#19d3f3",
          "pattern": {
           "shape": ""
          }
         },
         "name": "Blenniidae",
         "offsetgroup": "Blenniidae",
         "orientation": "v",
         "showlegend": true,
         "textposition": "auto",
         "type": "bar",
         "x": [
          "MCCDRS"
         ],
         "xaxis": "x",
         "y": [
          0.002688688304205877
         ],
         "yaxis": "y"
        },
        {
         "alignmentgroup": "True",
         "customdata": [
          [
           "Canidae"
          ]
         ],
         "hovertemplate": "Family=%{customdata[0]}<br>Proportion=%{y}<extra></extra>",
         "legendgroup": "Canidae",
         "marker": {
          "color": "#FF6692",
          "pattern": {
           "shape": ""
          }
         },
         "name": "Canidae",
         "offsetgroup": "Canidae",
         "orientation": "v",
         "showlegend": true,
         "textposition": "auto",
         "type": "bar",
         "x": [
          "VCCDRS"
         ],
         "xaxis": "x",
         "y": [
          0.0026455026455026454
         ],
         "yaxis": "y"
        },
        {
         "alignmentgroup": "True",
         "customdata": [
          [
           "Aspleniaceae"
          ]
         ],
         "hovertemplate": "Family=%{customdata[0]}<br>Proportion=%{y}<extra></extra>",
         "legendgroup": "Aspleniaceae",
         "marker": {
          "color": "#B6E880",
          "pattern": {
           "shape": ""
          }
         },
         "name": "Aspleniaceae",
         "offsetgroup": "Aspleniaceae",
         "orientation": "v",
         "showlegend": true,
         "textposition": "auto",
         "type": "bar",
         "x": [
          "CDS"
         ],
         "xaxis": "x",
         "y": [
          0.0026048684092338094
         ],
         "yaxis": "y"
        },
        {
         "alignmentgroup": "True",
         "customdata": [
          [
           "Rhamnaceae"
          ]
         ],
         "hovertemplate": "Family=%{customdata[0]}<br>Proportion=%{y}<extra></extra>",
         "legendgroup": "Rhamnaceae",
         "marker": {
          "color": "#FF97FF",
          "pattern": {
           "shape": ""
          }
         },
         "name": "Rhamnaceae",
         "offsetgroup": "Rhamnaceae",
         "orientation": "v",
         "showlegend": true,
         "textposition": "auto",
         "type": "bar",
         "x": [
          "CDS"
         ],
         "xaxis": "x",
         "y": [
          0.0026048684092338094
         ],
         "yaxis": "y"
        },
        {
         "alignmentgroup": "True",
         "customdata": [
          [
           "Cleridae"
          ]
         ],
         "hovertemplate": "Family=%{customdata[0]}<br>Proportion=%{y}<extra></extra>",
         "legendgroup": "Cleridae",
         "marker": {
          "color": "#FECB52",
          "pattern": {
           "shape": ""
          }
         },
         "name": "Cleridae",
         "offsetgroup": "Cleridae",
         "orientation": "v",
         "showlegend": true,
         "textposition": "auto",
         "type": "bar",
         "x": [
          "ICCDRS"
         ],
         "xaxis": "x",
         "y": [
          0.002596664908508135
         ],
         "yaxis": "y"
        },
        {
         "alignmentgroup": "True",
         "customdata": [
          [
           "Phalacridae"
          ]
         ],
         "hovertemplate": "Family=%{customdata[0]}<br>Proportion=%{y}<extra></extra>",
         "legendgroup": "Phalacridae",
         "marker": {
          "color": "#636efa",
          "pattern": {
           "shape": ""
          }
         },
         "name": "Phalacridae",
         "offsetgroup": "Phalacridae",
         "orientation": "v",
         "showlegend": true,
         "textposition": "auto",
         "type": "bar",
         "x": [
          "ICCDRS"
         ],
         "xaxis": "x",
         "y": [
          0.002596664908508135
         ],
         "yaxis": "y"
        },
        {
         "alignmentgroup": "True",
         "customdata": [
          [
           "Bombyliidae"
          ]
         ],
         "hovertemplate": "Family=%{customdata[0]}<br>Proportion=%{y}<extra></extra>",
         "legendgroup": "Bombyliidae",
         "marker": {
          "color": "#EF553B",
          "pattern": {
           "shape": ""
          }
         },
         "name": "Bombyliidae",
         "offsetgroup": "Bombyliidae",
         "orientation": "v",
         "showlegend": true,
         "textposition": "auto",
         "type": "bar",
         "x": [
          "ICCDRS"
         ],
         "xaxis": "x",
         "y": [
          0.002596664908508135
         ],
         "yaxis": "y"
        },
        {
         "alignmentgroup": "True",
         "customdata": [
          [
           "Heleomyzidae"
          ]
         ],
         "hovertemplate": "Family=%{customdata[0]}<br>Proportion=%{y}<extra></extra>",
         "legendgroup": "Heleomyzidae",
         "marker": {
          "color": "#00cc96",
          "pattern": {
           "shape": ""
          }
         },
         "name": "Heleomyzidae",
         "offsetgroup": "Heleomyzidae",
         "orientation": "v",
         "showlegend": true,
         "textposition": "auto",
         "type": "bar",
         "x": [
          "ICCDRS"
         ],
         "xaxis": "x",
         "y": [
          0.002515519130117256
         ],
         "yaxis": "y"
        },
        {
         "alignmentgroup": "True",
         "customdata": [
          [
           "Blattidae"
          ]
         ],
         "hovertemplate": "Family=%{customdata[0]}<br>Proportion=%{y}<extra></extra>",
         "legendgroup": "Blattidae",
         "marker": {
          "color": "#ab63fa",
          "pattern": {
           "shape": ""
          }
         },
         "name": "Blattidae",
         "offsetgroup": "Blattidae",
         "orientation": "v",
         "showlegend": true,
         "textposition": "auto",
         "type": "bar",
         "x": [
          "ICCDRS"
         ],
         "xaxis": "x",
         "y": [
          0.002515519130117256
         ],
         "yaxis": "y"
        },
        {
         "alignmentgroup": "True",
         "customdata": [
          [
           "Phoridae"
          ]
         ],
         "hovertemplate": "Family=%{customdata[0]}<br>Proportion=%{y}<extra></extra>",
         "legendgroup": "Phoridae",
         "marker": {
          "color": "#FFA15A",
          "pattern": {
           "shape": ""
          }
         },
         "name": "Phoridae",
         "offsetgroup": "Phoridae",
         "orientation": "v",
         "showlegend": true,
         "textposition": "auto",
         "type": "bar",
         "x": [
          "ICCDRS"
         ],
         "xaxis": "x",
         "y": [
          0.002515519130117256
         ],
         "yaxis": "y"
        },
        {
         "alignmentgroup": "True",
         "customdata": [
          [
           "Sabellidae"
          ]
         ],
         "hovertemplate": "Family=%{customdata[0]}<br>Proportion=%{y}<extra></extra>",
         "legendgroup": "Sabellidae",
         "marker": {
          "color": "#19d3f3",
          "pattern": {
           "shape": ""
          }
         },
         "name": "Sabellidae",
         "offsetgroup": "Sabellidae",
         "orientation": "v",
         "showlegend": true,
         "textposition": "auto",
         "type": "bar",
         "x": [
          "MCCDRS"
         ],
         "xaxis": "x",
         "y": [
          0.0024966391396197426
         ],
         "yaxis": "y"
        },
        {
         "alignmentgroup": "True",
         "customdata": [
          [
           "Margaritidae"
          ]
         ],
         "hovertemplate": "Family=%{customdata[0]}<br>Proportion=%{y}<extra></extra>",
         "legendgroup": "Margaritidae",
         "marker": {
          "color": "#FF6692",
          "pattern": {
           "shape": ""
          }
         },
         "name": "Margaritidae",
         "offsetgroup": "Margaritidae",
         "orientation": "v",
         "showlegend": true,
         "textposition": "auto",
         "type": "bar",
         "x": [
          "MCCDRS"
         ],
         "xaxis": "x",
         "y": [
          0.0024966391396197426
         ],
         "yaxis": "y"
        },
        {
         "alignmentgroup": "True",
         "customdata": [
          [
           "Olividae"
          ]
         ],
         "hovertemplate": "Family=%{customdata[0]}<br>Proportion=%{y}<extra></extra>",
         "legendgroup": "Olividae",
         "marker": {
          "color": "#B6E880",
          "pattern": {
           "shape": ""
          }
         },
         "name": "Olividae",
         "offsetgroup": "Olividae",
         "orientation": "v",
         "showlegend": true,
         "textposition": "auto",
         "type": "bar",
         "x": [
          "MCCDRS"
         ],
         "xaxis": "x",
         "y": [
          0.0024966391396197426
         ],
         "yaxis": "y"
        },
        {
         "alignmentgroup": "True",
         "customdata": [
          [
           "Aglaopheniidae"
          ]
         ],
         "hovertemplate": "Family=%{customdata[0]}<br>Proportion=%{y}<extra></extra>",
         "legendgroup": "Aglaopheniidae",
         "marker": {
          "color": "#FF97FF",
          "pattern": {
           "shape": ""
          }
         },
         "name": "Aglaopheniidae",
         "offsetgroup": "Aglaopheniidae",
         "orientation": "v",
         "showlegend": true,
         "textposition": "auto",
         "type": "bar",
         "x": [
          "MCCDRS"
         ],
         "xaxis": "x",
         "y": [
          0.0024966391396197426
         ],
         "yaxis": "y"
        },
        {
         "alignmentgroup": "True",
         "customdata": [
          [
           "Hippidae"
          ]
         ],
         "hovertemplate": "Family=%{customdata[0]}<br>Proportion=%{y}<extra></extra>",
         "legendgroup": "Hippidae",
         "marker": {
          "color": "#FECB52",
          "pattern": {
           "shape": ""
          }
         },
         "name": "Hippidae",
         "offsetgroup": "Hippidae",
         "orientation": "v",
         "showlegend": true,
         "textposition": "auto",
         "type": "bar",
         "x": [
          "MCCDRS"
         ],
         "xaxis": "x",
         "y": [
          0.0024966391396197426
         ],
         "yaxis": "y"
        },
        {
         "alignmentgroup": "True",
         "customdata": [
          [
           "Parthenopidae"
          ]
         ],
         "hovertemplate": "Family=%{customdata[0]}<br>Proportion=%{y}<extra></extra>",
         "legendgroup": "Parthenopidae",
         "marker": {
          "color": "#636efa",
          "pattern": {
           "shape": ""
          }
         },
         "name": "Parthenopidae",
         "offsetgroup": "Parthenopidae",
         "orientation": "v",
         "showlegend": true,
         "textposition": "auto",
         "type": "bar",
         "x": [
          "MCCDRS"
         ],
         "xaxis": "x",
         "y": [
          0.0024966391396197426
         ],
         "yaxis": "y"
        },
        {
         "alignmentgroup": "True",
         "customdata": [
          [
           "Autostichidae"
          ]
         ],
         "hovertemplate": "Family=%{customdata[0]}<br>Proportion=%{y}<extra></extra>",
         "legendgroup": "Autostichidae",
         "marker": {
          "color": "#EF553B",
          "pattern": {
           "shape": ""
          }
         },
         "name": "Autostichidae",
         "offsetgroup": "Autostichidae",
         "orientation": "v",
         "showlegend": true,
         "textposition": "auto",
         "type": "bar",
         "x": [
          "ICCDRS"
         ],
         "xaxis": "x",
         "y": [
          0.0024343733517263764
         ],
         "yaxis": "y"
        },
        {
         "alignmentgroup": "True",
         "customdata": [
          [
           "Davalliaceae"
          ]
         ],
         "hovertemplate": "Family=%{customdata[0]}<br>Proportion=%{y}<extra></extra>",
         "legendgroup": "Davalliaceae",
         "marker": {
          "color": "#00cc96",
          "pattern": {
           "shape": ""
          }
         },
         "name": "Davalliaceae",
         "offsetgroup": "Davalliaceae",
         "orientation": "v",
         "showlegend": true,
         "textposition": "auto",
         "type": "bar",
         "x": [
          "CDS"
         ],
         "xaxis": "x",
         "y": [
          0.002425222312045271
         ],
         "yaxis": "y"
        },
        {
         "alignmentgroup": "True",
         "customdata": [
          [
           "Scrophulariaceae"
          ]
         ],
         "hovertemplate": "Family=%{customdata[0]}<br>Proportion=%{y}<extra></extra>",
         "legendgroup": "Scrophulariaceae",
         "marker": {
          "color": "#ab63fa",
          "pattern": {
           "shape": ""
          }
         },
         "name": "Scrophulariaceae",
         "offsetgroup": "Scrophulariaceae",
         "orientation": "v",
         "showlegend": true,
         "textposition": "auto",
         "type": "bar",
         "x": [
          "CDS"
         ],
         "xaxis": "x",
         "y": [
          0.002395281295847181
         ],
         "yaxis": "y"
        },
        {
         "alignmentgroup": "True",
         "customdata": [
          [
           "Polygonaceae"
          ]
         ],
         "hovertemplate": "Family=%{customdata[0]}<br>Proportion=%{y}<extra></extra>",
         "legendgroup": "Polygonaceae",
         "marker": {
          "color": "#FFA15A",
          "pattern": {
           "shape": ""
          }
         },
         "name": "Polygonaceae",
         "offsetgroup": "Polygonaceae",
         "orientation": "v",
         "showlegend": true,
         "textposition": "auto",
         "type": "bar",
         "x": [
          "CDS"
         ],
         "xaxis": "x",
         "y": [
          0.0023653402796490913
         ],
         "yaxis": "y"
        },
        {
         "alignmentgroup": "True",
         "customdata": [
          [
           "Plumbaginaceae"
          ]
         ],
         "hovertemplate": "Family=%{customdata[0]}<br>Proportion=%{y}<extra></extra>",
         "legendgroup": "Plumbaginaceae",
         "marker": {
          "color": "#19d3f3",
          "pattern": {
           "shape": ""
          }
         },
         "name": "Plumbaginaceae",
         "offsetgroup": "Plumbaginaceae",
         "orientation": "v",
         "showlegend": true,
         "textposition": "auto",
         "type": "bar",
         "x": [
          "CDS"
         ],
         "xaxis": "x",
         "y": [
          0.002305458247252912
         ],
         "yaxis": "y"
        },
        {
         "alignmentgroup": "True",
         "customdata": [
          [
           "Oreasteridae"
          ]
         ],
         "hovertemplate": "Family=%{customdata[0]}<br>Proportion=%{y}<extra></extra>",
         "legendgroup": "Oreasteridae",
         "marker": {
          "color": "#FF6692",
          "pattern": {
           "shape": ""
          }
         },
         "name": "Oreasteridae",
         "offsetgroup": "Oreasteridae",
         "orientation": "v",
         "showlegend": true,
         "textposition": "auto",
         "type": "bar",
         "x": [
          "MCCDRS"
         ],
         "xaxis": "x",
         "y": [
          0.0023045899750336087
         ],
         "yaxis": "y"
        },
        {
         "alignmentgroup": "True",
         "customdata": [
          [
           "Labridae"
          ]
         ],
         "hovertemplate": "Family=%{customdata[0]}<br>Proportion=%{y}<extra></extra>",
         "legendgroup": "Labridae",
         "marker": {
          "color": "#B6E880",
          "pattern": {
           "shape": ""
          }
         },
         "name": "Labridae",
         "offsetgroup": "Labridae",
         "orientation": "v",
         "showlegend": true,
         "textposition": "auto",
         "type": "bar",
         "x": [
          "MCCDRS"
         ],
         "xaxis": "x",
         "y": [
          0.0023045899750336087
         ],
         "yaxis": "y"
        },
        {
         "alignmentgroup": "True",
         "customdata": [
          [
           "Echinometridae"
          ]
         ],
         "hovertemplate": "Family=%{customdata[0]}<br>Proportion=%{y}<extra></extra>",
         "legendgroup": "Echinometridae",
         "marker": {
          "color": "#FF97FF",
          "pattern": {
           "shape": ""
          }
         },
         "name": "Echinometridae",
         "offsetgroup": "Echinometridae",
         "orientation": "v",
         "showlegend": true,
         "textposition": "auto",
         "type": "bar",
         "x": [
          "MCCDRS"
         ],
         "xaxis": "x",
         "y": [
          0.0023045899750336087
         ],
         "yaxis": "y"
        },
        {
         "alignmentgroup": "True",
         "customdata": [
          [
           "Ophionereididae"
          ]
         ],
         "hovertemplate": "Family=%{customdata[0]}<br>Proportion=%{y}<extra></extra>",
         "legendgroup": "Ophionereididae",
         "marker": {
          "color": "#FECB52",
          "pattern": {
           "shape": ""
          }
         },
         "name": "Ophionereididae",
         "offsetgroup": "Ophionereididae",
         "orientation": "v",
         "showlegend": true,
         "textposition": "auto",
         "type": "bar",
         "x": [
          "MCCDRS"
         ],
         "xaxis": "x",
         "y": [
          0.0023045899750336087
         ],
         "yaxis": "y"
        },
        {
         "alignmentgroup": "True",
         "customdata": [
          [
           "Chalinidae"
          ]
         ],
         "hovertemplate": "Family=%{customdata[0]}<br>Proportion=%{y}<extra></extra>",
         "legendgroup": "Chalinidae",
         "marker": {
          "color": "#636efa",
          "pattern": {
           "shape": ""
          }
         },
         "name": "Chalinidae",
         "offsetgroup": "Chalinidae",
         "orientation": "v",
         "showlegend": true,
         "textposition": "auto",
         "type": "bar",
         "x": [
          "MCCDRS"
         ],
         "xaxis": "x",
         "y": [
          0.0023045899750336087
         ],
         "yaxis": "y"
        },
        {
         "alignmentgroup": "True",
         "customdata": [
          [
           "Colubrariidae"
          ]
         ],
         "hovertemplate": "Family=%{customdata[0]}<br>Proportion=%{y}<extra></extra>",
         "legendgroup": "Colubrariidae",
         "marker": {
          "color": "#EF553B",
          "pattern": {
           "shape": ""
          }
         },
         "name": "Colubrariidae",
         "offsetgroup": "Colubrariidae",
         "orientation": "v",
         "showlegend": true,
         "textposition": "auto",
         "type": "bar",
         "x": [
          "MCCDRS"
         ],
         "xaxis": "x",
         "y": [
          0.0023045899750336087
         ],
         "yaxis": "y"
        },
        {
         "alignmentgroup": "True",
         "customdata": [
          [
           "Stylasteridae"
          ]
         ],
         "hovertemplate": "Family=%{customdata[0]}<br>Proportion=%{y}<extra></extra>",
         "legendgroup": "Stylasteridae",
         "marker": {
          "color": "#00cc96",
          "pattern": {
           "shape": ""
          }
         },
         "name": "Stylasteridae",
         "offsetgroup": "Stylasteridae",
         "orientation": "v",
         "showlegend": true,
         "textposition": "auto",
         "type": "bar",
         "x": [
          "MCCDRS"
         ],
         "xaxis": "x",
         "y": [
          0.0023045899750336087
         ],
         "yaxis": "y"
        },
        {
         "alignmentgroup": "True",
         "customdata": [
          [
           "Meteoriaceae"
          ]
         ],
         "hovertemplate": "Family=%{customdata[0]}<br>Proportion=%{y}<extra></extra>",
         "legendgroup": "Meteoriaceae",
         "marker": {
          "color": "#ab63fa",
          "pattern": {
           "shape": ""
          }
         },
         "name": "Meteoriaceae",
         "offsetgroup": "Meteoriaceae",
         "orientation": "v",
         "showlegend": true,
         "textposition": "auto",
         "type": "bar",
         "x": [
          "CDS"
         ],
         "xaxis": "x",
         "y": [
          0.002275517231054822
         ],
         "yaxis": "y"
        },
        {
         "alignmentgroup": "True",
         "customdata": [
          [
           "Roccellographaceae"
          ]
         ],
         "hovertemplate": "Family=%{customdata[0]}<br>Proportion=%{y}<extra></extra>",
         "legendgroup": "Roccellographaceae",
         "marker": {
          "color": "#FFA15A",
          "pattern": {
           "shape": ""
          }
         },
         "name": "Roccellographaceae",
         "offsetgroup": "Roccellographaceae",
         "orientation": "v",
         "showlegend": true,
         "textposition": "auto",
         "type": "bar",
         "x": [
          "CDS"
         ],
         "xaxis": "x",
         "y": [
          0.002275517231054822
         ],
         "yaxis": "y"
        },
        {
         "alignmentgroup": "True",
         "customdata": [
          [
           "Chrysotrichaceae"
          ]
         ],
         "hovertemplate": "Family=%{customdata[0]}<br>Proportion=%{y}<extra></extra>",
         "legendgroup": "Chrysotrichaceae",
         "marker": {
          "color": "#19d3f3",
          "pattern": {
           "shape": ""
          }
         },
         "name": "Chrysotrichaceae",
         "offsetgroup": "Chrysotrichaceae",
         "orientation": "v",
         "showlegend": true,
         "textposition": "auto",
         "type": "bar",
         "x": [
          "CDS"
         ],
         "xaxis": "x",
         "y": [
          0.0022156351986586426
         ],
         "yaxis": "y"
        },
        {
         "alignmentgroup": "True",
         "customdata": [
          [
           "Gracillariidae"
          ]
         ],
         "hovertemplate": "Family=%{customdata[0]}<br>Proportion=%{y}<extra></extra>",
         "legendgroup": "Gracillariidae",
         "marker": {
          "color": "#FF6692",
          "pattern": {
           "shape": ""
          }
         },
         "name": "Gracillariidae",
         "offsetgroup": "Gracillariidae",
         "orientation": "v",
         "showlegend": true,
         "textposition": "auto",
         "type": "bar",
         "x": [
          "ICCDRS"
         ],
         "xaxis": "x",
         "y": [
          0.002190936016553739
         ],
         "yaxis": "y"
        },
        {
         "alignmentgroup": "True",
         "customdata": [
          [
           "Amaryllidaceae"
          ]
         ],
         "hovertemplate": "Family=%{customdata[0]}<br>Proportion=%{y}<extra></extra>",
         "legendgroup": "Amaryllidaceae",
         "marker": {
          "color": "#B6E880",
          "pattern": {
           "shape": ""
          }
         },
         "name": "Amaryllidaceae",
         "offsetgroup": "Amaryllidaceae",
         "orientation": "v",
         "showlegend": true,
         "textposition": "auto",
         "type": "bar",
         "x": [
          "CDS"
         ],
         "xaxis": "x",
         "y": [
          0.002185694182460553
         ],
         "yaxis": "y"
        },
        {
         "alignmentgroup": "True",
         "customdata": [
          [
           "Polyporaceae"
          ]
         ],
         "hovertemplate": "Family=%{customdata[0]}<br>Proportion=%{y}<extra></extra>",
         "legendgroup": "Polyporaceae",
         "marker": {
          "color": "#FF97FF",
          "pattern": {
           "shape": ""
          }
         },
         "name": "Polyporaceae",
         "offsetgroup": "Polyporaceae",
         "orientation": "v",
         "showlegend": true,
         "textposition": "auto",
         "type": "bar",
         "x": [
          "CDS"
         ],
         "xaxis": "x",
         "y": [
          0.002155753166262463
         ],
         "yaxis": "y"
        },
        {
         "alignmentgroup": "True",
         "customdata": [
          [
           "Theridiidae"
          ]
         ],
         "hovertemplate": "Family=%{customdata[0]}<br>Proportion=%{y}<extra></extra>",
         "legendgroup": "Theridiidae",
         "marker": {
          "color": "#FECB52",
          "pattern": {
           "shape": ""
          }
         },
         "name": "Theridiidae",
         "offsetgroup": "Theridiidae",
         "orientation": "v",
         "showlegend": true,
         "textposition": "auto",
         "type": "bar",
         "x": [
          "ICCDRS"
         ],
         "xaxis": "x",
         "y": [
          0.002150363127358299
         ],
         "yaxis": "y"
        },
        {
         "alignmentgroup": "True",
         "customdata": [
          [
           "Watersiporidae"
          ]
         ],
         "hovertemplate": "Family=%{customdata[0]}<br>Proportion=%{y}<extra></extra>",
         "legendgroup": "Watersiporidae",
         "marker": {
          "color": "#636efa",
          "pattern": {
           "shape": ""
          }
         },
         "name": "Watersiporidae",
         "offsetgroup": "Watersiporidae",
         "orientation": "v",
         "showlegend": true,
         "textposition": "auto",
         "type": "bar",
         "x": [
          "MCCDRS"
         ],
         "xaxis": "x",
         "y": [
          0.0021125408104474747
         ],
         "yaxis": "y"
        },
        {
         "alignmentgroup": "True",
         "customdata": [
          [
           "Myriopathidae"
          ]
         ],
         "hovertemplate": "Family=%{customdata[0]}<br>Proportion=%{y}<extra></extra>",
         "legendgroup": "Myriopathidae",
         "marker": {
          "color": "#EF553B",
          "pattern": {
           "shape": ""
          }
         },
         "name": "Myriopathidae",
         "offsetgroup": "Myriopathidae",
         "orientation": "v",
         "showlegend": true,
         "textposition": "auto",
         "type": "bar",
         "x": [
          "MCCDRS"
         ],
         "xaxis": "x",
         "y": [
          0.0021125408104474747
         ],
         "yaxis": "y"
        },
        {
         "alignmentgroup": "True",
         "customdata": [
          [
           "Cancellariidae"
          ]
         ],
         "hovertemplate": "Family=%{customdata[0]}<br>Proportion=%{y}<extra></extra>",
         "legendgroup": "Cancellariidae",
         "marker": {
          "color": "#00cc96",
          "pattern": {
           "shape": ""
          }
         },
         "name": "Cancellariidae",
         "offsetgroup": "Cancellariidae",
         "orientation": "v",
         "showlegend": true,
         "textposition": "auto",
         "type": "bar",
         "x": [
          "MCCDRS"
         ],
         "xaxis": "x",
         "y": [
          0.0021125408104474747
         ],
         "yaxis": "y"
        },
        {
         "alignmentgroup": "True",
         "customdata": [
          [
           "Hippolytidae"
          ]
         ],
         "hovertemplate": "Family=%{customdata[0]}<br>Proportion=%{y}<extra></extra>",
         "legendgroup": "Hippolytidae",
         "marker": {
          "color": "#ab63fa",
          "pattern": {
           "shape": ""
          }
         },
         "name": "Hippolytidae",
         "offsetgroup": "Hippolytidae",
         "orientation": "v",
         "showlegend": true,
         "textposition": "auto",
         "type": "bar",
         "x": [
          "MCCDRS"
         ],
         "xaxis": "x",
         "y": [
          0.0021125408104474747
         ],
         "yaxis": "y"
        },
        {
         "alignmentgroup": "True",
         "customdata": [
          [
           "Galeommatidae"
          ]
         ],
         "hovertemplate": "Family=%{customdata[0]}<br>Proportion=%{y}<extra></extra>",
         "legendgroup": "Galeommatidae",
         "marker": {
          "color": "#FFA15A",
          "pattern": {
           "shape": ""
          }
         },
         "name": "Galeommatidae",
         "offsetgroup": "Galeommatidae",
         "orientation": "v",
         "showlegend": true,
         "textposition": "auto",
         "type": "bar",
         "x": [
          "MCCDRS"
         ],
         "xaxis": "x",
         "y": [
          0.0021125408104474747
         ],
         "yaxis": "y"
        },
        {
         "alignmentgroup": "True",
         "customdata": [
          [
           "Prenasteridae"
          ]
         ],
         "hovertemplate": "Family=%{customdata[0]}<br>Proportion=%{y}<extra></extra>",
         "legendgroup": "Prenasteridae",
         "marker": {
          "color": "#19d3f3",
          "pattern": {
           "shape": ""
          }
         },
         "name": "Prenasteridae",
         "offsetgroup": "Prenasteridae",
         "orientation": "v",
         "showlegend": true,
         "textposition": "auto",
         "type": "bar",
         "x": [
          "MCCDRS"
         ],
         "xaxis": "x",
         "y": [
          0.0021125408104474747
         ],
         "yaxis": "y"
        },
        {
         "alignmentgroup": "True",
         "customdata": [
          [
           "Ophiactidae"
          ]
         ],
         "hovertemplate": "Family=%{customdata[0]}<br>Proportion=%{y}<extra></extra>",
         "legendgroup": "Ophiactidae",
         "marker": {
          "color": "#FF6692",
          "pattern": {
           "shape": ""
          }
         },
         "name": "Ophiactidae",
         "offsetgroup": "Ophiactidae",
         "orientation": "v",
         "showlegend": true,
         "textposition": "auto",
         "type": "bar",
         "x": [
          "MCCDRS"
         ],
         "xaxis": "x",
         "y": [
          0.0021125408104474747
         ],
         "yaxis": "y"
        },
        {
         "alignmentgroup": "True",
         "customdata": [
          [
           "Fungiidae"
          ]
         ],
         "hovertemplate": "Family=%{customdata[0]}<br>Proportion=%{y}<extra></extra>",
         "legendgroup": "Fungiidae",
         "marker": {
          "color": "#B6E880",
          "pattern": {
           "shape": ""
          }
         },
         "name": "Fungiidae",
         "offsetgroup": "Fungiidae",
         "orientation": "v",
         "showlegend": true,
         "textposition": "auto",
         "type": "bar",
         "x": [
          "MCCDRS"
         ],
         "xaxis": "x",
         "y": [
          0.0021125408104474747
         ],
         "yaxis": "y"
        },
        {
         "alignmentgroup": "True",
         "customdata": [
          [
           "Inachidae"
          ]
         ],
         "hovertemplate": "Family=%{customdata[0]}<br>Proportion=%{y}<extra></extra>",
         "legendgroup": "Inachidae",
         "marker": {
          "color": "#FF97FF",
          "pattern": {
           "shape": ""
          }
         },
         "name": "Inachidae",
         "offsetgroup": "Inachidae",
         "orientation": "v",
         "showlegend": true,
         "textposition": "auto",
         "type": "bar",
         "x": [
          "MCCDRS"
         ],
         "xaxis": "x",
         "y": [
          0.0021125408104474747
         ],
         "yaxis": "y"
        },
        {
         "alignmentgroup": "True",
         "customdata": [
          [
           "Culicidae"
          ]
         ],
         "hovertemplate": "Family=%{customdata[0]}<br>Proportion=%{y}<extra></extra>",
         "legendgroup": "Culicidae",
         "marker": {
          "color": "#FECB52",
          "pattern": {
           "shape": ""
          }
         },
         "name": "Culicidae",
         "offsetgroup": "Culicidae",
         "orientation": "v",
         "showlegend": true,
         "textposition": "auto",
         "type": "bar",
         "x": [
          "ICCDRS"
         ],
         "xaxis": "x",
         "y": [
          0.0021097902381628595
         ],
         "yaxis": "y"
        },
        {
         "alignmentgroup": "True",
         "customdata": [
          [
           "Lythraceae"
          ]
         ],
         "hovertemplate": "Family=%{customdata[0]}<br>Proportion=%{y}<extra></extra>",
         "legendgroup": "Lythraceae",
         "marker": {
          "color": "#636efa",
          "pattern": {
           "shape": ""
          }
         },
         "name": "Lythraceae",
         "offsetgroup": "Lythraceae",
         "orientation": "v",
         "showlegend": true,
         "textposition": "auto",
         "type": "bar",
         "x": [
          "CDS"
         ],
         "xaxis": "x",
         "y": [
          0.0020958711338662835
         ],
         "yaxis": "y"
        },
        {
         "alignmentgroup": "True",
         "customdata": [
          [
           "Cleomaceae"
          ]
         ],
         "hovertemplate": "Family=%{customdata[0]}<br>Proportion=%{y}<extra></extra>",
         "legendgroup": "Cleomaceae",
         "marker": {
          "color": "#EF553B",
          "pattern": {
           "shape": ""
          }
         },
         "name": "Cleomaceae",
         "offsetgroup": "Cleomaceae",
         "orientation": "v",
         "showlegend": true,
         "textposition": "auto",
         "type": "bar",
         "x": [
          "CDS"
         ],
         "xaxis": "x",
         "y": [
          0.0020958711338662835
         ],
         "yaxis": "y"
        },
        {
         "alignmentgroup": "True",
         "customdata": [
          [
           "Phyllanthaceae"
          ]
         ],
         "hovertemplate": "Family=%{customdata[0]}<br>Proportion=%{y}<extra></extra>",
         "legendgroup": "Phyllanthaceae",
         "marker": {
          "color": "#00cc96",
          "pattern": {
           "shape": ""
          }
         },
         "name": "Phyllanthaceae",
         "offsetgroup": "Phyllanthaceae",
         "orientation": "v",
         "showlegend": true,
         "textposition": "auto",
         "type": "bar",
         "x": [
          "CDS"
         ],
         "xaxis": "x",
         "y": [
          0.0020958711338662835
         ],
         "yaxis": "y"
        },
        {
         "alignmentgroup": "True",
         "customdata": [
          [
           "Balsaminaceae"
          ]
         ],
         "hovertemplate": "Family=%{customdata[0]}<br>Proportion=%{y}<extra></extra>",
         "legendgroup": "Balsaminaceae",
         "marker": {
          "color": "#ab63fa",
          "pattern": {
           "shape": ""
          }
         },
         "name": "Balsaminaceae",
         "offsetgroup": "Balsaminaceae",
         "orientation": "v",
         "showlegend": true,
         "textposition": "auto",
         "type": "bar",
         "x": [
          "CDS"
         ],
         "xaxis": "x",
         "y": [
          0.0020958711338662835
         ],
         "yaxis": "y"
        },
        {
         "alignmentgroup": "True",
         "customdata": [
          [
           "Verrucariaceae"
          ]
         ],
         "hovertemplate": "Family=%{customdata[0]}<br>Proportion=%{y}<extra></extra>",
         "legendgroup": "Verrucariaceae",
         "marker": {
          "color": "#FFA15A",
          "pattern": {
           "shape": ""
          }
         },
         "name": "Verrucariaceae",
         "offsetgroup": "Verrucariaceae",
         "orientation": "v",
         "showlegend": true,
         "textposition": "auto",
         "type": "bar",
         "x": [
          "CDS"
         ],
         "xaxis": "x",
         "y": [
          0.002006048085272014
         ],
         "yaxis": "y"
        },
        {
         "alignmentgroup": "True",
         "customdata": [
          [
           "Subulinidae"
          ]
         ],
         "hovertemplate": "Family=%{customdata[0]}<br>Proportion=%{y}<extra></extra>",
         "legendgroup": "Subulinidae",
         "marker": {
          "color": "#19d3f3",
          "pattern": {
           "shape": ""
          }
         },
         "name": "Subulinidae",
         "offsetgroup": "Subulinidae",
         "orientation": "v",
         "showlegend": true,
         "textposition": "auto",
         "type": "bar",
         "x": [
          "ICCDRS"
         ],
         "xaxis": "x",
         "y": [
          0.0019880715705765406
         ],
         "yaxis": "y"
        },
        {
         "alignmentgroup": "True",
         "customdata": [
          [
           "Anatidae"
          ]
         ],
         "hovertemplate": "Family=%{customdata[0]}<br>Proportion=%{y}<extra></extra>",
         "legendgroup": "Anatidae",
         "marker": {
          "color": "#FF6692",
          "pattern": {
           "shape": ""
          }
         },
         "name": "Anatidae",
         "offsetgroup": "Anatidae",
         "orientation": "v",
         "showlegend": true,
         "textposition": "auto",
         "type": "bar",
         "x": [
          "VCCDRS"
         ],
         "xaxis": "x",
         "y": [
          0.001984126984126984
         ],
         "yaxis": "y"
        },
        {
         "alignmentgroup": "True",
         "customdata": [
          [
           "Ziphiidae"
          ]
         ],
         "hovertemplate": "Family=%{customdata[0]}<br>Proportion=%{y}<extra></extra>",
         "legendgroup": "Ziphiidae",
         "marker": {
          "color": "#B6E880",
          "pattern": {
           "shape": ""
          }
         },
         "name": "Ziphiidae",
         "offsetgroup": "Ziphiidae",
         "orientation": "v",
         "showlegend": true,
         "textposition": "auto",
         "type": "bar",
         "x": [
          "VCCDRS"
         ],
         "xaxis": "x",
         "y": [
          0.001984126984126984
         ],
         "yaxis": "y"
        },
        {
         "alignmentgroup": "True",
         "customdata": [
          [
           "Hirundinidae"
          ]
         ],
         "hovertemplate": "Family=%{customdata[0]}<br>Proportion=%{y}<extra></extra>",
         "legendgroup": "Hirundinidae",
         "marker": {
          "color": "#FF97FF",
          "pattern": {
           "shape": ""
          }
         },
         "name": "Hirundinidae",
         "offsetgroup": "Hirundinidae",
         "orientation": "v",
         "showlegend": true,
         "textposition": "auto",
         "type": "bar",
         "x": [
          "VCCDRS"
         ],
         "xaxis": "x",
         "y": [
          0.001984126984126984
         ],
         "yaxis": "y"
        },
        {
         "alignmentgroup": "True",
         "customdata": [
          [
           "Araliaceae"
          ]
         ],
         "hovertemplate": "Family=%{customdata[0]}<br>Proportion=%{y}<extra></extra>",
         "legendgroup": "Araliaceae",
         "marker": {
          "color": "#FECB52",
          "pattern": {
           "shape": ""
          }
         },
         "name": "Araliaceae",
         "offsetgroup": "Araliaceae",
         "orientation": "v",
         "showlegend": true,
         "textposition": "auto",
         "type": "bar",
         "x": [
          "CDS"
         ],
         "xaxis": "x",
         "y": [
          0.0019761070690739245
         ],
         "yaxis": "y"
        },
        {
         "alignmentgroup": "True",
         "customdata": [
          [
           "Coenogoniaceae"
          ]
         ],
         "hovertemplate": "Family=%{customdata[0]}<br>Proportion=%{y}<extra></extra>",
         "legendgroup": "Coenogoniaceae",
         "marker": {
          "color": "#636efa",
          "pattern": {
           "shape": ""
          }
         },
         "name": "Coenogoniaceae",
         "offsetgroup": "Coenogoniaceae",
         "orientation": "v",
         "showlegend": true,
         "textposition": "auto",
         "type": "bar",
         "x": [
          "CDS"
         ],
         "xaxis": "x",
         "y": [
          0.0019461660528758346
         ],
         "yaxis": "y"
        },
        {
         "alignmentgroup": "True",
         "customdata": [
          [
           "Leucosiidae"
          ]
         ],
         "hovertemplate": "Family=%{customdata[0]}<br>Proportion=%{y}<extra></extra>",
         "legendgroup": "Leucosiidae",
         "marker": {
          "color": "#EF553B",
          "pattern": {
           "shape": ""
          }
         },
         "name": "Leucosiidae",
         "offsetgroup": "Leucosiidae",
         "orientation": "v",
         "showlegend": true,
         "textposition": "auto",
         "type": "bar",
         "x": [
          "MCCDRS"
         ],
         "xaxis": "x",
         "y": [
          0.0019204916458613404
         ],
         "yaxis": "y"
        },
        {
         "alignmentgroup": "True",
         "customdata": [
          [
           "Andvakiidae"
          ]
         ],
         "hovertemplate": "Family=%{customdata[0]}<br>Proportion=%{y}<extra></extra>",
         "legendgroup": "Andvakiidae",
         "marker": {
          "color": "#00cc96",
          "pattern": {
           "shape": ""
          }
         },
         "name": "Andvakiidae",
         "offsetgroup": "Andvakiidae",
         "orientation": "v",
         "showlegend": true,
         "textposition": "auto",
         "type": "bar",
         "x": [
          "MCCDRS"
         ],
         "xaxis": "x",
         "y": [
          0.0019204916458613404
         ],
         "yaxis": "y"
        },
        {
         "alignmentgroup": "True",
         "customdata": [
          [
           "Siphonariidae"
          ]
         ],
         "hovertemplate": "Family=%{customdata[0]}<br>Proportion=%{y}<extra></extra>",
         "legendgroup": "Siphonariidae",
         "marker": {
          "color": "#ab63fa",
          "pattern": {
           "shape": ""
          }
         },
         "name": "Siphonariidae",
         "offsetgroup": "Siphonariidae",
         "orientation": "v",
         "showlegend": true,
         "textposition": "auto",
         "type": "bar",
         "x": [
          "MCCDRS"
         ],
         "xaxis": "x",
         "y": [
          0.0019204916458613404
         ],
         "yaxis": "y"
        },
        {
         "alignmentgroup": "True",
         "customdata": [
          [
           "Limidae"
          ]
         ],
         "hovertemplate": "Family=%{customdata[0]}<br>Proportion=%{y}<extra></extra>",
         "legendgroup": "Limidae",
         "marker": {
          "color": "#FFA15A",
          "pattern": {
           "shape": ""
          }
         },
         "name": "Limidae",
         "offsetgroup": "Limidae",
         "orientation": "v",
         "showlegend": true,
         "textposition": "auto",
         "type": "bar",
         "x": [
          "MCCDRS"
         ],
         "xaxis": "x",
         "y": [
          0.0019204916458613404
         ],
         "yaxis": "y"
        },
        {
         "alignmentgroup": "True",
         "customdata": [
          [
           "Toxopneustidae"
          ]
         ],
         "hovertemplate": "Family=%{customdata[0]}<br>Proportion=%{y}<extra></extra>",
         "legendgroup": "Toxopneustidae",
         "marker": {
          "color": "#19d3f3",
          "pattern": {
           "shape": ""
          }
         },
         "name": "Toxopneustidae",
         "offsetgroup": "Toxopneustidae",
         "orientation": "v",
         "showlegend": true,
         "textposition": "auto",
         "type": "bar",
         "x": [
          "MCCDRS"
         ],
         "xaxis": "x",
         "y": [
          0.0019204916458613404
         ],
         "yaxis": "y"
        },
        {
         "alignmentgroup": "True",
         "customdata": [
          [
           "Linyphiidae"
          ]
         ],
         "hovertemplate": "Family=%{customdata[0]}<br>Proportion=%{y}<extra></extra>",
         "legendgroup": "Linyphiidae",
         "marker": {
          "color": "#FF6692",
          "pattern": {
           "shape": ""
          }
         },
         "name": "Linyphiidae",
         "offsetgroup": "Linyphiidae",
         "orientation": "v",
         "showlegend": true,
         "textposition": "auto",
         "type": "bar",
         "x": [
          "ICCDRS"
         ],
         "xaxis": "x",
         "y": [
          0.0019069257921856615
         ],
         "yaxis": "y"
        },
        {
         "alignmentgroup": "True",
         "customdata": [
          [
           "Stratiomyidae"
          ]
         ],
         "hovertemplate": "Family=%{customdata[0]}<br>Proportion=%{y}<extra></extra>",
         "legendgroup": "Stratiomyidae",
         "marker": {
          "color": "#B6E880",
          "pattern": {
           "shape": ""
          }
         },
         "name": "Stratiomyidae",
         "offsetgroup": "Stratiomyidae",
         "orientation": "v",
         "showlegend": true,
         "textposition": "auto",
         "type": "bar",
         "x": [
          "ICCDRS"
         ],
         "xaxis": "x",
         "y": [
          0.0019069257921856615
         ],
         "yaxis": "y"
        },
        {
         "alignmentgroup": "True",
         "customdata": [
          [
           "Polygalaceae"
          ]
         ],
         "hovertemplate": "Family=%{customdata[0]}<br>Proportion=%{y}<extra></extra>",
         "legendgroup": "Polygalaceae",
         "marker": {
          "color": "#FF97FF",
          "pattern": {
           "shape": ""
          }
         },
         "name": "Polygalaceae",
         "offsetgroup": "Polygalaceae",
         "orientation": "v",
         "showlegend": true,
         "textposition": "auto",
         "type": "bar",
         "x": [
          "CDS"
         ],
         "xaxis": "x",
         "y": [
          0.001886284020479655
         ],
         "yaxis": "y"
        },
        {
         "alignmentgroup": "True",
         "customdata": [
          [
           "Salticidae"
          ]
         ],
         "hovertemplate": "Family=%{customdata[0]}<br>Proportion=%{y}<extra></extra>",
         "legendgroup": "Salticidae",
         "marker": {
          "color": "#FECB52",
          "pattern": {
           "shape": ""
          }
         },
         "name": "Salticidae",
         "offsetgroup": "Salticidae",
         "orientation": "v",
         "showlegend": true,
         "textposition": "auto",
         "type": "bar",
         "x": [
          "ICCDRS"
         ],
         "xaxis": "x",
         "y": [
          0.001866352902990222
         ],
         "yaxis": "y"
        },
        {
         "alignmentgroup": "True",
         "customdata": [
          [
           "Lycaenidae"
          ]
         ],
         "hovertemplate": "Family=%{customdata[0]}<br>Proportion=%{y}<extra></extra>",
         "legendgroup": "Lycaenidae",
         "marker": {
          "color": "#636efa",
          "pattern": {
           "shape": ""
          }
         },
         "name": "Lycaenidae",
         "offsetgroup": "Lycaenidae",
         "orientation": "v",
         "showlegend": true,
         "textposition": "auto",
         "type": "bar",
         "x": [
          "ICCDRS"
         ],
         "xaxis": "x",
         "y": [
          0.0018257800137947823
         ],
         "yaxis": "y"
        },
        {
         "alignmentgroup": "True",
         "customdata": [
          [
           "Pyrgodesmidae"
          ]
         ],
         "hovertemplate": "Family=%{customdata[0]}<br>Proportion=%{y}<extra></extra>",
         "legendgroup": "Pyrgodesmidae",
         "marker": {
          "color": "#EF553B",
          "pattern": {
           "shape": ""
          }
         },
         "name": "Pyrgodesmidae",
         "offsetgroup": "Pyrgodesmidae",
         "orientation": "v",
         "showlegend": true,
         "textposition": "auto",
         "type": "bar",
         "x": [
          "ICCDRS"
         ],
         "xaxis": "x",
         "y": [
          0.0018257800137947823
         ],
         "yaxis": "y"
        },
        {
         "alignmentgroup": "True",
         "customdata": [
          [
           "Limoniidae"
          ]
         ],
         "hovertemplate": "Family=%{customdata[0]}<br>Proportion=%{y}<extra></extra>",
         "legendgroup": "Limoniidae",
         "marker": {
          "color": "#00cc96",
          "pattern": {
           "shape": ""
          }
         },
         "name": "Limoniidae",
         "offsetgroup": "Limoniidae",
         "orientation": "v",
         "showlegend": true,
         "textposition": "auto",
         "type": "bar",
         "x": [
          "ICCDRS"
         ],
         "xaxis": "x",
         "y": [
          0.0017852071245993428
         ],
         "yaxis": "y"
        },
        {
         "alignmentgroup": "True",
         "customdata": [
          [
           "Pipunculidae"
          ]
         ],
         "hovertemplate": "Family=%{customdata[0]}<br>Proportion=%{y}<extra></extra>",
         "legendgroup": "Pipunculidae",
         "marker": {
          "color": "#ab63fa",
          "pattern": {
           "shape": ""
          }
         },
         "name": "Pipunculidae",
         "offsetgroup": "Pipunculidae",
         "orientation": "v",
         "showlegend": true,
         "textposition": "auto",
         "type": "bar",
         "x": [
          "ICCDRS"
         ],
         "xaxis": "x",
         "y": [
          0.0017852071245993428
         ],
         "yaxis": "y"
        },
        {
         "alignmentgroup": "True",
         "customdata": [
          [
           "Asparagaceae"
          ]
         ],
         "hovertemplate": "Family=%{customdata[0]}<br>Proportion=%{y}<extra></extra>",
         "legendgroup": "Asparagaceae",
         "marker": {
          "color": "#FFA15A",
          "pattern": {
           "shape": ""
          }
         },
         "name": "Asparagaceae",
         "offsetgroup": "Asparagaceae",
         "orientation": "v",
         "showlegend": true,
         "textposition": "auto",
         "type": "bar",
         "x": [
          "CDS"
         ],
         "xaxis": "x",
         "y": [
          0.001766519955687296
         ],
         "yaxis": "y"
        },
        {
         "alignmentgroup": "True",
         "customdata": [
          [
           "Crassulaceae"
          ]
         ],
         "hovertemplate": "Family=%{customdata[0]}<br>Proportion=%{y}<extra></extra>",
         "legendgroup": "Crassulaceae",
         "marker": {
          "color": "#19d3f3",
          "pattern": {
           "shape": ""
          }
         },
         "name": "Crassulaceae",
         "offsetgroup": "Crassulaceae",
         "orientation": "v",
         "showlegend": true,
         "textposition": "auto",
         "type": "bar",
         "x": [
          "CDS"
         ],
         "xaxis": "x",
         "y": [
          0.001766519955687296
         ],
         "yaxis": "y"
        },
        {
         "alignmentgroup": "True",
         "customdata": [
          [
           "Santalaceae"
          ]
         ],
         "hovertemplate": "Family=%{customdata[0]}<br>Proportion=%{y}<extra></extra>",
         "legendgroup": "Santalaceae",
         "marker": {
          "color": "#FF6692",
          "pattern": {
           "shape": ""
          }
         },
         "name": "Santalaceae",
         "offsetgroup": "Santalaceae",
         "orientation": "v",
         "showlegend": true,
         "textposition": "auto",
         "type": "bar",
         "x": [
          "CDS"
         ],
         "xaxis": "x",
         "y": [
          0.0017365789394892062
         ],
         "yaxis": "y"
        },
        {
         "alignmentgroup": "True",
         "customdata": [
          [
           "Sparidae"
          ]
         ],
         "hovertemplate": "Family=%{customdata[0]}<br>Proportion=%{y}<extra></extra>",
         "legendgroup": "Sparidae",
         "marker": {
          "color": "#B6E880",
          "pattern": {
           "shape": ""
          }
         },
         "name": "Sparidae",
         "offsetgroup": "Sparidae",
         "orientation": "v",
         "showlegend": true,
         "textposition": "auto",
         "type": "bar",
         "x": [
          "MCCDRS"
         ],
         "xaxis": "x",
         "y": [
          0.0017284424812752065
         ],
         "yaxis": "y"
        },
        {
         "alignmentgroup": "True",
         "customdata": [
          [
           "Ungulinidae"
          ]
         ],
         "hovertemplate": "Family=%{customdata[0]}<br>Proportion=%{y}<extra></extra>",
         "legendgroup": "Ungulinidae",
         "marker": {
          "color": "#FF97FF",
          "pattern": {
           "shape": ""
          }
         },
         "name": "Ungulinidae",
         "offsetgroup": "Ungulinidae",
         "orientation": "v",
         "showlegend": true,
         "textposition": "auto",
         "type": "bar",
         "x": [
          "MCCDRS"
         ],
         "xaxis": "x",
         "y": [
          0.0017284424812752065
         ],
         "yaxis": "y"
        },
        {
         "alignmentgroup": "True",
         "customdata": [
          [
           "Tetraodontidae"
          ]
         ],
         "hovertemplate": "Family=%{customdata[0]}<br>Proportion=%{y}<extra></extra>",
         "legendgroup": "Tetraodontidae",
         "marker": {
          "color": "#FECB52",
          "pattern": {
           "shape": ""
          }
         },
         "name": "Tetraodontidae",
         "offsetgroup": "Tetraodontidae",
         "orientation": "v",
         "showlegend": true,
         "textposition": "auto",
         "type": "bar",
         "x": [
          "MCCDRS"
         ],
         "xaxis": "x",
         "y": [
          0.0017284424812752065
         ],
         "yaxis": "y"
        },
        {
         "alignmentgroup": "True",
         "customdata": [
          [
           "Myxinidae"
          ]
         ],
         "hovertemplate": "Family=%{customdata[0]}<br>Proportion=%{y}<extra></extra>",
         "legendgroup": "Myxinidae",
         "marker": {
          "color": "#636efa",
          "pattern": {
           "shape": ""
          }
         },
         "name": "Myxinidae",
         "offsetgroup": "Myxinidae",
         "orientation": "v",
         "showlegend": true,
         "textposition": "auto",
         "type": "bar",
         "x": [
          "MCCDRS"
         ],
         "xaxis": "x",
         "y": [
          0.0017284424812752065
         ],
         "yaxis": "y"
        },
        {
         "alignmentgroup": "True",
         "customdata": [
          [
           "Rhynchocinetidae"
          ]
         ],
         "hovertemplate": "Family=%{customdata[0]}<br>Proportion=%{y}<extra></extra>",
         "legendgroup": "Rhynchocinetidae",
         "marker": {
          "color": "#EF553B",
          "pattern": {
           "shape": ""
          }
         },
         "name": "Rhynchocinetidae",
         "offsetgroup": "Rhynchocinetidae",
         "orientation": "v",
         "showlegend": true,
         "textposition": "auto",
         "type": "bar",
         "x": [
          "MCCDRS"
         ],
         "xaxis": "x",
         "y": [
          0.0017284424812752065
         ],
         "yaxis": "y"
        },
        {
         "alignmentgroup": "True",
         "customdata": [
          [
           "Euphausiidae"
          ]
         ],
         "hovertemplate": "Family=%{customdata[0]}<br>Proportion=%{y}<extra></extra>",
         "legendgroup": "Euphausiidae",
         "marker": {
          "color": "#00cc96",
          "pattern": {
           "shape": ""
          }
         },
         "name": "Euphausiidae",
         "offsetgroup": "Euphausiidae",
         "orientation": "v",
         "showlegend": true,
         "textposition": "auto",
         "type": "bar",
         "x": [
          "MCCDRS"
         ],
         "xaxis": "x",
         "y": [
          0.0017284424812752065
         ],
         "yaxis": "y"
        },
        {
         "alignmentgroup": "True",
         "customdata": [
          [
           "Cerithiopsidae"
          ]
         ],
         "hovertemplate": "Family=%{customdata[0]}<br>Proportion=%{y}<extra></extra>",
         "legendgroup": "Cerithiopsidae",
         "marker": {
          "color": "#ab63fa",
          "pattern": {
           "shape": ""
          }
         },
         "name": "Cerithiopsidae",
         "offsetgroup": "Cerithiopsidae",
         "orientation": "v",
         "showlegend": true,
         "textposition": "auto",
         "type": "bar",
         "x": [
          "MCCDRS"
         ],
         "xaxis": "x",
         "y": [
          0.0017284424812752065
         ],
         "yaxis": "y"
        },
        {
         "alignmentgroup": "True",
         "customdata": [
          [
           "Stichopodidae"
          ]
         ],
         "hovertemplate": "Family=%{customdata[0]}<br>Proportion=%{y}<extra></extra>",
         "legendgroup": "Stichopodidae",
         "marker": {
          "color": "#FFA15A",
          "pattern": {
           "shape": ""
          }
         },
         "name": "Stichopodidae",
         "offsetgroup": "Stichopodidae",
         "orientation": "v",
         "showlegend": true,
         "textposition": "auto",
         "type": "bar",
         "x": [
          "MCCDRS"
         ],
         "xaxis": "x",
         "y": [
          0.0017284424812752065
         ],
         "yaxis": "y"
        },
        {
         "alignmentgroup": "True",
         "customdata": [
          [
           "Meliaceae"
          ]
         ],
         "hovertemplate": "Family=%{customdata[0]}<br>Proportion=%{y}<extra></extra>",
         "legendgroup": "Meliaceae",
         "marker": {
          "color": "#19d3f3",
          "pattern": {
           "shape": ""
          }
         },
         "name": "Meliaceae",
         "offsetgroup": "Meliaceae",
         "orientation": "v",
         "showlegend": true,
         "textposition": "auto",
         "type": "bar",
         "x": [
          "CDS"
         ],
         "xaxis": "x",
         "y": [
          0.0017066379232911165
         ],
         "yaxis": "y"
        },
        {
         "alignmentgroup": "True",
         "customdata": [
          [
           "Gnaphosidae"
          ]
         ],
         "hovertemplate": "Family=%{customdata[0]}<br>Proportion=%{y}<extra></extra>",
         "legendgroup": "Gnaphosidae",
         "marker": {
          "color": "#FF6692",
          "pattern": {
           "shape": ""
          }
         },
         "name": "Gnaphosidae",
         "offsetgroup": "Gnaphosidae",
         "orientation": "v",
         "showlegend": true,
         "textposition": "auto",
         "type": "bar",
         "x": [
          "ICCDRS"
         ],
         "xaxis": "x",
         "y": [
          0.0017040613462084636
         ],
         "yaxis": "y"
        },
        {
         "alignmentgroup": "True",
         "customdata": [
          [
           "Ptinidae"
          ]
         ],
         "hovertemplate": "Family=%{customdata[0]}<br>Proportion=%{y}<extra></extra>",
         "legendgroup": "Ptinidae",
         "marker": {
          "color": "#B6E880",
          "pattern": {
           "shape": ""
          }
         },
         "name": "Ptinidae",
         "offsetgroup": "Ptinidae",
         "orientation": "v",
         "showlegend": true,
         "textposition": "auto",
         "type": "bar",
         "x": [
          "ICCDRS"
         ],
         "xaxis": "x",
         "y": [
          0.0017040613462084636
         ],
         "yaxis": "y"
        },
        {
         "alignmentgroup": "True",
         "customdata": [
          [
           "Haematommataceae"
          ]
         ],
         "hovertemplate": "Family=%{customdata[0]}<br>Proportion=%{y}<extra></extra>",
         "legendgroup": "Haematommataceae",
         "marker": {
          "color": "#FF97FF",
          "pattern": {
           "shape": ""
          }
         },
         "name": "Haematommataceae",
         "offsetgroup": "Haematommataceae",
         "orientation": "v",
         "showlegend": true,
         "textposition": "auto",
         "type": "bar",
         "x": [
          "CDS"
         ],
         "xaxis": "x",
         "y": [
          0.0016766969070930266
         ],
         "yaxis": "y"
        },
        {
         "alignmentgroup": "True",
         "customdata": [
          [
           "Arctiidae"
          ]
         ],
         "hovertemplate": "Family=%{customdata[0]}<br>Proportion=%{y}<extra></extra>",
         "legendgroup": "Arctiidae",
         "marker": {
          "color": "#FECB52",
          "pattern": {
           "shape": ""
          }
         },
         "name": "Arctiidae",
         "offsetgroup": "Arctiidae",
         "orientation": "v",
         "showlegend": true,
         "textposition": "auto",
         "type": "bar",
         "x": [
          "ICCDRS"
         ],
         "xaxis": "x",
         "y": [
          0.0016634884570130239
         ],
         "yaxis": "y"
        },
        {
         "alignmentgroup": "True",
         "customdata": [
          [
           "Fanniidae"
          ]
         ],
         "hovertemplate": "Family=%{customdata[0]}<br>Proportion=%{y}<extra></extra>",
         "legendgroup": "Fanniidae",
         "marker": {
          "color": "#636efa",
          "pattern": {
           "shape": ""
          }
         },
         "name": "Fanniidae",
         "offsetgroup": "Fanniidae",
         "orientation": "v",
         "showlegend": true,
         "textposition": "auto",
         "type": "bar",
         "x": [
          "ICCDRS"
         ],
         "xaxis": "x",
         "y": [
          0.0016229155678175843
         ],
         "yaxis": "y"
        },
        {
         "alignmentgroup": "True",
         "customdata": [
          [
           "Coccidae"
          ]
         ],
         "hovertemplate": "Family=%{customdata[0]}<br>Proportion=%{y}<extra></extra>",
         "legendgroup": "Coccidae",
         "marker": {
          "color": "#EF553B",
          "pattern": {
           "shape": ""
          }
         },
         "name": "Coccidae",
         "offsetgroup": "Coccidae",
         "orientation": "v",
         "showlegend": true,
         "textposition": "auto",
         "type": "bar",
         "x": [
          "ICCDRS"
         ],
         "xaxis": "x",
         "y": [
          0.0015823426786221446
         ],
         "yaxis": "y"
        },
        {
         "alignmentgroup": "True",
         "customdata": [
          [
           "Diaspididae"
          ]
         ],
         "hovertemplate": "Family=%{customdata[0]}<br>Proportion=%{y}<extra></extra>",
         "legendgroup": "Diaspididae",
         "marker": {
          "color": "#00cc96",
          "pattern": {
           "shape": ""
          }
         },
         "name": "Diaspididae",
         "offsetgroup": "Diaspididae",
         "orientation": "v",
         "showlegend": true,
         "textposition": "auto",
         "type": "bar",
         "x": [
          "ICCDRS"
         ],
         "xaxis": "x",
         "y": [
          0.0015823426786221446
         ],
         "yaxis": "y"
        },
        {
         "alignmentgroup": "True",
         "customdata": [
          [
           "Thespidae"
          ]
         ],
         "hovertemplate": "Family=%{customdata[0]}<br>Proportion=%{y}<extra></extra>",
         "legendgroup": "Thespidae",
         "marker": {
          "color": "#ab63fa",
          "pattern": {
           "shape": ""
          }
         },
         "name": "Thespidae",
         "offsetgroup": "Thespidae",
         "orientation": "v",
         "showlegend": true,
         "textposition": "auto",
         "type": "bar",
         "x": [
          "ICCDRS"
         ],
         "xaxis": "x",
         "y": [
          0.0015823426786221446
         ],
         "yaxis": "y"
        },
        {
         "alignmentgroup": "True",
         "customdata": [
          [
           "Montiaceae"
          ]
         ],
         "hovertemplate": "Family=%{customdata[0]}<br>Proportion=%{y}<extra></extra>",
         "legendgroup": "Montiaceae",
         "marker": {
          "color": "#FFA15A",
          "pattern": {
           "shape": ""
          }
         },
         "name": "Montiaceae",
         "offsetgroup": "Montiaceae",
         "orientation": "v",
         "showlegend": true,
         "textposition": "auto",
         "type": "bar",
         "x": [
          "CDS"
         ],
         "xaxis": "x",
         "y": [
          0.0015569328423006676
         ],
         "yaxis": "y"
        },
        {
         "alignmentgroup": "True",
         "customdata": [
          [
           "Porinaceae"
          ]
         ],
         "hovertemplate": "Family=%{customdata[0]}<br>Proportion=%{y}<extra></extra>",
         "legendgroup": "Porinaceae",
         "marker": {
          "color": "#19d3f3",
          "pattern": {
           "shape": ""
          }
         },
         "name": "Porinaceae",
         "offsetgroup": "Porinaceae",
         "orientation": "v",
         "showlegend": true,
         "textposition": "auto",
         "type": "bar",
         "x": [
          "CDS"
         ],
         "xaxis": "x",
         "y": [
          0.0015569328423006676
         ],
         "yaxis": "y"
        },
        {
         "alignmentgroup": "True",
         "customdata": [
          [
           "Lycopodiaceae"
          ]
         ],
         "hovertemplate": "Family=%{customdata[0]}<br>Proportion=%{y}<extra></extra>",
         "legendgroup": "Lycopodiaceae",
         "marker": {
          "color": "#FF6692",
          "pattern": {
           "shape": ""
          }
         },
         "name": "Lycopodiaceae",
         "offsetgroup": "Lycopodiaceae",
         "orientation": "v",
         "showlegend": true,
         "textposition": "auto",
         "type": "bar",
         "x": [
          "CDS"
         ],
         "xaxis": "x",
         "y": [
          0.0015569328423006676
         ],
         "yaxis": "y"
        },
        {
         "alignmentgroup": "True",
         "customdata": [
          [
           "Caryophyllaceae"
          ]
         ],
         "hovertemplate": "Family=%{customdata[0]}<br>Proportion=%{y}<extra></extra>",
         "legendgroup": "Caryophyllaceae",
         "marker": {
          "color": "#B6E880",
          "pattern": {
           "shape": ""
          }
         },
         "name": "Caryophyllaceae",
         "offsetgroup": "Caryophyllaceae",
         "orientation": "v",
         "showlegend": true,
         "textposition": "auto",
         "type": "bar",
         "x": [
          "CDS"
         ],
         "xaxis": "x",
         "y": [
          0.0015569328423006676
         ],
         "yaxis": "y"
        },
        {
         "alignmentgroup": "True",
         "customdata": [
          [
           "Scombridae"
          ]
         ],
         "hovertemplate": "Family=%{customdata[0]}<br>Proportion=%{y}<extra></extra>",
         "legendgroup": "Scombridae",
         "marker": {
          "color": "#FF97FF",
          "pattern": {
           "shape": ""
          }
         },
         "name": "Scombridae",
         "offsetgroup": "Scombridae",
         "orientation": "v",
         "showlegend": true,
         "textposition": "auto",
         "type": "bar",
         "x": [
          "MCCDRS"
         ],
         "xaxis": "x",
         "y": [
          0.0015363933166890724
         ],
         "yaxis": "y"
        },
        {
         "alignmentgroup": "True",
         "customdata": [
          [
           "Calliostomatidae"
          ]
         ],
         "hovertemplate": "Family=%{customdata[0]}<br>Proportion=%{y}<extra></extra>",
         "legendgroup": "Calliostomatidae",
         "marker": {
          "color": "#FECB52",
          "pattern": {
           "shape": ""
          }
         },
         "name": "Calliostomatidae",
         "offsetgroup": "Calliostomatidae",
         "orientation": "v",
         "showlegend": true,
         "textposition": "auto",
         "type": "bar",
         "x": [
          "MCCDRS"
         ],
         "xaxis": "x",
         "y": [
          0.0015363933166890724
         ],
         "yaxis": "y"
        },
        {
         "alignmentgroup": "True",
         "customdata": [
          [
           "Pyuridae"
          ]
         ],
         "hovertemplate": "Family=%{customdata[0]}<br>Proportion=%{y}<extra></extra>",
         "legendgroup": "Pyuridae",
         "marker": {
          "color": "#636efa",
          "pattern": {
           "shape": ""
          }
         },
         "name": "Pyuridae",
         "offsetgroup": "Pyuridae",
         "orientation": "v",
         "showlegend": true,
         "textposition": "auto",
         "type": "bar",
         "x": [
          "MCCDRS"
         ],
         "xaxis": "x",
         "y": [
          0.0015363933166890724
         ],
         "yaxis": "y"
        },
        {
         "alignmentgroup": "True",
         "customdata": [
          [
           "Apogonidae"
          ]
         ],
         "hovertemplate": "Family=%{customdata[0]}<br>Proportion=%{y}<extra></extra>",
         "legendgroup": "Apogonidae",
         "marker": {
          "color": "#EF553B",
          "pattern": {
           "shape": ""
          }
         },
         "name": "Apogonidae",
         "offsetgroup": "Apogonidae",
         "orientation": "v",
         "showlegend": true,
         "textposition": "auto",
         "type": "bar",
         "x": [
          "MCCDRS"
         ],
         "xaxis": "x",
         "y": [
          0.0015363933166890724
         ],
         "yaxis": "y"
        },
        {
         "alignmentgroup": "True",
         "customdata": [
          [
           "Luidiidae"
          ]
         ],
         "hovertemplate": "Family=%{customdata[0]}<br>Proportion=%{y}<extra></extra>",
         "legendgroup": "Luidiidae",
         "marker": {
          "color": "#00cc96",
          "pattern": {
           "shape": ""
          }
         },
         "name": "Luidiidae",
         "offsetgroup": "Luidiidae",
         "orientation": "v",
         "showlegend": true,
         "textposition": "auto",
         "type": "bar",
         "x": [
          "MCCDRS"
         ],
         "xaxis": "x",
         "y": [
          0.0015363933166890724
         ],
         "yaxis": "y"
        },
        {
         "alignmentgroup": "True",
         "customdata": [
          [
           "Dorosomatidae"
          ]
         ],
         "hovertemplate": "Family=%{customdata[0]}<br>Proportion=%{y}<extra></extra>",
         "legendgroup": "Dorosomatidae",
         "marker": {
          "color": "#ab63fa",
          "pattern": {
           "shape": ""
          }
         },
         "name": "Dorosomatidae",
         "offsetgroup": "Dorosomatidae",
         "orientation": "v",
         "showlegend": true,
         "textposition": "auto",
         "type": "bar",
         "x": [
          "MCCDRS"
         ],
         "xaxis": "x",
         "y": [
          0.0015363933166890724
         ],
         "yaxis": "y"
        },
        {
         "alignmentgroup": "True",
         "customdata": [
          [
           "Hemiramphidae"
          ]
         ],
         "hovertemplate": "Family=%{customdata[0]}<br>Proportion=%{y}<extra></extra>",
         "legendgroup": "Hemiramphidae",
         "marker": {
          "color": "#FFA15A",
          "pattern": {
           "shape": ""
          }
         },
         "name": "Hemiramphidae",
         "offsetgroup": "Hemiramphidae",
         "orientation": "v",
         "showlegend": true,
         "textposition": "auto",
         "type": "bar",
         "x": [
          "MCCDRS"
         ],
         "xaxis": "x",
         "y": [
          0.0015363933166890724
         ],
         "yaxis": "y"
        },
        {
         "alignmentgroup": "True",
         "customdata": [
          [
           "Eleotridae"
          ]
         ],
         "hovertemplate": "Family=%{customdata[0]}<br>Proportion=%{y}<extra></extra>",
         "legendgroup": "Eleotridae",
         "marker": {
          "color": "#19d3f3",
          "pattern": {
           "shape": ""
          }
         },
         "name": "Eleotridae",
         "offsetgroup": "Eleotridae",
         "orientation": "v",
         "showlegend": true,
         "textposition": "auto",
         "type": "bar",
         "x": [
          "MCCDRS"
         ],
         "xaxis": "x",
         "y": [
          0.0015363933166890724
         ],
         "yaxis": "y"
        },
        {
         "alignmentgroup": "True",
         "customdata": [
          [
           "Pterosagittidae"
          ]
         ],
         "hovertemplate": "Family=%{customdata[0]}<br>Proportion=%{y}<extra></extra>",
         "legendgroup": "Pterosagittidae",
         "marker": {
          "color": "#FF6692",
          "pattern": {
           "shape": ""
          }
         },
         "name": "Pterosagittidae",
         "offsetgroup": "Pterosagittidae",
         "orientation": "v",
         "showlegend": true,
         "textposition": "auto",
         "type": "bar",
         "x": [
          "MCCDRS"
         ],
         "xaxis": "x",
         "y": [
          0.0015363933166890724
         ],
         "yaxis": "y"
        },
        {
         "alignmentgroup": "True",
         "customdata": [
          [
           "Sertulariidae"
          ]
         ],
         "hovertemplate": "Family=%{customdata[0]}<br>Proportion=%{y}<extra></extra>",
         "legendgroup": "Sertulariidae",
         "marker": {
          "color": "#B6E880",
          "pattern": {
           "shape": ""
          }
         },
         "name": "Sertulariidae",
         "offsetgroup": "Sertulariidae",
         "orientation": "v",
         "showlegend": true,
         "textposition": "auto",
         "type": "bar",
         "x": [
          "MCCDRS"
         ],
         "xaxis": "x",
         "y": [
          0.0015363933166890724
         ],
         "yaxis": "y"
        },
        {
         "alignmentgroup": "True",
         "customdata": [
          [
           "Antipathidae"
          ]
         ],
         "hovertemplate": "Family=%{customdata[0]}<br>Proportion=%{y}<extra></extra>",
         "legendgroup": "Antipathidae",
         "marker": {
          "color": "#FF97FF",
          "pattern": {
           "shape": ""
          }
         },
         "name": "Antipathidae",
         "offsetgroup": "Antipathidae",
         "orientation": "v",
         "showlegend": true,
         "textposition": "auto",
         "type": "bar",
         "x": [
          "MCCDRS"
         ],
         "xaxis": "x",
         "y": [
          0.0015363933166890724
         ],
         "yaxis": "y"
        },
        {
         "alignmentgroup": "True",
         "customdata": [
          [
           "Ostreidae"
          ]
         ],
         "hovertemplate": "Family=%{customdata[0]}<br>Proportion=%{y}<extra></extra>",
         "legendgroup": "Ostreidae",
         "marker": {
          "color": "#FECB52",
          "pattern": {
           "shape": ""
          }
         },
         "name": "Ostreidae",
         "offsetgroup": "Ostreidae",
         "orientation": "v",
         "showlegend": true,
         "textposition": "auto",
         "type": "bar",
         "x": [
          "MCCDRS"
         ],
         "xaxis": "x",
         "y": [
          0.0015363933166890724
         ],
         "yaxis": "y"
        },
        {
         "alignmentgroup": "True",
         "customdata": [
          [
           "Acanthochitonidae"
          ]
         ],
         "hovertemplate": "Family=%{customdata[0]}<br>Proportion=%{y}<extra></extra>",
         "legendgroup": "Acanthochitonidae",
         "marker": {
          "color": "#636efa",
          "pattern": {
           "shape": ""
          }
         },
         "name": "Acanthochitonidae",
         "offsetgroup": "Acanthochitonidae",
         "orientation": "v",
         "showlegend": true,
         "textposition": "auto",
         "type": "bar",
         "x": [
          "MCCDRS"
         ],
         "xaxis": "x",
         "y": [
          0.0015363933166890724
         ],
         "yaxis": "y"
        },
        {
         "alignmentgroup": "True",
         "customdata": [
          [
           "Lepadidae"
          ]
         ],
         "hovertemplate": "Family=%{customdata[0]}<br>Proportion=%{y}<extra></extra>",
         "legendgroup": "Lepadidae",
         "marker": {
          "color": "#EF553B",
          "pattern": {
           "shape": ""
          }
         },
         "name": "Lepadidae",
         "offsetgroup": "Lepadidae",
         "orientation": "v",
         "showlegend": true,
         "textposition": "auto",
         "type": "bar",
         "x": [
          "MCCDRS"
         ],
         "xaxis": "x",
         "y": [
          0.0015363933166890724
         ],
         "yaxis": "y"
        },
        {
         "alignmentgroup": "True",
         "customdata": [
          [
           "Dairidae"
          ]
         ],
         "hovertemplate": "Family=%{customdata[0]}<br>Proportion=%{y}<extra></extra>",
         "legendgroup": "Dairidae",
         "marker": {
          "color": "#00cc96",
          "pattern": {
           "shape": ""
          }
         },
         "name": "Dairidae",
         "offsetgroup": "Dairidae",
         "orientation": "v",
         "showlegend": true,
         "textposition": "auto",
         "type": "bar",
         "x": [
          "MCCDRS"
         ],
         "xaxis": "x",
         "y": [
          0.0015363933166890724
         ],
         "yaxis": "y"
        },
        {
         "alignmentgroup": "True",
         "customdata": [
          [
           "Astrangiidae"
          ]
         ],
         "hovertemplate": "Family=%{customdata[0]}<br>Proportion=%{y}<extra></extra>",
         "legendgroup": "Astrangiidae",
         "marker": {
          "color": "#ab63fa",
          "pattern": {
           "shape": ""
          }
         },
         "name": "Astrangiidae",
         "offsetgroup": "Astrangiidae",
         "orientation": "v",
         "showlegend": true,
         "textposition": "auto",
         "type": "bar",
         "x": [
          "MCCDRS"
         ],
         "xaxis": "x",
         "y": [
          0.0015363933166890724
         ],
         "yaxis": "y"
        },
        {
         "alignmentgroup": "True",
         "customdata": [
          [
           "Vitaceae"
          ]
         ],
         "hovertemplate": "Family=%{customdata[0]}<br>Proportion=%{y}<extra></extra>",
         "legendgroup": "Vitaceae",
         "marker": {
          "color": "#FFA15A",
          "pattern": {
           "shape": ""
          }
         },
         "name": "Vitaceae",
         "offsetgroup": "Vitaceae",
         "orientation": "v",
         "showlegend": true,
         "textposition": "auto",
         "type": "bar",
         "x": [
          "CDS"
         ],
         "xaxis": "x",
         "y": [
          0.001526991826102578
         ],
         "yaxis": "y"
        },
        {
         "alignmentgroup": "True",
         "customdata": [
          [
           "Corixidae"
          ]
         ],
         "hovertemplate": "Family=%{customdata[0]}<br>Proportion=%{y}<extra></extra>",
         "legendgroup": "Corixidae",
         "marker": {
          "color": "#19d3f3",
          "pattern": {
           "shape": ""
          }
         },
         "name": "Corixidae",
         "offsetgroup": "Corixidae",
         "orientation": "v",
         "showlegend": true,
         "textposition": "auto",
         "type": "bar",
         "x": [
          "ICCDRS"
         ],
         "xaxis": "x",
         "y": [
          0.0015011969002312654
         ],
         "yaxis": "y"
        },
        {
         "alignmentgroup": "True",
         "customdata": [
          [
           "Tachinidae"
          ]
         ],
         "hovertemplate": "Family=%{customdata[0]}<br>Proportion=%{y}<extra></extra>",
         "legendgroup": "Tachinidae",
         "marker": {
          "color": "#FF6692",
          "pattern": {
           "shape": ""
          }
         },
         "name": "Tachinidae",
         "offsetgroup": "Tachinidae",
         "orientation": "v",
         "showlegend": true,
         "textposition": "auto",
         "type": "bar",
         "x": [
          "ICCDRS"
         ],
         "xaxis": "x",
         "y": [
          0.0014200511218403862
         ],
         "yaxis": "y"
        },
        {
         "alignmentgroup": "True",
         "customdata": [
          [
           "Brigantiaeaceae"
          ]
         ],
         "hovertemplate": "Family=%{customdata[0]}<br>Proportion=%{y}<extra></extra>",
         "legendgroup": "Brigantiaeaceae",
         "marker": {
          "color": "#B6E880",
          "pattern": {
           "shape": ""
          }
         },
         "name": "Brigantiaeaceae",
         "offsetgroup": "Brigantiaeaceae",
         "orientation": "v",
         "showlegend": true,
         "textposition": "auto",
         "type": "bar",
         "x": [
          "CDS"
         ],
         "xaxis": "x",
         "y": [
          0.001407227761310219
         ],
         "yaxis": "y"
        },
        {
         "alignmentgroup": "True",
         "customdata": [
          [
           "Annonaceae"
          ]
         ],
         "hovertemplate": "Family=%{customdata[0]}<br>Proportion=%{y}<extra></extra>",
         "legendgroup": "Annonaceae",
         "marker": {
          "color": "#FF97FF",
          "pattern": {
           "shape": ""
          }
         },
         "name": "Annonaceae",
         "offsetgroup": "Annonaceae",
         "orientation": "v",
         "showlegend": true,
         "textposition": "auto",
         "type": "bar",
         "x": [
          "CDS"
         ],
         "xaxis": "x",
         "y": [
          0.001407227761310219
         ],
         "yaxis": "y"
        },
        {
         "alignmentgroup": "True",
         "customdata": [
          [
           "Trogidae"
          ]
         ],
         "hovertemplate": "Family=%{customdata[0]}<br>Proportion=%{y}<extra></extra>",
         "legendgroup": "Trogidae",
         "marker": {
          "color": "#FECB52",
          "pattern": {
           "shape": ""
          }
         },
         "name": "Trogidae",
         "offsetgroup": "Trogidae",
         "orientation": "v",
         "showlegend": true,
         "textposition": "auto",
         "type": "bar",
         "x": [
          "ICCDRS"
         ],
         "xaxis": "x",
         "y": [
          0.0013794782326449467
         ],
         "yaxis": "y"
        },
        {
         "alignmentgroup": "True",
         "customdata": [
          [
           "Hemerobiidae"
          ]
         ],
         "hovertemplate": "Family=%{customdata[0]}<br>Proportion=%{y}<extra></extra>",
         "legendgroup": "Hemerobiidae",
         "marker": {
          "color": "#636efa",
          "pattern": {
           "shape": ""
          }
         },
         "name": "Hemerobiidae",
         "offsetgroup": "Hemerobiidae",
         "orientation": "v",
         "showlegend": true,
         "textposition": "auto",
         "type": "bar",
         "x": [
          "ICCDRS"
         ],
         "xaxis": "x",
         "y": [
          0.0013794782326449467
         ],
         "yaxis": "y"
        },
        {
         "alignmentgroup": "True",
         "customdata": [
          [
           "Mordellidae"
          ]
         ],
         "hovertemplate": "Family=%{customdata[0]}<br>Proportion=%{y}<extra></extra>",
         "legendgroup": "Mordellidae",
         "marker": {
          "color": "#EF553B",
          "pattern": {
           "shape": ""
          }
         },
         "name": "Mordellidae",
         "offsetgroup": "Mordellidae",
         "orientation": "v",
         "showlegend": true,
         "textposition": "auto",
         "type": "bar",
         "x": [
          "ICCDRS"
         ],
         "xaxis": "x",
         "y": [
          0.0013794782326449467
         ],
         "yaxis": "y"
        },
        {
         "alignmentgroup": "True",
         "customdata": [
          [
           "Myrmeleontidae"
          ]
         ],
         "hovertemplate": "Family=%{customdata[0]}<br>Proportion=%{y}<extra></extra>",
         "legendgroup": "Myrmeleontidae",
         "marker": {
          "color": "#00cc96",
          "pattern": {
           "shape": ""
          }
         },
         "name": "Myrmeleontidae",
         "offsetgroup": "Myrmeleontidae",
         "orientation": "v",
         "showlegend": true,
         "textposition": "auto",
         "type": "bar",
         "x": [
          "ICCDRS"
         ],
         "xaxis": "x",
         "y": [
          0.0013794782326449467
         ],
         "yaxis": "y"
        },
        {
         "alignmentgroup": "True",
         "customdata": [
          [
           "Onagraceae"
          ]
         ],
         "hovertemplate": "Family=%{customdata[0]}<br>Proportion=%{y}<extra></extra>",
         "legendgroup": "Onagraceae",
         "marker": {
          "color": "#ab63fa",
          "pattern": {
           "shape": ""
          }
         },
         "name": "Onagraceae",
         "offsetgroup": "Onagraceae",
         "orientation": "v",
         "showlegend": true,
         "textposition": "auto",
         "type": "bar",
         "x": [
          "CDS"
         ],
         "xaxis": "x",
         "y": [
          0.0013473457289140394
         ],
         "yaxis": "y"
        },
        {
         "alignmentgroup": "True",
         "customdata": [
          [
           "Holocentridae"
          ]
         ],
         "hovertemplate": "Family=%{customdata[0]}<br>Proportion=%{y}<extra></extra>",
         "legendgroup": "Holocentridae",
         "marker": {
          "color": "#FFA15A",
          "pattern": {
           "shape": ""
          }
         },
         "name": "Holocentridae",
         "offsetgroup": "Holocentridae",
         "orientation": "v",
         "showlegend": true,
         "textposition": "auto",
         "type": "bar",
         "x": [
          "MCCDRS"
         ],
         "xaxis": "x",
         "y": [
          0.0013443441521029385
         ],
         "yaxis": "y"
        },
        {
         "alignmentgroup": "True",
         "customdata": [
          [
           "Clypeasteridae"
          ]
         ],
         "hovertemplate": "Family=%{customdata[0]}<br>Proportion=%{y}<extra></extra>",
         "legendgroup": "Clypeasteridae",
         "marker": {
          "color": "#19d3f3",
          "pattern": {
           "shape": ""
          }
         },
         "name": "Clypeasteridae",
         "offsetgroup": "Clypeasteridae",
         "orientation": "v",
         "showlegend": true,
         "textposition": "auto",
         "type": "bar",
         "x": [
          "MCCDRS"
         ],
         "xaxis": "x",
         "y": [
          0.0013443441521029385
         ],
         "yaxis": "y"
        },
        {
         "alignmentgroup": "True",
         "customdata": [
          [
           "Syngnathidae"
          ]
         ],
         "hovertemplate": "Family=%{customdata[0]}<br>Proportion=%{y}<extra></extra>",
         "legendgroup": "Syngnathidae",
         "marker": {
          "color": "#FF6692",
          "pattern": {
           "shape": ""
          }
         },
         "name": "Syngnathidae",
         "offsetgroup": "Syngnathidae",
         "orientation": "v",
         "showlegend": true,
         "textposition": "auto",
         "type": "bar",
         "x": [
          "MCCDRS"
         ],
         "xaxis": "x",
         "y": [
          0.0013443441521029385
         ],
         "yaxis": "y"
        },
        {
         "alignmentgroup": "True",
         "customdata": [
          [
           "Scyllaridae"
          ]
         ],
         "hovertemplate": "Family=%{customdata[0]}<br>Proportion=%{y}<extra></extra>",
         "legendgroup": "Scyllaridae",
         "marker": {
          "color": "#B6E880",
          "pattern": {
           "shape": ""
          }
         },
         "name": "Scyllaridae",
         "offsetgroup": "Scyllaridae",
         "orientation": "v",
         "showlegend": true,
         "textposition": "auto",
         "type": "bar",
         "x": [
          "MCCDRS"
         ],
         "xaxis": "x",
         "y": [
          0.0013443441521029385
         ],
         "yaxis": "y"
        },
        {
         "alignmentgroup": "True",
         "customdata": [
          [
           "Vermetidae"
          ]
         ],
         "hovertemplate": "Family=%{customdata[0]}<br>Proportion=%{y}<extra></extra>",
         "legendgroup": "Vermetidae",
         "marker": {
          "color": "#FF97FF",
          "pattern": {
           "shape": ""
          }
         },
         "name": "Vermetidae",
         "offsetgroup": "Vermetidae",
         "orientation": "v",
         "showlegend": true,
         "textposition": "auto",
         "type": "bar",
         "x": [
          "MCCDRS"
         ],
         "xaxis": "x",
         "y": [
          0.0013443441521029385
         ],
         "yaxis": "y"
        },
        {
         "alignmentgroup": "True",
         "customdata": [
          [
           "Harpidae"
          ]
         ],
         "hovertemplate": "Family=%{customdata[0]}<br>Proportion=%{y}<extra></extra>",
         "legendgroup": "Harpidae",
         "marker": {
          "color": "#FECB52",
          "pattern": {
           "shape": ""
          }
         },
         "name": "Harpidae",
         "offsetgroup": "Harpidae",
         "orientation": "v",
         "showlegend": true,
         "textposition": "auto",
         "type": "bar",
         "x": [
          "MCCDRS"
         ],
         "xaxis": "x",
         "y": [
          0.0013443441521029385
         ],
         "yaxis": "y"
        },
        {
         "alignmentgroup": "True",
         "customdata": [
          [
           "Plagusiidae"
          ]
         ],
         "hovertemplate": "Family=%{customdata[0]}<br>Proportion=%{y}<extra></extra>",
         "legendgroup": "Plagusiidae",
         "marker": {
          "color": "#636efa",
          "pattern": {
           "shape": ""
          }
         },
         "name": "Plagusiidae",
         "offsetgroup": "Plagusiidae",
         "orientation": "v",
         "showlegend": true,
         "textposition": "auto",
         "type": "bar",
         "x": [
          "MCCDRS"
         ],
         "xaxis": "x",
         "y": [
          0.0013443441521029385
         ],
         "yaxis": "y"
        },
        {
         "alignmentgroup": "True",
         "customdata": [
          [
           "Calappidae"
          ]
         ],
         "hovertemplate": "Family=%{customdata[0]}<br>Proportion=%{y}<extra></extra>",
         "legendgroup": "Calappidae",
         "marker": {
          "color": "#EF553B",
          "pattern": {
           "shape": ""
          }
         },
         "name": "Calappidae",
         "offsetgroup": "Calappidae",
         "orientation": "v",
         "showlegend": true,
         "textposition": "auto",
         "type": "bar",
         "x": [
          "MCCDRS"
         ],
         "xaxis": "x",
         "y": [
          0.0013443441521029385
         ],
         "yaxis": "y"
        },
        {
         "alignmentgroup": "True",
         "customdata": [
          [
           "Sicyoniidae"
          ]
         ],
         "hovertemplate": "Family=%{customdata[0]}<br>Proportion=%{y}<extra></extra>",
         "legendgroup": "Sicyoniidae",
         "marker": {
          "color": "#00cc96",
          "pattern": {
           "shape": ""
          }
         },
         "name": "Sicyoniidae",
         "offsetgroup": "Sicyoniidae",
         "orientation": "v",
         "showlegend": true,
         "textposition": "auto",
         "type": "bar",
         "x": [
          "MCCDRS"
         ],
         "xaxis": "x",
         "y": [
          0.0013443441521029385
         ],
         "yaxis": "y"
        },
        {
         "alignmentgroup": "True",
         "customdata": [
          [
           "Ogcocephalidae"
          ]
         ],
         "hovertemplate": "Family=%{customdata[0]}<br>Proportion=%{y}<extra></extra>",
         "legendgroup": "Ogcocephalidae",
         "marker": {
          "color": "#ab63fa",
          "pattern": {
           "shape": ""
          }
         },
         "name": "Ogcocephalidae",
         "offsetgroup": "Ogcocephalidae",
         "orientation": "v",
         "showlegend": true,
         "textposition": "auto",
         "type": "bar",
         "x": [
          "MCCDRS"
         ],
         "xaxis": "x",
         "y": [
          0.0013443441521029385
         ],
         "yaxis": "y"
        },
        {
         "alignmentgroup": "True",
         "customdata": [
          [
           "Ophiodermatidae"
          ]
         ],
         "hovertemplate": "Family=%{customdata[0]}<br>Proportion=%{y}<extra></extra>",
         "legendgroup": "Ophiodermatidae",
         "marker": {
          "color": "#FFA15A",
          "pattern": {
           "shape": ""
          }
         },
         "name": "Ophiodermatidae",
         "offsetgroup": "Ophiodermatidae",
         "orientation": "v",
         "showlegend": true,
         "textposition": "auto",
         "type": "bar",
         "x": [
          "MCCDRS"
         ],
         "xaxis": "x",
         "y": [
          0.0013443441521029385
         ],
         "yaxis": "y"
        },
        {
         "alignmentgroup": "True",
         "customdata": [
          [
           "Gobiesocidae"
          ]
         ],
         "hovertemplate": "Family=%{customdata[0]}<br>Proportion=%{y}<extra></extra>",
         "legendgroup": "Gobiesocidae",
         "marker": {
          "color": "#19d3f3",
          "pattern": {
           "shape": ""
          }
         },
         "name": "Gobiesocidae",
         "offsetgroup": "Gobiesocidae",
         "orientation": "v",
         "showlegend": true,
         "textposition": "auto",
         "type": "bar",
         "x": [
          "MCCDRS"
         ],
         "xaxis": "x",
         "y": [
          0.0013443441521029385
         ],
         "yaxis": "y"
        },
        {
         "alignmentgroup": "True",
         "customdata": [
          [
           "Ophichthidae"
          ]
         ],
         "hovertemplate": "Family=%{customdata[0]}<br>Proportion=%{y}<extra></extra>",
         "legendgroup": "Ophichthidae",
         "marker": {
          "color": "#FF6692",
          "pattern": {
           "shape": ""
          }
         },
         "name": "Ophichthidae",
         "offsetgroup": "Ophichthidae",
         "orientation": "v",
         "showlegend": true,
         "textposition": "auto",
         "type": "bar",
         "x": [
          "MCCDRS"
         ],
         "xaxis": "x",
         "y": [
          0.0013443441521029385
         ],
         "yaxis": "y"
        },
        {
         "alignmentgroup": "True",
         "customdata": [
          [
           "Kyphosidae"
          ]
         ],
         "hovertemplate": "Family=%{customdata[0]}<br>Proportion=%{y}<extra></extra>",
         "legendgroup": "Kyphosidae",
         "marker": {
          "color": "#B6E880",
          "pattern": {
           "shape": ""
          }
         },
         "name": "Kyphosidae",
         "offsetgroup": "Kyphosidae",
         "orientation": "v",
         "showlegend": true,
         "textposition": "auto",
         "type": "bar",
         "x": [
          "MCCDRS"
         ],
         "xaxis": "x",
         "y": [
          0.0013443441521029385
         ],
         "yaxis": "y"
        },
        {
         "alignmentgroup": "True",
         "customdata": [
          [
           "Anthocoridae"
          ]
         ],
         "hovertemplate": "Family=%{customdata[0]}<br>Proportion=%{y}<extra></extra>",
         "legendgroup": "Anthocoridae",
         "marker": {
          "color": "#FF97FF",
          "pattern": {
           "shape": ""
          }
         },
         "name": "Anthocoridae",
         "offsetgroup": "Anthocoridae",
         "orientation": "v",
         "showlegend": true,
         "textposition": "auto",
         "type": "bar",
         "x": [
          "ICCDRS"
         ],
         "xaxis": "x",
         "y": [
          0.001338905343449507
         ],
         "yaxis": "y"
        },
        {
         "alignmentgroup": "True",
         "customdata": [
          [
           "Spongiphoridae"
          ],
          [
           "Spongiphoridae"
          ]
         ],
         "hovertemplate": "Family=%{customdata[0]}<br>Proportion=%{y}<extra></extra>",
         "legendgroup": "Spongiphoridae",
         "marker": {
          "color": "#FECB52",
          "pattern": {
           "shape": ""
          }
         },
         "name": "Spongiphoridae",
         "offsetgroup": "Spongiphoridae",
         "orientation": "v",
         "showlegend": true,
         "textposition": "auto",
         "type": "bar",
         "x": [
          "ICCDRS",
          "MCCDRS"
         ],
         "xaxis": "x",
         "y": [
          0.001338905343449507,
          0.00019204916458613405
         ],
         "yaxis": "y"
        },
        {
         "alignmentgroup": "True",
         "customdata": [
          [
           "Recurvirostridae"
          ]
         ],
         "hovertemplate": "Family=%{customdata[0]}<br>Proportion=%{y}<extra></extra>",
         "legendgroup": "Recurvirostridae",
         "marker": {
          "color": "#636efa",
          "pattern": {
           "shape": ""
          }
         },
         "name": "Recurvirostridae",
         "offsetgroup": "Recurvirostridae",
         "orientation": "v",
         "showlegend": true,
         "textposition": "auto",
         "type": "bar",
         "x": [
          "VCCDRS"
         ],
         "xaxis": "x",
         "y": [
          0.0013227513227513227
         ],
         "yaxis": "y"
        },
        {
         "alignmentgroup": "True",
         "customdata": [
          [
           "Moraceae"
          ]
         ],
         "hovertemplate": "Family=%{customdata[0]}<br>Proportion=%{y}<extra></extra>",
         "legendgroup": "Moraceae",
         "marker": {
          "color": "#EF553B",
          "pattern": {
           "shape": ""
          }
         },
         "name": "Moraceae",
         "offsetgroup": "Moraceae",
         "orientation": "v",
         "showlegend": true,
         "textposition": "auto",
         "type": "bar",
         "x": [
          "CDS"
         ],
         "xaxis": "x",
         "y": [
          0.0013174047127159495
         ],
         "yaxis": "y"
        },
        {
         "alignmentgroup": "True",
         "customdata": [
          [
           "Sargassaceae"
          ]
         ],
         "hovertemplate": "Family=%{customdata[0]}<br>Proportion=%{y}<extra></extra>",
         "legendgroup": "Sargassaceae",
         "marker": {
          "color": "#00cc96",
          "pattern": {
           "shape": ""
          }
         },
         "name": "Sargassaceae",
         "offsetgroup": "Sargassaceae",
         "orientation": "v",
         "showlegend": true,
         "textposition": "auto",
         "type": "bar",
         "x": [
          "CDS"
         ],
         "xaxis": "x",
         "y": [
          0.0013174047127159495
         ],
         "yaxis": "y"
        },
        {
         "alignmentgroup": "True",
         "customdata": [
          [
           "Arecaceae"
          ]
         ],
         "hovertemplate": "Family=%{customdata[0]}<br>Proportion=%{y}<extra></extra>",
         "legendgroup": "Arecaceae",
         "marker": {
          "color": "#ab63fa",
          "pattern": {
           "shape": ""
          }
         },
         "name": "Arecaceae",
         "offsetgroup": "Arecaceae",
         "orientation": "v",
         "showlegend": true,
         "textposition": "auto",
         "type": "bar",
         "x": [
          "CDS"
         ],
         "xaxis": "x",
         "y": [
          0.0012874636965178599
         ],
         "yaxis": "y"
        },
        {
         "alignmentgroup": "True",
         "customdata": [
          [
           "Orthotrichaceae"
          ]
         ],
         "hovertemplate": "Family=%{customdata[0]}<br>Proportion=%{y}<extra></extra>",
         "legendgroup": "Orthotrichaceae",
         "marker": {
          "color": "#FFA15A",
          "pattern": {
           "shape": ""
          }
         },
         "name": "Orthotrichaceae",
         "offsetgroup": "Orthotrichaceae",
         "orientation": "v",
         "showlegend": true,
         "textposition": "auto",
         "type": "bar",
         "x": [
          "CDS"
         ],
         "xaxis": "x",
         "y": [
          0.0012874636965178599
         ],
         "yaxis": "y"
        },
        {
         "alignmentgroup": "True",
         "customdata": [
          [
           "Rhizophoraceae"
          ]
         ],
         "hovertemplate": "Family=%{customdata[0]}<br>Proportion=%{y}<extra></extra>",
         "legendgroup": "Rhizophoraceae",
         "marker": {
          "color": "#19d3f3",
          "pattern": {
           "shape": ""
          }
         },
         "name": "Rhizophoraceae",
         "offsetgroup": "Rhizophoraceae",
         "orientation": "v",
         "showlegend": true,
         "textposition": "auto",
         "type": "bar",
         "x": [
          "CDS"
         ],
         "xaxis": "x",
         "y": [
          0.0012874636965178599
         ],
         "yaxis": "y"
        },
        {
         "alignmentgroup": "True",
         "customdata": [
          [
           "Yponomeutidae"
          ]
         ],
         "hovertemplate": "Family=%{customdata[0]}<br>Proportion=%{y}<extra></extra>",
         "legendgroup": "Yponomeutidae",
         "marker": {
          "color": "#FF6692",
          "pattern": {
           "shape": ""
          }
         },
         "name": "Yponomeutidae",
         "offsetgroup": "Yponomeutidae",
         "orientation": "v",
         "showlegend": true,
         "textposition": "auto",
         "type": "bar",
         "x": [
          "ICCDRS"
         ],
         "xaxis": "x",
         "y": [
          0.001257759565058628
         ],
         "yaxis": "y"
        },
        {
         "alignmentgroup": "True",
         "customdata": [
          [
           "Anyphaenidae"
          ]
         ],
         "hovertemplate": "Family=%{customdata[0]}<br>Proportion=%{y}<extra></extra>",
         "legendgroup": "Anyphaenidae",
         "marker": {
          "color": "#B6E880",
          "pattern": {
           "shape": ""
          }
         },
         "name": "Anyphaenidae",
         "offsetgroup": "Anyphaenidae",
         "orientation": "v",
         "showlegend": true,
         "textposition": "auto",
         "type": "bar",
         "x": [
          "ICCDRS"
         ],
         "xaxis": "x",
         "y": [
          0.001257759565058628
         ],
         "yaxis": "y"
        },
        {
         "alignmentgroup": "True",
         "customdata": [
          [
           "Bruchidae"
          ]
         ],
         "hovertemplate": "Family=%{customdata[0]}<br>Proportion=%{y}<extra></extra>",
         "legendgroup": "Bruchidae",
         "marker": {
          "color": "#FF97FF",
          "pattern": {
           "shape": ""
          }
         },
         "name": "Bruchidae",
         "offsetgroup": "Bruchidae",
         "orientation": "v",
         "showlegend": true,
         "textposition": "auto",
         "type": "bar",
         "x": [
          "ICCDRS"
         ],
         "xaxis": "x",
         "y": [
          0.001257759565058628
         ],
         "yaxis": "y"
        },
        {
         "alignmentgroup": "True",
         "customdata": [
          [
           "Peltulaceae"
          ]
         ],
         "hovertemplate": "Family=%{customdata[0]}<br>Proportion=%{y}<extra></extra>",
         "legendgroup": "Peltulaceae",
         "marker": {
          "color": "#FECB52",
          "pattern": {
           "shape": ""
          }
         },
         "name": "Peltulaceae",
         "offsetgroup": "Peltulaceae",
         "orientation": "v",
         "showlegend": true,
         "textposition": "auto",
         "type": "bar",
         "x": [
          "CDS"
         ],
         "xaxis": "x",
         "y": [
          0.00125752268031977
         ],
         "yaxis": "y"
        },
        {
         "alignmentgroup": "True",
         "customdata": [
          [
           "Iridaceae"
          ]
         ],
         "hovertemplate": "Family=%{customdata[0]}<br>Proportion=%{y}<extra></extra>",
         "legendgroup": "Iridaceae",
         "marker": {
          "color": "#636efa",
          "pattern": {
           "shape": ""
          }
         },
         "name": "Iridaceae",
         "offsetgroup": "Iridaceae",
         "orientation": "v",
         "showlegend": true,
         "textposition": "auto",
         "type": "bar",
         "x": [
          "CDS"
         ],
         "xaxis": "x",
         "y": [
          0.0012275816641216803
         ],
         "yaxis": "y"
        },
        {
         "alignmentgroup": "True",
         "customdata": [
          [
           "Dicranaceae"
          ]
         ],
         "hovertemplate": "Family=%{customdata[0]}<br>Proportion=%{y}<extra></extra>",
         "legendgroup": "Dicranaceae",
         "marker": {
          "color": "#EF553B",
          "pattern": {
           "shape": ""
          }
         },
         "name": "Dicranaceae",
         "offsetgroup": "Dicranaceae",
         "orientation": "v",
         "showlegend": true,
         "textposition": "auto",
         "type": "bar",
         "x": [
          "CDS"
         ],
         "xaxis": "x",
         "y": [
          0.0012275816641216803
         ],
         "yaxis": "y"
        },
        {
         "alignmentgroup": "True",
         "customdata": [
          [
           "Elachistidae"
          ]
         ],
         "hovertemplate": "Family=%{customdata[0]}<br>Proportion=%{y}<extra></extra>",
         "legendgroup": "Elachistidae",
         "marker": {
          "color": "#00cc96",
          "pattern": {
           "shape": ""
          }
         },
         "name": "Elachistidae",
         "offsetgroup": "Elachistidae",
         "orientation": "v",
         "showlegend": true,
         "textposition": "auto",
         "type": "bar",
         "x": [
          "ICCDRS"
         ],
         "xaxis": "x",
         "y": [
          0.0012171866758631882
         ],
         "yaxis": "y"
        },
        {
         "alignmentgroup": "True",
         "customdata": [
          [
           "Histeridae"
          ]
         ],
         "hovertemplate": "Family=%{customdata[0]}<br>Proportion=%{y}<extra></extra>",
         "legendgroup": "Histeridae",
         "marker": {
          "color": "#ab63fa",
          "pattern": {
           "shape": ""
          }
         },
         "name": "Histeridae",
         "offsetgroup": "Histeridae",
         "orientation": "v",
         "showlegend": true,
         "textposition": "auto",
         "type": "bar",
         "x": [
          "ICCDRS"
         ],
         "xaxis": "x",
         "y": [
          0.0012171866758631882
         ],
         "yaxis": "y"
        },
        {
         "alignmentgroup": "True",
         "customdata": [
          [
           "Agavaceae"
          ]
         ],
         "hovertemplate": "Family=%{customdata[0]}<br>Proportion=%{y}<extra></extra>",
         "legendgroup": "Agavaceae",
         "marker": {
          "color": "#FFA15A",
          "pattern": {
           "shape": ""
          }
         },
         "name": "Agavaceae",
         "offsetgroup": "Agavaceae",
         "orientation": "v",
         "showlegend": true,
         "textposition": "auto",
         "type": "bar",
         "x": [
          "CDS"
         ],
         "xaxis": "x",
         "y": [
          0.0011976406479235905
         ],
         "yaxis": "y"
        },
        {
         "alignmentgroup": "True",
         "customdata": [
          [
           "Lepidopsocidae"
          ]
         ],
         "hovertemplate": "Family=%{customdata[0]}<br>Proportion=%{y}<extra></extra>",
         "legendgroup": "Lepidopsocidae",
         "marker": {
          "color": "#19d3f3",
          "pattern": {
           "shape": ""
          }
         },
         "name": "Lepidopsocidae",
         "offsetgroup": "Lepidopsocidae",
         "orientation": "v",
         "showlegend": true,
         "textposition": "auto",
         "type": "bar",
         "x": [
          "ICCDRS"
         ],
         "xaxis": "x",
         "y": [
          0.0011766137866677487
         ],
         "yaxis": "y"
        },
        {
         "alignmentgroup": "True",
         "customdata": [
          [
           "Rhyparochromidae"
          ]
         ],
         "hovertemplate": "Family=%{customdata[0]}<br>Proportion=%{y}<extra></extra>",
         "legendgroup": "Rhyparochromidae",
         "marker": {
          "color": "#FF6692",
          "pattern": {
           "shape": ""
          }
         },
         "name": "Rhyparochromidae",
         "offsetgroup": "Rhyparochromidae",
         "orientation": "v",
         "showlegend": true,
         "textposition": "auto",
         "type": "bar",
         "x": [
          "ICCDRS"
         ],
         "xaxis": "x",
         "y": [
          0.0011766137866677487
         ],
         "yaxis": "y"
        },
        {
         "alignmentgroup": "True",
         "customdata": [
          [
           "Asteiidae"
          ]
         ],
         "hovertemplate": "Family=%{customdata[0]}<br>Proportion=%{y}<extra></extra>",
         "legendgroup": "Asteiidae",
         "marker": {
          "color": "#B6E880",
          "pattern": {
           "shape": ""
          }
         },
         "name": "Asteiidae",
         "offsetgroup": "Asteiidae",
         "orientation": "v",
         "showlegend": true,
         "textposition": "auto",
         "type": "bar",
         "x": [
          "ICCDRS"
         ],
         "xaxis": "x",
         "y": [
          0.0011766137866677487
         ],
         "yaxis": "y"
        },
        {
         "alignmentgroup": "True",
         "customdata": [
          [
           "Blastobasidae"
          ]
         ],
         "hovertemplate": "Family=%{customdata[0]}<br>Proportion=%{y}<extra></extra>",
         "legendgroup": "Blastobasidae",
         "marker": {
          "color": "#FF97FF",
          "pattern": {
           "shape": ""
          }
         },
         "name": "Blastobasidae",
         "offsetgroup": "Blastobasidae",
         "orientation": "v",
         "showlegend": true,
         "textposition": "auto",
         "type": "bar",
         "x": [
          "ICCDRS"
         ],
         "xaxis": "x",
         "y": [
          0.0011766137866677487
         ],
         "yaxis": "y"
        },
        {
         "alignmentgroup": "True",
         "customdata": [
          [
           "Sparassidae"
          ]
         ],
         "hovertemplate": "Family=%{customdata[0]}<br>Proportion=%{y}<extra></extra>",
         "legendgroup": "Sparassidae",
         "marker": {
          "color": "#FECB52",
          "pattern": {
           "shape": ""
          }
         },
         "name": "Sparassidae",
         "offsetgroup": "Sparassidae",
         "orientation": "v",
         "showlegend": true,
         "textposition": "auto",
         "type": "bar",
         "x": [
          "ICCDRS"
         ],
         "xaxis": "x",
         "y": [
          0.0011766137866677487
         ],
         "yaxis": "y"
        },
        {
         "alignmentgroup": "True",
         "customdata": [
          [
           "Monoblastiaceae"
          ]
         ],
         "hovertemplate": "Family=%{customdata[0]}<br>Proportion=%{y}<extra></extra>",
         "legendgroup": "Monoblastiaceae",
         "marker": {
          "color": "#636efa",
          "pattern": {
           "shape": ""
          }
         },
         "name": "Monoblastiaceae",
         "offsetgroup": "Monoblastiaceae",
         "orientation": "v",
         "showlegend": true,
         "textposition": "auto",
         "type": "bar",
         "x": [
          "CDS"
         ],
         "xaxis": "x",
         "y": [
          0.0011676996317255008
         ],
         "yaxis": "y"
        },
        {
         "alignmentgroup": "True",
         "customdata": [
          [
           "Lutjanidae"
          ]
         ],
         "hovertemplate": "Family=%{customdata[0]}<br>Proportion=%{y}<extra></extra>",
         "legendgroup": "Lutjanidae",
         "marker": {
          "color": "#EF553B",
          "pattern": {
           "shape": ""
          }
         },
         "name": "Lutjanidae",
         "offsetgroup": "Lutjanidae",
         "orientation": "v",
         "showlegend": true,
         "textposition": "auto",
         "type": "bar",
         "x": [
          "MCCDRS"
         ],
         "xaxis": "x",
         "y": [
          0.0011522949875168043
         ],
         "yaxis": "y"
        },
        {
         "alignmentgroup": "True",
         "customdata": [
          [
           "Dendrodorididae"
          ]
         ],
         "hovertemplate": "Family=%{customdata[0]}<br>Proportion=%{y}<extra></extra>",
         "legendgroup": "Dendrodorididae",
         "marker": {
          "color": "#00cc96",
          "pattern": {
           "shape": ""
          }
         },
         "name": "Dendrodorididae",
         "offsetgroup": "Dendrodorididae",
         "orientation": "v",
         "showlegend": true,
         "textposition": "auto",
         "type": "bar",
         "x": [
          "MCCDRS"
         ],
         "xaxis": "x",
         "y": [
          0.0011522949875168043
         ],
         "yaxis": "y"
        },
        {
         "alignmentgroup": "True",
         "customdata": [
          [
           "Thalassematidae"
          ]
         ],
         "hovertemplate": "Family=%{customdata[0]}<br>Proportion=%{y}<extra></extra>",
         "legendgroup": "Thalassematidae",
         "marker": {
          "color": "#ab63fa",
          "pattern": {
           "shape": ""
          }
         },
         "name": "Thalassematidae",
         "offsetgroup": "Thalassematidae",
         "orientation": "v",
         "showlegend": true,
         "textposition": "auto",
         "type": "bar",
         "x": [
          "MCCDRS"
         ],
         "xaxis": "x",
         "y": [
          0.0011522949875168043
         ],
         "yaxis": "y"
        },
        {
         "alignmentgroup": "True",
         "customdata": [
          [
           "Axiidae"
          ]
         ],
         "hovertemplate": "Family=%{customdata[0]}<br>Proportion=%{y}<extra></extra>",
         "legendgroup": "Axiidae",
         "marker": {
          "color": "#FFA15A",
          "pattern": {
           "shape": ""
          }
         },
         "name": "Axiidae",
         "offsetgroup": "Axiidae",
         "orientation": "v",
         "showlegend": true,
         "textposition": "auto",
         "type": "bar",
         "x": [
          "MCCDRS"
         ],
         "xaxis": "x",
         "y": [
          0.0011522949875168043
         ],
         "yaxis": "y"
        },
        {
         "alignmentgroup": "True",
         "customdata": [
          [
           "Tubulariidae"
          ]
         ],
         "hovertemplate": "Family=%{customdata[0]}<br>Proportion=%{y}<extra></extra>",
         "legendgroup": "Tubulariidae",
         "marker": {
          "color": "#19d3f3",
          "pattern": {
           "shape": ""
          }
         },
         "name": "Tubulariidae",
         "offsetgroup": "Tubulariidae",
         "orientation": "v",
         "showlegend": true,
         "textposition": "auto",
         "type": "bar",
         "x": [
          "MCCDRS"
         ],
         "xaxis": "x",
         "y": [
          0.0011522949875168043
         ],
         "yaxis": "y"
        },
        {
         "alignmentgroup": "True",
         "customdata": [
          [
           "Engraulidae"
          ]
         ],
         "hovertemplate": "Family=%{customdata[0]}<br>Proportion=%{y}<extra></extra>",
         "legendgroup": "Engraulidae",
         "marker": {
          "color": "#FF6692",
          "pattern": {
           "shape": ""
          }
         },
         "name": "Engraulidae",
         "offsetgroup": "Engraulidae",
         "orientation": "v",
         "showlegend": true,
         "textposition": "auto",
         "type": "bar",
         "x": [
          "MCCDRS"
         ],
         "xaxis": "x",
         "y": [
          0.0011522949875168043
         ],
         "yaxis": "y"
        },
        {
         "alignmentgroup": "True",
         "customdata": [
          [
           "Pediculariidae"
          ]
         ],
         "hovertemplate": "Family=%{customdata[0]}<br>Proportion=%{y}<extra></extra>",
         "legendgroup": "Pediculariidae",
         "marker": {
          "color": "#B6E880",
          "pattern": {
           "shape": ""
          }
         },
         "name": "Pediculariidae",
         "offsetgroup": "Pediculariidae",
         "orientation": "v",
         "showlegend": true,
         "textposition": "auto",
         "type": "bar",
         "x": [
          "MCCDRS"
         ],
         "xaxis": "x",
         "y": [
          0.0011522949875168043
         ],
         "yaxis": "y"
        },
        {
         "alignmentgroup": "True",
         "customdata": [
          [
           "Sclerodactylidae"
          ]
         ],
         "hovertemplate": "Family=%{customdata[0]}<br>Proportion=%{y}<extra></extra>",
         "legendgroup": "Sclerodactylidae",
         "marker": {
          "color": "#FF97FF",
          "pattern": {
           "shape": ""
          }
         },
         "name": "Sclerodactylidae",
         "offsetgroup": "Sclerodactylidae",
         "orientation": "v",
         "showlegend": true,
         "textposition": "auto",
         "type": "bar",
         "x": [
          "MCCDRS"
         ],
         "xaxis": "x",
         "y": [
          0.0011522949875168043
         ],
         "yaxis": "y"
        },
        {
         "alignmentgroup": "True",
         "customdata": [
          [
           "Chromodorididae"
          ]
         ],
         "hovertemplate": "Family=%{customdata[0]}<br>Proportion=%{y}<extra></extra>",
         "legendgroup": "Chromodorididae",
         "marker": {
          "color": "#FECB52",
          "pattern": {
           "shape": ""
          }
         },
         "name": "Chromodorididae",
         "offsetgroup": "Chromodorididae",
         "orientation": "v",
         "showlegend": true,
         "textposition": "auto",
         "type": "bar",
         "x": [
          "MCCDRS"
         ],
         "xaxis": "x",
         "y": [
          0.0011522949875168043
         ],
         "yaxis": "y"
        },
        {
         "alignmentgroup": "True",
         "customdata": [
          [
           "Aglajidae"
          ]
         ],
         "hovertemplate": "Family=%{customdata[0]}<br>Proportion=%{y}<extra></extra>",
         "legendgroup": "Aglajidae",
         "marker": {
          "color": "#636efa",
          "pattern": {
           "shape": ""
          }
         },
         "name": "Aglajidae",
         "offsetgroup": "Aglajidae",
         "orientation": "v",
         "showlegend": true,
         "textposition": "auto",
         "type": "bar",
         "x": [
          "MCCDRS"
         ],
         "xaxis": "x",
         "y": [
          0.0011522949875168043
         ],
         "yaxis": "y"
        },
        {
         "alignmentgroup": "True",
         "customdata": [
          [
           "Modulidae"
          ]
         ],
         "hovertemplate": "Family=%{customdata[0]}<br>Proportion=%{y}<extra></extra>",
         "legendgroup": "Modulidae",
         "marker": {
          "color": "#EF553B",
          "pattern": {
           "shape": ""
          }
         },
         "name": "Modulidae",
         "offsetgroup": "Modulidae",
         "orientation": "v",
         "showlegend": true,
         "textposition": "auto",
         "type": "bar",
         "x": [
          "MCCDRS"
         ],
         "xaxis": "x",
         "y": [
          0.0011522949875168043
         ],
         "yaxis": "y"
        },
        {
         "alignmentgroup": "True",
         "customdata": [
          [
           "Panopeidae"
          ]
         ],
         "hovertemplate": "Family=%{customdata[0]}<br>Proportion=%{y}<extra></extra>",
         "legendgroup": "Panopeidae",
         "marker": {
          "color": "#00cc96",
          "pattern": {
           "shape": ""
          }
         },
         "name": "Panopeidae",
         "offsetgroup": "Panopeidae",
         "orientation": "v",
         "showlegend": true,
         "textposition": "auto",
         "type": "bar",
         "x": [
          "MCCDRS"
         ],
         "xaxis": "x",
         "y": [
          0.0011522949875168043
         ],
         "yaxis": "y"
        },
        {
         "alignmentgroup": "True",
         "customdata": [
          [
           "Cassidulidae"
          ]
         ],
         "hovertemplate": "Family=%{customdata[0]}<br>Proportion=%{y}<extra></extra>",
         "legendgroup": "Cassidulidae",
         "marker": {
          "color": "#ab63fa",
          "pattern": {
           "shape": ""
          }
         },
         "name": "Cassidulidae",
         "offsetgroup": "Cassidulidae",
         "orientation": "v",
         "showlegend": true,
         "textposition": "auto",
         "type": "bar",
         "x": [
          "MCCDRS"
         ],
         "xaxis": "x",
         "y": [
          0.0011522949875168043
         ],
         "yaxis": "y"
        },
        {
         "alignmentgroup": "True",
         "customdata": [
          [
           "Chaetopteridae"
          ]
         ],
         "hovertemplate": "Family=%{customdata[0]}<br>Proportion=%{y}<extra></extra>",
         "legendgroup": "Chaetopteridae",
         "marker": {
          "color": "#FFA15A",
          "pattern": {
           "shape": ""
          }
         },
         "name": "Chaetopteridae",
         "offsetgroup": "Chaetopteridae",
         "orientation": "v",
         "showlegend": true,
         "textposition": "auto",
         "type": "bar",
         "x": [
          "MCCDRS"
         ],
         "xaxis": "x",
         "y": [
          0.0011522949875168043
         ],
         "yaxis": "y"
        },
        {
         "alignmentgroup": "True",
         "customdata": [
          [
           "Plexauridae"
          ]
         ],
         "hovertemplate": "Family=%{customdata[0]}<br>Proportion=%{y}<extra></extra>",
         "legendgroup": "Plexauridae",
         "marker": {
          "color": "#19d3f3",
          "pattern": {
           "shape": ""
          }
         },
         "name": "Plexauridae",
         "offsetgroup": "Plexauridae",
         "orientation": "v",
         "showlegend": true,
         "textposition": "auto",
         "type": "bar",
         "x": [
          "MCCDRS"
         ],
         "xaxis": "x",
         "y": [
          0.0011522949875168043
         ],
         "yaxis": "y"
        },
        {
         "alignmentgroup": "True",
         "customdata": [
          [
           "Caulerpaceae"
          ],
          [
           "Caulerpaceae"
          ]
         ],
         "hovertemplate": "Family=%{customdata[0]}<br>Proportion=%{y}<extra></extra>",
         "legendgroup": "Caulerpaceae",
         "marker": {
          "color": "#FF6692",
          "pattern": {
           "shape": ""
          }
         },
         "name": "Caulerpaceae",
         "offsetgroup": "Caulerpaceae",
         "orientation": "v",
         "showlegend": true,
         "textposition": "auto",
         "type": "bar",
         "x": [
          "CDS",
          "MCCDRS"
         ],
         "xaxis": "x",
         "y": [
          0.001137758615527411,
          0.0003840983291722681
         ],
         "yaxis": "y"
        },
        {
         "alignmentgroup": "True",
         "customdata": [
          [
           "Cannaceae"
          ]
         ],
         "hovertemplate": "Family=%{customdata[0]}<br>Proportion=%{y}<extra></extra>",
         "legendgroup": "Cannaceae",
         "marker": {
          "color": "#B6E880",
          "pattern": {
           "shape": ""
          }
         },
         "name": "Cannaceae",
         "offsetgroup": "Cannaceae",
         "orientation": "v",
         "showlegend": true,
         "textposition": "auto",
         "type": "bar",
         "x": [
          "CDS"
         ],
         "xaxis": "x",
         "y": [
          0.001137758615527411
         ],
         "yaxis": "y"
        },
        {
         "alignmentgroup": "True",
         "customdata": [
          [
           "Bromeliaceae"
          ]
         ],
         "hovertemplate": "Family=%{customdata[0]}<br>Proportion=%{y}<extra></extra>",
         "legendgroup": "Bromeliaceae",
         "marker": {
          "color": "#FF97FF",
          "pattern": {
           "shape": ""
          }
         },
         "name": "Bromeliaceae",
         "offsetgroup": "Bromeliaceae",
         "orientation": "v",
         "showlegend": true,
         "textposition": "auto",
         "type": "bar",
         "x": [
          "CDS"
         ],
         "xaxis": "x",
         "y": [
          0.0011078175993293213
         ],
         "yaxis": "y"
        },
        {
         "alignmentgroup": "True",
         "customdata": [
          [
           "Arthopyreniaceae"
          ]
         ],
         "hovertemplate": "Family=%{customdata[0]}<br>Proportion=%{y}<extra></extra>",
         "legendgroup": "Arthopyreniaceae",
         "marker": {
          "color": "#FECB52",
          "pattern": {
           "shape": ""
          }
         },
         "name": "Arthopyreniaceae",
         "offsetgroup": "Arthopyreniaceae",
         "orientation": "v",
         "showlegend": true,
         "textposition": "auto",
         "type": "bar",
         "x": [
          "CDS"
         ],
         "xaxis": "x",
         "y": [
          0.0010778765831312314
         ],
         "yaxis": "y"
        },
        {
         "alignmentgroup": "True",
         "customdata": [
          [
           "Zingiberaceae"
          ]
         ],
         "hovertemplate": "Family=%{customdata[0]}<br>Proportion=%{y}<extra></extra>",
         "legendgroup": "Zingiberaceae",
         "marker": {
          "color": "#636efa",
          "pattern": {
           "shape": ""
          }
         },
         "name": "Zingiberaceae",
         "offsetgroup": "Zingiberaceae",
         "orientation": "v",
         "showlegend": true,
         "textposition": "auto",
         "type": "bar",
         "x": [
          "CDS"
         ],
         "xaxis": "x",
         "y": [
          0.0010778765831312314
         ],
         "yaxis": "y"
        },
        {
         "alignmentgroup": "True",
         "customdata": [
          [
           "Silvanidae"
          ]
         ],
         "hovertemplate": "Family=%{customdata[0]}<br>Proportion=%{y}<extra></extra>",
         "legendgroup": "Silvanidae",
         "marker": {
          "color": "#EF553B",
          "pattern": {
           "shape": ""
          }
         },
         "name": "Silvanidae",
         "offsetgroup": "Silvanidae",
         "orientation": "v",
         "showlegend": true,
         "textposition": "auto",
         "type": "bar",
         "x": [
          "ICCDRS"
         ],
         "xaxis": "x",
         "y": [
          0.0010548951190814298
         ],
         "yaxis": "y"
        },
        {
         "alignmentgroup": "True",
         "customdata": [
          [
           "Pleidae"
          ]
         ],
         "hovertemplate": "Family=%{customdata[0]}<br>Proportion=%{y}<extra></extra>",
         "legendgroup": "Pleidae",
         "marker": {
          "color": "#00cc96",
          "pattern": {
           "shape": ""
          }
         },
         "name": "Pleidae",
         "offsetgroup": "Pleidae",
         "orientation": "v",
         "showlegend": true,
         "textposition": "auto",
         "type": "bar",
         "x": [
          "ICCDRS"
         ],
         "xaxis": "x",
         "y": [
          0.0010548951190814298
         ],
         "yaxis": "y"
        },
        {
         "alignmentgroup": "True",
         "customdata": [
          [
           "Helicinidae"
          ]
         ],
         "hovertemplate": "Family=%{customdata[0]}<br>Proportion=%{y}<extra></extra>",
         "legendgroup": "Helicinidae",
         "marker": {
          "color": "#ab63fa",
          "pattern": {
           "shape": ""
          }
         },
         "name": "Helicinidae",
         "offsetgroup": "Helicinidae",
         "orientation": "v",
         "showlegend": true,
         "textposition": "auto",
         "type": "bar",
         "x": [
          "ICCDRS"
         ],
         "xaxis": "x",
         "y": [
          0.0010548951190814298
         ],
         "yaxis": "y"
        },
        {
         "alignmentgroup": "True",
         "customdata": [
          [
           "Acarosporaceae"
          ]
         ],
         "hovertemplate": "Family=%{customdata[0]}<br>Proportion=%{y}<extra></extra>",
         "legendgroup": "Acarosporaceae",
         "marker": {
          "color": "#FFA15A",
          "pattern": {
           "shape": ""
          }
         },
         "name": "Acarosporaceae",
         "offsetgroup": "Acarosporaceae",
         "orientation": "v",
         "showlegend": true,
         "textposition": "auto",
         "type": "bar",
         "x": [
          "CDS"
         ],
         "xaxis": "x",
         "y": [
          0.0010479355669331418
         ],
         "yaxis": "y"
        },
        {
         "alignmentgroup": "True",
         "customdata": [
          [
           "Anacardiaceae"
          ]
         ],
         "hovertemplate": "Family=%{customdata[0]}<br>Proportion=%{y}<extra></extra>",
         "legendgroup": "Anacardiaceae",
         "marker": {
          "color": "#19d3f3",
          "pattern": {
           "shape": ""
          }
         },
         "name": "Anacardiaceae",
         "offsetgroup": "Anacardiaceae",
         "orientation": "v",
         "showlegend": true,
         "textposition": "auto",
         "type": "bar",
         "x": [
          "CDS"
         ],
         "xaxis": "x",
         "y": [
          0.0010479355669331418
         ],
         "yaxis": "y"
        },
        {
         "alignmentgroup": "True",
         "customdata": [
          [
           "Caprifoliaceae"
          ]
         ],
         "hovertemplate": "Family=%{customdata[0]}<br>Proportion=%{y}<extra></extra>",
         "legendgroup": "Caprifoliaceae",
         "marker": {
          "color": "#FF6692",
          "pattern": {
           "shape": ""
          }
         },
         "name": "Caprifoliaceae",
         "offsetgroup": "Caprifoliaceae",
         "orientation": "v",
         "showlegend": true,
         "textposition": "auto",
         "type": "bar",
         "x": [
          "CDS"
         ],
         "xaxis": "x",
         "y": [
          0.001017994550735052
         ],
         "yaxis": "y"
        },
        {
         "alignmentgroup": "True",
         "customdata": [
          [
           "Cystocloniaceae"
          ]
         ],
         "hovertemplate": "Family=%{customdata[0]}<br>Proportion=%{y}<extra></extra>",
         "legendgroup": "Cystocloniaceae",
         "marker": {
          "color": "#B6E880",
          "pattern": {
           "shape": ""
          }
         },
         "name": "Cystocloniaceae",
         "offsetgroup": "Cystocloniaceae",
         "orientation": "v",
         "showlegend": true,
         "textposition": "auto",
         "type": "bar",
         "x": [
          "CDS"
         ],
         "xaxis": "x",
         "y": [
          0.001017994550735052
         ],
         "yaxis": "y"
        },
        {
         "alignmentgroup": "True",
         "customdata": [
          [
           "Blechnaceae"
          ]
         ],
         "hovertemplate": "Family=%{customdata[0]}<br>Proportion=%{y}<extra></extra>",
         "legendgroup": "Blechnaceae",
         "marker": {
          "color": "#FF97FF",
          "pattern": {
           "shape": ""
          }
         },
         "name": "Blechnaceae",
         "offsetgroup": "Blechnaceae",
         "orientation": "v",
         "showlegend": true,
         "textposition": "auto",
         "type": "bar",
         "x": [
          "CDS"
         ],
         "xaxis": "x",
         "y": [
          0.001017994550735052
         ],
         "yaxis": "y"
        },
        {
         "alignmentgroup": "True",
         "customdata": [
          [
           "Berytidae"
          ]
         ],
         "hovertemplate": "Family=%{customdata[0]}<br>Proportion=%{y}<extra></extra>",
         "legendgroup": "Berytidae",
         "marker": {
          "color": "#FECB52",
          "pattern": {
           "shape": ""
          }
         },
         "name": "Berytidae",
         "offsetgroup": "Berytidae",
         "orientation": "v",
         "showlegend": true,
         "textposition": "auto",
         "type": "bar",
         "x": [
          "ICCDRS"
         ],
         "xaxis": "x",
         "y": [
          0.0010143222298859902
         ],
         "yaxis": "y"
        },
        {
         "alignmentgroup": "True",
         "customdata": [
          [
           "Mythicomyiidae"
          ]
         ],
         "hovertemplate": "Family=%{customdata[0]}<br>Proportion=%{y}<extra></extra>",
         "legendgroup": "Mythicomyiidae",
         "marker": {
          "color": "#636efa",
          "pattern": {
           "shape": ""
          }
         },
         "name": "Mythicomyiidae",
         "offsetgroup": "Mythicomyiidae",
         "orientation": "v",
         "showlegend": true,
         "textposition": "auto",
         "type": "bar",
         "x": [
          "ICCDRS"
         ],
         "xaxis": "x",
         "y": [
          0.0010143222298859902
         ],
         "yaxis": "y"
        },
        {
         "alignmentgroup": "True",
         "customdata": [
          [
           "Buthidae"
          ]
         ],
         "hovertemplate": "Family=%{customdata[0]}<br>Proportion=%{y}<extra></extra>",
         "legendgroup": "Buthidae",
         "marker": {
          "color": "#EF553B",
          "pattern": {
           "shape": ""
          }
         },
         "name": "Buthidae",
         "offsetgroup": "Buthidae",
         "orientation": "v",
         "showlegend": true,
         "textposition": "auto",
         "type": "bar",
         "x": [
          "ICCDRS"
         ],
         "xaxis": "x",
         "y": [
          0.0010143222298859902
         ],
         "yaxis": "y"
        },
        {
         "alignmentgroup": "True",
         "customdata": [
          [
           "Musaceae"
          ]
         ],
         "hovertemplate": "Family=%{customdata[0]}<br>Proportion=%{y}<extra></extra>",
         "legendgroup": "Musaceae",
         "marker": {
          "color": "#00cc96",
          "pattern": {
           "shape": ""
          }
         },
         "name": "Musaceae",
         "offsetgroup": "Musaceae",
         "orientation": "v",
         "showlegend": true,
         "textposition": "auto",
         "type": "bar",
         "x": [
          "CDS"
         ],
         "xaxis": "x",
         "y": [
          0.0009880535345369622
         ],
         "yaxis": "y"
        },
        {
         "alignmentgroup": "True",
         "customdata": [
          [
           "Cupressaceae"
          ]
         ],
         "hovertemplate": "Family=%{customdata[0]}<br>Proportion=%{y}<extra></extra>",
         "legendgroup": "Cupressaceae",
         "marker": {
          "color": "#ab63fa",
          "pattern": {
           "shape": ""
          }
         },
         "name": "Cupressaceae",
         "offsetgroup": "Cupressaceae",
         "orientation": "v",
         "showlegend": true,
         "textposition": "auto",
         "type": "bar",
         "x": [
          "CDS"
         ],
         "xaxis": "x",
         "y": [
          0.0009880535345369622
         ],
         "yaxis": "y"
        },
        {
         "alignmentgroup": "True",
         "customdata": [
          [
           "Marasmiaceae"
          ]
         ],
         "hovertemplate": "Family=%{customdata[0]}<br>Proportion=%{y}<extra></extra>",
         "legendgroup": "Marasmiaceae",
         "marker": {
          "color": "#FFA15A",
          "pattern": {
           "shape": ""
          }
         },
         "name": "Marasmiaceae",
         "offsetgroup": "Marasmiaceae",
         "orientation": "v",
         "showlegend": true,
         "textposition": "auto",
         "type": "bar",
         "x": [
          "CDS"
         ],
         "xaxis": "x",
         "y": [
          0.0009880535345369622
         ],
         "yaxis": "y"
        },
        {
         "alignmentgroup": "True",
         "customdata": [
          [
           "Cyphoderidae"
          ]
         ],
         "hovertemplate": "Family=%{customdata[0]}<br>Proportion=%{y}<extra></extra>",
         "legendgroup": "Cyphoderidae",
         "marker": {
          "color": "#19d3f3",
          "pattern": {
           "shape": ""
          }
         },
         "name": "Cyphoderidae",
         "offsetgroup": "Cyphoderidae",
         "orientation": "v",
         "showlegend": true,
         "textposition": "auto",
         "type": "bar",
         "x": [
          "ICCDRS"
         ],
         "xaxis": "x",
         "y": [
          0.0009737493406905505
         ],
         "yaxis": "y"
        },
        {
         "alignmentgroup": "True",
         "customdata": [
          [
           "Pseudococcidae"
          ]
         ],
         "hovertemplate": "Family=%{customdata[0]}<br>Proportion=%{y}<extra></extra>",
         "legendgroup": "Pseudococcidae",
         "marker": {
          "color": "#FF6692",
          "pattern": {
           "shape": ""
          }
         },
         "name": "Pseudococcidae",
         "offsetgroup": "Pseudococcidae",
         "orientation": "v",
         "showlegend": true,
         "textposition": "auto",
         "type": "bar",
         "x": [
          "ICCDRS"
         ],
         "xaxis": "x",
         "y": [
          0.0009737493406905505
         ],
         "yaxis": "y"
        },
        {
         "alignmentgroup": "True",
         "customdata": [
          [
           "Solecurtidae"
          ]
         ],
         "hovertemplate": "Family=%{customdata[0]}<br>Proportion=%{y}<extra></extra>",
         "legendgroup": "Solecurtidae",
         "marker": {
          "color": "#B6E880",
          "pattern": {
           "shape": ""
          }
         },
         "name": "Solecurtidae",
         "offsetgroup": "Solecurtidae",
         "orientation": "v",
         "showlegend": true,
         "textposition": "auto",
         "type": "bar",
         "x": [
          "MCCDRS"
         ],
         "xaxis": "x",
         "y": [
          0.0009602458229306702
         ],
         "yaxis": "y"
        },
        {
         "alignmentgroup": "True",
         "customdata": [
          [
           "Antennariidae"
          ]
         ],
         "hovertemplate": "Family=%{customdata[0]}<br>Proportion=%{y}<extra></extra>",
         "legendgroup": "Antennariidae",
         "marker": {
          "color": "#FF97FF",
          "pattern": {
           "shape": ""
          }
         },
         "name": "Antennariidae",
         "offsetgroup": "Antennariidae",
         "orientation": "v",
         "showlegend": true,
         "textposition": "auto",
         "type": "bar",
         "x": [
          "MCCDRS"
         ],
         "xaxis": "x",
         "y": [
          0.0009602458229306702
         ],
         "yaxis": "y"
        },
        {
         "alignmentgroup": "True",
         "customdata": [
          [
           "Tedaniidae"
          ]
         ],
         "hovertemplate": "Family=%{customdata[0]}<br>Proportion=%{y}<extra></extra>",
         "legendgroup": "Tedaniidae",
         "marker": {
          "color": "#FECB52",
          "pattern": {
           "shape": ""
          }
         },
         "name": "Tedaniidae",
         "offsetgroup": "Tedaniidae",
         "orientation": "v",
         "showlegend": true,
         "textposition": "auto",
         "type": "bar",
         "x": [
          "MCCDRS"
         ],
         "xaxis": "x",
         "y": [
          0.0009602458229306702
         ],
         "yaxis": "y"
        },
        {
         "alignmentgroup": "True",
         "customdata": [
          [
           "Clionaidae"
          ]
         ],
         "hovertemplate": "Family=%{customdata[0]}<br>Proportion=%{y}<extra></extra>",
         "legendgroup": "Clionaidae",
         "marker": {
          "color": "#636efa",
          "pattern": {
           "shape": ""
          }
         },
         "name": "Clionaidae",
         "offsetgroup": "Clionaidae",
         "orientation": "v",
         "showlegend": true,
         "textposition": "auto",
         "type": "bar",
         "x": [
          "MCCDRS"
         ],
         "xaxis": "x",
         "y": [
          0.0009602458229306702
         ],
         "yaxis": "y"
        },
        {
         "alignmentgroup": "True",
         "customdata": [
          [
           "Astropectinidae"
          ]
         ],
         "hovertemplate": "Family=%{customdata[0]}<br>Proportion=%{y}<extra></extra>",
         "legendgroup": "Astropectinidae",
         "marker": {
          "color": "#EF553B",
          "pattern": {
           "shape": ""
          }
         },
         "name": "Astropectinidae",
         "offsetgroup": "Astropectinidae",
         "orientation": "v",
         "showlegend": true,
         "textposition": "auto",
         "type": "bar",
         "x": [
          "MCCDRS"
         ],
         "xaxis": "x",
         "y": [
          0.0009602458229306702
         ],
         "yaxis": "y"
        },
        {
         "alignmentgroup": "True",
         "customdata": [
          [
           "Barleeiidae"
          ]
         ],
         "hovertemplate": "Family=%{customdata[0]}<br>Proportion=%{y}<extra></extra>",
         "legendgroup": "Barleeiidae",
         "marker": {
          "color": "#00cc96",
          "pattern": {
           "shape": ""
          }
         },
         "name": "Barleeiidae",
         "offsetgroup": "Barleeiidae",
         "orientation": "v",
         "showlegend": true,
         "textposition": "auto",
         "type": "bar",
         "x": [
          "MCCDRS"
         ],
         "xaxis": "x",
         "y": [
          0.0009602458229306702
         ],
         "yaxis": "y"
        },
        {
         "alignmentgroup": "True",
         "customdata": [
          [
           "Atyidae"
          ]
         ],
         "hovertemplate": "Family=%{customdata[0]}<br>Proportion=%{y}<extra></extra>",
         "legendgroup": "Atyidae",
         "marker": {
          "color": "#ab63fa",
          "pattern": {
           "shape": ""
          }
         },
         "name": "Atyidae",
         "offsetgroup": "Atyidae",
         "orientation": "v",
         "showlegend": true,
         "textposition": "auto",
         "type": "bar",
         "x": [
          "MCCDRS"
         ],
         "xaxis": "x",
         "y": [
          0.0009602458229306702
         ],
         "yaxis": "y"
        },
        {
         "alignmentgroup": "True",
         "customdata": [
          [
           "Pseudomelatomidae"
          ]
         ],
         "hovertemplate": "Family=%{customdata[0]}<br>Proportion=%{y}<extra></extra>",
         "legendgroup": "Pseudomelatomidae",
         "marker": {
          "color": "#FFA15A",
          "pattern": {
           "shape": ""
          }
         },
         "name": "Pseudomelatomidae",
         "offsetgroup": "Pseudomelatomidae",
         "orientation": "v",
         "showlegend": true,
         "textposition": "auto",
         "type": "bar",
         "x": [
          "MCCDRS"
         ],
         "xaxis": "x",
         "y": [
          0.0009602458229306702
         ],
         "yaxis": "y"
        },
        {
         "alignmentgroup": "True",
         "customdata": [
          [
           "Poritidae"
          ]
         ],
         "hovertemplate": "Family=%{customdata[0]}<br>Proportion=%{y}<extra></extra>",
         "legendgroup": "Poritidae",
         "marker": {
          "color": "#19d3f3",
          "pattern": {
           "shape": ""
          }
         },
         "name": "Poritidae",
         "offsetgroup": "Poritidae",
         "orientation": "v",
         "showlegend": true,
         "textposition": "auto",
         "type": "bar",
         "x": [
          "MCCDRS"
         ],
         "xaxis": "x",
         "y": [
          0.0009602458229306702
         ],
         "yaxis": "y"
        },
        {
         "alignmentgroup": "True",
         "customdata": [
          [
           "Chirostylidae"
          ]
         ],
         "hovertemplate": "Family=%{customdata[0]}<br>Proportion=%{y}<extra></extra>",
         "legendgroup": "Chirostylidae",
         "marker": {
          "color": "#FF6692",
          "pattern": {
           "shape": ""
          }
         },
         "name": "Chirostylidae",
         "offsetgroup": "Chirostylidae",
         "orientation": "v",
         "showlegend": true,
         "textposition": "auto",
         "type": "bar",
         "x": [
          "MCCDRS"
         ],
         "xaxis": "x",
         "y": [
          0.0009602458229306702
         ],
         "yaxis": "y"
        },
        {
         "alignmentgroup": "True",
         "customdata": [
          [
           "Pinnidae"
          ]
         ],
         "hovertemplate": "Family=%{customdata[0]}<br>Proportion=%{y}<extra></extra>",
         "legendgroup": "Pinnidae",
         "marker": {
          "color": "#B6E880",
          "pattern": {
           "shape": ""
          }
         },
         "name": "Pinnidae",
         "offsetgroup": "Pinnidae",
         "orientation": "v",
         "showlegend": true,
         "textposition": "auto",
         "type": "bar",
         "x": [
          "MCCDRS"
         ],
         "xaxis": "x",
         "y": [
          0.0009602458229306702
         ],
         "yaxis": "y"
        },
        {
         "alignmentgroup": "True",
         "customdata": [
          [
           "Pycnogonidae"
          ]
         ],
         "hovertemplate": "Family=%{customdata[0]}<br>Proportion=%{y}<extra></extra>",
         "legendgroup": "Pycnogonidae",
         "marker": {
          "color": "#FF97FF",
          "pattern": {
           "shape": ""
          }
         },
         "name": "Pycnogonidae",
         "offsetgroup": "Pycnogonidae",
         "orientation": "v",
         "showlegend": true,
         "textposition": "auto",
         "type": "bar",
         "x": [
          "MCCDRS"
         ],
         "xaxis": "x",
         "y": [
          0.0009602458229306702
         ],
         "yaxis": "y"
        },
        {
         "alignmentgroup": "True",
         "customdata": [
          [
           "Pseudosquillidae"
          ]
         ],
         "hovertemplate": "Family=%{customdata[0]}<br>Proportion=%{y}<extra></extra>",
         "legendgroup": "Pseudosquillidae",
         "marker": {
          "color": "#FECB52",
          "pattern": {
           "shape": ""
          }
         },
         "name": "Pseudosquillidae",
         "offsetgroup": "Pseudosquillidae",
         "orientation": "v",
         "showlegend": true,
         "textposition": "auto",
         "type": "bar",
         "x": [
          "MCCDRS"
         ],
         "xaxis": "x",
         "y": [
          0.0009602458229306702
         ],
         "yaxis": "y"
        },
        {
         "alignmentgroup": "True",
         "customdata": [
          [
           "Percnidae"
          ]
         ],
         "hovertemplate": "Family=%{customdata[0]}<br>Proportion=%{y}<extra></extra>",
         "legendgroup": "Percnidae",
         "marker": {
          "color": "#636efa",
          "pattern": {
           "shape": ""
          }
         },
         "name": "Percnidae",
         "offsetgroup": "Percnidae",
         "orientation": "v",
         "showlegend": true,
         "textposition": "auto",
         "type": "bar",
         "x": [
          "MCCDRS"
         ],
         "xaxis": "x",
         "y": [
          0.0009602458229306702
         ],
         "yaxis": "y"
        },
        {
         "alignmentgroup": "True",
         "customdata": [
          [
           "Ophiacanthidae"
          ]
         ],
         "hovertemplate": "Family=%{customdata[0]}<br>Proportion=%{y}<extra></extra>",
         "legendgroup": "Ophiacanthidae",
         "marker": {
          "color": "#EF553B",
          "pattern": {
           "shape": ""
          }
         },
         "name": "Ophiacanthidae",
         "offsetgroup": "Ophiacanthidae",
         "orientation": "v",
         "showlegend": true,
         "textposition": "auto",
         "type": "bar",
         "x": [
          "MCCDRS"
         ],
         "xaxis": "x",
         "y": [
          0.0009602458229306702
         ],
         "yaxis": "y"
        },
        {
         "alignmentgroup": "True",
         "customdata": [
          [
           "Amphinomidae"
          ]
         ],
         "hovertemplate": "Family=%{customdata[0]}<br>Proportion=%{y}<extra></extra>",
         "legendgroup": "Amphinomidae",
         "marker": {
          "color": "#00cc96",
          "pattern": {
           "shape": ""
          }
         },
         "name": "Amphinomidae",
         "offsetgroup": "Amphinomidae",
         "orientation": "v",
         "showlegend": true,
         "textposition": "auto",
         "type": "bar",
         "x": [
          "MCCDRS"
         ],
         "xaxis": "x",
         "y": [
          0.0009602458229306702
         ],
         "yaxis": "y"
        },
        {
         "alignmentgroup": "True",
         "customdata": [
          [
           "Coenobitidae"
          ]
         ],
         "hovertemplate": "Family=%{customdata[0]}<br>Proportion=%{y}<extra></extra>",
         "legendgroup": "Coenobitidae",
         "marker": {
          "color": "#ab63fa",
          "pattern": {
           "shape": ""
          }
         },
         "name": "Coenobitidae",
         "offsetgroup": "Coenobitidae",
         "orientation": "v",
         "showlegend": true,
         "textposition": "auto",
         "type": "bar",
         "x": [
          "MCCDRS"
         ],
         "xaxis": "x",
         "y": [
          0.0009602458229306702
         ],
         "yaxis": "y"
        },
        {
         "alignmentgroup": "True",
         "customdata": [
          [
           "Tethyidae"
          ]
         ],
         "hovertemplate": "Family=%{customdata[0]}<br>Proportion=%{y}<extra></extra>",
         "legendgroup": "Tethyidae",
         "marker": {
          "color": "#FFA15A",
          "pattern": {
           "shape": ""
          }
         },
         "name": "Tethyidae",
         "offsetgroup": "Tethyidae",
         "orientation": "v",
         "showlegend": true,
         "textposition": "auto",
         "type": "bar",
         "x": [
          "MCCDRS"
         ],
         "xaxis": "x",
         "y": [
          0.0009602458229306702
         ],
         "yaxis": "y"
        },
        {
         "alignmentgroup": "True",
         "customdata": [
          [
           "Oculinidae"
          ]
         ],
         "hovertemplate": "Family=%{customdata[0]}<br>Proportion=%{y}<extra></extra>",
         "legendgroup": "Oculinidae",
         "marker": {
          "color": "#19d3f3",
          "pattern": {
           "shape": ""
          }
         },
         "name": "Oculinidae",
         "offsetgroup": "Oculinidae",
         "orientation": "v",
         "showlegend": true,
         "textposition": "auto",
         "type": "bar",
         "x": [
          "MCCDRS"
         ],
         "xaxis": "x",
         "y": [
          0.0009602458229306702
         ],
         "yaxis": "y"
        },
        {
         "alignmentgroup": "True",
         "customdata": [
          [
           "Malacanthidae"
          ]
         ],
         "hovertemplate": "Family=%{customdata[0]}<br>Proportion=%{y}<extra></extra>",
         "legendgroup": "Malacanthidae",
         "marker": {
          "color": "#FF6692",
          "pattern": {
           "shape": ""
          }
         },
         "name": "Malacanthidae",
         "offsetgroup": "Malacanthidae",
         "orientation": "v",
         "showlegend": true,
         "textposition": "auto",
         "type": "bar",
         "x": [
          "MCCDRS"
         ],
         "xaxis": "x",
         "y": [
          0.0009602458229306702
         ],
         "yaxis": "y"
        },
        {
         "alignmentgroup": "True",
         "customdata": [
          [
           "Cystiscidae"
          ]
         ],
         "hovertemplate": "Family=%{customdata[0]}<br>Proportion=%{y}<extra></extra>",
         "legendgroup": "Cystiscidae",
         "marker": {
          "color": "#B6E880",
          "pattern": {
           "shape": ""
          }
         },
         "name": "Cystiscidae",
         "offsetgroup": "Cystiscidae",
         "orientation": "v",
         "showlegend": true,
         "textposition": "auto",
         "type": "bar",
         "x": [
          "MCCDRS"
         ],
         "xaxis": "x",
         "y": [
          0.0009602458229306702
         ],
         "yaxis": "y"
        },
        {
         "alignmentgroup": "True",
         "customdata": [
          [
           "Dennstaedtiaceae"
          ]
         ],
         "hovertemplate": "Family=%{customdata[0]}<br>Proportion=%{y}<extra></extra>",
         "legendgroup": "Dennstaedtiaceae",
         "marker": {
          "color": "#FF97FF",
          "pattern": {
           "shape": ""
          }
         },
         "name": "Dennstaedtiaceae",
         "offsetgroup": "Dennstaedtiaceae",
         "orientation": "v",
         "showlegend": true,
         "textposition": "auto",
         "type": "bar",
         "x": [
          "CDS"
         ],
         "xaxis": "x",
         "y": [
          0.0009581125183388724
         ],
         "yaxis": "y"
        },
        {
         "alignmentgroup": "True",
         "customdata": [
          [
           "Hymenochaetaceae"
          ]
         ],
         "hovertemplate": "Family=%{customdata[0]}<br>Proportion=%{y}<extra></extra>",
         "legendgroup": "Hymenochaetaceae",
         "marker": {
          "color": "#FECB52",
          "pattern": {
           "shape": ""
          }
         },
         "name": "Hymenochaetaceae",
         "offsetgroup": "Hymenochaetaceae",
         "orientation": "v",
         "showlegend": true,
         "textposition": "auto",
         "type": "bar",
         "x": [
          "CDS"
         ],
         "xaxis": "x",
         "y": [
          0.0009581125183388724
         ],
         "yaxis": "y"
        },
        {
         "alignmentgroup": "True",
         "customdata": [
          [
           "Ichneumonidae"
          ]
         ],
         "hovertemplate": "Family=%{customdata[0]}<br>Proportion=%{y}<extra></extra>",
         "legendgroup": "Ichneumonidae",
         "marker": {
          "color": "#636efa",
          "pattern": {
           "shape": ""
          }
         },
         "name": "Ichneumonidae",
         "offsetgroup": "Ichneumonidae",
         "orientation": "v",
         "showlegend": true,
         "textposition": "auto",
         "type": "bar",
         "x": [
          "ICCDRS"
         ],
         "xaxis": "x",
         "y": [
          0.000933176451495111
         ],
         "yaxis": "y"
        },
        {
         "alignmentgroup": "True",
         "customdata": [
          [
           "Lycosidae"
          ]
         ],
         "hovertemplate": "Family=%{customdata[0]}<br>Proportion=%{y}<extra></extra>",
         "legendgroup": "Lycosidae",
         "marker": {
          "color": "#EF553B",
          "pattern": {
           "shape": ""
          }
         },
         "name": "Lycosidae",
         "offsetgroup": "Lycosidae",
         "orientation": "v",
         "showlegend": true,
         "textposition": "auto",
         "type": "bar",
         "x": [
          "ICCDRS"
         ],
         "xaxis": "x",
         "y": [
          0.000933176451495111
         ],
         "yaxis": "y"
        },
        {
         "alignmentgroup": "True",
         "customdata": [
          [
           "Ammotrechidae"
          ]
         ],
         "hovertemplate": "Family=%{customdata[0]}<br>Proportion=%{y}<extra></extra>",
         "legendgroup": "Ammotrechidae",
         "marker": {
          "color": "#00cc96",
          "pattern": {
           "shape": ""
          }
         },
         "name": "Ammotrechidae",
         "offsetgroup": "Ammotrechidae",
         "orientation": "v",
         "showlegend": true,
         "textposition": "auto",
         "type": "bar",
         "x": [
          "ICCDRS"
         ],
         "xaxis": "x",
         "y": [
          0.000933176451495111
         ],
         "yaxis": "y"
        },
        {
         "alignmentgroup": "True",
         "customdata": [
          [
           "Melastomataceae"
          ]
         ],
         "hovertemplate": "Family=%{customdata[0]}<br>Proportion=%{y}<extra></extra>",
         "legendgroup": "Melastomataceae",
         "marker": {
          "color": "#ab63fa",
          "pattern": {
           "shape": ""
          }
         },
         "name": "Melastomataceae",
         "offsetgroup": "Melastomataceae",
         "orientation": "v",
         "showlegend": true,
         "textposition": "auto",
         "type": "bar",
         "x": [
          "CDS"
         ],
         "xaxis": "x",
         "y": [
          0.0009281715021407826
         ],
         "yaxis": "y"
        },
        {
         "alignmentgroup": "True",
         "customdata": [
          [
           "Pannariaceae"
          ]
         ],
         "hovertemplate": "Family=%{customdata[0]}<br>Proportion=%{y}<extra></extra>",
         "legendgroup": "Pannariaceae",
         "marker": {
          "color": "#FFA15A",
          "pattern": {
           "shape": ""
          }
         },
         "name": "Pannariaceae",
         "offsetgroup": "Pannariaceae",
         "orientation": "v",
         "showlegend": true,
         "textposition": "auto",
         "type": "bar",
         "x": [
          "CDS"
         ],
         "xaxis": "x",
         "y": [
          0.0008982304859426928
         ],
         "yaxis": "y"
        },
        {
         "alignmentgroup": "True",
         "customdata": [
          [
           "Menispermaceae"
          ]
         ],
         "hovertemplate": "Family=%{customdata[0]}<br>Proportion=%{y}<extra></extra>",
         "legendgroup": "Menispermaceae",
         "marker": {
          "color": "#19d3f3",
          "pattern": {
           "shape": ""
          }
         },
         "name": "Menispermaceae",
         "offsetgroup": "Menispermaceae",
         "orientation": "v",
         "showlegend": true,
         "textposition": "auto",
         "type": "bar",
         "x": [
          "CDS"
         ],
         "xaxis": "x",
         "y": [
          0.0008982304859426928
         ],
         "yaxis": "y"
        },
        {
         "alignmentgroup": "True",
         "customdata": [
          [
           "Scolopendridae"
          ]
         ],
         "hovertemplate": "Family=%{customdata[0]}<br>Proportion=%{y}<extra></extra>",
         "legendgroup": "Scolopendridae",
         "marker": {
          "color": "#FF6692",
          "pattern": {
           "shape": ""
          }
         },
         "name": "Scolopendridae",
         "offsetgroup": "Scolopendridae",
         "orientation": "v",
         "showlegend": true,
         "textposition": "auto",
         "type": "bar",
         "x": [
          "ICCDRS"
         ],
         "xaxis": "x",
         "y": [
          0.0008926035622996714
         ],
         "yaxis": "y"
        },
        {
         "alignmentgroup": "True",
         "customdata": [
          [
           "Achatinellidae"
          ]
         ],
         "hovertemplate": "Family=%{customdata[0]}<br>Proportion=%{y}<extra></extra>",
         "legendgroup": "Achatinellidae",
         "marker": {
          "color": "#B6E880",
          "pattern": {
           "shape": ""
          }
         },
         "name": "Achatinellidae",
         "offsetgroup": "Achatinellidae",
         "orientation": "v",
         "showlegend": true,
         "textposition": "auto",
         "type": "bar",
         "x": [
          "ICCDRS"
         ],
         "xaxis": "x",
         "y": [
          0.0008520306731042318
         ],
         "yaxis": "y"
        },
        {
         "alignmentgroup": "True",
         "customdata": [
          [
           "Choreutidae"
          ]
         ],
         "hovertemplate": "Family=%{customdata[0]}<br>Proportion=%{y}<extra></extra>",
         "legendgroup": "Choreutidae",
         "marker": {
          "color": "#FF97FF",
          "pattern": {
           "shape": ""
          }
         },
         "name": "Choreutidae",
         "offsetgroup": "Choreutidae",
         "orientation": "v",
         "showlegend": true,
         "textposition": "auto",
         "type": "bar",
         "x": [
          "ICCDRS"
         ],
         "xaxis": "x",
         "y": [
          0.0008520306731042318
         ],
         "yaxis": "y"
        },
        {
         "alignmentgroup": "True",
         "customdata": [
          [
           "Clusiaceae"
          ]
         ],
         "hovertemplate": "Family=%{customdata[0]}<br>Proportion=%{y}<extra></extra>",
         "legendgroup": "Clusiaceae",
         "marker": {
          "color": "#FECB52",
          "pattern": {
           "shape": ""
          }
         },
         "name": "Clusiaceae",
         "offsetgroup": "Clusiaceae",
         "orientation": "v",
         "showlegend": true,
         "textposition": "auto",
         "type": "bar",
         "x": [
          "CDS"
         ],
         "xaxis": "x",
         "y": [
          0.0008383484535465133
         ],
         "yaxis": "y"
        },
        {
         "alignmentgroup": "True",
         "customdata": [
          [
           "Halymeniaceae"
          ]
         ],
         "hovertemplate": "Family=%{customdata[0]}<br>Proportion=%{y}<extra></extra>",
         "legendgroup": "Halymeniaceae",
         "marker": {
          "color": "#636efa",
          "pattern": {
           "shape": ""
          }
         },
         "name": "Halymeniaceae",
         "offsetgroup": "Halymeniaceae",
         "orientation": "v",
         "showlegend": true,
         "textposition": "auto",
         "type": "bar",
         "x": [
          "CDS"
         ],
         "xaxis": "x",
         "y": [
          0.0008383484535465133
         ],
         "yaxis": "y"
        },
        {
         "alignmentgroup": "True",
         "customdata": [
          [
           "Cannabaceae"
          ]
         ],
         "hovertemplate": "Family=%{customdata[0]}<br>Proportion=%{y}<extra></extra>",
         "legendgroup": "Cannabaceae",
         "marker": {
          "color": "#EF553B",
          "pattern": {
           "shape": ""
          }
         },
         "name": "Cannabaceae",
         "offsetgroup": "Cannabaceae",
         "orientation": "v",
         "showlegend": true,
         "textposition": "auto",
         "type": "bar",
         "x": [
          "CDS"
         ],
         "xaxis": "x",
         "y": [
          0.0008383484535465133
         ],
         "yaxis": "y"
        },
        {
         "alignmentgroup": "True",
         "customdata": [
          [
           "Alydidae"
          ]
         ],
         "hovertemplate": "Family=%{customdata[0]}<br>Proportion=%{y}<extra></extra>",
         "legendgroup": "Alydidae",
         "marker": {
          "color": "#00cc96",
          "pattern": {
           "shape": ""
          }
         },
         "name": "Alydidae",
         "offsetgroup": "Alydidae",
         "orientation": "v",
         "showlegend": true,
         "textposition": "auto",
         "type": "bar",
         "x": [
          "ICCDRS"
         ],
         "xaxis": "x",
         "y": [
          0.0008114577839087922
         ],
         "yaxis": "y"
        },
        {
         "alignmentgroup": "True",
         "customdata": [
          [
           "Veronicellidae"
          ]
         ],
         "hovertemplate": "Family=%{customdata[0]}<br>Proportion=%{y}<extra></extra>",
         "legendgroup": "Veronicellidae",
         "marker": {
          "color": "#ab63fa",
          "pattern": {
           "shape": ""
          }
         },
         "name": "Veronicellidae",
         "offsetgroup": "Veronicellidae",
         "orientation": "v",
         "showlegend": true,
         "textposition": "auto",
         "type": "bar",
         "x": [
          "ICCDRS"
         ],
         "xaxis": "x",
         "y": [
          0.0008114577839087922
         ],
         "yaxis": "y"
        },
        {
         "alignmentgroup": "True",
         "customdata": [
          [
           "Nesticidae"
          ]
         ],
         "hovertemplate": "Family=%{customdata[0]}<br>Proportion=%{y}<extra></extra>",
         "legendgroup": "Nesticidae",
         "marker": {
          "color": "#FFA15A",
          "pattern": {
           "shape": ""
          }
         },
         "name": "Nesticidae",
         "offsetgroup": "Nesticidae",
         "orientation": "v",
         "showlegend": true,
         "textposition": "auto",
         "type": "bar",
         "x": [
          "ICCDRS"
         ],
         "xaxis": "x",
         "y": [
          0.0008114577839087922
         ],
         "yaxis": "y"
        },
        {
         "alignmentgroup": "True",
         "customdata": [
          [
           "Margarodidae"
          ]
         ],
         "hovertemplate": "Family=%{customdata[0]}<br>Proportion=%{y}<extra></extra>",
         "legendgroup": "Margarodidae",
         "marker": {
          "color": "#19d3f3",
          "pattern": {
           "shape": ""
          }
         },
         "name": "Margarodidae",
         "offsetgroup": "Margarodidae",
         "orientation": "v",
         "showlegend": true,
         "textposition": "auto",
         "type": "bar",
         "x": [
          "ICCDRS"
         ],
         "xaxis": "x",
         "y": [
          0.0008114577839087922
         ],
         "yaxis": "y"
        },
        {
         "alignmentgroup": "True",
         "customdata": [
          [
           "Sematophyllaceae"
          ]
         ],
         "hovertemplate": "Family=%{customdata[0]}<br>Proportion=%{y}<extra></extra>",
         "legendgroup": "Sematophyllaceae",
         "marker": {
          "color": "#FF6692",
          "pattern": {
           "shape": ""
          }
         },
         "name": "Sematophyllaceae",
         "offsetgroup": "Sematophyllaceae",
         "orientation": "v",
         "showlegend": true,
         "textposition": "auto",
         "type": "bar",
         "x": [
          "CDS"
         ],
         "xaxis": "x",
         "y": [
          0.0008084074373484236
         ],
         "yaxis": "y"
        },
        {
         "alignmentgroup": "True",
         "customdata": [
          [
           "Lithophyllaceae"
          ]
         ],
         "hovertemplate": "Family=%{customdata[0]}<br>Proportion=%{y}<extra></extra>",
         "legendgroup": "Lithophyllaceae",
         "marker": {
          "color": "#B6E880",
          "pattern": {
           "shape": ""
          }
         },
         "name": "Lithophyllaceae",
         "offsetgroup": "Lithophyllaceae",
         "orientation": "v",
         "showlegend": true,
         "textposition": "auto",
         "type": "bar",
         "x": [
          "CDS"
         ],
         "xaxis": "x",
         "y": [
          0.0008084074373484236
         ],
         "yaxis": "y"
        },
        {
         "alignmentgroup": "True",
         "customdata": [
          [
           "Ulvaceae"
          ]
         ],
         "hovertemplate": "Family=%{customdata[0]}<br>Proportion=%{y}<extra></extra>",
         "legendgroup": "Ulvaceae",
         "marker": {
          "color": "#FF97FF",
          "pattern": {
           "shape": ""
          }
         },
         "name": "Ulvaceae",
         "offsetgroup": "Ulvaceae",
         "orientation": "v",
         "showlegend": true,
         "textposition": "auto",
         "type": "bar",
         "x": [
          "CDS"
         ],
         "xaxis": "x",
         "y": [
          0.0007784664211503338
         ],
         "yaxis": "y"
        },
        {
         "alignmentgroup": "True",
         "customdata": [
          [
           "Dermestidae"
          ]
         ],
         "hovertemplate": "Family=%{customdata[0]}<br>Proportion=%{y}<extra></extra>",
         "legendgroup": "Dermestidae",
         "marker": {
          "color": "#FECB52",
          "pattern": {
           "shape": ""
          }
         },
         "name": "Dermestidae",
         "offsetgroup": "Dermestidae",
         "orientation": "v",
         "showlegend": true,
         "textposition": "auto",
         "type": "bar",
         "x": [
          "ICCDRS"
         ],
         "xaxis": "x",
         "y": [
          0.0007708848947133526
         ],
         "yaxis": "y"
        },
        {
         "alignmentgroup": "True",
         "customdata": [
          [
           "Peripsocidae"
          ]
         ],
         "hovertemplate": "Family=%{customdata[0]}<br>Proportion=%{y}<extra></extra>",
         "legendgroup": "Peripsocidae",
         "marker": {
          "color": "#636efa",
          "pattern": {
           "shape": ""
          }
         },
         "name": "Peripsocidae",
         "offsetgroup": "Peripsocidae",
         "orientation": "v",
         "showlegend": true,
         "textposition": "auto",
         "type": "bar",
         "x": [
          "ICCDRS"
         ],
         "xaxis": "x",
         "y": [
          0.0007708848947133526
         ],
         "yaxis": "y"
        },
        {
         "alignmentgroup": "True",
         "customdata": [
          [
           "Ortheziidae"
          ]
         ],
         "hovertemplate": "Family=%{customdata[0]}<br>Proportion=%{y}<extra></extra>",
         "legendgroup": "Ortheziidae",
         "marker": {
          "color": "#EF553B",
          "pattern": {
           "shape": ""
          }
         },
         "name": "Ortheziidae",
         "offsetgroup": "Ortheziidae",
         "orientation": "v",
         "showlegend": true,
         "textposition": "auto",
         "type": "bar",
         "x": [
          "ICCDRS"
         ],
         "xaxis": "x",
         "y": [
          0.0007708848947133526
         ],
         "yaxis": "y"
        },
        {
         "alignmentgroup": "True",
         "customdata": [
          [
           "Bursidae"
          ]
         ],
         "hovertemplate": "Family=%{customdata[0]}<br>Proportion=%{y}<extra></extra>",
         "legendgroup": "Bursidae",
         "marker": {
          "color": "#00cc96",
          "pattern": {
           "shape": ""
          }
         },
         "name": "Bursidae",
         "offsetgroup": "Bursidae",
         "orientation": "v",
         "showlegend": true,
         "textposition": "auto",
         "type": "bar",
         "x": [
          "MCCDRS"
         ],
         "xaxis": "x",
         "y": [
          0.0007681966583445362
         ],
         "yaxis": "y"
        },
        {
         "alignmentgroup": "True",
         "customdata": [
          [
           "Antroporidae"
          ]
         ],
         "hovertemplate": "Family=%{customdata[0]}<br>Proportion=%{y}<extra></extra>",
         "legendgroup": "Antroporidae",
         "marker": {
          "color": "#ab63fa",
          "pattern": {
           "shape": ""
          }
         },
         "name": "Antroporidae",
         "offsetgroup": "Antroporidae",
         "orientation": "v",
         "showlegend": true,
         "textposition": "auto",
         "type": "bar",
         "x": [
          "MCCDRS"
         ],
         "xaxis": "x",
         "y": [
          0.0007681966583445362
         ],
         "yaxis": "y"
        },
        {
         "alignmentgroup": "True",
         "customdata": [
          [
           "Asteriidae"
          ]
         ],
         "hovertemplate": "Family=%{customdata[0]}<br>Proportion=%{y}<extra></extra>",
         "legendgroup": "Asteriidae",
         "marker": {
          "color": "#FFA15A",
          "pattern": {
           "shape": ""
          }
         },
         "name": "Asteriidae",
         "offsetgroup": "Asteriidae",
         "orientation": "v",
         "showlegend": true,
         "textposition": "auto",
         "type": "bar",
         "x": [
          "MCCDRS"
         ],
         "xaxis": "x",
         "y": [
          0.0007681966583445362
         ],
         "yaxis": "y"
        },
        {
         "alignmentgroup": "True",
         "customdata": [
          [
           "Chondrillidae"
          ]
         ],
         "hovertemplate": "Family=%{customdata[0]}<br>Proportion=%{y}<extra></extra>",
         "legendgroup": "Chondrillidae",
         "marker": {
          "color": "#19d3f3",
          "pattern": {
           "shape": ""
          }
         },
         "name": "Chondrillidae",
         "offsetgroup": "Chondrillidae",
         "orientation": "v",
         "showlegend": true,
         "textposition": "auto",
         "type": "bar",
         "x": [
          "MCCDRS"
         ],
         "xaxis": "x",
         "y": [
          0.0007681966583445362
         ],
         "yaxis": "y"
        },
        {
         "alignmentgroup": "True",
         "customdata": [
          [
           "Leptosomatidae"
          ]
         ],
         "hovertemplate": "Family=%{customdata[0]}<br>Proportion=%{y}<extra></extra>",
         "legendgroup": "Leptosomatidae",
         "marker": {
          "color": "#FF6692",
          "pattern": {
           "shape": ""
          }
         },
         "name": "Leptosomatidae",
         "offsetgroup": "Leptosomatidae",
         "orientation": "v",
         "showlegend": true,
         "textposition": "auto",
         "type": "bar",
         "x": [
          "MCCDRS"
         ],
         "xaxis": "x",
         "y": [
          0.0007681966583445362
         ],
         "yaxis": "y"
        },
        {
         "alignmentgroup": "True",
         "customdata": [
          [
           "Hemieuryalidae"
          ]
         ],
         "hovertemplate": "Family=%{customdata[0]}<br>Proportion=%{y}<extra></extra>",
         "legendgroup": "Hemieuryalidae",
         "marker": {
          "color": "#B6E880",
          "pattern": {
           "shape": ""
          }
         },
         "name": "Hemieuryalidae",
         "offsetgroup": "Hemieuryalidae",
         "orientation": "v",
         "showlegend": true,
         "textposition": "auto",
         "type": "bar",
         "x": [
          "MCCDRS"
         ],
         "xaxis": "x",
         "y": [
          0.0007681966583445362
         ],
         "yaxis": "y"
        },
        {
         "alignmentgroup": "True",
         "customdata": [
          [
           "Triphoridae"
          ]
         ],
         "hovertemplate": "Family=%{customdata[0]}<br>Proportion=%{y}<extra></extra>",
         "legendgroup": "Triphoridae",
         "marker": {
          "color": "#FF97FF",
          "pattern": {
           "shape": ""
          }
         },
         "name": "Triphoridae",
         "offsetgroup": "Triphoridae",
         "orientation": "v",
         "showlegend": true,
         "textposition": "auto",
         "type": "bar",
         "x": [
          "MCCDRS"
         ],
         "xaxis": "x",
         "y": [
          0.0007681966583445362
         ],
         "yaxis": "y"
        },
        {
         "alignmentgroup": "True",
         "customdata": [
          [
           "Pleurobranchidae"
          ]
         ],
         "hovertemplate": "Family=%{customdata[0]}<br>Proportion=%{y}<extra></extra>",
         "legendgroup": "Pleurobranchidae",
         "marker": {
          "color": "#FECB52",
          "pattern": {
           "shape": ""
          }
         },
         "name": "Pleurobranchidae",
         "offsetgroup": "Pleurobranchidae",
         "orientation": "v",
         "showlegend": true,
         "textposition": "auto",
         "type": "bar",
         "x": [
          "MCCDRS"
         ],
         "xaxis": "x",
         "y": [
          0.0007681966583445362
         ],
         "yaxis": "y"
        },
        {
         "alignmentgroup": "True",
         "customdata": [
          [
           "Plumulariidae"
          ]
         ],
         "hovertemplate": "Family=%{customdata[0]}<br>Proportion=%{y}<extra></extra>",
         "legendgroup": "Plumulariidae",
         "marker": {
          "color": "#636efa",
          "pattern": {
           "shape": ""
          }
         },
         "name": "Plumulariidae",
         "offsetgroup": "Plumulariidae",
         "orientation": "v",
         "showlegend": true,
         "textposition": "auto",
         "type": "bar",
         "x": [
          "MCCDRS"
         ],
         "xaxis": "x",
         "y": [
          0.0007681966583445362
         ],
         "yaxis": "y"
        },
        {
         "alignmentgroup": "True",
         "customdata": [
          [
           "Thysanoteuthidae"
          ]
         ],
         "hovertemplate": "Family=%{customdata[0]}<br>Proportion=%{y}<extra></extra>",
         "legendgroup": "Thysanoteuthidae",
         "marker": {
          "color": "#EF553B",
          "pattern": {
           "shape": ""
          }
         },
         "name": "Thysanoteuthidae",
         "offsetgroup": "Thysanoteuthidae",
         "orientation": "v",
         "showlegend": true,
         "textposition": "auto",
         "type": "bar",
         "x": [
          "MCCDRS"
         ],
         "xaxis": "x",
         "y": [
          0.0007681966583445362
         ],
         "yaxis": "y"
        },
        {
         "alignmentgroup": "True",
         "customdata": [
          [
           "Hirudinellidae"
          ]
         ],
         "hovertemplate": "Family=%{customdata[0]}<br>Proportion=%{y}<extra></extra>",
         "legendgroup": "Hirudinellidae",
         "marker": {
          "color": "#00cc96",
          "pattern": {
           "shape": ""
          }
         },
         "name": "Hirudinellidae",
         "offsetgroup": "Hirudinellidae",
         "orientation": "v",
         "showlegend": true,
         "textposition": "auto",
         "type": "bar",
         "x": [
          "MCCDRS"
         ],
         "xaxis": "x",
         "y": [
          0.0007681966583445362
         ],
         "yaxis": "y"
        },
        {
         "alignmentgroup": "True",
         "customdata": [
          [
           "Paramuriceidae"
          ]
         ],
         "hovertemplate": "Family=%{customdata[0]}<br>Proportion=%{y}<extra></extra>",
         "legendgroup": "Paramuriceidae",
         "marker": {
          "color": "#ab63fa",
          "pattern": {
           "shape": ""
          }
         },
         "name": "Paramuriceidae",
         "offsetgroup": "Paramuriceidae",
         "orientation": "v",
         "showlegend": true,
         "textposition": "auto",
         "type": "bar",
         "x": [
          "MCCDRS"
         ],
         "xaxis": "x",
         "y": [
          0.0007681966583445362
         ],
         "yaxis": "y"
        },
        {
         "alignmentgroup": "True",
         "customdata": [
          [
           "Chaetodontidae"
          ]
         ],
         "hovertemplate": "Family=%{customdata[0]}<br>Proportion=%{y}<extra></extra>",
         "legendgroup": "Chaetodontidae",
         "marker": {
          "color": "#FFA15A",
          "pattern": {
           "shape": ""
          }
         },
         "name": "Chaetodontidae",
         "offsetgroup": "Chaetodontidae",
         "orientation": "v",
         "showlegend": true,
         "textposition": "auto",
         "type": "bar",
         "x": [
          "MCCDRS"
         ],
         "xaxis": "x",
         "y": [
          0.0007681966583445362
         ],
         "yaxis": "y"
        },
        {
         "alignmentgroup": "True",
         "customdata": [
          [
           "Pinnotheridae"
          ]
         ],
         "hovertemplate": "Family=%{customdata[0]}<br>Proportion=%{y}<extra></extra>",
         "legendgroup": "Pinnotheridae",
         "marker": {
          "color": "#19d3f3",
          "pattern": {
           "shape": ""
          }
         },
         "name": "Pinnotheridae",
         "offsetgroup": "Pinnotheridae",
         "orientation": "v",
         "showlegend": true,
         "textposition": "auto",
         "type": "bar",
         "x": [
          "MCCDRS"
         ],
         "xaxis": "x",
         "y": [
          0.0007681966583445362
         ],
         "yaxis": "y"
        },
        {
         "alignmentgroup": "True",
         "customdata": [
          [
           "Geodiidae"
          ]
         ],
         "hovertemplate": "Family=%{customdata[0]}<br>Proportion=%{y}<extra></extra>",
         "legendgroup": "Geodiidae",
         "marker": {
          "color": "#FF6692",
          "pattern": {
           "shape": ""
          }
         },
         "name": "Geodiidae",
         "offsetgroup": "Geodiidae",
         "orientation": "v",
         "showlegend": true,
         "textposition": "auto",
         "type": "bar",
         "x": [
          "MCCDRS"
         ],
         "xaxis": "x",
         "y": [
          0.0007681966583445362
         ],
         "yaxis": "y"
        },
        {
         "alignmentgroup": "True",
         "customdata": [
          [
           "Polymastiidae"
          ]
         ],
         "hovertemplate": "Family=%{customdata[0]}<br>Proportion=%{y}<extra></extra>",
         "legendgroup": "Polymastiidae",
         "marker": {
          "color": "#B6E880",
          "pattern": {
           "shape": ""
          }
         },
         "name": "Polymastiidae",
         "offsetgroup": "Polymastiidae",
         "orientation": "v",
         "showlegend": true,
         "textposition": "auto",
         "type": "bar",
         "x": [
          "MCCDRS"
         ],
         "xaxis": "x",
         "y": [
          0.0007681966583445362
         ],
         "yaxis": "y"
        },
        {
         "alignmentgroup": "True",
         "customdata": [
          [
           "Gigantoporidae"
          ]
         ],
         "hovertemplate": "Family=%{customdata[0]}<br>Proportion=%{y}<extra></extra>",
         "legendgroup": "Gigantoporidae",
         "marker": {
          "color": "#FF97FF",
          "pattern": {
           "shape": ""
          }
         },
         "name": "Gigantoporidae",
         "offsetgroup": "Gigantoporidae",
         "orientation": "v",
         "showlegend": true,
         "textposition": "auto",
         "type": "bar",
         "x": [
          "MCCDRS"
         ],
         "xaxis": "x",
         "y": [
          0.0007681966583445362
         ],
         "yaxis": "y"
        },
        {
         "alignmentgroup": "True",
         "customdata": [
          [
           "Pyroteuthidae"
          ]
         ],
         "hovertemplate": "Family=%{customdata[0]}<br>Proportion=%{y}<extra></extra>",
         "legendgroup": "Pyroteuthidae",
         "marker": {
          "color": "#FECB52",
          "pattern": {
           "shape": ""
          }
         },
         "name": "Pyroteuthidae",
         "offsetgroup": "Pyroteuthidae",
         "orientation": "v",
         "showlegend": true,
         "textposition": "auto",
         "type": "bar",
         "x": [
          "MCCDRS"
         ],
         "xaxis": "x",
         "y": [
          0.0007681966583445362
         ],
         "yaxis": "y"
        },
        {
         "alignmentgroup": "True",
         "customdata": [
          [
           "Granulinidae"
          ]
         ],
         "hovertemplate": "Family=%{customdata[0]}<br>Proportion=%{y}<extra></extra>",
         "legendgroup": "Granulinidae",
         "marker": {
          "color": "#636efa",
          "pattern": {
           "shape": ""
          }
         },
         "name": "Granulinidae",
         "offsetgroup": "Granulinidae",
         "orientation": "v",
         "showlegend": true,
         "textposition": "auto",
         "type": "bar",
         "x": [
          "MCCDRS"
         ],
         "xaxis": "x",
         "y": [
          0.0007681966583445362
         ],
         "yaxis": "y"
        },
        {
         "alignmentgroup": "True",
         "customdata": [
          [
           "Domeciidae"
          ]
         ],
         "hovertemplate": "Family=%{customdata[0]}<br>Proportion=%{y}<extra></extra>",
         "legendgroup": "Domeciidae",
         "marker": {
          "color": "#EF553B",
          "pattern": {
           "shape": ""
          }
         },
         "name": "Domeciidae",
         "offsetgroup": "Domeciidae",
         "orientation": "v",
         "showlegend": true,
         "textposition": "auto",
         "type": "bar",
         "x": [
          "MCCDRS"
         ],
         "xaxis": "x",
         "y": [
          0.0007681966583445362
         ],
         "yaxis": "y"
        },
        {
         "alignmentgroup": "True",
         "customdata": [
          [
           "Membraniporidae"
          ]
         ],
         "hovertemplate": "Family=%{customdata[0]}<br>Proportion=%{y}<extra></extra>",
         "legendgroup": "Membraniporidae",
         "marker": {
          "color": "#00cc96",
          "pattern": {
           "shape": ""
          }
         },
         "name": "Membraniporidae",
         "offsetgroup": "Membraniporidae",
         "orientation": "v",
         "showlegend": true,
         "textposition": "auto",
         "type": "bar",
         "x": [
          "MCCDRS"
         ],
         "xaxis": "x",
         "y": [
          0.0007681966583445362
         ],
         "yaxis": "y"
        },
        {
         "alignmentgroup": "True",
         "customdata": [
          [
           "Ophidiidae"
          ]
         ],
         "hovertemplate": "Family=%{customdata[0]}<br>Proportion=%{y}<extra></extra>",
         "legendgroup": "Ophidiidae",
         "marker": {
          "color": "#ab63fa",
          "pattern": {
           "shape": ""
          }
         },
         "name": "Ophidiidae",
         "offsetgroup": "Ophidiidae",
         "orientation": "v",
         "showlegend": true,
         "textposition": "auto",
         "type": "bar",
         "x": [
          "MCCDRS"
         ],
         "xaxis": "x",
         "y": [
          0.0007681966583445362
         ],
         "yaxis": "y"
        },
        {
         "alignmentgroup": "True",
         "customdata": [
          [
           "Acidopsidae"
          ]
         ],
         "hovertemplate": "Family=%{customdata[0]}<br>Proportion=%{y}<extra></extra>",
         "legendgroup": "Acidopsidae",
         "marker": {
          "color": "#FFA15A",
          "pattern": {
           "shape": ""
          }
         },
         "name": "Acidopsidae",
         "offsetgroup": "Acidopsidae",
         "orientation": "v",
         "showlegend": true,
         "textposition": "auto",
         "type": "bar",
         "x": [
          "MCCDRS"
         ],
         "xaxis": "x",
         "y": [
          0.0007681966583445362
         ],
         "yaxis": "y"
        },
        {
         "alignmentgroup": "True",
         "customdata": [
          [
           "Aethridae"
          ]
         ],
         "hovertemplate": "Family=%{customdata[0]}<br>Proportion=%{y}<extra></extra>",
         "legendgroup": "Aethridae",
         "marker": {
          "color": "#19d3f3",
          "pattern": {
           "shape": ""
          }
         },
         "name": "Aethridae",
         "offsetgroup": "Aethridae",
         "orientation": "v",
         "showlegend": true,
         "textposition": "auto",
         "type": "bar",
         "x": [
          "MCCDRS"
         ],
         "xaxis": "x",
         "y": [
          0.0007681966583445362
         ],
         "yaxis": "y"
        },
        {
         "alignmentgroup": "True",
         "customdata": [
          [
           "Ammotheidae"
          ]
         ],
         "hovertemplate": "Family=%{customdata[0]}<br>Proportion=%{y}<extra></extra>",
         "legendgroup": "Ammotheidae",
         "marker": {
          "color": "#FF6692",
          "pattern": {
           "shape": ""
          }
         },
         "name": "Ammotheidae",
         "offsetgroup": "Ammotheidae",
         "orientation": "v",
         "showlegend": true,
         "textposition": "auto",
         "type": "bar",
         "x": [
          "MCCDRS"
         ],
         "xaxis": "x",
         "y": [
          0.0007681966583445362
         ],
         "yaxis": "y"
        },
        {
         "alignmentgroup": "True",
         "customdata": [
          [
           "Onychoteuthidae"
          ]
         ],
         "hovertemplate": "Family=%{customdata[0]}<br>Proportion=%{y}<extra></extra>",
         "legendgroup": "Onychoteuthidae",
         "marker": {
          "color": "#B6E880",
          "pattern": {
           "shape": ""
          }
         },
         "name": "Onychoteuthidae",
         "offsetgroup": "Onychoteuthidae",
         "orientation": "v",
         "showlegend": true,
         "textposition": "auto",
         "type": "bar",
         "x": [
          "MCCDRS"
         ],
         "xaxis": "x",
         "y": [
          0.0007681966583445362
         ],
         "yaxis": "y"
        },
        {
         "alignmentgroup": "True",
         "customdata": [
          [
           "Ommastrephidae"
          ]
         ],
         "hovertemplate": "Family=%{customdata[0]}<br>Proportion=%{y}<extra></extra>",
         "legendgroup": "Ommastrephidae",
         "marker": {
          "color": "#FF97FF",
          "pattern": {
           "shape": ""
          }
         },
         "name": "Ommastrephidae",
         "offsetgroup": "Ommastrephidae",
         "orientation": "v",
         "showlegend": true,
         "textposition": "auto",
         "type": "bar",
         "x": [
          "MCCDRS"
         ],
         "xaxis": "x",
         "y": [
          0.0007681966583445362
         ],
         "yaxis": "y"
        },
        {
         "alignmentgroup": "True",
         "customdata": [
          [
           "Myctophidae"
          ]
         ],
         "hovertemplate": "Family=%{customdata[0]}<br>Proportion=%{y}<extra></extra>",
         "legendgroup": "Myctophidae",
         "marker": {
          "color": "#FECB52",
          "pattern": {
           "shape": ""
          }
         },
         "name": "Myctophidae",
         "offsetgroup": "Myctophidae",
         "orientation": "v",
         "showlegend": true,
         "textposition": "auto",
         "type": "bar",
         "x": [
          "MCCDRS"
         ],
         "xaxis": "x",
         "y": [
          0.0007681966583445362
         ],
         "yaxis": "y"
        },
        {
         "alignmentgroup": "True",
         "customdata": [
          [
           "Stelligeridae"
          ]
         ],
         "hovertemplate": "Family=%{customdata[0]}<br>Proportion=%{y}<extra></extra>",
         "legendgroup": "Stelligeridae",
         "marker": {
          "color": "#636efa",
          "pattern": {
           "shape": ""
          }
         },
         "name": "Stelligeridae",
         "offsetgroup": "Stelligeridae",
         "orientation": "v",
         "showlegend": true,
         "textposition": "auto",
         "type": "bar",
         "x": [
          "MCCDRS"
         ],
         "xaxis": "x",
         "y": [
          0.0007681966583445362
         ],
         "yaxis": "y"
        },
        {
         "alignmentgroup": "True",
         "customdata": [
          [
           "Scaridae"
          ]
         ],
         "hovertemplate": "Family=%{customdata[0]}<br>Proportion=%{y}<extra></extra>",
         "legendgroup": "Scaridae",
         "marker": {
          "color": "#EF553B",
          "pattern": {
           "shape": ""
          }
         },
         "name": "Scaridae",
         "offsetgroup": "Scaridae",
         "orientation": "v",
         "showlegend": true,
         "textposition": "auto",
         "type": "bar",
         "x": [
          "MCCDRS"
         ],
         "xaxis": "x",
         "y": [
          0.0007681966583445362
         ],
         "yaxis": "y"
        },
        {
         "alignmentgroup": "True",
         "customdata": [
          [
           "Strombidae"
          ]
         ],
         "hovertemplate": "Family=%{customdata[0]}<br>Proportion=%{y}<extra></extra>",
         "legendgroup": "Strombidae",
         "marker": {
          "color": "#00cc96",
          "pattern": {
           "shape": ""
          }
         },
         "name": "Strombidae",
         "offsetgroup": "Strombidae",
         "orientation": "v",
         "showlegend": true,
         "textposition": "auto",
         "type": "bar",
         "x": [
          "MCCDRS"
         ],
         "xaxis": "x",
         "y": [
          0.0007681966583445362
         ],
         "yaxis": "y"
        },
        {
         "alignmentgroup": "True",
         "customdata": [
          [
           "Raphitomidae"
          ]
         ],
         "hovertemplate": "Family=%{customdata[0]}<br>Proportion=%{y}<extra></extra>",
         "legendgroup": "Raphitomidae",
         "marker": {
          "color": "#ab63fa",
          "pattern": {
           "shape": ""
          }
         },
         "name": "Raphitomidae",
         "offsetgroup": "Raphitomidae",
         "orientation": "v",
         "showlegend": true,
         "textposition": "auto",
         "type": "bar",
         "x": [
          "MCCDRS"
         ],
         "xaxis": "x",
         "y": [
          0.0007681966583445362
         ],
         "yaxis": "y"
        },
        {
         "alignmentgroup": "True",
         "customdata": [
          [
           "Gelidiaceae"
          ]
         ],
         "hovertemplate": "Family=%{customdata[0]}<br>Proportion=%{y}<extra></extra>",
         "legendgroup": "Gelidiaceae",
         "marker": {
          "color": "#FFA15A",
          "pattern": {
           "shape": ""
          }
         },
         "name": "Gelidiaceae",
         "offsetgroup": "Gelidiaceae",
         "orientation": "v",
         "showlegend": true,
         "textposition": "auto",
         "type": "bar",
         "x": [
          "CDS"
         ],
         "xaxis": "x",
         "y": [
          0.000748525404952244
         ],
         "yaxis": "y"
        },
        {
         "alignmentgroup": "True",
         "customdata": [
          [
           "Campanulaceae"
          ]
         ],
         "hovertemplate": "Family=%{customdata[0]}<br>Proportion=%{y}<extra></extra>",
         "legendgroup": "Campanulaceae",
         "marker": {
          "color": "#19d3f3",
          "pattern": {
           "shape": ""
          }
         },
         "name": "Campanulaceae",
         "offsetgroup": "Campanulaceae",
         "orientation": "v",
         "showlegend": true,
         "textposition": "auto",
         "type": "bar",
         "x": [
          "CDS"
         ],
         "xaxis": "x",
         "y": [
          0.000748525404952244
         ],
         "yaxis": "y"
        },
        {
         "alignmentgroup": "True",
         "customdata": [
          [
           "Begoniaceae"
          ]
         ],
         "hovertemplate": "Family=%{customdata[0]}<br>Proportion=%{y}<extra></extra>",
         "legendgroup": "Begoniaceae",
         "marker": {
          "color": "#FF6692",
          "pattern": {
           "shape": ""
          }
         },
         "name": "Begoniaceae",
         "offsetgroup": "Begoniaceae",
         "orientation": "v",
         "showlegend": true,
         "textposition": "auto",
         "type": "bar",
         "x": [
          "CDS"
         ],
         "xaxis": "x",
         "y": [
          0.000748525404952244
         ],
         "yaxis": "y"
        },
        {
         "alignmentgroup": "True",
         "customdata": [
          [
           "Trogossitidae"
          ]
         ],
         "hovertemplate": "Family=%{customdata[0]}<br>Proportion=%{y}<extra></extra>",
         "legendgroup": "Trogossitidae",
         "marker": {
          "color": "#B6E880",
          "pattern": {
           "shape": ""
          }
         },
         "name": "Trogossitidae",
         "offsetgroup": "Trogossitidae",
         "orientation": "v",
         "showlegend": true,
         "textposition": "auto",
         "type": "bar",
         "x": [
          "ICCDRS"
         ],
         "xaxis": "x",
         "y": [
          0.000730312005517913
         ],
         "yaxis": "y"
        },
        {
         "alignmentgroup": "True",
         "customdata": [
          [
           "Isotomidae"
          ]
         ],
         "hovertemplate": "Family=%{customdata[0]}<br>Proportion=%{y}<extra></extra>",
         "legendgroup": "Isotomidae",
         "marker": {
          "color": "#FF97FF",
          "pattern": {
           "shape": ""
          }
         },
         "name": "Isotomidae",
         "offsetgroup": "Isotomidae",
         "orientation": "v",
         "showlegend": true,
         "textposition": "auto",
         "type": "bar",
         "x": [
          "ICCDRS"
         ],
         "xaxis": "x",
         "y": [
          0.000730312005517913
         ],
         "yaxis": "y"
        },
        {
         "alignmentgroup": "True",
         "customdata": [
          [
           "Strigulaceae"
          ]
         ],
         "hovertemplate": "Family=%{customdata[0]}<br>Proportion=%{y}<extra></extra>",
         "legendgroup": "Strigulaceae",
         "marker": {
          "color": "#FECB52",
          "pattern": {
           "shape": ""
          }
         },
         "name": "Strigulaceae",
         "offsetgroup": "Strigulaceae",
         "orientation": "v",
         "showlegend": true,
         "textposition": "auto",
         "type": "bar",
         "x": [
          "CDS"
         ],
         "xaxis": "x",
         "y": [
          0.0007185843887541543
         ],
         "yaxis": "y"
        },
        {
         "alignmentgroup": "True",
         "customdata": [
          [
           "Gesneriaceae"
          ]
         ],
         "hovertemplate": "Family=%{customdata[0]}<br>Proportion=%{y}<extra></extra>",
         "legendgroup": "Gesneriaceae",
         "marker": {
          "color": "#636efa",
          "pattern": {
           "shape": ""
          }
         },
         "name": "Gesneriaceae",
         "offsetgroup": "Gesneriaceae",
         "orientation": "v",
         "showlegend": true,
         "textposition": "auto",
         "type": "bar",
         "x": [
          "CDS"
         ],
         "xaxis": "x",
         "y": [
          0.0007185843887541543
         ],
         "yaxis": "y"
        },
        {
         "alignmentgroup": "True",
         "customdata": [
          [
           "Coreidae"
          ]
         ],
         "hovertemplate": "Family=%{customdata[0]}<br>Proportion=%{y}<extra></extra>",
         "legendgroup": "Coreidae",
         "marker": {
          "color": "#EF553B",
          "pattern": {
           "shape": ""
          }
         },
         "name": "Coreidae",
         "offsetgroup": "Coreidae",
         "orientation": "v",
         "showlegend": true,
         "textposition": "auto",
         "type": "bar",
         "x": [
          "ICCDRS"
         ],
         "xaxis": "x",
         "y": [
          0.0006897391163224733
         ],
         "yaxis": "y"
        },
        {
         "alignmentgroup": "True",
         "customdata": [
          [
           "Tetragnathidae"
          ]
         ],
         "hovertemplate": "Family=%{customdata[0]}<br>Proportion=%{y}<extra></extra>",
         "legendgroup": "Tetragnathidae",
         "marker": {
          "color": "#00cc96",
          "pattern": {
           "shape": ""
          }
         },
         "name": "Tetragnathidae",
         "offsetgroup": "Tetragnathidae",
         "orientation": "v",
         "showlegend": true,
         "textposition": "auto",
         "type": "bar",
         "x": [
          "ICCDRS"
         ],
         "xaxis": "x",
         "y": [
          0.0006897391163224733
         ],
         "yaxis": "y"
        },
        {
         "alignmentgroup": "True",
         "customdata": [
          [
           "Sciaridae"
          ]
         ],
         "hovertemplate": "Family=%{customdata[0]}<br>Proportion=%{y}<extra></extra>",
         "legendgroup": "Sciaridae",
         "marker": {
          "color": "#ab63fa",
          "pattern": {
           "shape": ""
          }
         },
         "name": "Sciaridae",
         "offsetgroup": "Sciaridae",
         "orientation": "v",
         "showlegend": true,
         "textposition": "auto",
         "type": "bar",
         "x": [
          "ICCDRS"
         ],
         "xaxis": "x",
         "y": [
          0.0006897391163224733
         ],
         "yaxis": "y"
        },
        {
         "alignmentgroup": "True",
         "customdata": [
          [
           "Simuliidae"
          ]
         ],
         "hovertemplate": "Family=%{customdata[0]}<br>Proportion=%{y}<extra></extra>",
         "legendgroup": "Simuliidae",
         "marker": {
          "color": "#FFA15A",
          "pattern": {
           "shape": ""
          }
         },
         "name": "Simuliidae",
         "offsetgroup": "Simuliidae",
         "orientation": "v",
         "showlegend": true,
         "textposition": "auto",
         "type": "bar",
         "x": [
          "ICCDRS"
         ],
         "xaxis": "x",
         "y": [
          0.0006897391163224733
         ],
         "yaxis": "y"
        },
        {
         "alignmentgroup": "True",
         "customdata": [
          [
           "Basellaceae"
          ]
         ],
         "hovertemplate": "Family=%{customdata[0]}<br>Proportion=%{y}<extra></extra>",
         "legendgroup": "Basellaceae",
         "marker": {
          "color": "#19d3f3",
          "pattern": {
           "shape": ""
          }
         },
         "name": "Basellaceae",
         "offsetgroup": "Basellaceae",
         "orientation": "v",
         "showlegend": true,
         "textposition": "auto",
         "type": "bar",
         "x": [
          "CDS"
         ],
         "xaxis": "x",
         "y": [
          0.0006886433725560645
         ],
         "yaxis": "y"
        },
        {
         "alignmentgroup": "True",
         "customdata": [
          [
           "Agyriaceae"
          ]
         ],
         "hovertemplate": "Family=%{customdata[0]}<br>Proportion=%{y}<extra></extra>",
         "legendgroup": "Agyriaceae",
         "marker": {
          "color": "#FF6692",
          "pattern": {
           "shape": ""
          }
         },
         "name": "Agyriaceae",
         "offsetgroup": "Agyriaceae",
         "orientation": "v",
         "showlegend": true,
         "textposition": "auto",
         "type": "bar",
         "x": [
          "CDS"
         ],
         "xaxis": "x",
         "y": [
          0.0006886433725560645
         ],
         "yaxis": "y"
        },
        {
         "alignmentgroup": "True",
         "customdata": [
          [
           "Suidae"
          ]
         ],
         "hovertemplate": "Family=%{customdata[0]}<br>Proportion=%{y}<extra></extra>",
         "legendgroup": "Suidae",
         "marker": {
          "color": "#B6E880",
          "pattern": {
           "shape": ""
          }
         },
         "name": "Suidae",
         "offsetgroup": "Suidae",
         "orientation": "v",
         "showlegend": true,
         "textposition": "auto",
         "type": "bar",
         "x": [
          "VCCDRS"
         ],
         "xaxis": "x",
         "y": [
          0.0006613756613756613
         ],
         "yaxis": "y"
        },
        {
         "alignmentgroup": "True",
         "customdata": [
          [
           "Bufonidae"
          ]
         ],
         "hovertemplate": "Family=%{customdata[0]}<br>Proportion=%{y}<extra></extra>",
         "legendgroup": "Bufonidae",
         "marker": {
          "color": "#FF97FF",
          "pattern": {
           "shape": ""
          }
         },
         "name": "Bufonidae",
         "offsetgroup": "Bufonidae",
         "orientation": "v",
         "showlegend": true,
         "textposition": "auto",
         "type": "bar",
         "x": [
          "VCCDRS"
         ],
         "xaxis": "x",
         "y": [
          0.0006613756613756613
         ],
         "yaxis": "y"
        },
        {
         "alignmentgroup": "True",
         "customdata": [
          [
           "Gymnophthalmidae"
          ]
         ],
         "hovertemplate": "Family=%{customdata[0]}<br>Proportion=%{y}<extra></extra>",
         "legendgroup": "Gymnophthalmidae",
         "marker": {
          "color": "#FECB52",
          "pattern": {
           "shape": ""
          }
         },
         "name": "Gymnophthalmidae",
         "offsetgroup": "Gymnophthalmidae",
         "orientation": "v",
         "showlegend": true,
         "textposition": "auto",
         "type": "bar",
         "x": [
          "VCCDRS"
         ],
         "xaxis": "x",
         "y": [
          0.0006613756613756613
         ],
         "yaxis": "y"
        },
        {
         "alignmentgroup": "True",
         "customdata": [
          [
           "Scincidae"
          ]
         ],
         "hovertemplate": "Family=%{customdata[0]}<br>Proportion=%{y}<extra></extra>",
         "legendgroup": "Scincidae",
         "marker": {
          "color": "#636efa",
          "pattern": {
           "shape": ""
          }
         },
         "name": "Scincidae",
         "offsetgroup": "Scincidae",
         "orientation": "v",
         "showlegend": true,
         "textposition": "auto",
         "type": "bar",
         "x": [
          "VCCDRS"
         ],
         "xaxis": "x",
         "y": [
          0.0006613756613756613
         ],
         "yaxis": "y"
        },
        {
         "alignmentgroup": "True",
         "customdata": [
          [
           "Equidae"
          ]
         ],
         "hovertemplate": "Family=%{customdata[0]}<br>Proportion=%{y}<extra></extra>",
         "legendgroup": "Equidae",
         "marker": {
          "color": "#EF553B",
          "pattern": {
           "shape": ""
          }
         },
         "name": "Equidae",
         "offsetgroup": "Equidae",
         "orientation": "v",
         "showlegend": true,
         "textposition": "auto",
         "type": "bar",
         "x": [
          "VCCDRS"
         ],
         "xaxis": "x",
         "y": [
          0.0006613756613756613
         ],
         "yaxis": "y"
        },
        {
         "alignmentgroup": "True",
         "customdata": [
          [
           "Struthionidae"
          ]
         ],
         "hovertemplate": "Family=%{customdata[0]}<br>Proportion=%{y}<extra></extra>",
         "legendgroup": "Struthionidae",
         "marker": {
          "color": "#00cc96",
          "pattern": {
           "shape": ""
          }
         },
         "name": "Struthionidae",
         "offsetgroup": "Struthionidae",
         "orientation": "v",
         "showlegend": true,
         "textposition": "auto",
         "type": "bar",
         "x": [
          "VCCDRS"
         ],
         "xaxis": "x",
         "y": [
          0.0006613756613756613
         ],
         "yaxis": "y"
        },
        {
         "alignmentgroup": "True",
         "customdata": [
          [
           "Charadriidae"
          ]
         ],
         "hovertemplate": "Family=%{customdata[0]}<br>Proportion=%{y}<extra></extra>",
         "legendgroup": "Charadriidae",
         "marker": {
          "color": "#ab63fa",
          "pattern": {
           "shape": ""
          }
         },
         "name": "Charadriidae",
         "offsetgroup": "Charadriidae",
         "orientation": "v",
         "showlegend": true,
         "textposition": "auto",
         "type": "bar",
         "x": [
          "VCCDRS"
         ],
         "xaxis": "x",
         "y": [
          0.0006613756613756613
         ],
         "yaxis": "y"
        },
        {
         "alignmentgroup": "True",
         "customdata": [
          [
           "Icteridae"
          ]
         ],
         "hovertemplate": "Family=%{customdata[0]}<br>Proportion=%{y}<extra></extra>",
         "legendgroup": "Icteridae",
         "marker": {
          "color": "#FFA15A",
          "pattern": {
           "shape": ""
          }
         },
         "name": "Icteridae",
         "offsetgroup": "Icteridae",
         "orientation": "v",
         "showlegend": true,
         "textposition": "auto",
         "type": "bar",
         "x": [
          "VCCDRS"
         ],
         "xaxis": "x",
         "y": [
          0.0006613756613756613
         ],
         "yaxis": "y"
        },
        {
         "alignmentgroup": "True",
         "customdata": [
          [
           "Bignoniaceae"
          ]
         ],
         "hovertemplate": "Family=%{customdata[0]}<br>Proportion=%{y}<extra></extra>",
         "legendgroup": "Bignoniaceae",
         "marker": {
          "color": "#19d3f3",
          "pattern": {
           "shape": ""
          }
         },
         "name": "Bignoniaceae",
         "offsetgroup": "Bignoniaceae",
         "orientation": "v",
         "showlegend": true,
         "textposition": "auto",
         "type": "bar",
         "x": [
          "CDS"
         ],
         "xaxis": "x",
         "y": [
          0.0006587023563579748
         ],
         "yaxis": "y"
        },
        {
         "alignmentgroup": "True",
         "customdata": [
          [
           "Sapotaceae"
          ]
         ],
         "hovertemplate": "Family=%{customdata[0]}<br>Proportion=%{y}<extra></extra>",
         "legendgroup": "Sapotaceae",
         "marker": {
          "color": "#FF6692",
          "pattern": {
           "shape": ""
          }
         },
         "name": "Sapotaceae",
         "offsetgroup": "Sapotaceae",
         "orientation": "v",
         "showlegend": true,
         "textposition": "auto",
         "type": "bar",
         "x": [
          "CDS"
         ],
         "xaxis": "x",
         "y": [
          0.0006587023563579748
         ],
         "yaxis": "y"
        },
        {
         "alignmentgroup": "True",
         "customdata": [
          [
           "Ericaceae"
          ]
         ],
         "hovertemplate": "Family=%{customdata[0]}<br>Proportion=%{y}<extra></extra>",
         "legendgroup": "Ericaceae",
         "marker": {
          "color": "#B6E880",
          "pattern": {
           "shape": ""
          }
         },
         "name": "Ericaceae",
         "offsetgroup": "Ericaceae",
         "orientation": "v",
         "showlegend": true,
         "textposition": "auto",
         "type": "bar",
         "x": [
          "CDS"
         ],
         "xaxis": "x",
         "y": [
          0.0006587023563579748
         ],
         "yaxis": "y"
        },
        {
         "alignmentgroup": "True",
         "customdata": [
          [
           "Lessoniaceae"
          ]
         ],
         "hovertemplate": "Family=%{customdata[0]}<br>Proportion=%{y}<extra></extra>",
         "legendgroup": "Lessoniaceae",
         "marker": {
          "color": "#FF97FF",
          "pattern": {
           "shape": ""
          }
         },
         "name": "Lessoniaceae",
         "offsetgroup": "Lessoniaceae",
         "orientation": "v",
         "showlegend": true,
         "textposition": "auto",
         "type": "bar",
         "x": [
          "CDS"
         ],
         "xaxis": "x",
         "y": [
          0.0006587023563579748
         ],
         "yaxis": "y"
        },
        {
         "alignmentgroup": "True",
         "customdata": [
          [
           "Zopheridae"
          ]
         ],
         "hovertemplate": "Family=%{customdata[0]}<br>Proportion=%{y}<extra></extra>",
         "legendgroup": "Zopheridae",
         "marker": {
          "color": "#FECB52",
          "pattern": {
           "shape": ""
          }
         },
         "name": "Zopheridae",
         "offsetgroup": "Zopheridae",
         "orientation": "v",
         "showlegend": true,
         "textposition": "auto",
         "type": "bar",
         "x": [
          "ICCDRS"
         ],
         "xaxis": "x",
         "y": [
          0.0006491662271270337
         ],
         "yaxis": "y"
        },
        {
         "alignmentgroup": "True",
         "customdata": [
          [
           "Libellulidae"
          ]
         ],
         "hovertemplate": "Family=%{customdata[0]}<br>Proportion=%{y}<extra></extra>",
         "legendgroup": "Libellulidae",
         "marker": {
          "color": "#636efa",
          "pattern": {
           "shape": ""
          }
         },
         "name": "Libellulidae",
         "offsetgroup": "Libellulidae",
         "orientation": "v",
         "showlegend": true,
         "textposition": "auto",
         "type": "bar",
         "x": [
          "ICCDRS"
         ],
         "xaxis": "x",
         "y": [
          0.0006491662271270337
         ],
         "yaxis": "y"
        },
        {
         "alignmentgroup": "True",
         "customdata": [
          [
           "Argasidae"
          ]
         ],
         "hovertemplate": "Family=%{customdata[0]}<br>Proportion=%{y}<extra></extra>",
         "legendgroup": "Argasidae",
         "marker": {
          "color": "#EF553B",
          "pattern": {
           "shape": ""
          }
         },
         "name": "Argasidae",
         "offsetgroup": "Argasidae",
         "orientation": "v",
         "showlegend": true,
         "textposition": "auto",
         "type": "bar",
         "x": [
          "ICCDRS"
         ],
         "xaxis": "x",
         "y": [
          0.0006491662271270337
         ],
         "yaxis": "y"
        },
        {
         "alignmentgroup": "True",
         "customdata": [
          [
           "Ochrolechiaceae"
          ]
         ],
         "hovertemplate": "Family=%{customdata[0]}<br>Proportion=%{y}<extra></extra>",
         "legendgroup": "Ochrolechiaceae",
         "marker": {
          "color": "#00cc96",
          "pattern": {
           "shape": ""
          }
         },
         "name": "Ochrolechiaceae",
         "offsetgroup": "Ochrolechiaceae",
         "orientation": "v",
         "showlegend": true,
         "textposition": "auto",
         "type": "bar",
         "x": [
          "CDS"
         ],
         "xaxis": "x",
         "y": [
          0.000628761340159885
         ],
         "yaxis": "y"
        },
        {
         "alignmentgroup": "True",
         "customdata": [
          [
           "Marantaceae"
          ]
         ],
         "hovertemplate": "Family=%{customdata[0]}<br>Proportion=%{y}<extra></extra>",
         "legendgroup": "Marantaceae",
         "marker": {
          "color": "#ab63fa",
          "pattern": {
           "shape": ""
          }
         },
         "name": "Marantaceae",
         "offsetgroup": "Marantaceae",
         "orientation": "v",
         "showlegend": true,
         "textposition": "auto",
         "type": "bar",
         "x": [
          "CDS"
         ],
         "xaxis": "x",
         "y": [
          0.000628761340159885
         ],
         "yaxis": "y"
        },
        {
         "alignmentgroup": "True",
         "customdata": [
          [
           "Thelenellaceae"
          ]
         ],
         "hovertemplate": "Family=%{customdata[0]}<br>Proportion=%{y}<extra></extra>",
         "legendgroup": "Thelenellaceae",
         "marker": {
          "color": "#FFA15A",
          "pattern": {
           "shape": ""
          }
         },
         "name": "Thelenellaceae",
         "offsetgroup": "Thelenellaceae",
         "orientation": "v",
         "showlegend": true,
         "textposition": "auto",
         "type": "bar",
         "x": [
          "CDS"
         ],
         "xaxis": "x",
         "y": [
          0.000628761340159885
         ],
         "yaxis": "y"
        },
        {
         "alignmentgroup": "True",
         "customdata": [
          [
           "Phlaeothripidae"
          ]
         ],
         "hovertemplate": "Family=%{customdata[0]}<br>Proportion=%{y}<extra></extra>",
         "legendgroup": "Phlaeothripidae",
         "marker": {
          "color": "#19d3f3",
          "pattern": {
           "shape": ""
          }
         },
         "name": "Phlaeothripidae",
         "offsetgroup": "Phlaeothripidae",
         "orientation": "v",
         "showlegend": true,
         "textposition": "auto",
         "type": "bar",
         "x": [
          "ICCDRS"
         ],
         "xaxis": "x",
         "y": [
          0.0006085933379315941
         ],
         "yaxis": "y"
        },
        {
         "alignmentgroup": "True",
         "customdata": [
          [
           "Oxychilidae"
          ]
         ],
         "hovertemplate": "Family=%{customdata[0]}<br>Proportion=%{y}<extra></extra>",
         "legendgroup": "Oxychilidae",
         "marker": {
          "color": "#FF6692",
          "pattern": {
           "shape": ""
          }
         },
         "name": "Oxychilidae",
         "offsetgroup": "Oxychilidae",
         "orientation": "v",
         "showlegend": true,
         "textposition": "auto",
         "type": "bar",
         "x": [
          "ICCDRS"
         ],
         "xaxis": "x",
         "y": [
          0.0006085933379315941
         ],
         "yaxis": "y"
        },
        {
         "alignmentgroup": "True",
         "customdata": [
          [
           "Odiniidae"
          ]
         ],
         "hovertemplate": "Family=%{customdata[0]}<br>Proportion=%{y}<extra></extra>",
         "legendgroup": "Odiniidae",
         "marker": {
          "color": "#B6E880",
          "pattern": {
           "shape": ""
          }
         },
         "name": "Odiniidae",
         "offsetgroup": "Odiniidae",
         "orientation": "v",
         "showlegend": true,
         "textposition": "auto",
         "type": "bar",
         "x": [
          "ICCDRS"
         ],
         "xaxis": "x",
         "y": [
          0.0006085933379315941
         ],
         "yaxis": "y"
        },
        {
         "alignmentgroup": "True",
         "customdata": [
          [
           "Prodidomidae"
          ]
         ],
         "hovertemplate": "Family=%{customdata[0]}<br>Proportion=%{y}<extra></extra>",
         "legendgroup": "Prodidomidae",
         "marker": {
          "color": "#FF97FF",
          "pattern": {
           "shape": ""
          }
         },
         "name": "Prodidomidae",
         "offsetgroup": "Prodidomidae",
         "orientation": "v",
         "showlegend": true,
         "textposition": "auto",
         "type": "bar",
         "x": [
          "ICCDRS"
         ],
         "xaxis": "x",
         "y": [
          0.0006085933379315941
         ],
         "yaxis": "y"
        },
        {
         "alignmentgroup": "True",
         "customdata": [
          [
           "Saldidae"
          ]
         ],
         "hovertemplate": "Family=%{customdata[0]}<br>Proportion=%{y}<extra></extra>",
         "legendgroup": "Saldidae",
         "marker": {
          "color": "#FECB52",
          "pattern": {
           "shape": ""
          }
         },
         "name": "Saldidae",
         "offsetgroup": "Saldidae",
         "orientation": "v",
         "showlegend": true,
         "textposition": "auto",
         "type": "bar",
         "x": [
          "ICCDRS"
         ],
         "xaxis": "x",
         "y": [
          0.0006085933379315941
         ],
         "yaxis": "y"
        },
        {
         "alignmentgroup": "True",
         "customdata": [
          [
           "Malpighiaceae"
          ]
         ],
         "hovertemplate": "Family=%{customdata[0]}<br>Proportion=%{y}<extra></extra>",
         "legendgroup": "Malpighiaceae",
         "marker": {
          "color": "#636efa",
          "pattern": {
           "shape": ""
          }
         },
         "name": "Malpighiaceae",
         "offsetgroup": "Malpighiaceae",
         "orientation": "v",
         "showlegend": true,
         "textposition": "auto",
         "type": "bar",
         "x": [
          "CDS"
         ],
         "xaxis": "x",
         "y": [
          0.0005988203239617952
         ],
         "yaxis": "y"
        },
        {
         "alignmentgroup": "True",
         "customdata": [
          [
           "Calymperaceae"
          ]
         ],
         "hovertemplate": "Family=%{customdata[0]}<br>Proportion=%{y}<extra></extra>",
         "legendgroup": "Calymperaceae",
         "marker": {
          "color": "#EF553B",
          "pattern": {
           "shape": ""
          }
         },
         "name": "Calymperaceae",
         "offsetgroup": "Calymperaceae",
         "orientation": "v",
         "showlegend": true,
         "textposition": "auto",
         "type": "bar",
         "x": [
          "CDS"
         ],
         "xaxis": "x",
         "y": [
          0.0005988203239617952
         ],
         "yaxis": "y"
        },
        {
         "alignmentgroup": "True",
         "customdata": [
          [
           "Kallymeniaceae"
          ]
         ],
         "hovertemplate": "Family=%{customdata[0]}<br>Proportion=%{y}<extra></extra>",
         "legendgroup": "Kallymeniaceae",
         "marker": {
          "color": "#00cc96",
          "pattern": {
           "shape": ""
          }
         },
         "name": "Kallymeniaceae",
         "offsetgroup": "Kallymeniaceae",
         "orientation": "v",
         "showlegend": true,
         "textposition": "auto",
         "type": "bar",
         "x": [
          "CDS"
         ],
         "xaxis": "x",
         "y": [
          0.0005988203239617952
         ],
         "yaxis": "y"
        },
        {
         "alignmentgroup": "True",
         "customdata": [
          [
           "Racopilaceae"
          ]
         ],
         "hovertemplate": "Family=%{customdata[0]}<br>Proportion=%{y}<extra></extra>",
         "legendgroup": "Racopilaceae",
         "marker": {
          "color": "#ab63fa",
          "pattern": {
           "shape": ""
          }
         },
         "name": "Racopilaceae",
         "offsetgroup": "Racopilaceae",
         "orientation": "v",
         "showlegend": true,
         "textposition": "auto",
         "type": "bar",
         "x": [
          "CDS"
         ],
         "xaxis": "x",
         "y": [
          0.0005988203239617952
         ],
         "yaxis": "y"
        },
        {
         "alignmentgroup": "True",
         "customdata": [
          [
           "Bartramiaceae"
          ]
         ],
         "hovertemplate": "Family=%{customdata[0]}<br>Proportion=%{y}<extra></extra>",
         "legendgroup": "Bartramiaceae",
         "marker": {
          "color": "#FFA15A",
          "pattern": {
           "shape": ""
          }
         },
         "name": "Bartramiaceae",
         "offsetgroup": "Bartramiaceae",
         "orientation": "v",
         "showlegend": true,
         "textposition": "auto",
         "type": "bar",
         "x": [
          "CDS"
         ],
         "xaxis": "x",
         "y": [
          0.0005988203239617952
         ],
         "yaxis": "y"
        },
        {
         "alignmentgroup": "True",
         "customdata": [
          [
           "Lauraceae"
          ]
         ],
         "hovertemplate": "Family=%{customdata[0]}<br>Proportion=%{y}<extra></extra>",
         "legendgroup": "Lauraceae",
         "marker": {
          "color": "#19d3f3",
          "pattern": {
           "shape": ""
          }
         },
         "name": "Lauraceae",
         "offsetgroup": "Lauraceae",
         "orientation": "v",
         "showlegend": true,
         "textposition": "auto",
         "type": "bar",
         "x": [
          "CDS"
         ],
         "xaxis": "x",
         "y": [
          0.0005988203239617952
         ],
         "yaxis": "y"
        },
        {
         "alignmentgroup": "True",
         "customdata": [
          [
           "Discodorididae"
          ]
         ],
         "hovertemplate": "Family=%{customdata[0]}<br>Proportion=%{y}<extra></extra>",
         "legendgroup": "Discodorididae",
         "marker": {
          "color": "#FF6692",
          "pattern": {
           "shape": ""
          }
         },
         "name": "Discodorididae",
         "offsetgroup": "Discodorididae",
         "orientation": "v",
         "showlegend": true,
         "textposition": "auto",
         "type": "bar",
         "x": [
          "MCCDRS"
         ],
         "xaxis": "x",
         "y": [
          0.0005761474937584022
         ],
         "yaxis": "y"
        },
        {
         "alignmentgroup": "True",
         "customdata": [
          [
           "Polyceridae"
          ]
         ],
         "hovertemplate": "Family=%{customdata[0]}<br>Proportion=%{y}<extra></extra>",
         "legendgroup": "Polyceridae",
         "marker": {
          "color": "#B6E880",
          "pattern": {
           "shape": ""
          }
         },
         "name": "Polyceridae",
         "offsetgroup": "Polyceridae",
         "orientation": "v",
         "showlegend": true,
         "textposition": "auto",
         "type": "bar",
         "x": [
          "MCCDRS"
         ],
         "xaxis": "x",
         "y": [
          0.0005761474937584022
         ],
         "yaxis": "y"
        },
        {
         "alignmentgroup": "True",
         "customdata": [
          [
           "Aeolidiidae"
          ]
         ],
         "hovertemplate": "Family=%{customdata[0]}<br>Proportion=%{y}<extra></extra>",
         "legendgroup": "Aeolidiidae",
         "marker": {
          "color": "#FF97FF",
          "pattern": {
           "shape": ""
          }
         },
         "name": "Aeolidiidae",
         "offsetgroup": "Aeolidiidae",
         "orientation": "v",
         "showlegend": true,
         "textposition": "auto",
         "type": "bar",
         "x": [
          "MCCDRS"
         ],
         "xaxis": "x",
         "y": [
          0.0005761474937584022
         ],
         "yaxis": "y"
        },
        {
         "alignmentgroup": "True",
         "customdata": [
          [
           "Phasianellidae"
          ]
         ],
         "hovertemplate": "Family=%{customdata[0]}<br>Proportion=%{y}<extra></extra>",
         "legendgroup": "Phasianellidae",
         "marker": {
          "color": "#FECB52",
          "pattern": {
           "shape": ""
          }
         },
         "name": "Phasianellidae",
         "offsetgroup": "Phasianellidae",
         "orientation": "v",
         "showlegend": true,
         "textposition": "auto",
         "type": "bar",
         "x": [
          "MCCDRS"
         ],
         "xaxis": "x",
         "y": [
          0.0005761474937584022
         ],
         "yaxis": "y"
        },
        {
         "alignmentgroup": "True",
         "customdata": [
          [
           "Phidoloporidae"
          ]
         ],
         "hovertemplate": "Family=%{customdata[0]}<br>Proportion=%{y}<extra></extra>",
         "legendgroup": "Phidoloporidae",
         "marker": {
          "color": "#636efa",
          "pattern": {
           "shape": ""
          }
         },
         "name": "Phidoloporidae",
         "offsetgroup": "Phidoloporidae",
         "orientation": "v",
         "showlegend": true,
         "textposition": "auto",
         "type": "bar",
         "x": [
          "MCCDRS"
         ],
         "xaxis": "x",
         "y": [
          0.0005761474937584022
         ],
         "yaxis": "y"
        },
        {
         "alignmentgroup": "True",
         "customdata": [
          [
           "Eratoidae"
          ]
         ],
         "hovertemplate": "Family=%{customdata[0]}<br>Proportion=%{y}<extra></extra>",
         "legendgroup": "Eratoidae",
         "marker": {
          "color": "#EF553B",
          "pattern": {
           "shape": ""
          }
         },
         "name": "Eratoidae",
         "offsetgroup": "Eratoidae",
         "orientation": "v",
         "showlegend": true,
         "textposition": "auto",
         "type": "bar",
         "x": [
          "MCCDRS"
         ],
         "xaxis": "x",
         "y": [
          0.0005761474937584022
         ],
         "yaxis": "y"
        },
        {
         "alignmentgroup": "True",
         "customdata": [
          [
           "Nettastomatidae"
          ]
         ],
         "hovertemplate": "Family=%{customdata[0]}<br>Proportion=%{y}<extra></extra>",
         "legendgroup": "Nettastomatidae",
         "marker": {
          "color": "#00cc96",
          "pattern": {
           "shape": ""
          }
         },
         "name": "Nettastomatidae",
         "offsetgroup": "Nettastomatidae",
         "orientation": "v",
         "showlegend": true,
         "textposition": "auto",
         "type": "bar",
         "x": [
          "MCCDRS"
         ],
         "xaxis": "x",
         "y": [
          0.0005761474937584022
         ],
         "yaxis": "y"
        },
        {
         "alignmentgroup": "True",
         "customdata": [
          [
           "Darwinellidae"
          ]
         ],
         "hovertemplate": "Family=%{customdata[0]}<br>Proportion=%{y}<extra></extra>",
         "legendgroup": "Darwinellidae",
         "marker": {
          "color": "#ab63fa",
          "pattern": {
           "shape": ""
          }
         },
         "name": "Darwinellidae",
         "offsetgroup": "Darwinellidae",
         "orientation": "v",
         "showlegend": true,
         "textposition": "auto",
         "type": "bar",
         "x": [
          "MCCDRS"
         ],
         "xaxis": "x",
         "y": [
          0.0005761474937584022
         ],
         "yaxis": "y"
        },
        {
         "alignmentgroup": "True",
         "customdata": [
          [
           "Polynoidae"
          ]
         ],
         "hovertemplate": "Family=%{customdata[0]}<br>Proportion=%{y}<extra></extra>",
         "legendgroup": "Polynoidae",
         "marker": {
          "color": "#FFA15A",
          "pattern": {
           "shape": ""
          }
         },
         "name": "Polynoidae",
         "offsetgroup": "Polynoidae",
         "orientation": "v",
         "showlegend": true,
         "textposition": "auto",
         "type": "bar",
         "x": [
          "MCCDRS"
         ],
         "xaxis": "x",
         "y": [
          0.0005761474937584022
         ],
         "yaxis": "y"
        },
        {
         "alignmentgroup": "True",
         "customdata": [
          [
           "Eunotiaceae"
          ]
         ],
         "hovertemplate": "Family=%{customdata[0]}<br>Proportion=%{y}<extra></extra>",
         "legendgroup": "Eunotiaceae",
         "marker": {
          "color": "#19d3f3",
          "pattern": {
           "shape": ""
          }
         },
         "name": "Eunotiaceae",
         "offsetgroup": "Eunotiaceae",
         "orientation": "v",
         "showlegend": true,
         "textposition": "auto",
         "type": "bar",
         "x": [
          "MCCDRS"
         ],
         "xaxis": "x",
         "y": [
          0.0005761474937584022
         ],
         "yaxis": "y"
        },
        {
         "alignmentgroup": "True",
         "customdata": [
          [
           "Sciaenidae"
          ]
         ],
         "hovertemplate": "Family=%{customdata[0]}<br>Proportion=%{y}<extra></extra>",
         "legendgroup": "Sciaenidae",
         "marker": {
          "color": "#FF6692",
          "pattern": {
           "shape": ""
          }
         },
         "name": "Sciaenidae",
         "offsetgroup": "Sciaenidae",
         "orientation": "v",
         "showlegend": true,
         "textposition": "auto",
         "type": "bar",
         "x": [
          "MCCDRS"
         ],
         "xaxis": "x",
         "y": [
          0.0005761474937584022
         ],
         "yaxis": "y"
        },
        {
         "alignmentgroup": "True",
         "customdata": [
          [
           "Phyllodocidae"
          ]
         ],
         "hovertemplate": "Family=%{customdata[0]}<br>Proportion=%{y}<extra></extra>",
         "legendgroup": "Phyllodocidae",
         "marker": {
          "color": "#B6E880",
          "pattern": {
           "shape": ""
          }
         },
         "name": "Phyllodocidae",
         "offsetgroup": "Phyllodocidae",
         "orientation": "v",
         "showlegend": true,
         "textposition": "auto",
         "type": "bar",
         "x": [
          "MCCDRS"
         ],
         "xaxis": "x",
         "y": [
          0.0005761474937584022
         ],
         "yaxis": "y"
        },
        {
         "alignmentgroup": "True",
         "customdata": [
          [
           "Alosidae"
          ]
         ],
         "hovertemplate": "Family=%{customdata[0]}<br>Proportion=%{y}<extra></extra>",
         "legendgroup": "Alosidae",
         "marker": {
          "color": "#FF97FF",
          "pattern": {
           "shape": ""
          }
         },
         "name": "Alosidae",
         "offsetgroup": "Alosidae",
         "orientation": "v",
         "showlegend": true,
         "textposition": "auto",
         "type": "bar",
         "x": [
          "MCCDRS"
         ],
         "xaxis": "x",
         "y": [
          0.0005761474937584022
         ],
         "yaxis": "y"
        },
        {
         "alignmentgroup": "True",
         "customdata": [
          [
           "Scaphandridae"
          ]
         ],
         "hovertemplate": "Family=%{customdata[0]}<br>Proportion=%{y}<extra></extra>",
         "legendgroup": "Scaphandridae",
         "marker": {
          "color": "#FECB52",
          "pattern": {
           "shape": ""
          }
         },
         "name": "Scaphandridae",
         "offsetgroup": "Scaphandridae",
         "orientation": "v",
         "showlegend": true,
         "textposition": "auto",
         "type": "bar",
         "x": [
          "MCCDRS"
         ],
         "xaxis": "x",
         "y": [
          0.0005761474937584022
         ],
         "yaxis": "y"
        },
        {
         "alignmentgroup": "True",
         "customdata": [
          [
           "Ovulidae"
          ]
         ],
         "hovertemplate": "Family=%{customdata[0]}<br>Proportion=%{y}<extra></extra>",
         "legendgroup": "Ovulidae",
         "marker": {
          "color": "#636efa",
          "pattern": {
           "shape": ""
          }
         },
         "name": "Ovulidae",
         "offsetgroup": "Ovulidae",
         "orientation": "v",
         "showlegend": true,
         "textposition": "auto",
         "type": "bar",
         "x": [
          "MCCDRS"
         ],
         "xaxis": "x",
         "y": [
          0.0005761474937584022
         ],
         "yaxis": "y"
        },
        {
         "alignmentgroup": "True",
         "customdata": [
          [
           "Pomacanthidae"
          ]
         ],
         "hovertemplate": "Family=%{customdata[0]}<br>Proportion=%{y}<extra></extra>",
         "legendgroup": "Pomacanthidae",
         "marker": {
          "color": "#EF553B",
          "pattern": {
           "shape": ""
          }
         },
         "name": "Pomacanthidae",
         "offsetgroup": "Pomacanthidae",
         "orientation": "v",
         "showlegend": true,
         "textposition": "auto",
         "type": "bar",
         "x": [
          "MCCDRS"
         ],
         "xaxis": "x",
         "y": [
          0.0005761474937584022
         ],
         "yaxis": "y"
        },
        {
         "alignmentgroup": "True",
         "customdata": [
          [
           "Pilumnidae"
          ]
         ],
         "hovertemplate": "Family=%{customdata[0]}<br>Proportion=%{y}<extra></extra>",
         "legendgroup": "Pilumnidae",
         "marker": {
          "color": "#00cc96",
          "pattern": {
           "shape": ""
          }
         },
         "name": "Pilumnidae",
         "offsetgroup": "Pilumnidae",
         "orientation": "v",
         "showlegend": true,
         "textposition": "auto",
         "type": "bar",
         "x": [
          "MCCDRS"
         ],
         "xaxis": "x",
         "y": [
          0.0005761474937584022
         ],
         "yaxis": "y"
        },
        {
         "alignmentgroup": "True",
         "customdata": [
          [
           "Physaliidae"
          ]
         ],
         "hovertemplate": "Family=%{customdata[0]}<br>Proportion=%{y}<extra></extra>",
         "legendgroup": "Physaliidae",
         "marker": {
          "color": "#ab63fa",
          "pattern": {
           "shape": ""
          }
         },
         "name": "Physaliidae",
         "offsetgroup": "Physaliidae",
         "orientation": "v",
         "showlegend": true,
         "textposition": "auto",
         "type": "bar",
         "x": [
          "MCCDRS"
         ],
         "xaxis": "x",
         "y": [
          0.0005761474937584022
         ],
         "yaxis": "y"
        },
        {
         "alignmentgroup": "True",
         "customdata": [
          [
           "Alvinellidae"
          ]
         ],
         "hovertemplate": "Family=%{customdata[0]}<br>Proportion=%{y}<extra></extra>",
         "legendgroup": "Alvinellidae",
         "marker": {
          "color": "#FFA15A",
          "pattern": {
           "shape": ""
          }
         },
         "name": "Alvinellidae",
         "offsetgroup": "Alvinellidae",
         "orientation": "v",
         "showlegend": true,
         "textposition": "auto",
         "type": "bar",
         "x": [
          "MCCDRS"
         ],
         "xaxis": "x",
         "y": [
          0.0005761474937584022
         ],
         "yaxis": "y"
        },
        {
         "alignmentgroup": "True",
         "customdata": [
          [
           "Pennatulidae"
          ]
         ],
         "hovertemplate": "Family=%{customdata[0]}<br>Proportion=%{y}<extra></extra>",
         "legendgroup": "Pennatulidae",
         "marker": {
          "color": "#19d3f3",
          "pattern": {
           "shape": ""
          }
         },
         "name": "Pennatulidae",
         "offsetgroup": "Pennatulidae",
         "orientation": "v",
         "showlegend": true,
         "textposition": "auto",
         "type": "bar",
         "x": [
          "MCCDRS"
         ],
         "xaxis": "x",
         "y": [
          0.0005761474937584022
         ],
         "yaxis": "y"
        },
        {
         "alignmentgroup": "True",
         "customdata": [
          [
           "Petrosiidae"
          ]
         ],
         "hovertemplate": "Family=%{customdata[0]}<br>Proportion=%{y}<extra></extra>",
         "legendgroup": "Petrosiidae",
         "marker": {
          "color": "#FF6692",
          "pattern": {
           "shape": ""
          }
         },
         "name": "Petrosiidae",
         "offsetgroup": "Petrosiidae",
         "orientation": "v",
         "showlegend": true,
         "textposition": "auto",
         "type": "bar",
         "x": [
          "MCCDRS"
         ],
         "xaxis": "x",
         "y": [
          0.0005761474937584022
         ],
         "yaxis": "y"
        },
        {
         "alignmentgroup": "True",
         "customdata": [
          [
           "Calanidae"
          ]
         ],
         "hovertemplate": "Family=%{customdata[0]}<br>Proportion=%{y}<extra></extra>",
         "legendgroup": "Calanidae",
         "marker": {
          "color": "#B6E880",
          "pattern": {
           "shape": ""
          }
         },
         "name": "Calanidae",
         "offsetgroup": "Calanidae",
         "orientation": "v",
         "showlegend": true,
         "textposition": "auto",
         "type": "bar",
         "x": [
          "MCCDRS"
         ],
         "xaxis": "x",
         "y": [
          0.0005761474937584022
         ],
         "yaxis": "y"
        },
        {
         "alignmentgroup": "True",
         "customdata": [
          [
           "Chaenopsidae"
          ]
         ],
         "hovertemplate": "Family=%{customdata[0]}<br>Proportion=%{y}<extra></extra>",
         "legendgroup": "Chaenopsidae",
         "marker": {
          "color": "#FF97FF",
          "pattern": {
           "shape": ""
          }
         },
         "name": "Chaenopsidae",
         "offsetgroup": "Chaenopsidae",
         "orientation": "v",
         "showlegend": true,
         "textposition": "auto",
         "type": "bar",
         "x": [
          "MCCDRS"
         ],
         "xaxis": "x",
         "y": [
          0.0005761474937584022
         ],
         "yaxis": "y"
        },
        {
         "alignmentgroup": "True",
         "customdata": [
          [
           "Dactyloscopidae"
          ]
         ],
         "hovertemplate": "Family=%{customdata[0]}<br>Proportion=%{y}<extra></extra>",
         "legendgroup": "Dactyloscopidae",
         "marker": {
          "color": "#FECB52",
          "pattern": {
           "shape": ""
          }
         },
         "name": "Dactyloscopidae",
         "offsetgroup": "Dactyloscopidae",
         "orientation": "v",
         "showlegend": true,
         "textposition": "auto",
         "type": "bar",
         "x": [
          "MCCDRS"
         ],
         "xaxis": "x",
         "y": [
          0.0005761474937584022
         ],
         "yaxis": "y"
        },
        {
         "alignmentgroup": "True",
         "customdata": [
          [
           "Bythitidae"
          ]
         ],
         "hovertemplate": "Family=%{customdata[0]}<br>Proportion=%{y}<extra></extra>",
         "legendgroup": "Bythitidae",
         "marker": {
          "color": "#636efa",
          "pattern": {
           "shape": ""
          }
         },
         "name": "Bythitidae",
         "offsetgroup": "Bythitidae",
         "orientation": "v",
         "showlegend": true,
         "textposition": "auto",
         "type": "bar",
         "x": [
          "MCCDRS"
         ],
         "xaxis": "x",
         "y": [
          0.0005761474937584022
         ],
         "yaxis": "y"
        },
        {
         "alignmentgroup": "True",
         "customdata": [
          [
           "Balistidae"
          ]
         ],
         "hovertemplate": "Family=%{customdata[0]}<br>Proportion=%{y}<extra></extra>",
         "legendgroup": "Balistidae",
         "marker": {
          "color": "#EF553B",
          "pattern": {
           "shape": ""
          }
         },
         "name": "Balistidae",
         "offsetgroup": "Balistidae",
         "orientation": "v",
         "showlegend": true,
         "textposition": "auto",
         "type": "bar",
         "x": [
          "MCCDRS"
         ],
         "xaxis": "x",
         "y": [
          0.0005761474937584022
         ],
         "yaxis": "y"
        },
        {
         "alignmentgroup": "True",
         "customdata": [
          [
           "Moridae"
          ]
         ],
         "hovertemplate": "Family=%{customdata[0]}<br>Proportion=%{y}<extra></extra>",
         "legendgroup": "Moridae",
         "marker": {
          "color": "#00cc96",
          "pattern": {
           "shape": ""
          }
         },
         "name": "Moridae",
         "offsetgroup": "Moridae",
         "orientation": "v",
         "showlegend": true,
         "textposition": "auto",
         "type": "bar",
         "x": [
          "MCCDRS"
         ],
         "xaxis": "x",
         "y": [
          0.0005761474937584022
         ],
         "yaxis": "y"
        },
        {
         "alignmentgroup": "True",
         "customdata": [
          [
           "Munidopsidae"
          ]
         ],
         "hovertemplate": "Family=%{customdata[0]}<br>Proportion=%{y}<extra></extra>",
         "legendgroup": "Munidopsidae",
         "marker": {
          "color": "#ab63fa",
          "pattern": {
           "shape": ""
          }
         },
         "name": "Munidopsidae",
         "offsetgroup": "Munidopsidae",
         "orientation": "v",
         "showlegend": true,
         "textposition": "auto",
         "type": "bar",
         "x": [
          "MCCDRS"
         ],
         "xaxis": "x",
         "y": [
          0.0005761474937584022
         ],
         "yaxis": "y"
        },
        {
         "alignmentgroup": "True",
         "customdata": [
          [
           "Turritellidae"
          ]
         ],
         "hovertemplate": "Family=%{customdata[0]}<br>Proportion=%{y}<extra></extra>",
         "legendgroup": "Turritellidae",
         "marker": {
          "color": "#FFA15A",
          "pattern": {
           "shape": ""
          }
         },
         "name": "Turritellidae",
         "offsetgroup": "Turritellidae",
         "orientation": "v",
         "showlegend": true,
         "textposition": "auto",
         "type": "bar",
         "x": [
          "MCCDRS"
         ],
         "xaxis": "x",
         "y": [
          0.0005761474937584022
         ],
         "yaxis": "y"
        },
        {
         "alignmentgroup": "True",
         "customdata": [
          [
           "Mellitidae"
          ]
         ],
         "hovertemplate": "Family=%{customdata[0]}<br>Proportion=%{y}<extra></extra>",
         "legendgroup": "Mellitidae",
         "marker": {
          "color": "#19d3f3",
          "pattern": {
           "shape": ""
          }
         },
         "name": "Mellitidae",
         "offsetgroup": "Mellitidae",
         "orientation": "v",
         "showlegend": true,
         "textposition": "auto",
         "type": "bar",
         "x": [
          "MCCDRS"
         ],
         "xaxis": "x",
         "y": [
          0.0005761474937584022
         ],
         "yaxis": "y"
        },
        {
         "alignmentgroup": "True",
         "customdata": [
          [
           "Loveniidae"
          ]
         ],
         "hovertemplate": "Family=%{customdata[0]}<br>Proportion=%{y}<extra></extra>",
         "legendgroup": "Loveniidae",
         "marker": {
          "color": "#FF6692",
          "pattern": {
           "shape": ""
          }
         },
         "name": "Loveniidae",
         "offsetgroup": "Loveniidae",
         "orientation": "v",
         "showlegend": true,
         "textposition": "auto",
         "type": "bar",
         "x": [
          "MCCDRS"
         ],
         "xaxis": "x",
         "y": [
          0.0005761474937584022
         ],
         "yaxis": "y"
        },
        {
         "alignmentgroup": "True",
         "customdata": [
          [
           "Mangeliidae"
          ]
         ],
         "hovertemplate": "Family=%{customdata[0]}<br>Proportion=%{y}<extra></extra>",
         "legendgroup": "Mangeliidae",
         "marker": {
          "color": "#B6E880",
          "pattern": {
           "shape": ""
          }
         },
         "name": "Mangeliidae",
         "offsetgroup": "Mangeliidae",
         "orientation": "v",
         "showlegend": true,
         "textposition": "auto",
         "type": "bar",
         "x": [
          "MCCDRS"
         ],
         "xaxis": "x",
         "y": [
          0.0005761474937584022
         ],
         "yaxis": "y"
        },
        {
         "alignmentgroup": "True",
         "customdata": [
          [
           "Haliotidae"
          ]
         ],
         "hovertemplate": "Family=%{customdata[0]}<br>Proportion=%{y}<extra></extra>",
         "legendgroup": "Haliotidae",
         "marker": {
          "color": "#FF97FF",
          "pattern": {
           "shape": ""
          }
         },
         "name": "Haliotidae",
         "offsetgroup": "Haliotidae",
         "orientation": "v",
         "showlegend": true,
         "textposition": "auto",
         "type": "bar",
         "x": [
          "MCCDRS"
         ],
         "xaxis": "x",
         "y": [
          0.0005761474937584022
         ],
         "yaxis": "y"
        },
        {
         "alignmentgroup": "True",
         "customdata": [
          [
           "Lichenoporidae"
          ]
         ],
         "hovertemplate": "Family=%{customdata[0]}<br>Proportion=%{y}<extra></extra>",
         "legendgroup": "Lichenoporidae",
         "marker": {
          "color": "#FECB52",
          "pattern": {
           "shape": ""
          }
         },
         "name": "Lichenoporidae",
         "offsetgroup": "Lichenoporidae",
         "orientation": "v",
         "showlegend": true,
         "textposition": "auto",
         "type": "bar",
         "x": [
          "MCCDRS"
         ],
         "xaxis": "x",
         "y": [
          0.0005761474937584022
         ],
         "yaxis": "y"
        },
        {
         "alignmentgroup": "True",
         "customdata": [
          [
           "Tetraclitidae"
          ]
         ],
         "hovertemplate": "Family=%{customdata[0]}<br>Proportion=%{y}<extra></extra>",
         "legendgroup": "Tetraclitidae",
         "marker": {
          "color": "#636efa",
          "pattern": {
           "shape": ""
          }
         },
         "name": "Tetraclitidae",
         "offsetgroup": "Tetraclitidae",
         "orientation": "v",
         "showlegend": true,
         "textposition": "auto",
         "type": "bar",
         "x": [
          "MCCDRS"
         ],
         "xaxis": "x",
         "y": [
          0.0005761474937584022
         ],
         "yaxis": "y"
        },
        {
         "alignmentgroup": "True",
         "customdata": [
          [
           "Mithrodiidae"
          ]
         ],
         "hovertemplate": "Family=%{customdata[0]}<br>Proportion=%{y}<extra></extra>",
         "legendgroup": "Mithrodiidae",
         "marker": {
          "color": "#EF553B",
          "pattern": {
           "shape": ""
          }
         },
         "name": "Mithrodiidae",
         "offsetgroup": "Mithrodiidae",
         "orientation": "v",
         "showlegend": true,
         "textposition": "auto",
         "type": "bar",
         "x": [
          "MCCDRS"
         ],
         "xaxis": "x",
         "y": [
          0.0005761474937584022
         ],
         "yaxis": "y"
        },
        {
         "alignmentgroup": "True",
         "customdata": [
          [
           "Cladophoraceae"
          ]
         ],
         "hovertemplate": "Family=%{customdata[0]}<br>Proportion=%{y}<extra></extra>",
         "legendgroup": "Cladophoraceae",
         "marker": {
          "color": "#00cc96",
          "pattern": {
           "shape": ""
          }
         },
         "name": "Cladophoraceae",
         "offsetgroup": "Cladophoraceae",
         "orientation": "v",
         "showlegend": true,
         "textposition": "auto",
         "type": "bar",
         "x": [
          "CDS"
         ],
         "xaxis": "x",
         "y": [
          0.0005688793077637055
         ],
         "yaxis": "y"
        },
        {
         "alignmentgroup": "True",
         "customdata": [
          [
           "Talinaceae"
          ]
         ],
         "hovertemplate": "Family=%{customdata[0]}<br>Proportion=%{y}<extra></extra>",
         "legendgroup": "Talinaceae",
         "marker": {
          "color": "#ab63fa",
          "pattern": {
           "shape": ""
          }
         },
         "name": "Talinaceae",
         "offsetgroup": "Talinaceae",
         "orientation": "v",
         "showlegend": true,
         "textposition": "auto",
         "type": "bar",
         "x": [
          "CDS"
         ],
         "xaxis": "x",
         "y": [
          0.0005688793077637055
         ],
         "yaxis": "y"
        },
        {
         "alignmentgroup": "True",
         "customdata": [
          [
           "Monotomidae"
          ]
         ],
         "hovertemplate": "Family=%{customdata[0]}<br>Proportion=%{y}<extra></extra>",
         "legendgroup": "Monotomidae",
         "marker": {
          "color": "#FFA15A",
          "pattern": {
           "shape": ""
          }
         },
         "name": "Monotomidae",
         "offsetgroup": "Monotomidae",
         "orientation": "v",
         "showlegend": true,
         "textposition": "auto",
         "type": "bar",
         "x": [
          "ICCDRS"
         ],
         "xaxis": "x",
         "y": [
          0.0005680204487361545
         ],
         "yaxis": "y"
        },
        {
         "alignmentgroup": "True",
         "customdata": [
          [
           "Gerridae"
          ]
         ],
         "hovertemplate": "Family=%{customdata[0]}<br>Proportion=%{y}<extra></extra>",
         "legendgroup": "Gerridae",
         "marker": {
          "color": "#19d3f3",
          "pattern": {
           "shape": ""
          }
         },
         "name": "Gerridae",
         "offsetgroup": "Gerridae",
         "orientation": "v",
         "showlegend": true,
         "textposition": "auto",
         "type": "bar",
         "x": [
          "ICCDRS"
         ],
         "xaxis": "x",
         "y": [
          0.0005680204487361545
         ],
         "yaxis": "y"
        },
        {
         "alignmentgroup": "True",
         "customdata": [
          [
           "Bryaceae"
          ]
         ],
         "hovertemplate": "Family=%{customdata[0]}<br>Proportion=%{y}<extra></extra>",
         "legendgroup": "Bryaceae",
         "marker": {
          "color": "#FF6692",
          "pattern": {
           "shape": ""
          }
         },
         "name": "Bryaceae",
         "offsetgroup": "Bryaceae",
         "orientation": "v",
         "showlegend": true,
         "textposition": "auto",
         "type": "bar",
         "x": [
          "CDS"
         ],
         "xaxis": "x",
         "y": [
          0.0005389382915656157
         ],
         "yaxis": "y"
        },
        {
         "alignmentgroup": "True",
         "customdata": [
          [
           "Lichinaceae"
          ]
         ],
         "hovertemplate": "Family=%{customdata[0]}<br>Proportion=%{y}<extra></extra>",
         "legendgroup": "Lichinaceae",
         "marker": {
          "color": "#B6E880",
          "pattern": {
           "shape": ""
          }
         },
         "name": "Lichinaceae",
         "offsetgroup": "Lichinaceae",
         "orientation": "v",
         "showlegend": true,
         "textposition": "auto",
         "type": "bar",
         "x": [
          "CDS"
         ],
         "xaxis": "x",
         "y": [
          0.0005389382915656157
         ],
         "yaxis": "y"
        },
        {
         "alignmentgroup": "True",
         "customdata": [
          [
           "Mycoporaceae"
          ]
         ],
         "hovertemplate": "Family=%{customdata[0]}<br>Proportion=%{y}<extra></extra>",
         "legendgroup": "Mycoporaceae",
         "marker": {
          "color": "#FF97FF",
          "pattern": {
           "shape": ""
          }
         },
         "name": "Mycoporaceae",
         "offsetgroup": "Mycoporaceae",
         "orientation": "v",
         "showlegend": true,
         "textposition": "auto",
         "type": "bar",
         "x": [
          "CDS"
         ],
         "xaxis": "x",
         "y": [
          0.0005389382915656157
         ],
         "yaxis": "y"
        },
        {
         "alignmentgroup": "True",
         "customdata": [
          [
           "Mesovellidae"
          ]
         ],
         "hovertemplate": "Family=%{customdata[0]}<br>Proportion=%{y}<extra></extra>",
         "legendgroup": "Mesovellidae",
         "marker": {
          "color": "#FECB52",
          "pattern": {
           "shape": ""
          }
         },
         "name": "Mesovellidae",
         "offsetgroup": "Mesovellidae",
         "orientation": "v",
         "showlegend": true,
         "textposition": "auto",
         "type": "bar",
         "x": [
          "ICCDRS"
         ],
         "xaxis": "x",
         "y": [
          0.0005274475595407149
         ],
         "yaxis": "y"
        },
        {
         "alignmentgroup": "True",
         "customdata": [
          [
           "Coenagrionidae"
          ]
         ],
         "hovertemplate": "Family=%{customdata[0]}<br>Proportion=%{y}<extra></extra>",
         "legendgroup": "Coenagrionidae",
         "marker": {
          "color": "#636efa",
          "pattern": {
           "shape": ""
          }
         },
         "name": "Coenagrionidae",
         "offsetgroup": "Coenagrionidae",
         "orientation": "v",
         "showlegend": true,
         "textposition": "auto",
         "type": "bar",
         "x": [
          "ICCDRS"
         ],
         "xaxis": "x",
         "y": [
          0.0005274475595407149
         ],
         "yaxis": "y"
        },
        {
         "alignmentgroup": "True",
         "customdata": [
          [
           "Ixodidae"
          ]
         ],
         "hovertemplate": "Family=%{customdata[0]}<br>Proportion=%{y}<extra></extra>",
         "legendgroup": "Ixodidae",
         "marker": {
          "color": "#EF553B",
          "pattern": {
           "shape": ""
          }
         },
         "name": "Ixodidae",
         "offsetgroup": "Ixodidae",
         "orientation": "v",
         "showlegend": true,
         "textposition": "auto",
         "type": "bar",
         "x": [
          "ICCDRS"
         ],
         "xaxis": "x",
         "y": [
          0.0005274475595407149
         ],
         "yaxis": "y"
        },
        {
         "alignmentgroup": "True",
         "customdata": [
          [
           "Cixiidae"
          ]
         ],
         "hovertemplate": "Family=%{customdata[0]}<br>Proportion=%{y}<extra></extra>",
         "legendgroup": "Cixiidae",
         "marker": {
          "color": "#00cc96",
          "pattern": {
           "shape": ""
          }
         },
         "name": "Cixiidae",
         "offsetgroup": "Cixiidae",
         "orientation": "v",
         "showlegend": true,
         "textposition": "auto",
         "type": "bar",
         "x": [
          "ICCDRS"
         ],
         "xaxis": "x",
         "y": [
          0.0005274475595407149
         ],
         "yaxis": "y"
        },
        {
         "alignmentgroup": "True",
         "customdata": [
          [
           "Cantharidae"
          ]
         ],
         "hovertemplate": "Family=%{customdata[0]}<br>Proportion=%{y}<extra></extra>",
         "legendgroup": "Cantharidae",
         "marker": {
          "color": "#ab63fa",
          "pattern": {
           "shape": ""
          }
         },
         "name": "Cantharidae",
         "offsetgroup": "Cantharidae",
         "orientation": "v",
         "showlegend": true,
         "textposition": "auto",
         "type": "bar",
         "x": [
          "ICCDRS"
         ],
         "xaxis": "x",
         "y": [
          0.0005274475595407149
         ],
         "yaxis": "y"
        },
        {
         "alignmentgroup": "True",
         "customdata": [
          [
           "Phytolaccaceae"
          ]
         ],
         "hovertemplate": "Family=%{customdata[0]}<br>Proportion=%{y}<extra></extra>",
         "legendgroup": "Phytolaccaceae",
         "marker": {
          "color": "#FFA15A",
          "pattern": {
           "shape": ""
          }
         },
         "name": "Phytolaccaceae",
         "offsetgroup": "Phytolaccaceae",
         "orientation": "v",
         "showlegend": true,
         "textposition": "auto",
         "type": "bar",
         "x": [
          "CDS"
         ],
         "xaxis": "x",
         "y": [
          0.000508997275367526
         ],
         "yaxis": "y"
        },
        {
         "alignmentgroup": "True",
         "customdata": [
          [
           "Candelariaceae"
          ]
         ],
         "hovertemplate": "Family=%{customdata[0]}<br>Proportion=%{y}<extra></extra>",
         "legendgroup": "Candelariaceae",
         "marker": {
          "color": "#19d3f3",
          "pattern": {
           "shape": ""
          }
         },
         "name": "Candelariaceae",
         "offsetgroup": "Candelariaceae",
         "orientation": "v",
         "showlegend": true,
         "textposition": "auto",
         "type": "bar",
         "x": [
          "CDS"
         ],
         "xaxis": "x",
         "y": [
          0.000508997275367526
         ],
         "yaxis": "y"
        },
        {
         "alignmentgroup": "True",
         "customdata": [
          [
           "Mycosphaerellaceae"
          ]
         ],
         "hovertemplate": "Family=%{customdata[0]}<br>Proportion=%{y}<extra></extra>",
         "legendgroup": "Mycosphaerellaceae",
         "marker": {
          "color": "#FF6692",
          "pattern": {
           "shape": ""
          }
         },
         "name": "Mycosphaerellaceae",
         "offsetgroup": "Mycosphaerellaceae",
         "orientation": "v",
         "showlegend": true,
         "textposition": "auto",
         "type": "bar",
         "x": [
          "CDS"
         ],
         "xaxis": "x",
         "y": [
          0.000508997275367526
         ],
         "yaxis": "y"
        },
        {
         "alignmentgroup": "True",
         "customdata": [
          [
           "Mycocaliciaceae"
          ]
         ],
         "hovertemplate": "Family=%{customdata[0]}<br>Proportion=%{y}<extra></extra>",
         "legendgroup": "Mycocaliciaceae",
         "marker": {
          "color": "#B6E880",
          "pattern": {
           "shape": ""
          }
         },
         "name": "Mycocaliciaceae",
         "offsetgroup": "Mycocaliciaceae",
         "orientation": "v",
         "showlegend": true,
         "textposition": "auto",
         "type": "bar",
         "x": [
          "CDS"
         ],
         "xaxis": "x",
         "y": [
          0.000508997275367526
         ],
         "yaxis": "y"
        },
        {
         "alignmentgroup": "True",
         "customdata": [
          [
           "Bataceae"
          ]
         ],
         "hovertemplate": "Family=%{customdata[0]}<br>Proportion=%{y}<extra></extra>",
         "legendgroup": "Bataceae",
         "marker": {
          "color": "#FF97FF",
          "pattern": {
           "shape": ""
          }
         },
         "name": "Bataceae",
         "offsetgroup": "Bataceae",
         "orientation": "v",
         "showlegend": true,
         "textposition": "auto",
         "type": "bar",
         "x": [
          "CDS"
         ],
         "xaxis": "x",
         "y": [
          0.000508997275367526
         ],
         "yaxis": "y"
        },
        {
         "alignmentgroup": "True",
         "customdata": [
          [
           "Pottiaceae"
          ]
         ],
         "hovertemplate": "Family=%{customdata[0]}<br>Proportion=%{y}<extra></extra>",
         "legendgroup": "Pottiaceae",
         "marker": {
          "color": "#FECB52",
          "pattern": {
           "shape": ""
          }
         },
         "name": "Pottiaceae",
         "offsetgroup": "Pottiaceae",
         "orientation": "v",
         "showlegend": true,
         "textposition": "auto",
         "type": "bar",
         "x": [
          "CDS"
         ],
         "xaxis": "x",
         "y": [
          0.000508997275367526
         ],
         "yaxis": "y"
        },
        {
         "alignmentgroup": "True",
         "customdata": [
          [
           "Incertae sedis"
          ]
         ],
         "hovertemplate": "Family=%{customdata[0]}<br>Proportion=%{y}<extra></extra>",
         "legendgroup": "Incertae sedis",
         "marker": {
          "color": "#636efa",
          "pattern": {
           "shape": ""
          }
         },
         "name": "Incertae sedis",
         "offsetgroup": "Incertae sedis",
         "orientation": "v",
         "showlegend": true,
         "textposition": "auto",
         "type": "bar",
         "x": [
          "CDS"
         ],
         "xaxis": "x",
         "y": [
          0.000508997275367526
         ],
         "yaxis": "y"
        },
        {
         "alignmentgroup": "True",
         "customdata": [
          [
           "Hypoxidaceae"
          ]
         ],
         "hovertemplate": "Family=%{customdata[0]}<br>Proportion=%{y}<extra></extra>",
         "legendgroup": "Hypoxidaceae",
         "marker": {
          "color": "#EF553B",
          "pattern": {
           "shape": ""
          }
         },
         "name": "Hypoxidaceae",
         "offsetgroup": "Hypoxidaceae",
         "orientation": "v",
         "showlegend": true,
         "textposition": "auto",
         "type": "bar",
         "x": [
          "CDS"
         ],
         "xaxis": "x",
         "y": [
          0.000508997275367526
         ],
         "yaxis": "y"
        },
        {
         "alignmentgroup": "True",
         "customdata": [
          [
           "Geraniaceae"
          ]
         ],
         "hovertemplate": "Family=%{customdata[0]}<br>Proportion=%{y}<extra></extra>",
         "legendgroup": "Geraniaceae",
         "marker": {
          "color": "#00cc96",
          "pattern": {
           "shape": ""
          }
         },
         "name": "Geraniaceae",
         "offsetgroup": "Geraniaceae",
         "orientation": "v",
         "showlegend": true,
         "textposition": "auto",
         "type": "bar",
         "x": [
          "CDS"
         ],
         "xaxis": "x",
         "y": [
          0.000508997275367526
         ],
         "yaxis": "y"
        },
        {
         "alignmentgroup": "True",
         "customdata": [
          [
           "Tephromelataceae"
          ]
         ],
         "hovertemplate": "Family=%{customdata[0]}<br>Proportion=%{y}<extra></extra>",
         "legendgroup": "Tephromelataceae",
         "marker": {
          "color": "#ab63fa",
          "pattern": {
           "shape": ""
          }
         },
         "name": "Tephromelataceae",
         "offsetgroup": "Tephromelataceae",
         "orientation": "v",
         "showlegend": true,
         "textposition": "auto",
         "type": "bar",
         "x": [
          "CDS"
         ],
         "xaxis": "x",
         "y": [
          0.000508997275367526
         ],
         "yaxis": "y"
        },
        {
         "alignmentgroup": "True",
         "customdata": [
          [
           "Rhodymeniaceae"
          ]
         ],
         "hovertemplate": "Family=%{customdata[0]}<br>Proportion=%{y}<extra></extra>",
         "legendgroup": "Rhodymeniaceae",
         "marker": {
          "color": "#FFA15A",
          "pattern": {
           "shape": ""
          }
         },
         "name": "Rhodymeniaceae",
         "offsetgroup": "Rhodymeniaceae",
         "orientation": "v",
         "showlegend": true,
         "textposition": "auto",
         "type": "bar",
         "x": [
          "CDS"
         ],
         "xaxis": "x",
         "y": [
          0.000508997275367526
         ],
         "yaxis": "y"
        },
        {
         "alignmentgroup": "True",
         "customdata": [
          [
           "Eumenidae"
          ]
         ],
         "hovertemplate": "Family=%{customdata[0]}<br>Proportion=%{y}<extra></extra>",
         "legendgroup": "Eumenidae",
         "marker": {
          "color": "#19d3f3",
          "pattern": {
           "shape": ""
          }
         },
         "name": "Eumenidae",
         "offsetgroup": "Eumenidae",
         "orientation": "v",
         "showlegend": true,
         "textposition": "auto",
         "type": "bar",
         "x": [
          "ICCDRS"
         ],
         "xaxis": "x",
         "y": [
          0.00048687467034527526
         ],
         "yaxis": "y"
        },
        {
         "alignmentgroup": "True",
         "customdata": [
          [
           "Scytodidae"
          ]
         ],
         "hovertemplate": "Family=%{customdata[0]}<br>Proportion=%{y}<extra></extra>",
         "legendgroup": "Scytodidae",
         "marker": {
          "color": "#FF6692",
          "pattern": {
           "shape": ""
          }
         },
         "name": "Scytodidae",
         "offsetgroup": "Scytodidae",
         "orientation": "v",
         "showlegend": true,
         "textposition": "auto",
         "type": "bar",
         "x": [
          "ICCDRS"
         ],
         "xaxis": "x",
         "y": [
          0.00048687467034527526
         ],
         "yaxis": "y"
        },
        {
         "alignmentgroup": "True",
         "customdata": [
          [
           "Corinnidae"
          ]
         ],
         "hovertemplate": "Family=%{customdata[0]}<br>Proportion=%{y}<extra></extra>",
         "legendgroup": "Corinnidae",
         "marker": {
          "color": "#B6E880",
          "pattern": {
           "shape": ""
          }
         },
         "name": "Corinnidae",
         "offsetgroup": "Corinnidae",
         "orientation": "v",
         "showlegend": true,
         "textposition": "auto",
         "type": "bar",
         "x": [
          "ICCDRS"
         ],
         "xaxis": "x",
         "y": [
          0.00048687467034527526
         ],
         "yaxis": "y"
        },
        {
         "alignmentgroup": "True",
         "customdata": [
          [
           "Aeshnidae"
          ]
         ],
         "hovertemplate": "Family=%{customdata[0]}<br>Proportion=%{y}<extra></extra>",
         "legendgroup": "Aeshnidae",
         "marker": {
          "color": "#FF97FF",
          "pattern": {
           "shape": ""
          }
         },
         "name": "Aeshnidae",
         "offsetgroup": "Aeshnidae",
         "orientation": "v",
         "showlegend": true,
         "textposition": "auto",
         "type": "bar",
         "x": [
          "ICCDRS"
         ],
         "xaxis": "x",
         "y": [
          0.00048687467034527526
         ],
         "yaxis": "y"
        },
        {
         "alignmentgroup": "True",
         "customdata": [
          [
           "Nymphalidae"
          ]
         ],
         "hovertemplate": "Family=%{customdata[0]}<br>Proportion=%{y}<extra></extra>",
         "legendgroup": "Nymphalidae",
         "marker": {
          "color": "#FECB52",
          "pattern": {
           "shape": ""
          }
         },
         "name": "Nymphalidae",
         "offsetgroup": "Nymphalidae",
         "orientation": "v",
         "showlegend": true,
         "textposition": "auto",
         "type": "bar",
         "x": [
          "ICCDRS"
         ],
         "xaxis": "x",
         "y": [
          0.00048687467034527526
         ],
         "yaxis": "y"
        },
        {
         "alignmentgroup": "True",
         "customdata": [
          [
           "Asphodelaceae"
          ]
         ],
         "hovertemplate": "Family=%{customdata[0]}<br>Proportion=%{y}<extra></extra>",
         "legendgroup": "Asphodelaceae",
         "marker": {
          "color": "#636efa",
          "pattern": {
           "shape": ""
          }
         },
         "name": "Asphodelaceae",
         "offsetgroup": "Asphodelaceae",
         "orientation": "v",
         "showlegend": true,
         "textposition": "auto",
         "type": "bar",
         "x": [
          "CDS"
         ],
         "xaxis": "x",
         "y": [
          0.0004790562591694362
         ],
         "yaxis": "y"
        },
        {
         "alignmentgroup": "True",
         "customdata": [
          [
           "Jubulaceae"
          ]
         ],
         "hovertemplate": "Family=%{customdata[0]}<br>Proportion=%{y}<extra></extra>",
         "legendgroup": "Jubulaceae",
         "marker": {
          "color": "#EF553B",
          "pattern": {
           "shape": ""
          }
         },
         "name": "Jubulaceae",
         "offsetgroup": "Jubulaceae",
         "orientation": "v",
         "showlegend": true,
         "textposition": "auto",
         "type": "bar",
         "x": [
          "CDS"
         ],
         "xaxis": "x",
         "y": [
          0.0004790562591694362
         ],
         "yaxis": "y"
        },
        {
         "alignmentgroup": "True",
         "customdata": [
          [
           "Bixaceae"
          ]
         ],
         "hovertemplate": "Family=%{customdata[0]}<br>Proportion=%{y}<extra></extra>",
         "legendgroup": "Bixaceae",
         "marker": {
          "color": "#00cc96",
          "pattern": {
           "shape": ""
          }
         },
         "name": "Bixaceae",
         "offsetgroup": "Bixaceae",
         "orientation": "v",
         "showlegend": true,
         "textposition": "auto",
         "type": "bar",
         "x": [
          "CDS"
         ],
         "xaxis": "x",
         "y": [
          0.0004790562591694362
         ],
         "yaxis": "y"
        },
        {
         "alignmentgroup": "True",
         "customdata": [
          [
           "Pleurotaceae"
          ]
         ],
         "hovertemplate": "Family=%{customdata[0]}<br>Proportion=%{y}<extra></extra>",
         "legendgroup": "Pleurotaceae",
         "marker": {
          "color": "#ab63fa",
          "pattern": {
           "shape": ""
          }
         },
         "name": "Pleurotaceae",
         "offsetgroup": "Pleurotaceae",
         "orientation": "v",
         "showlegend": true,
         "textposition": "auto",
         "type": "bar",
         "x": [
          "CDS"
         ],
         "xaxis": "x",
         "y": [
          0.0004790562591694362
         ],
         "yaxis": "y"
        },
        {
         "alignmentgroup": "True",
         "customdata": [
          [
           "Caricaceae"
          ]
         ],
         "hovertemplate": "Family=%{customdata[0]}<br>Proportion=%{y}<extra></extra>",
         "legendgroup": "Caricaceae",
         "marker": {
          "color": "#FFA15A",
          "pattern": {
           "shape": ""
          }
         },
         "name": "Caricaceae",
         "offsetgroup": "Caricaceae",
         "orientation": "v",
         "showlegend": true,
         "textposition": "auto",
         "type": "bar",
         "x": [
          "CDS"
         ],
         "xaxis": "x",
         "y": [
          0.0004790562591694362
         ],
         "yaxis": "y"
        },
        {
         "alignmentgroup": "True",
         "customdata": [
          [
           "Corallinaceae"
          ]
         ],
         "hovertemplate": "Family=%{customdata[0]}<br>Proportion=%{y}<extra></extra>",
         "legendgroup": "Corallinaceae",
         "marker": {
          "color": "#19d3f3",
          "pattern": {
           "shape": ""
          }
         },
         "name": "Corallinaceae",
         "offsetgroup": "Corallinaceae",
         "orientation": "v",
         "showlegend": true,
         "textposition": "auto",
         "type": "bar",
         "x": [
          "CDS"
         ],
         "xaxis": "x",
         "y": [
          0.0004491152429713464
         ],
         "yaxis": "y"
        },
        {
         "alignmentgroup": "True",
         "customdata": [
          [
           "Hydnodontaceae"
          ]
         ],
         "hovertemplate": "Family=%{customdata[0]}<br>Proportion=%{y}<extra></extra>",
         "legendgroup": "Hydnodontaceae",
         "marker": {
          "color": "#FF6692",
          "pattern": {
           "shape": ""
          }
         },
         "name": "Hydnodontaceae",
         "offsetgroup": "Hydnodontaceae",
         "orientation": "v",
         "showlegend": true,
         "textposition": "auto",
         "type": "bar",
         "x": [
          "CDS"
         ],
         "xaxis": "x",
         "y": [
          0.0004491152429713464
         ],
         "yaxis": "y"
        },
        {
         "alignmentgroup": "True",
         "customdata": [
          [
           "Mysmenidae"
          ]
         ],
         "hovertemplate": "Family=%{customdata[0]}<br>Proportion=%{y}<extra></extra>",
         "legendgroup": "Mysmenidae",
         "marker": {
          "color": "#B6E880",
          "pattern": {
           "shape": ""
          }
         },
         "name": "Mysmenidae",
         "offsetgroup": "Mysmenidae",
         "orientation": "v",
         "showlegend": true,
         "textposition": "auto",
         "type": "bar",
         "x": [
          "ICCDRS"
         ],
         "xaxis": "x",
         "y": [
          0.0004463017811498357
         ],
         "yaxis": "y"
        },
        {
         "alignmentgroup": "True",
         "customdata": [
          [
           "Sphaeroceridae"
          ]
         ],
         "hovertemplate": "Family=%{customdata[0]}<br>Proportion=%{y}<extra></extra>",
         "legendgroup": "Sphaeroceridae",
         "marker": {
          "color": "#FF97FF",
          "pattern": {
           "shape": ""
          }
         },
         "name": "Sphaeroceridae",
         "offsetgroup": "Sphaeroceridae",
         "orientation": "v",
         "showlegend": true,
         "textposition": "auto",
         "type": "bar",
         "x": [
          "ICCDRS"
         ],
         "xaxis": "x",
         "y": [
          0.0004463017811498357
         ],
         "yaxis": "y"
        },
        {
         "alignmentgroup": "True",
         "customdata": [
          [
           "Oecobiidae"
          ]
         ],
         "hovertemplate": "Family=%{customdata[0]}<br>Proportion=%{y}<extra></extra>",
         "legendgroup": "Oecobiidae",
         "marker": {
          "color": "#FECB52",
          "pattern": {
           "shape": ""
          }
         },
         "name": "Oecobiidae",
         "offsetgroup": "Oecobiidae",
         "orientation": "v",
         "showlegend": true,
         "textposition": "auto",
         "type": "bar",
         "x": [
          "ICCDRS"
         ],
         "xaxis": "x",
         "y": [
          0.0004463017811498357
         ],
         "yaxis": "y"
        },
        {
         "alignmentgroup": "True",
         "customdata": [
          [
           "Gyrinidae"
          ]
         ],
         "hovertemplate": "Family=%{customdata[0]}<br>Proportion=%{y}<extra></extra>",
         "legendgroup": "Gyrinidae",
         "marker": {
          "color": "#636efa",
          "pattern": {
           "shape": ""
          }
         },
         "name": "Gyrinidae",
         "offsetgroup": "Gyrinidae",
         "orientation": "v",
         "showlegend": true,
         "textposition": "auto",
         "type": "bar",
         "x": [
          "ICCDRS"
         ],
         "xaxis": "x",
         "y": [
          0.0004463017811498357
         ],
         "yaxis": "y"
        },
        {
         "alignmentgroup": "True",
         "customdata": [
          [
           "Laemophloeidae"
          ]
         ],
         "hovertemplate": "Family=%{customdata[0]}<br>Proportion=%{y}<extra></extra>",
         "legendgroup": "Laemophloeidae",
         "marker": {
          "color": "#EF553B",
          "pattern": {
           "shape": ""
          }
         },
         "name": "Laemophloeidae",
         "offsetgroup": "Laemophloeidae",
         "orientation": "v",
         "showlegend": true,
         "textposition": "auto",
         "type": "bar",
         "x": [
          "ICCDRS"
         ],
         "xaxis": "x",
         "y": [
          0.0004463017811498357
         ],
         "yaxis": "y"
        },
        {
         "alignmentgroup": "True",
         "customdata": [
          [
           "Rhizophyllidaceae"
          ]
         ],
         "hovertemplate": "Family=%{customdata[0]}<br>Proportion=%{y}<extra></extra>",
         "legendgroup": "Rhizophyllidaceae",
         "marker": {
          "color": "#00cc96",
          "pattern": {
           "shape": ""
          }
         },
         "name": "Rhizophyllidaceae",
         "offsetgroup": "Rhizophyllidaceae",
         "orientation": "v",
         "showlegend": true,
         "textposition": "auto",
         "type": "bar",
         "x": [
          "CDS"
         ],
         "xaxis": "x",
         "y": [
          0.00041917422677325666
         ],
         "yaxis": "y"
        },
        {
         "alignmentgroup": "True",
         "customdata": [
          [
           "Juglandaceae"
          ]
         ],
         "hovertemplate": "Family=%{customdata[0]}<br>Proportion=%{y}<extra></extra>",
         "legendgroup": "Juglandaceae",
         "marker": {
          "color": "#ab63fa",
          "pattern": {
           "shape": ""
          }
         },
         "name": "Juglandaceae",
         "offsetgroup": "Juglandaceae",
         "orientation": "v",
         "showlegend": true,
         "textposition": "auto",
         "type": "bar",
         "x": [
          "CDS"
         ],
         "xaxis": "x",
         "y": [
          0.00041917422677325666
         ],
         "yaxis": "y"
        },
        {
         "alignmentgroup": "True",
         "customdata": [
          [
           "Phyllophoraceae"
          ]
         ],
         "hovertemplate": "Family=%{customdata[0]}<br>Proportion=%{y}<extra></extra>",
         "legendgroup": "Phyllophoraceae",
         "marker": {
          "color": "#FFA15A",
          "pattern": {
           "shape": ""
          }
         },
         "name": "Phyllophoraceae",
         "offsetgroup": "Phyllophoraceae",
         "orientation": "v",
         "showlegend": true,
         "textposition": "auto",
         "type": "bar",
         "x": [
          "CDS"
         ],
         "xaxis": "x",
         "y": [
          0.00041917422677325666
         ],
         "yaxis": "y"
        },
        {
         "alignmentgroup": "True",
         "customdata": [
          [
           "Leucobryaceae"
          ]
         ],
         "hovertemplate": "Family=%{customdata[0]}<br>Proportion=%{y}<extra></extra>",
         "legendgroup": "Leucobryaceae",
         "marker": {
          "color": "#19d3f3",
          "pattern": {
           "shape": ""
          }
         },
         "name": "Leucobryaceae",
         "offsetgroup": "Leucobryaceae",
         "orientation": "v",
         "showlegend": true,
         "textposition": "auto",
         "type": "bar",
         "x": [
          "CDS"
         ],
         "xaxis": "x",
         "y": [
          0.00041917422677325666
         ],
         "yaxis": "y"
        },
        {
         "alignmentgroup": "True",
         "customdata": [
          [
           "Gracilariaceae"
          ]
         ],
         "hovertemplate": "Family=%{customdata[0]}<br>Proportion=%{y}<extra></extra>",
         "legendgroup": "Gracilariaceae",
         "marker": {
          "color": "#FF6692",
          "pattern": {
           "shape": ""
          }
         },
         "name": "Gracilariaceae",
         "offsetgroup": "Gracilariaceae",
         "orientation": "v",
         "showlegend": true,
         "textposition": "auto",
         "type": "bar",
         "x": [
          "CDS"
         ],
         "xaxis": "x",
         "y": [
          0.00041917422677325666
         ],
         "yaxis": "y"
        },
        {
         "alignmentgroup": "True",
         "customdata": [
          [
           "Pterocladiaceae"
          ]
         ],
         "hovertemplate": "Family=%{customdata[0]}<br>Proportion=%{y}<extra></extra>",
         "legendgroup": "Pterocladiaceae",
         "marker": {
          "color": "#B6E880",
          "pattern": {
           "shape": ""
          }
         },
         "name": "Pterocladiaceae",
         "offsetgroup": "Pterocladiaceae",
         "orientation": "v",
         "showlegend": true,
         "textposition": "auto",
         "type": "bar",
         "x": [
          "CDS"
         ],
         "xaxis": "x",
         "y": [
          0.00041917422677325666
         ],
         "yaxis": "y"
        },
        {
         "alignmentgroup": "True",
         "customdata": [
          [
           "Rhodomelaceae"
          ]
         ],
         "hovertemplate": "Family=%{customdata[0]}<br>Proportion=%{y}<extra></extra>",
         "legendgroup": "Rhodomelaceae",
         "marker": {
          "color": "#FF97FF",
          "pattern": {
           "shape": ""
          }
         },
         "name": "Rhodomelaceae",
         "offsetgroup": "Rhodomelaceae",
         "orientation": "v",
         "showlegend": true,
         "textposition": "auto",
         "type": "bar",
         "x": [
          "CDS"
         ],
         "xaxis": "x",
         "y": [
          0.00041917422677325666
         ],
         "yaxis": "y"
        },
        {
         "alignmentgroup": "True",
         "customdata": [
          [
           "Scinaiaceae"
          ]
         ],
         "hovertemplate": "Family=%{customdata[0]}<br>Proportion=%{y}<extra></extra>",
         "legendgroup": "Scinaiaceae",
         "marker": {
          "color": "#FECB52",
          "pattern": {
           "shape": ""
          }
         },
         "name": "Scinaiaceae",
         "offsetgroup": "Scinaiaceae",
         "orientation": "v",
         "showlegend": true,
         "textposition": "auto",
         "type": "bar",
         "x": [
          "CDS"
         ],
         "xaxis": "x",
         "y": [
          0.00041917422677325666
         ],
         "yaxis": "y"
        },
        {
         "alignmentgroup": "True",
         "customdata": [
          [
           "Milichiidae"
          ]
         ],
         "hovertemplate": "Family=%{customdata[0]}<br>Proportion=%{y}<extra></extra>",
         "legendgroup": "Milichiidae",
         "marker": {
          "color": "#636efa",
          "pattern": {
           "shape": ""
          }
         },
         "name": "Milichiidae",
         "offsetgroup": "Milichiidae",
         "orientation": "v",
         "showlegend": true,
         "textposition": "auto",
         "type": "bar",
         "x": [
          "ICCDRS"
         ],
         "xaxis": "x",
         "y": [
          0.0004057288919543961
         ],
         "yaxis": "y"
        },
        {
         "alignmentgroup": "True",
         "customdata": [
          [
           "Carcinophoridae"
          ]
         ],
         "hovertemplate": "Family=%{customdata[0]}<br>Proportion=%{y}<extra></extra>",
         "legendgroup": "Carcinophoridae",
         "marker": {
          "color": "#EF553B",
          "pattern": {
           "shape": ""
          }
         },
         "name": "Carcinophoridae",
         "offsetgroup": "Carcinophoridae",
         "orientation": "v",
         "showlegend": true,
         "textposition": "auto",
         "type": "bar",
         "x": [
          "ICCDRS"
         ],
         "xaxis": "x",
         "y": [
          0.0004057288919543961
         ],
         "yaxis": "y"
        },
        {
         "alignmentgroup": "True",
         "customdata": [
          [
           "Tischeriidae"
          ]
         ],
         "hovertemplate": "Family=%{customdata[0]}<br>Proportion=%{y}<extra></extra>",
         "legendgroup": "Tischeriidae",
         "marker": {
          "color": "#00cc96",
          "pattern": {
           "shape": ""
          }
         },
         "name": "Tischeriidae",
         "offsetgroup": "Tischeriidae",
         "orientation": "v",
         "showlegend": true,
         "textposition": "auto",
         "type": "bar",
         "x": [
          "ICCDRS"
         ],
         "xaxis": "x",
         "y": [
          0.0004057288919543961
         ],
         "yaxis": "y"
        },
        {
         "alignmentgroup": "True",
         "customdata": [
          [
           "Ciidae"
          ]
         ],
         "hovertemplate": "Family=%{customdata[0]}<br>Proportion=%{y}<extra></extra>",
         "legendgroup": "Ciidae",
         "marker": {
          "color": "#ab63fa",
          "pattern": {
           "shape": ""
          }
         },
         "name": "Ciidae",
         "offsetgroup": "Ciidae",
         "orientation": "v",
         "showlegend": true,
         "textposition": "auto",
         "type": "bar",
         "x": [
          "ICCDRS"
         ],
         "xaxis": "x",
         "y": [
          0.0004057288919543961
         ],
         "yaxis": "y"
        },
        {
         "alignmentgroup": "True",
         "customdata": [
          [
           "Geophilidae"
          ]
         ],
         "hovertemplate": "Family=%{customdata[0]}<br>Proportion=%{y}<extra></extra>",
         "legendgroup": "Geophilidae",
         "marker": {
          "color": "#FFA15A",
          "pattern": {
           "shape": ""
          }
         },
         "name": "Geophilidae",
         "offsetgroup": "Geophilidae",
         "orientation": "v",
         "showlegend": true,
         "textposition": "auto",
         "type": "bar",
         "x": [
          "ICCDRS"
         ],
         "xaxis": "x",
         "y": [
          0.0004057288919543961
         ],
         "yaxis": "y"
        },
        {
         "alignmentgroup": "True",
         "customdata": [
          [
           "Scolodontidae"
          ]
         ],
         "hovertemplate": "Family=%{customdata[0]}<br>Proportion=%{y}<extra></extra>",
         "legendgroup": "Scolodontidae",
         "marker": {
          "color": "#19d3f3",
          "pattern": {
           "shape": ""
          }
         },
         "name": "Scolodontidae",
         "offsetgroup": "Scolodontidae",
         "orientation": "v",
         "showlegend": true,
         "textposition": "auto",
         "type": "bar",
         "x": [
          "ICCDRS"
         ],
         "xaxis": "x",
         "y": [
          0.0004057288919543961
         ],
         "yaxis": "y"
        },
        {
         "alignmentgroup": "True",
         "customdata": [
          [
           "Phanerochaetaceae"
          ]
         ],
         "hovertemplate": "Family=%{customdata[0]}<br>Proportion=%{y}<extra></extra>",
         "legendgroup": "Phanerochaetaceae",
         "marker": {
          "color": "#FF6692",
          "pattern": {
           "shape": ""
          }
         },
         "name": "Phanerochaetaceae",
         "offsetgroup": "Phanerochaetaceae",
         "orientation": "v",
         "showlegend": true,
         "textposition": "auto",
         "type": "bar",
         "x": [
          "CDS"
         ],
         "xaxis": "x",
         "y": [
          0.0003892332105751669
         ],
         "yaxis": "y"
        },
        {
         "alignmentgroup": "True",
         "customdata": [
          [
           "Pteriidae"
          ]
         ],
         "hovertemplate": "Family=%{customdata[0]}<br>Proportion=%{y}<extra></extra>",
         "legendgroup": "Pteriidae",
         "marker": {
          "color": "#B6E880",
          "pattern": {
           "shape": ""
          }
         },
         "name": "Pteriidae",
         "offsetgroup": "Pteriidae",
         "orientation": "v",
         "showlegend": true,
         "textposition": "auto",
         "type": "bar",
         "x": [
          "MCCDRS"
         ],
         "xaxis": "x",
         "y": [
          0.0003840983291722681
         ],
         "yaxis": "y"
        },
        {
         "alignmentgroup": "True",
         "customdata": [
          [
           "Syllidae"
          ]
         ],
         "hovertemplate": "Family=%{customdata[0]}<br>Proportion=%{y}<extra></extra>",
         "legendgroup": "Syllidae",
         "marker": {
          "color": "#FF97FF",
          "pattern": {
           "shape": ""
          }
         },
         "name": "Syllidae",
         "offsetgroup": "Syllidae",
         "orientation": "v",
         "showlegend": true,
         "textposition": "auto",
         "type": "bar",
         "x": [
          "MCCDRS"
         ],
         "xaxis": "x",
         "y": [
          0.0003840983291722681
         ],
         "yaxis": "y"
        },
        {
         "alignmentgroup": "True",
         "customdata": [
          [
           "Oceaniidae"
          ]
         ],
         "hovertemplate": "Family=%{customdata[0]}<br>Proportion=%{y}<extra></extra>",
         "legendgroup": "Oceaniidae",
         "marker": {
          "color": "#FECB52",
          "pattern": {
           "shape": ""
          }
         },
         "name": "Oceaniidae",
         "offsetgroup": "Oceaniidae",
         "orientation": "v",
         "showlegend": true,
         "textposition": "auto",
         "type": "bar",
         "x": [
          "MCCDRS"
         ],
         "xaxis": "x",
         "y": [
          0.0003840983291722681
         ],
         "yaxis": "y"
        },
        {
         "alignmentgroup": "True",
         "customdata": [
          [
           "Trichiuridae"
          ]
         ],
         "hovertemplate": "Family=%{customdata[0]}<br>Proportion=%{y}<extra></extra>",
         "legendgroup": "Trichiuridae",
         "marker": {
          "color": "#636efa",
          "pattern": {
           "shape": ""
          }
         },
         "name": "Trichiuridae",
         "offsetgroup": "Trichiuridae",
         "orientation": "v",
         "showlegend": true,
         "textposition": "auto",
         "type": "bar",
         "x": [
          "MCCDRS"
         ],
         "xaxis": "x",
         "y": [
          0.0003840983291722681
         ],
         "yaxis": "y"
        },
        {
         "alignmentgroup": "True",
         "customdata": [
          [
           "Psammobiidae"
          ]
         ],
         "hovertemplate": "Family=%{customdata[0]}<br>Proportion=%{y}<extra></extra>",
         "legendgroup": "Psammobiidae",
         "marker": {
          "color": "#EF553B",
          "pattern": {
           "shape": ""
          }
         },
         "name": "Psammobiidae",
         "offsetgroup": "Psammobiidae",
         "orientation": "v",
         "showlegend": true,
         "textposition": "auto",
         "type": "bar",
         "x": [
          "MCCDRS"
         ],
         "xaxis": "x",
         "y": [
          0.0003840983291722681
         ],
         "yaxis": "y"
        },
        {
         "alignmentgroup": "True",
         "customdata": [
          [
           "Ethusidae"
          ]
         ],
         "hovertemplate": "Family=%{customdata[0]}<br>Proportion=%{y}<extra></extra>",
         "legendgroup": "Ethusidae",
         "marker": {
          "color": "#00cc96",
          "pattern": {
           "shape": ""
          }
         },
         "name": "Ethusidae",
         "offsetgroup": "Ethusidae",
         "orientation": "v",
         "showlegend": true,
         "textposition": "auto",
         "type": "bar",
         "x": [
          "MCCDRS"
         ],
         "xaxis": "x",
         "y": [
          0.0003840983291722681
         ],
         "yaxis": "y"
        },
        {
         "alignmentgroup": "True",
         "customdata": [
          [
           "Eudendriidae"
          ]
         ],
         "hovertemplate": "Family=%{customdata[0]}<br>Proportion=%{y}<extra></extra>",
         "legendgroup": "Eudendriidae",
         "marker": {
          "color": "#ab63fa",
          "pattern": {
           "shape": ""
          }
         },
         "name": "Eudendriidae",
         "offsetgroup": "Eudendriidae",
         "orientation": "v",
         "showlegend": true,
         "textposition": "auto",
         "type": "bar",
         "x": [
          "MCCDRS"
         ],
         "xaxis": "x",
         "y": [
          0.0003840983291722681
         ],
         "yaxis": "y"
        },
        {
         "alignmentgroup": "True",
         "customdata": [
          [
           "Eulimidae"
          ]
         ],
         "hovertemplate": "Family=%{customdata[0]}<br>Proportion=%{y}<extra></extra>",
         "legendgroup": "Eulimidae",
         "marker": {
          "color": "#FFA15A",
          "pattern": {
           "shape": ""
          }
         },
         "name": "Eulimidae",
         "offsetgroup": "Eulimidae",
         "orientation": "v",
         "showlegend": true,
         "textposition": "auto",
         "type": "bar",
         "x": [
          "MCCDRS"
         ],
         "xaxis": "x",
         "y": [
          0.0003840983291722681
         ],
         "yaxis": "y"
        },
        {
         "alignmentgroup": "True",
         "customdata": [
          [
           "Polynemidae"
          ]
         ],
         "hovertemplate": "Family=%{customdata[0]}<br>Proportion=%{y}<extra></extra>",
         "legendgroup": "Polynemidae",
         "marker": {
          "color": "#19d3f3",
          "pattern": {
           "shape": ""
          }
         },
         "name": "Polynemidae",
         "offsetgroup": "Polynemidae",
         "orientation": "v",
         "showlegend": true,
         "textposition": "auto",
         "type": "bar",
         "x": [
          "MCCDRS"
         ],
         "xaxis": "x",
         "y": [
          0.0003840983291722681
         ],
         "yaxis": "y"
        },
        {
         "alignmentgroup": "True",
         "customdata": [
          [
           "Microporellidae"
          ]
         ],
         "hovertemplate": "Family=%{customdata[0]}<br>Proportion=%{y}<extra></extra>",
         "legendgroup": "Microporellidae",
         "marker": {
          "color": "#FF6692",
          "pattern": {
           "shape": ""
          }
         },
         "name": "Microporellidae",
         "offsetgroup": "Microporellidae",
         "orientation": "v",
         "showlegend": true,
         "textposition": "auto",
         "type": "bar",
         "x": [
          "MCCDRS"
         ],
         "xaxis": "x",
         "y": [
          0.0003840983291722681
         ],
         "yaxis": "y"
        },
        {
         "alignmentgroup": "True",
         "customdata": [
          [
           "Valenciniidae"
          ]
         ],
         "hovertemplate": "Family=%{customdata[0]}<br>Proportion=%{y}<extra></extra>",
         "legendgroup": "Valenciniidae",
         "marker": {
          "color": "#B6E880",
          "pattern": {
           "shape": ""
          }
         },
         "name": "Valenciniidae",
         "offsetgroup": "Valenciniidae",
         "orientation": "v",
         "showlegend": true,
         "textposition": "auto",
         "type": "bar",
         "x": [
          "MCCDRS"
         ],
         "xaxis": "x",
         "y": [
          0.0003840983291722681
         ],
         "yaxis": "y"
        },
        {
         "alignmentgroup": "True",
         "customdata": [
          [
           "Coryphaenidae"
          ]
         ],
         "hovertemplate": "Family=%{customdata[0]}<br>Proportion=%{y}<extra></extra>",
         "legendgroup": "Coryphaenidae",
         "marker": {
          "color": "#FF97FF",
          "pattern": {
           "shape": ""
          }
         },
         "name": "Coryphaenidae",
         "offsetgroup": "Coryphaenidae",
         "orientation": "v",
         "showlegend": true,
         "textposition": "auto",
         "type": "bar",
         "x": [
          "MCCDRS"
         ],
         "xaxis": "x",
         "y": [
          0.0003840983291722681
         ],
         "yaxis": "y"
        },
        {
         "alignmentgroup": "True",
         "customdata": [
          [
           "Clathrinidae"
          ]
         ],
         "hovertemplate": "Family=%{customdata[0]}<br>Proportion=%{y}<extra></extra>",
         "legendgroup": "Clathrinidae",
         "marker": {
          "color": "#FECB52",
          "pattern": {
           "shape": ""
          }
         },
         "name": "Clathrinidae",
         "offsetgroup": "Clathrinidae",
         "orientation": "v",
         "showlegend": true,
         "textposition": "auto",
         "type": "bar",
         "x": [
          "MCCDRS"
         ],
         "xaxis": "x",
         "y": [
          0.0003840983291722681
         ],
         "yaxis": "y"
        },
        {
         "alignmentgroup": "True",
         "customdata": [
          [
           "Desmacellidae"
          ]
         ],
         "hovertemplate": "Family=%{customdata[0]}<br>Proportion=%{y}<extra></extra>",
         "legendgroup": "Desmacellidae",
         "marker": {
          "color": "#636efa",
          "pattern": {
           "shape": ""
          }
         },
         "name": "Desmacellidae",
         "offsetgroup": "Desmacellidae",
         "orientation": "v",
         "showlegend": true,
         "textposition": "auto",
         "type": "bar",
         "x": [
          "MCCDRS"
         ],
         "xaxis": "x",
         "y": [
          0.0003840983291722681
         ],
         "yaxis": "y"
        },
        {
         "alignmentgroup": "True",
         "customdata": [
          [
           "Diadematidae"
          ]
         ],
         "hovertemplate": "Family=%{customdata[0]}<br>Proportion=%{y}<extra></extra>",
         "legendgroup": "Diadematidae",
         "marker": {
          "color": "#EF553B",
          "pattern": {
           "shape": ""
          }
         },
         "name": "Diadematidae",
         "offsetgroup": "Diadematidae",
         "orientation": "v",
         "showlegend": true,
         "textposition": "auto",
         "type": "bar",
         "x": [
          "MCCDRS"
         ],
         "xaxis": "x",
         "y": [
          0.0003840983291722681
         ],
         "yaxis": "y"
        },
        {
         "alignmentgroup": "True",
         "customdata": [
          [
           "Tylodinidae"
          ]
         ],
         "hovertemplate": "Family=%{customdata[0]}<br>Proportion=%{y}<extra></extra>",
         "legendgroup": "Tylodinidae",
         "marker": {
          "color": "#00cc96",
          "pattern": {
           "shape": ""
          }
         },
         "name": "Tylodinidae",
         "offsetgroup": "Tylodinidae",
         "orientation": "v",
         "showlegend": true,
         "textposition": "auto",
         "type": "bar",
         "x": [
          "MCCDRS"
         ],
         "xaxis": "x",
         "y": [
          0.0003840983291722681
         ],
         "yaxis": "y"
        },
        {
         "alignmentgroup": "True",
         "customdata": [
          [
           "Cribrilinidae"
          ]
         ],
         "hovertemplate": "Family=%{customdata[0]}<br>Proportion=%{y}<extra></extra>",
         "legendgroup": "Cribrilinidae",
         "marker": {
          "color": "#ab63fa",
          "pattern": {
           "shape": ""
          }
         },
         "name": "Cribrilinidae",
         "offsetgroup": "Cribrilinidae",
         "orientation": "v",
         "showlegend": true,
         "textposition": "auto",
         "type": "bar",
         "x": [
          "MCCDRS"
         ],
         "xaxis": "x",
         "y": [
          0.0003840983291722681
         ],
         "yaxis": "y"
        },
        {
         "alignmentgroup": "True",
         "customdata": [
          [
           "Munididae"
          ]
         ],
         "hovertemplate": "Family=%{customdata[0]}<br>Proportion=%{y}<extra></extra>",
         "legendgroup": "Munididae",
         "marker": {
          "color": "#FFA15A",
          "pattern": {
           "shape": ""
          }
         },
         "name": "Munididae",
         "offsetgroup": "Munididae",
         "orientation": "v",
         "showlegend": true,
         "textposition": "auto",
         "type": "bar",
         "x": [
          "MCCDRS"
         ],
         "xaxis": "x",
         "y": [
          0.0003840983291722681
         ],
         "yaxis": "y"
        },
        {
         "alignmentgroup": "True",
         "customdata": [
          [
           "Diadesmidaceae"
          ]
         ],
         "hovertemplate": "Family=%{customdata[0]}<br>Proportion=%{y}<extra></extra>",
         "legendgroup": "Diadesmidaceae",
         "marker": {
          "color": "#19d3f3",
          "pattern": {
           "shape": ""
          }
         },
         "name": "Diadesmidaceae",
         "offsetgroup": "Diadesmidaceae",
         "orientation": "v",
         "showlegend": true,
         "textposition": "auto",
         "type": "bar",
         "x": [
          "MCCDRS"
         ],
         "xaxis": "x",
         "y": [
          0.0003840983291722681
         ],
         "yaxis": "y"
        },
        {
         "alignmentgroup": "True",
         "customdata": [
          [
           "Dictyonellidae"
          ]
         ],
         "hovertemplate": "Family=%{customdata[0]}<br>Proportion=%{y}<extra></extra>",
         "legendgroup": "Dictyonellidae",
         "marker": {
          "color": "#FF6692",
          "pattern": {
           "shape": ""
          }
         },
         "name": "Dictyonellidae",
         "offsetgroup": "Dictyonellidae",
         "orientation": "v",
         "showlegend": true,
         "textposition": "auto",
         "type": "bar",
         "x": [
          "MCCDRS"
         ],
         "xaxis": "x",
         "y": [
          0.0003840983291722681
         ],
         "yaxis": "y"
        },
        {
         "alignmentgroup": "True",
         "customdata": [
          [
           "Menippidae"
          ]
         ],
         "hovertemplate": "Family=%{customdata[0]}<br>Proportion=%{y}<extra></extra>",
         "legendgroup": "Menippidae",
         "marker": {
          "color": "#B6E880",
          "pattern": {
           "shape": ""
          }
         },
         "name": "Menippidae",
         "offsetgroup": "Menippidae",
         "orientation": "v",
         "showlegend": true,
         "textposition": "auto",
         "type": "bar",
         "x": [
          "MCCDRS"
         ],
         "xaxis": "x",
         "y": [
          0.0003840983291722681
         ],
         "yaxis": "y"
        },
        {
         "alignmentgroup": "True",
         "customdata": [
          [
           "Primnoidae"
          ]
         ],
         "hovertemplate": "Family=%{customdata[0]}<br>Proportion=%{y}<extra></extra>",
         "legendgroup": "Primnoidae",
         "marker": {
          "color": "#FF97FF",
          "pattern": {
           "shape": ""
          }
         },
         "name": "Primnoidae",
         "offsetgroup": "Primnoidae",
         "orientation": "v",
         "showlegend": true,
         "textposition": "auto",
         "type": "bar",
         "x": [
          "MCCDRS"
         ],
         "xaxis": "x",
         "y": [
          0.0003840983291722681
         ],
         "yaxis": "y"
        },
        {
         "alignmentgroup": "True",
         "customdata": [
          [
           "Phascolosomatidae"
          ]
         ],
         "hovertemplate": "Family=%{customdata[0]}<br>Proportion=%{y}<extra></extra>",
         "legendgroup": "Phascolosomatidae",
         "marker": {
          "color": "#FECB52",
          "pattern": {
           "shape": ""
          }
         },
         "name": "Phascolosomatidae",
         "offsetgroup": "Phascolosomatidae",
         "orientation": "v",
         "showlegend": true,
         "textposition": "auto",
         "type": "bar",
         "x": [
          "MCCDRS"
         ],
         "xaxis": "x",
         "y": [
          0.0003840983291722681
         ],
         "yaxis": "y"
        },
        {
         "alignmentgroup": "True",
         "customdata": [
          [
           "Smittinidae"
          ]
         ],
         "hovertemplate": "Family=%{customdata[0]}<br>Proportion=%{y}<extra></extra>",
         "legendgroup": "Smittinidae",
         "marker": {
          "color": "#636efa",
          "pattern": {
           "shape": ""
          }
         },
         "name": "Smittinidae",
         "offsetgroup": "Smittinidae",
         "orientation": "v",
         "showlegend": true,
         "textposition": "auto",
         "type": "bar",
         "x": [
          "MCCDRS"
         ],
         "xaxis": "x",
         "y": [
          0.0003840983291722681
         ],
         "yaxis": "y"
        },
        {
         "alignmentgroup": "True",
         "customdata": [
          [
           "Exechonellidae"
          ]
         ],
         "hovertemplate": "Family=%{customdata[0]}<br>Proportion=%{y}<extra></extra>",
         "legendgroup": "Exechonellidae",
         "marker": {
          "color": "#EF553B",
          "pattern": {
           "shape": ""
          }
         },
         "name": "Exechonellidae",
         "offsetgroup": "Exechonellidae",
         "orientation": "v",
         "showlegend": true,
         "textposition": "auto",
         "type": "bar",
         "x": [
          "MCCDRS"
         ],
         "xaxis": "x",
         "y": [
          0.0003840983291722681
         ],
         "yaxis": "y"
        },
        {
         "alignmentgroup": "True",
         "customdata": [
          [
           "Tripterygiidae"
          ]
         ],
         "hovertemplate": "Family=%{customdata[0]}<br>Proportion=%{y}<extra></extra>",
         "legendgroup": "Tripterygiidae",
         "marker": {
          "color": "#00cc96",
          "pattern": {
           "shape": ""
          }
         },
         "name": "Tripterygiidae",
         "offsetgroup": "Tripterygiidae",
         "orientation": "v",
         "showlegend": true,
         "textposition": "auto",
         "type": "bar",
         "x": [
          "MCCDRS"
         ],
         "xaxis": "x",
         "y": [
          0.0003840983291722681
         ],
         "yaxis": "y"
        },
        {
         "alignmentgroup": "True",
         "customdata": [
          [
           "Halopterididae"
          ]
         ],
         "hovertemplate": "Family=%{customdata[0]}<br>Proportion=%{y}<extra></extra>",
         "legendgroup": "Halopterididae",
         "marker": {
          "color": "#ab63fa",
          "pattern": {
           "shape": ""
          }
         },
         "name": "Halopterididae",
         "offsetgroup": "Halopterididae",
         "orientation": "v",
         "showlegend": true,
         "textposition": "auto",
         "type": "bar",
         "x": [
          "MCCDRS"
         ],
         "xaxis": "x",
         "y": [
          0.0003840983291722681
         ],
         "yaxis": "y"
        },
        {
         "alignmentgroup": "True",
         "customdata": [
          [
           "Candidae"
          ]
         ],
         "hovertemplate": "Family=%{customdata[0]}<br>Proportion=%{y}<extra></extra>",
         "legendgroup": "Candidae",
         "marker": {
          "color": "#FFA15A",
          "pattern": {
           "shape": ""
          }
         },
         "name": "Candidae",
         "offsetgroup": "Candidae",
         "orientation": "v",
         "showlegend": true,
         "textposition": "auto",
         "type": "bar",
         "x": [
          "MCCDRS"
         ],
         "xaxis": "x",
         "y": [
          0.0003840983291722681
         ],
         "yaxis": "y"
        },
        {
         "alignmentgroup": "True",
         "customdata": [
          [
           "Cryptochiridae"
          ]
         ],
         "hovertemplate": "Family=%{customdata[0]}<br>Proportion=%{y}<extra></extra>",
         "legendgroup": "Cryptochiridae",
         "marker": {
          "color": "#19d3f3",
          "pattern": {
           "shape": ""
          }
         },
         "name": "Cryptochiridae",
         "offsetgroup": "Cryptochiridae",
         "orientation": "v",
         "showlegend": true,
         "textposition": "auto",
         "type": "bar",
         "x": [
          "MCCDRS"
         ],
         "xaxis": "x",
         "y": [
          0.0003840983291722681
         ],
         "yaxis": "y"
        },
        {
         "alignmentgroup": "True",
         "customdata": [
          [
           "Mullidae"
          ]
         ],
         "hovertemplate": "Family=%{customdata[0]}<br>Proportion=%{y}<extra></extra>",
         "legendgroup": "Mullidae",
         "marker": {
          "color": "#FF6692",
          "pattern": {
           "shape": ""
          }
         },
         "name": "Mullidae",
         "offsetgroup": "Mullidae",
         "orientation": "v",
         "showlegend": true,
         "textposition": "auto",
         "type": "bar",
         "x": [
          "MCCDRS"
         ],
         "xaxis": "x",
         "y": [
          0.0003840983291722681
         ],
         "yaxis": "y"
        },
        {
         "alignmentgroup": "True",
         "customdata": [
          [
           "Tetillidae"
          ]
         ],
         "hovertemplate": "Family=%{customdata[0]}<br>Proportion=%{y}<extra></extra>",
         "legendgroup": "Tetillidae",
         "marker": {
          "color": "#B6E880",
          "pattern": {
           "shape": ""
          }
         },
         "name": "Tetillidae",
         "offsetgroup": "Tetillidae",
         "orientation": "v",
         "showlegend": true,
         "textposition": "auto",
         "type": "bar",
         "x": [
          "MCCDRS"
         ],
         "xaxis": "x",
         "y": [
          0.0003840983291722681
         ],
         "yaxis": "y"
        },
        {
         "alignmentgroup": "True",
         "customdata": [
          [
           "Asterinidae"
          ]
         ],
         "hovertemplate": "Family=%{customdata[0]}<br>Proportion=%{y}<extra></extra>",
         "legendgroup": "Asterinidae",
         "marker": {
          "color": "#FF97FF",
          "pattern": {
           "shape": ""
          }
         },
         "name": "Asterinidae",
         "offsetgroup": "Asterinidae",
         "orientation": "v",
         "showlegend": true,
         "textposition": "auto",
         "type": "bar",
         "x": [
          "MCCDRS"
         ],
         "xaxis": "x",
         "y": [
          0.0003840983291722681
         ],
         "yaxis": "y"
        },
        {
         "alignmentgroup": "True",
         "customdata": [
          [
           "Aplysinellidae"
          ]
         ],
         "hovertemplate": "Family=%{customdata[0]}<br>Proportion=%{y}<extra></extra>",
         "legendgroup": "Aplysinellidae",
         "marker": {
          "color": "#FECB52",
          "pattern": {
           "shape": ""
          }
         },
         "name": "Aplysinellidae",
         "offsetgroup": "Aplysinellidae",
         "orientation": "v",
         "showlegend": true,
         "textposition": "auto",
         "type": "bar",
         "x": [
          "MCCDRS"
         ],
         "xaxis": "x",
         "y": [
          0.0003840983291722681
         ],
         "yaxis": "y"
        },
        {
         "alignmentgroup": "True",
         "customdata": [
          [
           "Hymerhabdiidae"
          ]
         ],
         "hovertemplate": "Family=%{customdata[0]}<br>Proportion=%{y}<extra></extra>",
         "legendgroup": "Hymerhabdiidae",
         "marker": {
          "color": "#636efa",
          "pattern": {
           "shape": ""
          }
         },
         "name": "Hymerhabdiidae",
         "offsetgroup": "Hymerhabdiidae",
         "orientation": "v",
         "showlegend": true,
         "textposition": "auto",
         "type": "bar",
         "x": [
          "MCCDRS"
         ],
         "xaxis": "x",
         "y": [
          0.0003840983291722681
         ],
         "yaxis": "y"
        },
        {
         "alignmentgroup": "True",
         "customdata": [
          [
           "Ischnochitonidae"
          ]
         ],
         "hovertemplate": "Family=%{customdata[0]}<br>Proportion=%{y}<extra></extra>",
         "legendgroup": "Ischnochitonidae",
         "marker": {
          "color": "#EF553B",
          "pattern": {
           "shape": ""
          }
         },
         "name": "Ischnochitonidae",
         "offsetgroup": "Ischnochitonidae",
         "orientation": "v",
         "showlegend": true,
         "textposition": "auto",
         "type": "bar",
         "x": [
          "MCCDRS"
         ],
         "xaxis": "x",
         "y": [
          0.0003840983291722681
         ],
         "yaxis": "y"
        },
        {
         "alignmentgroup": "True",
         "customdata": [
          [
           "Hesionidae"
          ]
         ],
         "hovertemplate": "Family=%{customdata[0]}<br>Proportion=%{y}<extra></extra>",
         "legendgroup": "Hesionidae",
         "marker": {
          "color": "#00cc96",
          "pattern": {
           "shape": ""
          }
         },
         "name": "Hesionidae",
         "offsetgroup": "Hesionidae",
         "orientation": "v",
         "showlegend": true,
         "textposition": "auto",
         "type": "bar",
         "x": [
          "MCCDRS"
         ],
         "xaxis": "x",
         "y": [
          0.0003840983291722681
         ],
         "yaxis": "y"
        },
        {
         "alignmentgroup": "True",
         "customdata": [
          [
           "Heliasteridae"
          ]
         ],
         "hovertemplate": "Family=%{customdata[0]}<br>Proportion=%{y}<extra></extra>",
         "legendgroup": "Heliasteridae",
         "marker": {
          "color": "#ab63fa",
          "pattern": {
           "shape": ""
          }
         },
         "name": "Heliasteridae",
         "offsetgroup": "Heliasteridae",
         "orientation": "v",
         "showlegend": true,
         "textposition": "auto",
         "type": "bar",
         "x": [
          "MCCDRS"
         ],
         "xaxis": "x",
         "y": [
          0.0003840983291722681
         ],
         "yaxis": "y"
        },
        {
         "alignmentgroup": "True",
         "customdata": [
          [
           "Condylocardiidae"
          ]
         ],
         "hovertemplate": "Family=%{customdata[0]}<br>Proportion=%{y}<extra></extra>",
         "legendgroup": "Condylocardiidae",
         "marker": {
          "color": "#FFA15A",
          "pattern": {
           "shape": ""
          }
         },
         "name": "Condylocardiidae",
         "offsetgroup": "Condylocardiidae",
         "orientation": "v",
         "showlegend": true,
         "textposition": "auto",
         "type": "bar",
         "x": [
          "MCCDRS"
         ],
         "xaxis": "x",
         "y": [
          0.0003840983291722681
         ],
         "yaxis": "y"
        },
        {
         "alignmentgroup": "True",
         "customdata": [
          [
           "Halichondriidae"
          ]
         ],
         "hovertemplate": "Family=%{customdata[0]}<br>Proportion=%{y}<extra></extra>",
         "legendgroup": "Halichondriidae",
         "marker": {
          "color": "#19d3f3",
          "pattern": {
           "shape": ""
          }
         },
         "name": "Halichondriidae",
         "offsetgroup": "Halichondriidae",
         "orientation": "v",
         "showlegend": true,
         "textposition": "auto",
         "type": "bar",
         "x": [
          "MCCDRS"
         ],
         "xaxis": "x",
         "y": [
          0.0003840983291722681
         ],
         "yaxis": "y"
        },
        {
         "alignmentgroup": "True",
         "customdata": [
          [
           "Synodontidae"
          ]
         ],
         "hovertemplate": "Family=%{customdata[0]}<br>Proportion=%{y}<extra></extra>",
         "legendgroup": "Synodontidae",
         "marker": {
          "color": "#FF6692",
          "pattern": {
           "shape": ""
          }
         },
         "name": "Synodontidae",
         "offsetgroup": "Synodontidae",
         "orientation": "v",
         "showlegend": true,
         "textposition": "auto",
         "type": "bar",
         "x": [
          "MCCDRS"
         ],
         "xaxis": "x",
         "y": [
          0.0003840983291722681
         ],
         "yaxis": "y"
        },
        {
         "alignmentgroup": "True",
         "customdata": [
          [
           "Thoridae"
          ]
         ],
         "hovertemplate": "Family=%{customdata[0]}<br>Proportion=%{y}<extra></extra>",
         "legendgroup": "Thoridae",
         "marker": {
          "color": "#B6E880",
          "pattern": {
           "shape": ""
          }
         },
         "name": "Thoridae",
         "offsetgroup": "Thoridae",
         "orientation": "v",
         "showlegend": true,
         "textposition": "auto",
         "type": "bar",
         "x": [
          "MCCDRS"
         ],
         "xaxis": "x",
         "y": [
          0.0003840983291722681
         ],
         "yaxis": "y"
        },
        {
         "alignmentgroup": "True",
         "customdata": [
          [
           "Calloporidae"
          ]
         ],
         "hovertemplate": "Family=%{customdata[0]}<br>Proportion=%{y}<extra></extra>",
         "legendgroup": "Calloporidae",
         "marker": {
          "color": "#FF97FF",
          "pattern": {
           "shape": ""
          }
         },
         "name": "Calloporidae",
         "offsetgroup": "Calloporidae",
         "orientation": "v",
         "showlegend": true,
         "textposition": "auto",
         "type": "bar",
         "x": [
          "MCCDRS"
         ],
         "xaxis": "x",
         "y": [
          0.0003840983291722681
         ],
         "yaxis": "y"
        },
        {
         "alignmentgroup": "True",
         "customdata": [
          [
           "Palicidae"
          ]
         ],
         "hovertemplate": "Family=%{customdata[0]}<br>Proportion=%{y}<extra></extra>",
         "legendgroup": "Palicidae",
         "marker": {
          "color": "#FECB52",
          "pattern": {
           "shape": ""
          }
         },
         "name": "Palicidae",
         "offsetgroup": "Palicidae",
         "orientation": "v",
         "showlegend": true,
         "textposition": "auto",
         "type": "bar",
         "x": [
          "MCCDRS"
         ],
         "xaxis": "x",
         "y": [
          0.0003840983291722681
         ],
         "yaxis": "y"
        },
        {
         "alignmentgroup": "True",
         "customdata": [
          [
           "Palinuridae"
          ]
         ],
         "hovertemplate": "Family=%{customdata[0]}<br>Proportion=%{y}<extra></extra>",
         "legendgroup": "Palinuridae",
         "marker": {
          "color": "#636efa",
          "pattern": {
           "shape": ""
          }
         },
         "name": "Palinuridae",
         "offsetgroup": "Palinuridae",
         "orientation": "v",
         "showlegend": true,
         "textposition": "auto",
         "type": "bar",
         "x": [
          "MCCDRS"
         ],
         "xaxis": "x",
         "y": [
          0.0003840983291722681
         ],
         "yaxis": "y"
        },
        {
         "alignmentgroup": "True",
         "customdata": [
          [
           "Tonnidae"
          ]
         ],
         "hovertemplate": "Family=%{customdata[0]}<br>Proportion=%{y}<extra></extra>",
         "legendgroup": "Tonnidae",
         "marker": {
          "color": "#EF553B",
          "pattern": {
           "shape": ""
          }
         },
         "name": "Tonnidae",
         "offsetgroup": "Tonnidae",
         "orientation": "v",
         "showlegend": true,
         "textposition": "auto",
         "type": "bar",
         "x": [
          "MCCDRS"
         ],
         "xaxis": "x",
         "y": [
          0.0003840983291722681
         ],
         "yaxis": "y"
        },
        {
         "alignmentgroup": "True",
         "customdata": [
          [
           "Gecarcinidae"
          ]
         ],
         "hovertemplate": "Family=%{customdata[0]}<br>Proportion=%{y}<extra></extra>",
         "legendgroup": "Gecarcinidae",
         "marker": {
          "color": "#00cc96",
          "pattern": {
           "shape": ""
          }
         },
         "name": "Gecarcinidae",
         "offsetgroup": "Gecarcinidae",
         "orientation": "v",
         "showlegend": true,
         "textposition": "auto",
         "type": "bar",
         "x": [
          "MCCDRS"
         ],
         "xaxis": "x",
         "y": [
          0.0003840983291722681
         ],
         "yaxis": "y"
        },
        {
         "alignmentgroup": "True",
         "customdata": [
          [
           "Fistulariidae"
          ]
         ],
         "hovertemplate": "Family=%{customdata[0]}<br>Proportion=%{y}<extra></extra>",
         "legendgroup": "Fistulariidae",
         "marker": {
          "color": "#ab63fa",
          "pattern": {
           "shape": ""
          }
         },
         "name": "Fistulariidae",
         "offsetgroup": "Fistulariidae",
         "orientation": "v",
         "showlegend": true,
         "textposition": "auto",
         "type": "bar",
         "x": [
          "MCCDRS"
         ],
         "xaxis": "x",
         "y": [
          0.0003840983291722681
         ],
         "yaxis": "y"
        },
        {
         "alignmentgroup": "True",
         "customdata": [
          [
           "Mycetophagidae"
          ]
         ],
         "hovertemplate": "Family=%{customdata[0]}<br>Proportion=%{y}<extra></extra>",
         "legendgroup": "Mycetophagidae",
         "marker": {
          "color": "#FFA15A",
          "pattern": {
           "shape": ""
          }
         },
         "name": "Mycetophagidae",
         "offsetgroup": "Mycetophagidae",
         "orientation": "v",
         "showlegend": true,
         "textposition": "auto",
         "type": "bar",
         "x": [
          "ICCDRS"
         ],
         "xaxis": "x",
         "y": [
          0.0003651560027589565
         ],
         "yaxis": "y"
        },
        {
         "alignmentgroup": "True",
         "customdata": [
          [
           "Ripiphoridae"
          ]
         ],
         "hovertemplate": "Family=%{customdata[0]}<br>Proportion=%{y}<extra></extra>",
         "legendgroup": "Ripiphoridae",
         "marker": {
          "color": "#19d3f3",
          "pattern": {
           "shape": ""
          }
         },
         "name": "Ripiphoridae",
         "offsetgroup": "Ripiphoridae",
         "orientation": "v",
         "showlegend": true,
         "textposition": "auto",
         "type": "bar",
         "x": [
          "ICCDRS"
         ],
         "xaxis": "x",
         "y": [
          0.0003651560027589565
         ],
         "yaxis": "y"
        },
        {
         "alignmentgroup": "True",
         "customdata": [
          [
           "Oxyopidae"
          ]
         ],
         "hovertemplate": "Family=%{customdata[0]}<br>Proportion=%{y}<extra></extra>",
         "legendgroup": "Oxyopidae",
         "marker": {
          "color": "#FF6692",
          "pattern": {
           "shape": ""
          }
         },
         "name": "Oxyopidae",
         "offsetgroup": "Oxyopidae",
         "orientation": "v",
         "showlegend": true,
         "textposition": "auto",
         "type": "bar",
         "x": [
          "ICCDRS"
         ],
         "xaxis": "x",
         "y": [
          0.0003651560027589565
         ],
         "yaxis": "y"
        },
        {
         "alignmentgroup": "True",
         "customdata": [
          [
           "Oligotomidae"
          ]
         ],
         "hovertemplate": "Family=%{customdata[0]}<br>Proportion=%{y}<extra></extra>",
         "legendgroup": "Oligotomidae",
         "marker": {
          "color": "#B6E880",
          "pattern": {
           "shape": ""
          }
         },
         "name": "Oligotomidae",
         "offsetgroup": "Oligotomidae",
         "orientation": "v",
         "showlegend": true,
         "textposition": "auto",
         "type": "bar",
         "x": [
          "ICCDRS"
         ],
         "xaxis": "x",
         "y": [
          0.0003651560027589565
         ],
         "yaxis": "y"
        },
        {
         "alignmentgroup": "True",
         "customdata": [
          [
           "Psilotaceae"
          ]
         ],
         "hovertemplate": "Family=%{customdata[0]}<br>Proportion=%{y}<extra></extra>",
         "legendgroup": "Psilotaceae",
         "marker": {
          "color": "#FF97FF",
          "pattern": {
           "shape": ""
          }
         },
         "name": "Psilotaceae",
         "offsetgroup": "Psilotaceae",
         "orientation": "v",
         "showlegend": true,
         "textposition": "auto",
         "type": "bar",
         "x": [
          "CDS"
         ],
         "xaxis": "x",
         "y": [
          0.00035929219437707714
         ],
         "yaxis": "y"
        },
        {
         "alignmentgroup": "True",
         "customdata": [
          [
           "Salviniaceae"
          ]
         ],
         "hovertemplate": "Family=%{customdata[0]}<br>Proportion=%{y}<extra></extra>",
         "legendgroup": "Salviniaceae",
         "marker": {
          "color": "#FECB52",
          "pattern": {
           "shape": ""
          }
         },
         "name": "Salviniaceae",
         "offsetgroup": "Salviniaceae",
         "orientation": "v",
         "showlegend": true,
         "textposition": "auto",
         "type": "bar",
         "x": [
          "CDS"
         ],
         "xaxis": "x",
         "y": [
          0.00035929219437707714
         ],
         "yaxis": "y"
        },
        {
         "alignmentgroup": "True",
         "customdata": [
          [
           "Bonnemaisoniaceae"
          ]
         ],
         "hovertemplate": "Family=%{customdata[0]}<br>Proportion=%{y}<extra></extra>",
         "legendgroup": "Bonnemaisoniaceae",
         "marker": {
          "color": "#636efa",
          "pattern": {
           "shape": ""
          }
         },
         "name": "Bonnemaisoniaceae",
         "offsetgroup": "Bonnemaisoniaceae",
         "orientation": "v",
         "showlegend": true,
         "textposition": "auto",
         "type": "bar",
         "x": [
          "CDS"
         ],
         "xaxis": "x",
         "y": [
          0.00035929219437707714
         ],
         "yaxis": "y"
        },
        {
         "alignmentgroup": "True",
         "customdata": [
          [
           "Goodeniaceae"
          ]
         ],
         "hovertemplate": "Family=%{customdata[0]}<br>Proportion=%{y}<extra></extra>",
         "legendgroup": "Goodeniaceae",
         "marker": {
          "color": "#EF553B",
          "pattern": {
           "shape": ""
          }
         },
         "name": "Goodeniaceae",
         "offsetgroup": "Goodeniaceae",
         "orientation": "v",
         "showlegend": true,
         "textposition": "auto",
         "type": "bar",
         "x": [
          "CDS"
         ],
         "xaxis": "x",
         "y": [
          0.00035929219437707714
         ],
         "yaxis": "y"
        },
        {
         "alignmentgroup": "True",
         "customdata": [
          [
           "Casuarinaceae"
          ]
         ],
         "hovertemplate": "Family=%{customdata[0]}<br>Proportion=%{y}<extra></extra>",
         "legendgroup": "Casuarinaceae",
         "marker": {
          "color": "#00cc96",
          "pattern": {
           "shape": ""
          }
         },
         "name": "Casuarinaceae",
         "offsetgroup": "Casuarinaceae",
         "orientation": "v",
         "showlegend": true,
         "textposition": "auto",
         "type": "bar",
         "x": [
          "CDS"
         ],
         "xaxis": "x",
         "y": [
          0.0003293511781789874
         ],
         "yaxis": "y"
        },
        {
         "alignmentgroup": "True",
         "customdata": [
          [
           "Aristolochiaceae"
          ]
         ],
         "hovertemplate": "Family=%{customdata[0]}<br>Proportion=%{y}<extra></extra>",
         "legendgroup": "Aristolochiaceae",
         "marker": {
          "color": "#ab63fa",
          "pattern": {
           "shape": ""
          }
         },
         "name": "Aristolochiaceae",
         "offsetgroup": "Aristolochiaceae",
         "orientation": "v",
         "showlegend": true,
         "textposition": "auto",
         "type": "bar",
         "x": [
          "CDS"
         ],
         "xaxis": "x",
         "y": [
          0.0003293511781789874
         ],
         "yaxis": "y"
        },
        {
         "alignmentgroup": "True",
         "customdata": [
          [
           "Auriculariaceae"
          ]
         ],
         "hovertemplate": "Family=%{customdata[0]}<br>Proportion=%{y}<extra></extra>",
         "legendgroup": "Auriculariaceae",
         "marker": {
          "color": "#FFA15A",
          "pattern": {
           "shape": ""
          }
         },
         "name": "Auriculariaceae",
         "offsetgroup": "Auriculariaceae",
         "orientation": "v",
         "showlegend": true,
         "textposition": "auto",
         "type": "bar",
         "x": [
          "CDS"
         ],
         "xaxis": "x",
         "y": [
          0.0003293511781789874
         ],
         "yaxis": "y"
        },
        {
         "alignmentgroup": "True",
         "customdata": [
          [
           "Tropaeolaceae"
          ]
         ],
         "hovertemplate": "Family=%{customdata[0]}<br>Proportion=%{y}<extra></extra>",
         "legendgroup": "Tropaeolaceae",
         "marker": {
          "color": "#19d3f3",
          "pattern": {
           "shape": ""
          }
         },
         "name": "Tropaeolaceae",
         "offsetgroup": "Tropaeolaceae",
         "orientation": "v",
         "showlegend": true,
         "textposition": "auto",
         "type": "bar",
         "x": [
          "CDS"
         ],
         "xaxis": "x",
         "y": [
          0.0003293511781789874
         ],
         "yaxis": "y"
        },
        {
         "alignmentgroup": "True",
         "customdata": [
          [
           "Sporochnaceae"
          ]
         ],
         "hovertemplate": "Family=%{customdata[0]}<br>Proportion=%{y}<extra></extra>",
         "legendgroup": "Sporochnaceae",
         "marker": {
          "color": "#FF6692",
          "pattern": {
           "shape": ""
          }
         },
         "name": "Sporochnaceae",
         "offsetgroup": "Sporochnaceae",
         "orientation": "v",
         "showlegend": true,
         "textposition": "auto",
         "type": "bar",
         "x": [
          "CDS"
         ],
         "xaxis": "x",
         "y": [
          0.0003293511781789874
         ],
         "yaxis": "y"
        },
        {
         "alignmentgroup": "True",
         "customdata": [
          [
           "Ephydridae"
          ]
         ],
         "hovertemplate": "Family=%{customdata[0]}<br>Proportion=%{y}<extra></extra>",
         "legendgroup": "Ephydridae",
         "marker": {
          "color": "#B6E880",
          "pattern": {
           "shape": ""
          }
         },
         "name": "Ephydridae",
         "offsetgroup": "Ephydridae",
         "orientation": "v",
         "showlegend": true,
         "textposition": "auto",
         "type": "bar",
         "x": [
          "ICCDRS"
         ],
         "xaxis": "x",
         "y": [
          0.00032458311356351686
         ],
         "yaxis": "y"
        },
        {
         "alignmentgroup": "True",
         "customdata": [
          [
           "Coleophoridae"
          ]
         ],
         "hovertemplate": "Family=%{customdata[0]}<br>Proportion=%{y}<extra></extra>",
         "legendgroup": "Coleophoridae",
         "marker": {
          "color": "#FF97FF",
          "pattern": {
           "shape": ""
          }
         },
         "name": "Coleophoridae",
         "offsetgroup": "Coleophoridae",
         "orientation": "v",
         "showlegend": true,
         "textposition": "auto",
         "type": "bar",
         "x": [
          "ICCDRS"
         ],
         "xaxis": "x",
         "y": [
          0.00032458311356351686
         ],
         "yaxis": "y"
        },
        {
         "alignmentgroup": "True",
         "customdata": [
          [
           "Scolopocryptopidae"
          ]
         ],
         "hovertemplate": "Family=%{customdata[0]}<br>Proportion=%{y}<extra></extra>",
         "legendgroup": "Scolopocryptopidae",
         "marker": {
          "color": "#FECB52",
          "pattern": {
           "shape": ""
          }
         },
         "name": "Scolopocryptopidae",
         "offsetgroup": "Scolopocryptopidae",
         "orientation": "v",
         "showlegend": true,
         "textposition": "auto",
         "type": "bar",
         "x": [
          "ICCDRS"
         ],
         "xaxis": "x",
         "y": [
          0.00032458311356351686
         ],
         "yaxis": "y"
        },
        {
         "alignmentgroup": "True",
         "customdata": [
          [
           "Meloidae"
          ]
         ],
         "hovertemplate": "Family=%{customdata[0]}<br>Proportion=%{y}<extra></extra>",
         "legendgroup": "Meloidae",
         "marker": {
          "color": "#636efa",
          "pattern": {
           "shape": ""
          }
         },
         "name": "Meloidae",
         "offsetgroup": "Meloidae",
         "orientation": "v",
         "showlegend": true,
         "textposition": "auto",
         "type": "bar",
         "x": [
          "ICCDRS"
         ],
         "xaxis": "x",
         "y": [
          0.00032458311356351686
         ],
         "yaxis": "y"
        },
        {
         "alignmentgroup": "True",
         "customdata": [
          [
           "Pholcidae"
          ]
         ],
         "hovertemplate": "Family=%{customdata[0]}<br>Proportion=%{y}<extra></extra>",
         "legendgroup": "Pholcidae",
         "marker": {
          "color": "#EF553B",
          "pattern": {
           "shape": ""
          }
         },
         "name": "Pholcidae",
         "offsetgroup": "Pholcidae",
         "orientation": "v",
         "showlegend": true,
         "textposition": "auto",
         "type": "bar",
         "x": [
          "ICCDRS"
         ],
         "xaxis": "x",
         "y": [
          0.00032458311356351686
         ],
         "yaxis": "y"
        },
        {
         "alignmentgroup": "True",
         "customdata": [
          [
           "Bucculatricidae"
          ]
         ],
         "hovertemplate": "Family=%{customdata[0]}<br>Proportion=%{y}<extra></extra>",
         "legendgroup": "Bucculatricidae",
         "marker": {
          "color": "#00cc96",
          "pattern": {
           "shape": ""
          }
         },
         "name": "Bucculatricidae",
         "offsetgroup": "Bucculatricidae",
         "orientation": "v",
         "showlegend": true,
         "textposition": "auto",
         "type": "bar",
         "x": [
          "ICCDRS"
         ],
         "xaxis": "x",
         "y": [
          0.00032458311356351686
         ],
         "yaxis": "y"
        },
        {
         "alignmentgroup": "True",
         "customdata": [
          [
           "Oonopidae"
          ]
         ],
         "hovertemplate": "Family=%{customdata[0]}<br>Proportion=%{y}<extra></extra>",
         "legendgroup": "Oonopidae",
         "marker": {
          "color": "#ab63fa",
          "pattern": {
           "shape": ""
          }
         },
         "name": "Oonopidae",
         "offsetgroup": "Oonopidae",
         "orientation": "v",
         "showlegend": true,
         "textposition": "auto",
         "type": "bar",
         "x": [
          "ICCDRS"
         ],
         "xaxis": "x",
         "y": [
          0.00032458311356351686
         ],
         "yaxis": "y"
        },
        {
         "alignmentgroup": "True",
         "customdata": [
          [
           "Liliaceae"
          ]
         ],
         "hovertemplate": "Family=%{customdata[0]}<br>Proportion=%{y}<extra></extra>",
         "legendgroup": "Liliaceae",
         "marker": {
          "color": "#FFA15A",
          "pattern": {
           "shape": ""
          }
         },
         "name": "Liliaceae",
         "offsetgroup": "Liliaceae",
         "orientation": "v",
         "showlegend": true,
         "textposition": "auto",
         "type": "bar",
         "x": [
          "CDS"
         ],
         "xaxis": "x",
         "y": [
          0.0002994101619808976
         ],
         "yaxis": "y"
        },
        {
         "alignmentgroup": "True",
         "customdata": [
          [
           "Bryopsidaceae"
          ],
          [
           "Bryopsidaceae"
          ]
         ],
         "hovertemplate": "Family=%{customdata[0]}<br>Proportion=%{y}<extra></extra>",
         "legendgroup": "Bryopsidaceae",
         "marker": {
          "color": "#19d3f3",
          "pattern": {
           "shape": ""
          }
         },
         "name": "Bryopsidaceae",
         "offsetgroup": "Bryopsidaceae",
         "orientation": "v",
         "showlegend": true,
         "textposition": "auto",
         "type": "bar",
         "x": [
          "CDS",
          "MCCDRS"
         ],
         "xaxis": "x",
         "y": [
          0.0002994101619808976,
          0.00019204916458613405
         ],
         "yaxis": "y"
        },
        {
         "alignmentgroup": "True",
         "customdata": [
          [
           "Ranunculaceae"
          ]
         ],
         "hovertemplate": "Family=%{customdata[0]}<br>Proportion=%{y}<extra></extra>",
         "legendgroup": "Ranunculaceae",
         "marker": {
          "color": "#FF6692",
          "pattern": {
           "shape": ""
          }
         },
         "name": "Ranunculaceae",
         "offsetgroup": "Ranunculaceae",
         "orientation": "v",
         "showlegend": true,
         "textposition": "auto",
         "type": "bar",
         "x": [
          "CDS"
         ],
         "xaxis": "x",
         "y": [
          0.0002994101619808976
         ],
         "yaxis": "y"
        },
        {
         "alignmentgroup": "True",
         "customdata": [
          [
           "Cyclanthaceae"
          ]
         ],
         "hovertemplate": "Family=%{customdata[0]}<br>Proportion=%{y}<extra></extra>",
         "legendgroup": "Cyclanthaceae",
         "marker": {
          "color": "#B6E880",
          "pattern": {
           "shape": ""
          }
         },
         "name": "Cyclanthaceae",
         "offsetgroup": "Cyclanthaceae",
         "orientation": "v",
         "showlegend": true,
         "textposition": "auto",
         "type": "bar",
         "x": [
          "CDS"
         ],
         "xaxis": "x",
         "y": [
          0.0002994101619808976
         ],
         "yaxis": "y"
        },
        {
         "alignmentgroup": "True",
         "customdata": [
          [
           "Chironomidae"
          ]
         ],
         "hovertemplate": "Family=%{customdata[0]}<br>Proportion=%{y}<extra></extra>",
         "legendgroup": "Chironomidae",
         "marker": {
          "color": "#FF97FF",
          "pattern": {
           "shape": ""
          }
         },
         "name": "Chironomidae",
         "offsetgroup": "Chironomidae",
         "orientation": "v",
         "showlegend": true,
         "textposition": "auto",
         "type": "bar",
         "x": [
          "ICCDRS"
         ],
         "xaxis": "x",
         "y": [
          0.00028401022436807724
         ],
         "yaxis": "y"
        },
        {
         "alignmentgroup": "True",
         "customdata": [
          [
           "Heliodinidae"
          ]
         ],
         "hovertemplate": "Family=%{customdata[0]}<br>Proportion=%{y}<extra></extra>",
         "legendgroup": "Heliodinidae",
         "marker": {
          "color": "#FECB52",
          "pattern": {
           "shape": ""
          }
         },
         "name": "Heliodinidae",
         "offsetgroup": "Heliodinidae",
         "orientation": "v",
         "showlegend": true,
         "textposition": "auto",
         "type": "bar",
         "x": [
          "ICCDRS"
         ],
         "xaxis": "x",
         "y": [
          0.00028401022436807724
         ],
         "yaxis": "y"
        },
        {
         "alignmentgroup": "True",
         "customdata": [
          [
           "Canacidae"
          ]
         ],
         "hovertemplate": "Family=%{customdata[0]}<br>Proportion=%{y}<extra></extra>",
         "legendgroup": "Canacidae",
         "marker": {
          "color": "#636efa",
          "pattern": {
           "shape": ""
          }
         },
         "name": "Canacidae",
         "offsetgroup": "Canacidae",
         "orientation": "v",
         "showlegend": true,
         "textposition": "auto",
         "type": "bar",
         "x": [
          "ICCDRS"
         ],
         "xaxis": "x",
         "y": [
          0.00028401022436807724
         ],
         "yaxis": "y"
        },
        {
         "alignmentgroup": "True",
         "customdata": [
          [
           "Plocamiaceae"
          ]
         ],
         "hovertemplate": "Family=%{customdata[0]}<br>Proportion=%{y}<extra></extra>",
         "legendgroup": "Plocamiaceae",
         "marker": {
          "color": "#EF553B",
          "pattern": {
           "shape": ""
          }
         },
         "name": "Plocamiaceae",
         "offsetgroup": "Plocamiaceae",
         "orientation": "v",
         "showlegend": true,
         "textposition": "auto",
         "type": "bar",
         "x": [
          "CDS"
         ],
         "xaxis": "x",
         "y": [
          0.00026946914578280785
         ],
         "yaxis": "y"
        },
        {
         "alignmentgroup": "True",
         "customdata": [
          [
           "Sphagnaceae"
          ]
         ],
         "hovertemplate": "Family=%{customdata[0]}<br>Proportion=%{y}<extra></extra>",
         "legendgroup": "Sphagnaceae",
         "marker": {
          "color": "#00cc96",
          "pattern": {
           "shape": ""
          }
         },
         "name": "Sphagnaceae",
         "offsetgroup": "Sphagnaceae",
         "orientation": "v",
         "showlegend": true,
         "textposition": "auto",
         "type": "bar",
         "x": [
          "CDS"
         ],
         "xaxis": "x",
         "y": [
          0.00026946914578280785
         ],
         "yaxis": "y"
        },
        {
         "alignmentgroup": "True",
         "customdata": [
          [
           "Delesseriaceae"
          ]
         ],
         "hovertemplate": "Family=%{customdata[0]}<br>Proportion=%{y}<extra></extra>",
         "legendgroup": "Delesseriaceae",
         "marker": {
          "color": "#ab63fa",
          "pattern": {
           "shape": ""
          }
         },
         "name": "Delesseriaceae",
         "offsetgroup": "Delesseriaceae",
         "orientation": "v",
         "showlegend": true,
         "textposition": "auto",
         "type": "bar",
         "x": [
          "CDS"
         ],
         "xaxis": "x",
         "y": [
          0.00026946914578280785
         ],
         "yaxis": "y"
        },
        {
         "alignmentgroup": "True",
         "customdata": [
          [
           "Peltigeraceae"
          ]
         ],
         "hovertemplate": "Family=%{customdata[0]}<br>Proportion=%{y}<extra></extra>",
         "legendgroup": "Peltigeraceae",
         "marker": {
          "color": "#FFA15A",
          "pattern": {
           "shape": ""
          }
         },
         "name": "Peltigeraceae",
         "offsetgroup": "Peltigeraceae",
         "orientation": "v",
         "showlegend": true,
         "textposition": "auto",
         "type": "bar",
         "x": [
          "CDS"
         ],
         "xaxis": "x",
         "y": [
          0.00026946914578280785
         ],
         "yaxis": "y"
        },
        {
         "alignmentgroup": "True",
         "customdata": [
          [
           "Cryphaeaceae"
          ]
         ],
         "hovertemplate": "Family=%{customdata[0]}<br>Proportion=%{y}<extra></extra>",
         "legendgroup": "Cryphaeaceae",
         "marker": {
          "color": "#19d3f3",
          "pattern": {
           "shape": ""
          }
         },
         "name": "Cryphaeaceae",
         "offsetgroup": "Cryphaeaceae",
         "orientation": "v",
         "showlegend": true,
         "textposition": "auto",
         "type": "bar",
         "x": [
          "CDS"
         ],
         "xaxis": "x",
         "y": [
          0.00026946914578280785
         ],
         "yaxis": "y"
        },
        {
         "alignmentgroup": "True",
         "customdata": [
          [
           "Oleaceae"
          ]
         ],
         "hovertemplate": "Family=%{customdata[0]}<br>Proportion=%{y}<extra></extra>",
         "legendgroup": "Oleaceae",
         "marker": {
          "color": "#FF6692",
          "pattern": {
           "shape": ""
          }
         },
         "name": "Oleaceae",
         "offsetgroup": "Oleaceae",
         "orientation": "v",
         "showlegend": true,
         "textposition": "auto",
         "type": "bar",
         "x": [
          "CDS"
         ],
         "xaxis": "x",
         "y": [
          0.00026946914578280785
         ],
         "yaxis": "y"
        },
        {
         "alignmentgroup": "True",
         "customdata": [
          [
           "Muntingiaceae"
          ]
         ],
         "hovertemplate": "Family=%{customdata[0]}<br>Proportion=%{y}<extra></extra>",
         "legendgroup": "Muntingiaceae",
         "marker": {
          "color": "#B6E880",
          "pattern": {
           "shape": ""
          }
         },
         "name": "Muntingiaceae",
         "offsetgroup": "Muntingiaceae",
         "orientation": "v",
         "showlegend": true,
         "textposition": "auto",
         "type": "bar",
         "x": [
          "CDS"
         ],
         "xaxis": "x",
         "y": [
          0.00026946914578280785
         ],
         "yaxis": "y"
        },
        {
         "alignmentgroup": "True",
         "customdata": [
          [
           "Linaceae"
          ]
         ],
         "hovertemplate": "Family=%{customdata[0]}<br>Proportion=%{y}<extra></extra>",
         "legendgroup": "Linaceae",
         "marker": {
          "color": "#FF97FF",
          "pattern": {
           "shape": ""
          }
         },
         "name": "Linaceae",
         "offsetgroup": "Linaceae",
         "orientation": "v",
         "showlegend": true,
         "textposition": "auto",
         "type": "bar",
         "x": [
          "CDS"
         ],
         "xaxis": "x",
         "y": [
          0.00026946914578280785
         ],
         "yaxis": "y"
        },
        {
         "alignmentgroup": "True",
         "customdata": [
          [
           "Salicaceae"
          ]
         ],
         "hovertemplate": "Family=%{customdata[0]}<br>Proportion=%{y}<extra></extra>",
         "legendgroup": "Salicaceae",
         "marker": {
          "color": "#FECB52",
          "pattern": {
           "shape": ""
          }
         },
         "name": "Salicaceae",
         "offsetgroup": "Salicaceae",
         "orientation": "v",
         "showlegend": true,
         "textposition": "auto",
         "type": "bar",
         "x": [
          "CDS"
         ],
         "xaxis": "x",
         "y": [
          0.00026946914578280785
         ],
         "yaxis": "y"
        },
        {
         "alignmentgroup": "True",
         "customdata": [
          [
           "Pandanaceae"
          ]
         ],
         "hovertemplate": "Family=%{customdata[0]}<br>Proportion=%{y}<extra></extra>",
         "legendgroup": "Pandanaceae",
         "marker": {
          "color": "#636efa",
          "pattern": {
           "shape": ""
          }
         },
         "name": "Pandanaceae",
         "offsetgroup": "Pandanaceae",
         "orientation": "v",
         "showlegend": true,
         "textposition": "auto",
         "type": "bar",
         "x": [
          "CDS"
         ],
         "xaxis": "x",
         "y": [
          0.00026946914578280785
         ],
         "yaxis": "y"
        },
        {
         "alignmentgroup": "True",
         "customdata": [
          [
           "Asteliaceae"
          ]
         ],
         "hovertemplate": "Family=%{customdata[0]}<br>Proportion=%{y}<extra></extra>",
         "legendgroup": "Asteliaceae",
         "marker": {
          "color": "#EF553B",
          "pattern": {
           "shape": ""
          }
         },
         "name": "Asteliaceae",
         "offsetgroup": "Asteliaceae",
         "orientation": "v",
         "showlegend": true,
         "textposition": "auto",
         "type": "bar",
         "x": [
          "CDS"
         ],
         "xaxis": "x",
         "y": [
          0.00026946914578280785
         ],
         "yaxis": "y"
        },
        {
         "alignmentgroup": "True",
         "customdata": [
          [
           "Anthericaceae"
          ]
         ],
         "hovertemplate": "Family=%{customdata[0]}<br>Proportion=%{y}<extra></extra>",
         "legendgroup": "Anthericaceae",
         "marker": {
          "color": "#00cc96",
          "pattern": {
           "shape": ""
          }
         },
         "name": "Anthericaceae",
         "offsetgroup": "Anthericaceae",
         "orientation": "v",
         "showlegend": true,
         "textposition": "auto",
         "type": "bar",
         "x": [
          "CDS"
         ],
         "xaxis": "x",
         "y": [
          0.00026946914578280785
         ],
         "yaxis": "y"
        },
        {
         "alignmentgroup": "True",
         "customdata": [
          [
           "Acrolepiidae"
          ]
         ],
         "hovertemplate": "Family=%{customdata[0]}<br>Proportion=%{y}<extra></extra>",
         "legendgroup": "Acrolepiidae",
         "marker": {
          "color": "#ab63fa",
          "pattern": {
           "shape": ""
          }
         },
         "name": "Acrolepiidae",
         "offsetgroup": "Acrolepiidae",
         "orientation": "v",
         "showlegend": true,
         "textposition": "auto",
         "type": "bar",
         "x": [
          "ICCDRS"
         ],
         "xaxis": "x",
         "y": [
          0.00024343733517263763
         ],
         "yaxis": "y"
        },
        {
         "alignmentgroup": "True",
         "customdata": [
          [
           "Endomychidae"
          ]
         ],
         "hovertemplate": "Family=%{customdata[0]}<br>Proportion=%{y}<extra></extra>",
         "legendgroup": "Endomychidae",
         "marker": {
          "color": "#FFA15A",
          "pattern": {
           "shape": ""
          }
         },
         "name": "Endomychidae",
         "offsetgroup": "Endomychidae",
         "orientation": "v",
         "showlegend": true,
         "textposition": "auto",
         "type": "bar",
         "x": [
          "ICCDRS"
         ],
         "xaxis": "x",
         "y": [
          0.00024343733517263763
         ],
         "yaxis": "y"
        },
        {
         "alignmentgroup": "True",
         "customdata": [
          [
           "Zoridae"
          ]
         ],
         "hovertemplate": "Family=%{customdata[0]}<br>Proportion=%{y}<extra></extra>",
         "legendgroup": "Zoridae",
         "marker": {
          "color": "#19d3f3",
          "pattern": {
           "shape": ""
          }
         },
         "name": "Zoridae",
         "offsetgroup": "Zoridae",
         "orientation": "v",
         "showlegend": true,
         "textposition": "auto",
         "type": "bar",
         "x": [
          "ICCDRS"
         ],
         "xaxis": "x",
         "y": [
          0.00024343733517263763
         ],
         "yaxis": "y"
        },
        {
         "alignmentgroup": "True",
         "customdata": [
          [
           "Sphinctrinaceae"
          ]
         ],
         "hovertemplate": "Family=%{customdata[0]}<br>Proportion=%{y}<extra></extra>",
         "legendgroup": "Sphinctrinaceae",
         "marker": {
          "color": "#FF6692",
          "pattern": {
           "shape": ""
          }
         },
         "name": "Sphinctrinaceae",
         "offsetgroup": "Sphinctrinaceae",
         "orientation": "v",
         "showlegend": true,
         "textposition": "auto",
         "type": "bar",
         "x": [
          "CDS"
         ],
         "xaxis": "x",
         "y": [
          0.0002395281295847181
         ],
         "yaxis": "y"
        },
        {
         "alignmentgroup": "True",
         "customdata": [
          [
           "Inocybaceae"
          ]
         ],
         "hovertemplate": "Family=%{customdata[0]}<br>Proportion=%{y}<extra></extra>",
         "legendgroup": "Inocybaceae",
         "marker": {
          "color": "#B6E880",
          "pattern": {
           "shape": ""
          }
         },
         "name": "Inocybaceae",
         "offsetgroup": "Inocybaceae",
         "orientation": "v",
         "showlegend": true,
         "textposition": "auto",
         "type": "bar",
         "x": [
          "CDS"
         ],
         "xaxis": "x",
         "y": [
          0.0002395281295847181
         ],
         "yaxis": "y"
        },
        {
         "alignmentgroup": "True",
         "customdata": [
          [
           "Sterculiaceae"
          ]
         ],
         "hovertemplate": "Family=%{customdata[0]}<br>Proportion=%{y}<extra></extra>",
         "legendgroup": "Sterculiaceae",
         "marker": {
          "color": "#FF97FF",
          "pattern": {
           "shape": ""
          }
         },
         "name": "Sterculiaceae",
         "offsetgroup": "Sterculiaceae",
         "orientation": "v",
         "showlegend": true,
         "textposition": "auto",
         "type": "bar",
         "x": [
          "CDS"
         ],
         "xaxis": "x",
         "y": [
          0.0002395281295847181
         ],
         "yaxis": "y"
        },
        {
         "alignmentgroup": "True",
         "customdata": [
          [
           "Hygrophoraceae"
          ]
         ],
         "hovertemplate": "Family=%{customdata[0]}<br>Proportion=%{y}<extra></extra>",
         "legendgroup": "Hygrophoraceae",
         "marker": {
          "color": "#FECB52",
          "pattern": {
           "shape": ""
          }
         },
         "name": "Hygrophoraceae",
         "offsetgroup": "Hygrophoraceae",
         "orientation": "v",
         "showlegend": true,
         "textposition": "auto",
         "type": "bar",
         "x": [
          "CDS"
         ],
         "xaxis": "x",
         "y": [
          0.0002395281295847181
         ],
         "yaxis": "y"
        },
        {
         "alignmentgroup": "True",
         "customdata": [
          [
           "Hymenophyllaceae"
          ]
         ],
         "hovertemplate": "Family=%{customdata[0]}<br>Proportion=%{y}<extra></extra>",
         "legendgroup": "Hymenophyllaceae",
         "marker": {
          "color": "#636efa",
          "pattern": {
           "shape": ""
          }
         },
         "name": "Hymenophyllaceae",
         "offsetgroup": "Hymenophyllaceae",
         "orientation": "v",
         "showlegend": true,
         "textposition": "auto",
         "type": "bar",
         "x": [
          "CDS"
         ],
         "xaxis": "x",
         "y": [
          0.0002395281295847181
         ],
         "yaxis": "y"
        },
        {
         "alignmentgroup": "True",
         "customdata": [
          [
           "Dilleniaceae"
          ]
         ],
         "hovertemplate": "Family=%{customdata[0]}<br>Proportion=%{y}<extra></extra>",
         "legendgroup": "Dilleniaceae",
         "marker": {
          "color": "#EF553B",
          "pattern": {
           "shape": ""
          }
         },
         "name": "Dilleniaceae",
         "offsetgroup": "Dilleniaceae",
         "orientation": "v",
         "showlegend": true,
         "textposition": "auto",
         "type": "bar",
         "x": [
          "CDS"
         ],
         "xaxis": "x",
         "y": [
          0.00020958711338662833
         ],
         "yaxis": "y"
        },
        {
         "alignmentgroup": "True",
         "customdata": [
          [
           "Catillariaceae"
          ]
         ],
         "hovertemplate": "Family=%{customdata[0]}<br>Proportion=%{y}<extra></extra>",
         "legendgroup": "Catillariaceae",
         "marker": {
          "color": "#00cc96",
          "pattern": {
           "shape": ""
          }
         },
         "name": "Catillariaceae",
         "offsetgroup": "Catillariaceae",
         "orientation": "v",
         "showlegend": true,
         "textposition": "auto",
         "type": "bar",
         "x": [
          "CDS"
         ],
         "xaxis": "x",
         "y": [
          0.00020958711338662833
         ],
         "yaxis": "y"
        },
        {
         "alignmentgroup": "True",
         "customdata": [
          [
           "Stereophyllaceae"
          ]
         ],
         "hovertemplate": "Family=%{customdata[0]}<br>Proportion=%{y}<extra></extra>",
         "legendgroup": "Stereophyllaceae",
         "marker": {
          "color": "#ab63fa",
          "pattern": {
           "shape": ""
          }
         },
         "name": "Stereophyllaceae",
         "offsetgroup": "Stereophyllaceae",
         "orientation": "v",
         "showlegend": true,
         "textposition": "auto",
         "type": "bar",
         "x": [
          "CDS"
         ],
         "xaxis": "x",
         "y": [
          0.00020958711338662833
         ],
         "yaxis": "y"
        },
        {
         "alignmentgroup": "True",
         "customdata": [
          [
           "Phyllachoraceae"
          ]
         ],
         "hovertemplate": "Family=%{customdata[0]}<br>Proportion=%{y}<extra></extra>",
         "legendgroup": "Phyllachoraceae",
         "marker": {
          "color": "#FFA15A",
          "pattern": {
           "shape": ""
          }
         },
         "name": "Phyllachoraceae",
         "offsetgroup": "Phyllachoraceae",
         "orientation": "v",
         "showlegend": true,
         "textposition": "auto",
         "type": "bar",
         "x": [
          "CDS"
         ],
         "xaxis": "x",
         "y": [
          0.00020958711338662833
         ],
         "yaxis": "y"
        },
        {
         "alignmentgroup": "True",
         "customdata": [
          [
           "Cyatheaceae"
          ]
         ],
         "hovertemplate": "Family=%{customdata[0]}<br>Proportion=%{y}<extra></extra>",
         "legendgroup": "Cyatheaceae",
         "marker": {
          "color": "#19d3f3",
          "pattern": {
           "shape": ""
          }
         },
         "name": "Cyatheaceae",
         "offsetgroup": "Cyatheaceae",
         "orientation": "v",
         "showlegend": true,
         "textposition": "auto",
         "type": "bar",
         "x": [
          "CDS"
         ],
         "xaxis": "x",
         "y": [
          0.00020958711338662833
         ],
         "yaxis": "y"
        },
        {
         "alignmentgroup": "True",
         "customdata": [
          [
           "Porolithaceae"
          ]
         ],
         "hovertemplate": "Family=%{customdata[0]}<br>Proportion=%{y}<extra></extra>",
         "legendgroup": "Porolithaceae",
         "marker": {
          "color": "#FF6692",
          "pattern": {
           "shape": ""
          }
         },
         "name": "Porolithaceae",
         "offsetgroup": "Porolithaceae",
         "orientation": "v",
         "showlegend": true,
         "textposition": "auto",
         "type": "bar",
         "x": [
          "CDS"
         ],
         "xaxis": "x",
         "y": [
          0.00020958711338662833
         ],
         "yaxis": "y"
        },
        {
         "alignmentgroup": "True",
         "customdata": [
          [
           "Hyphodontiaceae"
          ]
         ],
         "hovertemplate": "Family=%{customdata[0]}<br>Proportion=%{y}<extra></extra>",
         "legendgroup": "Hyphodontiaceae",
         "marker": {
          "color": "#B6E880",
          "pattern": {
           "shape": ""
          }
         },
         "name": "Hyphodontiaceae",
         "offsetgroup": "Hyphodontiaceae",
         "orientation": "v",
         "showlegend": true,
         "textposition": "auto",
         "type": "bar",
         "x": [
          "CDS"
         ],
         "xaxis": "x",
         "y": [
          0.00020958711338662833
         ],
         "yaxis": "y"
        },
        {
         "alignmentgroup": "True",
         "customdata": [
          [
           "Gigartinaceae"
          ]
         ],
         "hovertemplate": "Family=%{customdata[0]}<br>Proportion=%{y}<extra></extra>",
         "legendgroup": "Gigartinaceae",
         "marker": {
          "color": "#FF97FF",
          "pattern": {
           "shape": ""
          }
         },
         "name": "Gigartinaceae",
         "offsetgroup": "Gigartinaceae",
         "orientation": "v",
         "showlegend": true,
         "textposition": "auto",
         "type": "bar",
         "x": [
          "CDS"
         ],
         "xaxis": "x",
         "y": [
          0.00020958711338662833
         ],
         "yaxis": "y"
        },
        {
         "alignmentgroup": "True",
         "customdata": [
          [
           "Solieriaceae"
          ]
         ],
         "hovertemplate": "Family=%{customdata[0]}<br>Proportion=%{y}<extra></extra>",
         "legendgroup": "Solieriaceae",
         "marker": {
          "color": "#FECB52",
          "pattern": {
           "shape": ""
          }
         },
         "name": "Solieriaceae",
         "offsetgroup": "Solieriaceae",
         "orientation": "v",
         "showlegend": true,
         "textposition": "auto",
         "type": "bar",
         "x": [
          "CDS"
         ],
         "xaxis": "x",
         "y": [
          0.00020958711338662833
         ],
         "yaxis": "y"
        },
        {
         "alignmentgroup": "True",
         "customdata": [
          [
           "Hubbardiidae"
          ]
         ],
         "hovertemplate": "Family=%{customdata[0]}<br>Proportion=%{y}<extra></extra>",
         "legendgroup": "Hubbardiidae",
         "marker": {
          "color": "#636efa",
          "pattern": {
           "shape": ""
          }
         },
         "name": "Hubbardiidae",
         "offsetgroup": "Hubbardiidae",
         "orientation": "v",
         "showlegend": true,
         "textposition": "auto",
         "type": "bar",
         "x": [
          "ICCDRS"
         ],
         "xaxis": "x",
         "y": [
          0.00020286444597719804
         ],
         "yaxis": "y"
        },
        {
         "alignmentgroup": "True",
         "customdata": [
          [
           "Dictynidae"
          ]
         ],
         "hovertemplate": "Family=%{customdata[0]}<br>Proportion=%{y}<extra></extra>",
         "legendgroup": "Dictynidae",
         "marker": {
          "color": "#EF553B",
          "pattern": {
           "shape": ""
          }
         },
         "name": "Dictynidae",
         "offsetgroup": "Dictynidae",
         "orientation": "v",
         "showlegend": true,
         "textposition": "auto",
         "type": "bar",
         "x": [
          "ICCDRS"
         ],
         "xaxis": "x",
         "y": [
          0.00020286444597719804
         ],
         "yaxis": "y"
        },
        {
         "alignmentgroup": "True",
         "customdata": [
          [
           "Tabanidae"
          ]
         ],
         "hovertemplate": "Family=%{customdata[0]}<br>Proportion=%{y}<extra></extra>",
         "legendgroup": "Tabanidae",
         "marker": {
          "color": "#00cc96",
          "pattern": {
           "shape": ""
          }
         },
         "name": "Tabanidae",
         "offsetgroup": "Tabanidae",
         "orientation": "v",
         "showlegend": true,
         "textposition": "auto",
         "type": "bar",
         "x": [
          "ICCDRS"
         ],
         "xaxis": "x",
         "y": [
          0.00020286444597719804
         ],
         "yaxis": "y"
        },
        {
         "alignmentgroup": "True",
         "customdata": [
          [
           "Brentidae"
          ]
         ],
         "hovertemplate": "Family=%{customdata[0]}<br>Proportion=%{y}<extra></extra>",
         "legendgroup": "Brentidae",
         "marker": {
          "color": "#ab63fa",
          "pattern": {
           "shape": ""
          }
         },
         "name": "Brentidae",
         "offsetgroup": "Brentidae",
         "orientation": "v",
         "showlegend": true,
         "textposition": "auto",
         "type": "bar",
         "x": [
          "ICCDRS"
         ],
         "xaxis": "x",
         "y": [
          0.00020286444597719804
         ],
         "yaxis": "y"
        },
        {
         "alignmentgroup": "True",
         "customdata": [
          [
           "Pseudocaeciliidae"
          ]
         ],
         "hovertemplate": "Family=%{customdata[0]}<br>Proportion=%{y}<extra></extra>",
         "legendgroup": "Pseudocaeciliidae",
         "marker": {
          "color": "#FFA15A",
          "pattern": {
           "shape": ""
          }
         },
         "name": "Pseudocaeciliidae",
         "offsetgroup": "Pseudocaeciliidae",
         "orientation": "v",
         "showlegend": true,
         "textposition": "auto",
         "type": "bar",
         "x": [
          "ICCDRS"
         ],
         "xaxis": "x",
         "y": [
          0.00020286444597719804
         ],
         "yaxis": "y"
        },
        {
         "alignmentgroup": "True",
         "customdata": [
          [
           "Aleyrodidae"
          ]
         ],
         "hovertemplate": "Family=%{customdata[0]}<br>Proportion=%{y}<extra></extra>",
         "legendgroup": "Aleyrodidae",
         "marker": {
          "color": "#19d3f3",
          "pattern": {
           "shape": ""
          }
         },
         "name": "Aleyrodidae",
         "offsetgroup": "Aleyrodidae",
         "orientation": "v",
         "showlegend": true,
         "textposition": "auto",
         "type": "bar",
         "x": [
          "ICCDRS"
         ],
         "xaxis": "x",
         "y": [
          0.00020286444597719804
         ],
         "yaxis": "y"
        },
        {
         "alignmentgroup": "True",
         "customdata": [
          [
           "Polyphagidae"
          ]
         ],
         "hovertemplate": "Family=%{customdata[0]}<br>Proportion=%{y}<extra></extra>",
         "legendgroup": "Polyphagidae",
         "marker": {
          "color": "#FF6692",
          "pattern": {
           "shape": ""
          }
         },
         "name": "Polyphagidae",
         "offsetgroup": "Polyphagidae",
         "orientation": "v",
         "showlegend": true,
         "textposition": "auto",
         "type": "bar",
         "x": [
          "ICCDRS"
         ],
         "xaxis": "x",
         "y": [
          0.00020286444597719804
         ],
         "yaxis": "y"
        },
        {
         "alignmentgroup": "True",
         "customdata": [
          [
           "Raninidae"
          ]
         ],
         "hovertemplate": "Family=%{customdata[0]}<br>Proportion=%{y}<extra></extra>",
         "legendgroup": "Raninidae",
         "marker": {
          "color": "#B6E880",
          "pattern": {
           "shape": ""
          }
         },
         "name": "Raninidae",
         "offsetgroup": "Raninidae",
         "orientation": "v",
         "showlegend": true,
         "textposition": "auto",
         "type": "bar",
         "x": [
          "MCCDRS"
         ],
         "xaxis": "x",
         "y": [
          0.00019204916458613405
         ],
         "yaxis": "y"
        },
        {
         "alignmentgroup": "True",
         "customdata": [
          [
           "Rhincalanidae"
          ]
         ],
         "hovertemplate": "Family=%{customdata[0]}<br>Proportion=%{y}<extra></extra>",
         "legendgroup": "Rhincalanidae",
         "marker": {
          "color": "#FF97FF",
          "pattern": {
           "shape": ""
          }
         },
         "name": "Rhincalanidae",
         "offsetgroup": "Rhincalanidae",
         "orientation": "v",
         "showlegend": true,
         "textposition": "auto",
         "type": "bar",
         "x": [
          "MCCDRS"
         ],
         "xaxis": "x",
         "y": [
          0.00019204916458613405
         ],
         "yaxis": "y"
        },
        {
         "alignmentgroup": "True",
         "customdata": [
          [
           "Sergestidae"
          ]
         ],
         "hovertemplate": "Family=%{customdata[0]}<br>Proportion=%{y}<extra></extra>",
         "legendgroup": "Sergestidae",
         "marker": {
          "color": "#FECB52",
          "pattern": {
           "shape": ""
          }
         },
         "name": "Sergestidae",
         "offsetgroup": "Sergestidae",
         "orientation": "v",
         "showlegend": true,
         "textposition": "auto",
         "type": "bar",
         "x": [
          "MCCDRS"
         ],
         "xaxis": "x",
         "y": [
          0.00019204916458613405
         ],
         "yaxis": "y"
        },
        {
         "alignmentgroup": "True",
         "customdata": [
          [
           "Ascidiidae"
          ]
         ],
         "hovertemplate": "Family=%{customdata[0]}<br>Proportion=%{y}<extra></extra>",
         "legendgroup": "Ascidiidae",
         "marker": {
          "color": "#636efa",
          "pattern": {
           "shape": ""
          }
         },
         "name": "Ascidiidae",
         "offsetgroup": "Ascidiidae",
         "orientation": "v",
         "showlegend": true,
         "textposition": "auto",
         "type": "bar",
         "x": [
          "MCCDRS"
         ],
         "xaxis": "x",
         "y": [
          0.00019204916458613405
         ],
         "yaxis": "y"
        },
        {
         "alignmentgroup": "True",
         "customdata": [
          [
           "Amphipleuraceae"
          ]
         ],
         "hovertemplate": "Family=%{customdata[0]}<br>Proportion=%{y}<extra></extra>",
         "legendgroup": "Amphipleuraceae",
         "marker": {
          "color": "#EF553B",
          "pattern": {
           "shape": ""
          }
         },
         "name": "Amphipleuraceae",
         "offsetgroup": "Amphipleuraceae",
         "orientation": "v",
         "showlegend": true,
         "textposition": "auto",
         "type": "bar",
         "x": [
          "MCCDRS"
         ],
         "xaxis": "x",
         "y": [
          0.00019204916458613405
         ],
         "yaxis": "y"
        },
        {
         "alignmentgroup": "True",
         "customdata": [
          [
           "Bothidae"
          ]
         ],
         "hovertemplate": "Family=%{customdata[0]}<br>Proportion=%{y}<extra></extra>",
         "legendgroup": "Bothidae",
         "marker": {
          "color": "#00cc96",
          "pattern": {
           "shape": ""
          }
         },
         "name": "Bothidae",
         "offsetgroup": "Bothidae",
         "orientation": "v",
         "showlegend": true,
         "textposition": "auto",
         "type": "bar",
         "x": [
          "MCCDRS"
         ],
         "xaxis": "x",
         "y": [
          0.00019204916458613405
         ],
         "yaxis": "y"
        },
        {
         "alignmentgroup": "True",
         "customdata": [
          [
           "Asteropseidae"
          ]
         ],
         "hovertemplate": "Family=%{customdata[0]}<br>Proportion=%{y}<extra></extra>",
         "legendgroup": "Asteropseidae",
         "marker": {
          "color": "#ab63fa",
          "pattern": {
           "shape": ""
          }
         },
         "name": "Asteropseidae",
         "offsetgroup": "Asteropseidae",
         "orientation": "v",
         "showlegend": true,
         "textposition": "auto",
         "type": "bar",
         "x": [
          "MCCDRS"
         ],
         "xaxis": "x",
         "y": [
          0.00019204916458613405
         ],
         "yaxis": "y"
        },
        {
         "alignmentgroup": "True",
         "customdata": [
          [
           "Triglidae"
          ]
         ],
         "hovertemplate": "Family=%{customdata[0]}<br>Proportion=%{y}<extra></extra>",
         "legendgroup": "Triglidae",
         "marker": {
          "color": "#FFA15A",
          "pattern": {
           "shape": ""
          }
         },
         "name": "Triglidae",
         "offsetgroup": "Triglidae",
         "orientation": "v",
         "showlegend": true,
         "textposition": "auto",
         "type": "bar",
         "x": [
          "MCCDRS"
         ],
         "xaxis": "x",
         "y": [
          0.00019204916458613405
         ],
         "yaxis": "y"
        },
        {
         "alignmentgroup": "True",
         "customdata": [
          [
           "Echinophallidae"
          ]
         ],
         "hovertemplate": "Family=%{customdata[0]}<br>Proportion=%{y}<extra></extra>",
         "legendgroup": "Echinophallidae",
         "marker": {
          "color": "#19d3f3",
          "pattern": {
           "shape": ""
          }
         },
         "name": "Echinophallidae",
         "offsetgroup": "Echinophallidae",
         "orientation": "v",
         "showlegend": true,
         "textposition": "auto",
         "type": "bar",
         "x": [
          "MCCDRS"
         ],
         "xaxis": "x",
         "y": [
          0.00019204916458613405
         ],
         "yaxis": "y"
        },
        {
         "alignmentgroup": "True",
         "customdata": [
          [
           "Siboglinidae"
          ]
         ],
         "hovertemplate": "Family=%{customdata[0]}<br>Proportion=%{y}<extra></extra>",
         "legendgroup": "Siboglinidae",
         "marker": {
          "color": "#FF6692",
          "pattern": {
           "shape": ""
          }
         },
         "name": "Siboglinidae",
         "offsetgroup": "Siboglinidae",
         "orientation": "v",
         "showlegend": true,
         "textposition": "auto",
         "type": "bar",
         "x": [
          "MCCDRS"
         ],
         "xaxis": "x",
         "y": [
          0.00019204916458613405
         ],
         "yaxis": "y"
        },
        {
         "alignmentgroup": "True",
         "customdata": [
          [
           "Elopidae"
          ]
         ],
         "hovertemplate": "Family=%{customdata[0]}<br>Proportion=%{y}<extra></extra>",
         "legendgroup": "Elopidae",
         "marker": {
          "color": "#B6E880",
          "pattern": {
           "shape": ""
          }
         },
         "name": "Elopidae",
         "offsetgroup": "Elopidae",
         "orientation": "v",
         "showlegend": true,
         "textposition": "auto",
         "type": "bar",
         "x": [
          "MCCDRS"
         ],
         "xaxis": "x",
         "y": [
          0.00019204916458613405
         ],
         "yaxis": "y"
        },
        {
         "alignmentgroup": "True",
         "customdata": [
          [
           "Entomoneidaceae"
          ]
         ],
         "hovertemplate": "Family=%{customdata[0]}<br>Proportion=%{y}<extra></extra>",
         "legendgroup": "Entomoneidaceae",
         "marker": {
          "color": "#FF97FF",
          "pattern": {
           "shape": ""
          }
         },
         "name": "Entomoneidaceae",
         "offsetgroup": "Entomoneidaceae",
         "orientation": "v",
         "showlegend": true,
         "textposition": "auto",
         "type": "bar",
         "x": [
          "MCCDRS"
         ],
         "xaxis": "x",
         "y": [
          0.00019204916458613405
         ],
         "yaxis": "y"
        },
        {
         "alignmentgroup": "True",
         "customdata": [
          [
           "Ephippidae"
          ]
         ],
         "hovertemplate": "Family=%{customdata[0]}<br>Proportion=%{y}<extra></extra>",
         "legendgroup": "Ephippidae",
         "marker": {
          "color": "#FECB52",
          "pattern": {
           "shape": ""
          }
         },
         "name": "Ephippidae",
         "offsetgroup": "Ephippidae",
         "orientation": "v",
         "showlegend": true,
         "textposition": "auto",
         "type": "bar",
         "x": [
          "MCCDRS"
         ],
         "xaxis": "x",
         "y": [
          0.00019204916458613405
         ],
         "yaxis": "y"
        },
        {
         "alignmentgroup": "True",
         "customdata": [
          [
           "Capulidae"
          ]
         ],
         "hovertemplate": "Family=%{customdata[0]}<br>Proportion=%{y}<extra></extra>",
         "legendgroup": "Capulidae",
         "marker": {
          "color": "#636efa",
          "pattern": {
           "shape": ""
          }
         },
         "name": "Capulidae",
         "offsetgroup": "Capulidae",
         "orientation": "v",
         "showlegend": true,
         "textposition": "auto",
         "type": "bar",
         "x": [
          "MCCDRS"
         ],
         "xaxis": "x",
         "y": [
          0.00019204916458613405
         ],
         "yaxis": "y"
        },
        {
         "alignmentgroup": "True",
         "customdata": [
          [
           "Bythograeidae"
          ]
         ],
         "hovertemplate": "Family=%{customdata[0]}<br>Proportion=%{y}<extra></extra>",
         "legendgroup": "Bythograeidae",
         "marker": {
          "color": "#EF553B",
          "pattern": {
           "shape": ""
          }
         },
         "name": "Bythograeidae",
         "offsetgroup": "Bythograeidae",
         "orientation": "v",
         "showlegend": true,
         "textposition": "auto",
         "type": "bar",
         "x": [
          "MCCDRS"
         ],
         "xaxis": "x",
         "y": [
          0.00019204916458613405
         ],
         "yaxis": "y"
        },
        {
         "alignmentgroup": "True",
         "customdata": [
          [
           "Eumunididae"
          ]
         ],
         "hovertemplate": "Family=%{customdata[0]}<br>Proportion=%{y}<extra></extra>",
         "legendgroup": "Eumunididae",
         "marker": {
          "color": "#00cc96",
          "pattern": {
           "shape": ""
          }
         },
         "name": "Eumunididae",
         "offsetgroup": "Eumunididae",
         "orientation": "v",
         "showlegend": true,
         "textposition": "auto",
         "type": "bar",
         "x": [
          "MCCDRS"
         ],
         "xaxis": "x",
         "y": [
          0.00019204916458613405
         ],
         "yaxis": "y"
        },
        {
         "alignmentgroup": "True",
         "customdata": [
          [
           "Odontasteridae"
          ]
         ],
         "hovertemplate": "Family=%{customdata[0]}<br>Proportion=%{y}<extra></extra>",
         "legendgroup": "Odontasteridae",
         "marker": {
          "color": "#ab63fa",
          "pattern": {
           "shape": ""
          }
         },
         "name": "Odontasteridae",
         "offsetgroup": "Odontasteridae",
         "orientation": "v",
         "showlegend": true,
         "textposition": "auto",
         "type": "bar",
         "x": [
          "MCCDRS"
         ],
         "xaxis": "x",
         "y": [
          0.00019204916458613405
         ],
         "yaxis": "y"
        },
        {
         "alignmentgroup": "True",
         "customdata": [
          [
           "Pentametrocrinidae"
          ]
         ],
         "hovertemplate": "Family=%{customdata[0]}<br>Proportion=%{y}<extra></extra>",
         "legendgroup": "Pentametrocrinidae",
         "marker": {
          "color": "#FFA15A",
          "pattern": {
           "shape": ""
          }
         },
         "name": "Pentametrocrinidae",
         "offsetgroup": "Pentametrocrinidae",
         "orientation": "v",
         "showlegend": true,
         "textposition": "auto",
         "type": "bar",
         "x": [
          "MCCDRS"
         ],
         "xaxis": "x",
         "y": [
          0.00019204916458613405
         ],
         "yaxis": "y"
        },
        {
         "alignmentgroup": "True",
         "customdata": [
          [
           "Assimineidae"
          ]
         ],
         "hovertemplate": "Family=%{customdata[0]}<br>Proportion=%{y}<extra></extra>",
         "legendgroup": "Assimineidae",
         "marker": {
          "color": "#19d3f3",
          "pattern": {
           "shape": ""
          }
         },
         "name": "Assimineidae",
         "offsetgroup": "Assimineidae",
         "orientation": "v",
         "showlegend": true,
         "textposition": "auto",
         "type": "bar",
         "x": [
          "MCCDRS"
         ],
         "xaxis": "x",
         "y": [
          0.00019204916458613405
         ],
         "yaxis": "y"
        },
        {
         "alignmentgroup": "True",
         "customdata": [
          [
           "Octopodidae"
          ]
         ],
         "hovertemplate": "Family=%{customdata[0]}<br>Proportion=%{y}<extra></extra>",
         "legendgroup": "Octopodidae",
         "marker": {
          "color": "#FF6692",
          "pattern": {
           "shape": ""
          }
         },
         "name": "Octopodidae",
         "offsetgroup": "Octopodidae",
         "orientation": "v",
         "showlegend": true,
         "textposition": "auto",
         "type": "bar",
         "x": [
          "MCCDRS"
         ],
         "xaxis": "x",
         "y": [
          0.00019204916458613405
         ],
         "yaxis": "y"
        },
        {
         "alignmentgroup": "True",
         "customdata": [
          [
           "Pyramidellidae"
          ]
         ],
         "hovertemplate": "Family=%{customdata[0]}<br>Proportion=%{y}<extra></extra>",
         "legendgroup": "Pyramidellidae",
         "marker": {
          "color": "#B6E880",
          "pattern": {
           "shape": ""
          }
         },
         "name": "Pyramidellidae",
         "offsetgroup": "Pyramidellidae",
         "orientation": "v",
         "showlegend": true,
         "textposition": "auto",
         "type": "bar",
         "x": [
          "MCCDRS"
         ],
         "xaxis": "x",
         "y": [
          0.00019204916458613405
         ],
         "yaxis": "y"
        },
        {
         "alignmentgroup": "True",
         "customdata": [
          [
           "Stercorariidae"
          ]
         ],
         "hovertemplate": "Family=%{customdata[0]}<br>Proportion=%{y}<extra></extra>",
         "legendgroup": "Stercorariidae",
         "marker": {
          "color": "#FF97FF",
          "pattern": {
           "shape": ""
          }
         },
         "name": "Stercorariidae",
         "offsetgroup": "Stercorariidae",
         "orientation": "v",
         "showlegend": true,
         "textposition": "auto",
         "type": "bar",
         "x": [
          "MCCDRS"
         ],
         "xaxis": "x",
         "y": [
          0.00019204916458613405
         ],
         "yaxis": "y"
        },
        {
         "alignmentgroup": "True",
         "customdata": [
          [
           "Sternoptychidae"
          ]
         ],
         "hovertemplate": "Family=%{customdata[0]}<br>Proportion=%{y}<extra></extra>",
         "legendgroup": "Sternoptychidae",
         "marker": {
          "color": "#FECB52",
          "pattern": {
           "shape": ""
          }
         },
         "name": "Sternoptychidae",
         "offsetgroup": "Sternoptychidae",
         "orientation": "v",
         "showlegend": true,
         "textposition": "auto",
         "type": "bar",
         "x": [
          "MCCDRS"
         ],
         "xaxis": "x",
         "y": [
          0.00019204916458613405
         ],
         "yaxis": "y"
        },
        {
         "alignmentgroup": "True",
         "customdata": [
          [
           "Ophiotomidae"
          ]
         ],
         "hovertemplate": "Family=%{customdata[0]}<br>Proportion=%{y}<extra></extra>",
         "legendgroup": "Ophiotomidae",
         "marker": {
          "color": "#636efa",
          "pattern": {
           "shape": ""
          }
         },
         "name": "Ophiotomidae",
         "offsetgroup": "Ophiotomidae",
         "orientation": "v",
         "showlegend": true,
         "textposition": "auto",
         "type": "bar",
         "x": [
          "MCCDRS"
         ],
         "xaxis": "x",
         "y": [
          0.00019204916458613405
         ],
         "yaxis": "y"
        },
        {
         "alignmentgroup": "True",
         "customdata": [
          [
           "Acartiidae"
          ]
         ],
         "hovertemplate": "Family=%{customdata[0]}<br>Proportion=%{y}<extra></extra>",
         "legendgroup": "Acartiidae",
         "marker": {
          "color": "#EF553B",
          "pattern": {
           "shape": ""
          }
         },
         "name": "Acartiidae",
         "offsetgroup": "Acartiidae",
         "orientation": "v",
         "showlegend": true,
         "textposition": "auto",
         "type": "bar",
         "x": [
          "MCCDRS"
         ],
         "xaxis": "x",
         "y": [
          0.00019204916458613405
         ],
         "yaxis": "y"
        },
        {
         "alignmentgroup": "True",
         "customdata": [
          [
           "Acanthuridae"
          ]
         ],
         "hovertemplate": "Family=%{customdata[0]}<br>Proportion=%{y}<extra></extra>",
         "legendgroup": "Acanthuridae",
         "marker": {
          "color": "#00cc96",
          "pattern": {
           "shape": ""
          }
         },
         "name": "Acanthuridae",
         "offsetgroup": "Acanthuridae",
         "orientation": "v",
         "showlegend": true,
         "textposition": "auto",
         "type": "bar",
         "x": [
          "MCCDRS"
         ],
         "xaxis": "x",
         "y": [
          0.00019204916458613405
         ],
         "yaxis": "y"
        },
        {
         "alignmentgroup": "True",
         "customdata": [
          [
           "Porpitidae"
          ]
         ],
         "hovertemplate": "Family=%{customdata[0]}<br>Proportion=%{y}<extra></extra>",
         "legendgroup": "Porpitidae",
         "marker": {
          "color": "#ab63fa",
          "pattern": {
           "shape": ""
          }
         },
         "name": "Porpitidae",
         "offsetgroup": "Porpitidae",
         "orientation": "v",
         "showlegend": true,
         "textposition": "auto",
         "type": "bar",
         "x": [
          "MCCDRS"
         ],
         "xaxis": "x",
         "y": [
          0.00019204916458613405
         ],
         "yaxis": "y"
        },
        {
         "alignmentgroup": "True",
         "customdata": [
          [
           "Asterodiscididae"
          ]
         ],
         "hovertemplate": "Family=%{customdata[0]}<br>Proportion=%{y}<extra></extra>",
         "legendgroup": "Asterodiscididae",
         "marker": {
          "color": "#FFA15A",
          "pattern": {
           "shape": ""
          }
         },
         "name": "Asterodiscididae",
         "offsetgroup": "Asterodiscididae",
         "orientation": "v",
         "showlegend": true,
         "textposition": "auto",
         "type": "bar",
         "x": [
          "MCCDRS"
         ],
         "xaxis": "x",
         "y": [
          0.00019204916458613405
         ],
         "yaxis": "y"
        },
        {
         "alignmentgroup": "True",
         "customdata": [
          [
           "Pinnulariaceae"
          ]
         ],
         "hovertemplate": "Family=%{customdata[0]}<br>Proportion=%{y}<extra></extra>",
         "legendgroup": "Pinnulariaceae",
         "marker": {
          "color": "#19d3f3",
          "pattern": {
           "shape": ""
          }
         },
         "name": "Pinnulariaceae",
         "offsetgroup": "Pinnulariaceae",
         "orientation": "v",
         "showlegend": true,
         "textposition": "auto",
         "type": "bar",
         "x": [
          "MCCDRS"
         ],
         "xaxis": "x",
         "y": [
          0.00019204916458613405
         ],
         "yaxis": "y"
        },
        {
         "alignmentgroup": "True",
         "customdata": [
          [
           "Arhynchobatidae"
          ]
         ],
         "hovertemplate": "Family=%{customdata[0]}<br>Proportion=%{y}<extra></extra>",
         "legendgroup": "Arhynchobatidae",
         "marker": {
          "color": "#FF6692",
          "pattern": {
           "shape": ""
          }
         },
         "name": "Arhynchobatidae",
         "offsetgroup": "Arhynchobatidae",
         "orientation": "v",
         "showlegend": true,
         "textposition": "auto",
         "type": "bar",
         "x": [
          "MCCDRS"
         ],
         "xaxis": "x",
         "y": [
          0.00019204916458613405
         ],
         "yaxis": "y"
        },
        {
         "alignmentgroup": "True",
         "customdata": [
          [
           "Phoxichilidiidae"
          ]
         ],
         "hovertemplate": "Family=%{customdata[0]}<br>Proportion=%{y}<extra></extra>",
         "legendgroup": "Phoxichilidiidae",
         "marker": {
          "color": "#B6E880",
          "pattern": {
           "shape": ""
          }
         },
         "name": "Phoxichilidiidae",
         "offsetgroup": "Phoxichilidiidae",
         "orientation": "v",
         "showlegend": true,
         "textposition": "auto",
         "type": "bar",
         "x": [
          "MCCDRS"
         ],
         "xaxis": "x",
         "y": [
          0.00019204916458613405
         ],
         "yaxis": "y"
        },
        {
         "alignmentgroup": "True",
         "customdata": [
          [
           "Sphyraenidae"
          ]
         ],
         "hovertemplate": "Family=%{customdata[0]}<br>Proportion=%{y}<extra></extra>",
         "legendgroup": "Sphyraenidae",
         "marker": {
          "color": "#FF97FF",
          "pattern": {
           "shape": ""
          }
         },
         "name": "Sphyraenidae",
         "offsetgroup": "Sphyraenidae",
         "orientation": "v",
         "showlegend": true,
         "textposition": "auto",
         "type": "bar",
         "x": [
          "MCCDRS"
         ],
         "xaxis": "x",
         "y": [
          0.00019204916458613405
         ],
         "yaxis": "y"
        },
        {
         "alignmentgroup": "True",
         "customdata": [
          [
           "Opecoelidae"
          ]
         ],
         "hovertemplate": "Family=%{customdata[0]}<br>Proportion=%{y}<extra></extra>",
         "legendgroup": "Opecoelidae",
         "marker": {
          "color": "#FECB52",
          "pattern": {
           "shape": ""
          }
         },
         "name": "Opecoelidae",
         "offsetgroup": "Opecoelidae",
         "orientation": "v",
         "showlegend": true,
         "textposition": "auto",
         "type": "bar",
         "x": [
          "MCCDRS"
         ],
         "xaxis": "x",
         "y": [
          0.00019204916458613405
         ],
         "yaxis": "y"
        },
        {
         "alignmentgroup": "True",
         "customdata": [
          [
           "Amphoriscidae"
          ]
         ],
         "hovertemplate": "Family=%{customdata[0]}<br>Proportion=%{y}<extra></extra>",
         "legendgroup": "Amphoriscidae",
         "marker": {
          "color": "#636efa",
          "pattern": {
           "shape": ""
          }
         },
         "name": "Amphoriscidae",
         "offsetgroup": "Amphoriscidae",
         "orientation": "v",
         "showlegend": true,
         "textposition": "auto",
         "type": "bar",
         "x": [
          "MCCDRS"
         ],
         "xaxis": "x",
         "y": [
          0.00019204916458613405
         ],
         "yaxis": "y"
        },
        {
         "alignmentgroup": "True",
         "customdata": [
          [
           "Peristediidae"
          ]
         ],
         "hovertemplate": "Family=%{customdata[0]}<br>Proportion=%{y}<extra></extra>",
         "legendgroup": "Peristediidae",
         "marker": {
          "color": "#EF553B",
          "pattern": {
           "shape": ""
          }
         },
         "name": "Peristediidae",
         "offsetgroup": "Peristediidae",
         "orientation": "v",
         "showlegend": true,
         "textposition": "auto",
         "type": "bar",
         "x": [
          "MCCDRS"
         ],
         "xaxis": "x",
         "y": [
          0.00019204916458613405
         ],
         "yaxis": "y"
        },
        {
         "alignmentgroup": "True",
         "customdata": [
          [
           "Ophiothamnidae"
          ]
         ],
         "hovertemplate": "Family=%{customdata[0]}<br>Proportion=%{y}<extra></extra>",
         "legendgroup": "Ophiothamnidae",
         "marker": {
          "color": "#00cc96",
          "pattern": {
           "shape": ""
          }
         },
         "name": "Ophiothamnidae",
         "offsetgroup": "Ophiothamnidae",
         "orientation": "v",
         "showlegend": true,
         "textposition": "auto",
         "type": "bar",
         "x": [
          "MCCDRS"
         ],
         "xaxis": "x",
         "y": [
          0.00019204916458613405
         ],
         "yaxis": "y"
        },
        {
         "alignmentgroup": "True",
         "customdata": [
          [
           "Euretidae"
          ]
         ],
         "hovertemplate": "Family=%{customdata[0]}<br>Proportion=%{y}<extra></extra>",
         "legendgroup": "Euretidae",
         "marker": {
          "color": "#ab63fa",
          "pattern": {
           "shape": ""
          }
         },
         "name": "Euretidae",
         "offsetgroup": "Euretidae",
         "orientation": "v",
         "showlegend": true,
         "textposition": "auto",
         "type": "bar",
         "x": [
          "MCCDRS"
         ],
         "xaxis": "x",
         "y": [
          0.00019204916458613405
         ],
         "yaxis": "y"
        },
        {
         "alignmentgroup": "True",
         "customdata": [
          [
           "Architectonicidae"
          ]
         ],
         "hovertemplate": "Family=%{customdata[0]}<br>Proportion=%{y}<extra></extra>",
         "legendgroup": "Architectonicidae",
         "marker": {
          "color": "#FFA15A",
          "pattern": {
           "shape": ""
          }
         },
         "name": "Architectonicidae",
         "offsetgroup": "Architectonicidae",
         "orientation": "v",
         "showlegend": true,
         "textposition": "auto",
         "type": "bar",
         "x": [
          "MCCDRS"
         ],
         "xaxis": "x",
         "y": [
          0.00019204916458613405
         ],
         "yaxis": "y"
        },
        {
         "alignmentgroup": "True",
         "customdata": [
          [
           "Tornatinidae"
          ]
         ],
         "hovertemplate": "Family=%{customdata[0]}<br>Proportion=%{y}<extra></extra>",
         "legendgroup": "Tornatinidae",
         "marker": {
          "color": "#19d3f3",
          "pattern": {
           "shape": ""
          }
         },
         "name": "Tornatinidae",
         "offsetgroup": "Tornatinidae",
         "orientation": "v",
         "showlegend": true,
         "textposition": "auto",
         "type": "bar",
         "x": [
          "MCCDRS"
         ],
         "xaxis": "x",
         "y": [
          0.00019204916458613405
         ],
         "yaxis": "y"
        },
        {
         "alignmentgroup": "True",
         "customdata": [
          [
           "Callistoplacidae"
          ]
         ],
         "hovertemplate": "Family=%{customdata[0]}<br>Proportion=%{y}<extra></extra>",
         "legendgroup": "Callistoplacidae",
         "marker": {
          "color": "#FF6692",
          "pattern": {
           "shape": ""
          }
         },
         "name": "Callistoplacidae",
         "offsetgroup": "Callistoplacidae",
         "orientation": "v",
         "showlegend": true,
         "textposition": "auto",
         "type": "bar",
         "x": [
          "MCCDRS"
         ],
         "xaxis": "x",
         "y": [
          0.00019204916458613405
         ],
         "yaxis": "y"
        },
        {
         "alignmentgroup": "True",
         "customdata": [
          [
           "Botrucnidiferidae"
          ]
         ],
         "hovertemplate": "Family=%{customdata[0]}<br>Proportion=%{y}<extra></extra>",
         "legendgroup": "Botrucnidiferidae",
         "marker": {
          "color": "#B6E880",
          "pattern": {
           "shape": ""
          }
         },
         "name": "Botrucnidiferidae",
         "offsetgroup": "Botrucnidiferidae",
         "orientation": "v",
         "showlegend": true,
         "textposition": "auto",
         "type": "bar",
         "x": [
          "MCCDRS"
         ],
         "xaxis": "x",
         "y": [
          0.00019204916458613405
         ],
         "yaxis": "y"
        },
        {
         "alignmentgroup": "True",
         "customdata": [
          [
           "Telorchiidae"
          ]
         ],
         "hovertemplate": "Family=%{customdata[0]}<br>Proportion=%{y}<extra></extra>",
         "legendgroup": "Telorchiidae",
         "marker": {
          "color": "#FF97FF",
          "pattern": {
           "shape": ""
          }
         },
         "name": "Telorchiidae",
         "offsetgroup": "Telorchiidae",
         "orientation": "v",
         "showlegend": true,
         "textposition": "auto",
         "type": "bar",
         "x": [
          "MCCDRS"
         ],
         "xaxis": "x",
         "y": [
          0.00019204916458613405
         ],
         "yaxis": "y"
        },
        {
         "alignmentgroup": "True",
         "customdata": [
          [
           "Mactridae"
          ]
         ],
         "hovertemplate": "Family=%{customdata[0]}<br>Proportion=%{y}<extra></extra>",
         "legendgroup": "Mactridae",
         "marker": {
          "color": "#FECB52",
          "pattern": {
           "shape": ""
          }
         },
         "name": "Mactridae",
         "offsetgroup": "Mactridae",
         "orientation": "v",
         "showlegend": true,
         "textposition": "auto",
         "type": "bar",
         "x": [
          "MCCDRS"
         ],
         "xaxis": "x",
         "y": [
          0.00019204916458613405
         ],
         "yaxis": "y"
        },
        {
         "alignmentgroup": "True",
         "customdata": [
          [
           "Majidae"
          ]
         ],
         "hovertemplate": "Family=%{customdata[0]}<br>Proportion=%{y}<extra></extra>",
         "legendgroup": "Majidae",
         "marker": {
          "color": "#636efa",
          "pattern": {
           "shape": ""
          }
         },
         "name": "Majidae",
         "offsetgroup": "Majidae",
         "orientation": "v",
         "showlegend": true,
         "textposition": "auto",
         "type": "bar",
         "x": [
          "MCCDRS"
         ],
         "xaxis": "x",
         "y": [
          0.00019204916458613405
         ],
         "yaxis": "y"
        },
        {
         "alignmentgroup": "True",
         "customdata": [
          [
           "Brisingidae"
          ]
         ],
         "hovertemplate": "Family=%{customdata[0]}<br>Proportion=%{y}<extra></extra>",
         "legendgroup": "Brisingidae",
         "marker": {
          "color": "#EF553B",
          "pattern": {
           "shape": ""
          }
         },
         "name": "Brisingidae",
         "offsetgroup": "Brisingidae",
         "orientation": "v",
         "showlegend": true,
         "textposition": "auto",
         "type": "bar",
         "x": [
          "MCCDRS"
         ],
         "xaxis": "x",
         "y": [
          0.00019204916458613405
         ],
         "yaxis": "y"
        },
        {
         "alignmentgroup": "True",
         "customdata": [
          [
           "Kuhliidae"
          ]
         ],
         "hovertemplate": "Family=%{customdata[0]}<br>Proportion=%{y}<extra></extra>",
         "legendgroup": "Kuhliidae",
         "marker": {
          "color": "#00cc96",
          "pattern": {
           "shape": ""
          }
         },
         "name": "Kuhliidae",
         "offsetgroup": "Kuhliidae",
         "orientation": "v",
         "showlegend": true,
         "textposition": "auto",
         "type": "bar",
         "x": [
          "MCCDRS"
         ],
         "xaxis": "x",
         "y": [
          0.00019204916458613405
         ],
         "yaxis": "y"
        },
        {
         "alignmentgroup": "True",
         "customdata": [
          [
           "Ligiidae"
          ]
         ],
         "hovertemplate": "Family=%{customdata[0]}<br>Proportion=%{y}<extra></extra>",
         "legendgroup": "Ligiidae",
         "marker": {
          "color": "#ab63fa",
          "pattern": {
           "shape": ""
          }
         },
         "name": "Ligiidae",
         "offsetgroup": "Ligiidae",
         "orientation": "v",
         "showlegend": true,
         "textposition": "auto",
         "type": "bar",
         "x": [
          "MCCDRS"
         ],
         "xaxis": "x",
         "y": [
          0.00019204916458613405
         ],
         "yaxis": "y"
        },
        {
         "alignmentgroup": "True",
         "customdata": [
          [
           "Malakichthyidae"
          ]
         ],
         "hovertemplate": "Family=%{customdata[0]}<br>Proportion=%{y}<extra></extra>",
         "legendgroup": "Malakichthyidae",
         "marker": {
          "color": "#FFA15A",
          "pattern": {
           "shape": ""
          }
         },
         "name": "Malakichthyidae",
         "offsetgroup": "Malakichthyidae",
         "orientation": "v",
         "showlegend": true,
         "textposition": "auto",
         "type": "bar",
         "x": [
          "MCCDRS"
         ],
         "xaxis": "x",
         "y": [
          0.00019204916458613405
         ],
         "yaxis": "y"
        },
        {
         "alignmentgroup": "True",
         "customdata": [
          [
           "Batillariidae"
          ]
         ],
         "hovertemplate": "Family=%{customdata[0]}<br>Proportion=%{y}<extra></extra>",
         "legendgroup": "Batillariidae",
         "marker": {
          "color": "#19d3f3",
          "pattern": {
           "shape": ""
          }
         },
         "name": "Batillariidae",
         "offsetgroup": "Batillariidae",
         "orientation": "v",
         "showlegend": true,
         "textposition": "auto",
         "type": "bar",
         "x": [
          "MCCDRS"
         ],
         "xaxis": "x",
         "y": [
          0.00019204916458613405
         ],
         "yaxis": "y"
        },
        {
         "alignmentgroup": "True",
         "customdata": [
          [
           "Axinellidae"
          ]
         ],
         "hovertemplate": "Family=%{customdata[0]}<br>Proportion=%{y}<extra></extra>",
         "legendgroup": "Axinellidae",
         "marker": {
          "color": "#FF6692",
          "pattern": {
           "shape": ""
          }
         },
         "name": "Axinellidae",
         "offsetgroup": "Axinellidae",
         "orientation": "v",
         "showlegend": true,
         "textposition": "auto",
         "type": "bar",
         "x": [
          "MCCDRS"
         ],
         "xaxis": "x",
         "y": [
          0.00019204916458613405
         ],
         "yaxis": "y"
        },
        {
         "alignmentgroup": "True",
         "customdata": [
          [
           "Microcionidae"
          ]
         ],
         "hovertemplate": "Family=%{customdata[0]}<br>Proportion=%{y}<extra></extra>",
         "legendgroup": "Microcionidae",
         "marker": {
          "color": "#B6E880",
          "pattern": {
           "shape": ""
          }
         },
         "name": "Microcionidae",
         "offsetgroup": "Microcionidae",
         "orientation": "v",
         "showlegend": true,
         "textposition": "auto",
         "type": "bar",
         "x": [
          "MCCDRS"
         ],
         "xaxis": "x",
         "y": [
          0.00019204916458613405
         ],
         "yaxis": "y"
        },
        {
         "alignmentgroup": "True",
         "customdata": [
          [
           "Bubaridae"
          ]
         ],
         "hovertemplate": "Family=%{customdata[0]}<br>Proportion=%{y}<extra></extra>",
         "legendgroup": "Bubaridae",
         "marker": {
          "color": "#FF97FF",
          "pattern": {
           "shape": ""
          }
         },
         "name": "Bubaridae",
         "offsetgroup": "Bubaridae",
         "orientation": "v",
         "showlegend": true,
         "textposition": "auto",
         "type": "bar",
         "x": [
          "MCCDRS"
         ],
         "xaxis": "x",
         "y": [
          0.00019204916458613405
         ],
         "yaxis": "y"
        },
        {
         "alignmentgroup": "True",
         "customdata": [
          [
           "Bucephalidae"
          ]
         ],
         "hovertemplate": "Family=%{customdata[0]}<br>Proportion=%{y}<extra></extra>",
         "legendgroup": "Bucephalidae",
         "marker": {
          "color": "#FECB52",
          "pattern": {
           "shape": ""
          }
         },
         "name": "Bucephalidae",
         "offsetgroup": "Bucephalidae",
         "orientation": "v",
         "showlegend": true,
         "textposition": "auto",
         "type": "bar",
         "x": [
          "MCCDRS"
         ],
         "xaxis": "x",
         "y": [
          0.00019204916458613405
         ],
         "yaxis": "y"
        },
        {
         "alignmentgroup": "True",
         "customdata": [
          [
           "Aulostomidae"
          ]
         ],
         "hovertemplate": "Family=%{customdata[0]}<br>Proportion=%{y}<extra></extra>",
         "legendgroup": "Aulostomidae",
         "marker": {
          "color": "#636efa",
          "pattern": {
           "shape": ""
          }
         },
         "name": "Aulostomidae",
         "offsetgroup": "Aulostomidae",
         "orientation": "v",
         "showlegend": true,
         "textposition": "auto",
         "type": "bar",
         "x": [
          "MCCDRS"
         ],
         "xaxis": "x",
         "y": [
          0.00019204916458613405
         ],
         "yaxis": "y"
        },
        {
         "alignmentgroup": "True",
         "customdata": [
          [
           "Thorectidae"
          ]
         ],
         "hovertemplate": "Family=%{customdata[0]}<br>Proportion=%{y}<extra></extra>",
         "legendgroup": "Thorectidae",
         "marker": {
          "color": "#EF553B",
          "pattern": {
           "shape": ""
          }
         },
         "name": "Thorectidae",
         "offsetgroup": "Thorectidae",
         "orientation": "v",
         "showlegend": true,
         "textposition": "auto",
         "type": "bar",
         "x": [
          "MCCDRS"
         ],
         "xaxis": "x",
         "y": [
          0.00019204916458613405
         ],
         "yaxis": "y"
        },
        {
         "alignmentgroup": "True",
         "customdata": [
          [
           "Haleciidae"
          ]
         ],
         "hovertemplate": "Family=%{customdata[0]}<br>Proportion=%{y}<extra></extra>",
         "legendgroup": "Haleciidae",
         "marker": {
          "color": "#00cc96",
          "pattern": {
           "shape": ""
          }
         },
         "name": "Haleciidae",
         "offsetgroup": "Haleciidae",
         "orientation": "v",
         "showlegend": true,
         "textposition": "auto",
         "type": "bar",
         "x": [
          "MCCDRS"
         ],
         "xaxis": "x",
         "y": [
          0.00019204916458613405
         ],
         "yaxis": "y"
        },
        {
         "alignmentgroup": "True",
         "customdata": [
          [
           "Charoniidae"
          ]
         ],
         "hovertemplate": "Family=%{customdata[0]}<br>Proportion=%{y}<extra></extra>",
         "legendgroup": "Charoniidae",
         "marker": {
          "color": "#ab63fa",
          "pattern": {
           "shape": ""
          }
         },
         "name": "Charoniidae",
         "offsetgroup": "Charoniidae",
         "orientation": "v",
         "showlegend": true,
         "textposition": "auto",
         "type": "bar",
         "x": [
          "MCCDRS"
         ],
         "xaxis": "x",
         "y": [
          0.00019204916458613405
         ],
         "yaxis": "y"
        },
        {
         "alignmentgroup": "True",
         "customdata": [
          [
           "Bitectiporidae"
          ]
         ],
         "hovertemplate": "Family=%{customdata[0]}<br>Proportion=%{y}<extra></extra>",
         "legendgroup": "Bitectiporidae",
         "marker": {
          "color": "#FFA15A",
          "pattern": {
           "shape": ""
          }
         },
         "name": "Bitectiporidae",
         "offsetgroup": "Bitectiporidae",
         "orientation": "v",
         "showlegend": true,
         "textposition": "auto",
         "type": "bar",
         "x": [
          "MCCDRS"
         ],
         "xaxis": "x",
         "y": [
          0.00019204916458613405
         ],
         "yaxis": "y"
        },
        {
         "alignmentgroup": "True",
         "customdata": [
          [
           "Synaptidae"
          ]
         ],
         "hovertemplate": "Family=%{customdata[0]}<br>Proportion=%{y}<extra></extra>",
         "legendgroup": "Synaptidae",
         "marker": {
          "color": "#19d3f3",
          "pattern": {
           "shape": ""
          }
         },
         "name": "Synaptidae",
         "offsetgroup": "Synaptidae",
         "orientation": "v",
         "showlegend": true,
         "textposition": "auto",
         "type": "bar",
         "x": [
          "MCCDRS"
         ],
         "xaxis": "x",
         "y": [
          0.00019204916458613405
         ],
         "yaxis": "y"
        },
        {
         "alignmentgroup": "True",
         "customdata": [
          [
           "Borsoniidae"
          ]
         ],
         "hovertemplate": "Family=%{customdata[0]}<br>Proportion=%{y}<extra></extra>",
         "legendgroup": "Borsoniidae",
         "marker": {
          "color": "#FF6692",
          "pattern": {
           "shape": ""
          }
         },
         "name": "Borsoniidae",
         "offsetgroup": "Borsoniidae",
         "orientation": "v",
         "showlegend": true,
         "textposition": "auto",
         "type": "bar",
         "x": [
          "MCCDRS"
         ],
         "xaxis": "x",
         "y": [
          0.00019204916458613405
         ],
         "yaxis": "y"
        },
        {
         "alignmentgroup": "True",
         "customdata": [
          [
           "Vesicomyidae"
          ]
         ],
         "hovertemplate": "Family=%{customdata[0]}<br>Proportion=%{y}<extra></extra>",
         "legendgroup": "Vesicomyidae",
         "marker": {
          "color": "#B6E880",
          "pattern": {
           "shape": ""
          }
         },
         "name": "Vesicomyidae",
         "offsetgroup": "Vesicomyidae",
         "orientation": "v",
         "showlegend": true,
         "textposition": "auto",
         "type": "bar",
         "x": [
          "MCCDRS"
         ],
         "xaxis": "x",
         "y": [
          0.00019204916458613405
         ],
         "yaxis": "y"
        },
        {
         "alignmentgroup": "True",
         "customdata": [
          [
           "Glycymerididae"
          ]
         ],
         "hovertemplate": "Family=%{customdata[0]}<br>Proportion=%{y}<extra></extra>",
         "legendgroup": "Glycymerididae",
         "marker": {
          "color": "#FF97FF",
          "pattern": {
           "shape": ""
          }
         },
         "name": "Glycymerididae",
         "offsetgroup": "Glycymerididae",
         "orientation": "v",
         "showlegend": true,
         "textposition": "auto",
         "type": "bar",
         "x": [
          "MCCDRS"
         ],
         "xaxis": "x",
         "y": [
          0.00019204916458613405
         ],
         "yaxis": "y"
        },
        {
         "alignmentgroup": "True",
         "customdata": [
          [
           "Echeneidae"
          ]
         ],
         "hovertemplate": "Family=%{customdata[0]}<br>Proportion=%{y}<extra></extra>",
         "legendgroup": "Echeneidae",
         "marker": {
          "color": "#FECB52",
          "pattern": {
           "shape": ""
          }
         },
         "name": "Echeneidae",
         "offsetgroup": "Echeneidae",
         "orientation": "v",
         "showlegend": true,
         "textposition": "auto",
         "type": "bar",
         "x": [
          "MCCDRS"
         ],
         "xaxis": "x",
         "y": [
          0.00019204916458613405
         ],
         "yaxis": "y"
        },
        {
         "alignmentgroup": "True",
         "customdata": [
          [
           "Dromiidae"
          ]
         ],
         "hovertemplate": "Family=%{customdata[0]}<br>Proportion=%{y}<extra></extra>",
         "legendgroup": "Dromiidae",
         "marker": {
          "color": "#636efa",
          "pattern": {
           "shape": ""
          }
         },
         "name": "Dromiidae",
         "offsetgroup": "Dromiidae",
         "orientation": "v",
         "showlegend": true,
         "textposition": "auto",
         "type": "bar",
         "x": [
          "MCCDRS"
         ],
         "xaxis": "x",
         "y": [
          0.00019204916458613405
         ],
         "yaxis": "y"
        },
        {
         "alignmentgroup": "True",
         "customdata": [
          [
           "Trypostegidae"
          ]
         ],
         "hovertemplate": "Family=%{customdata[0]}<br>Proportion=%{y}<extra></extra>",
         "legendgroup": "Trypostegidae",
         "marker": {
          "color": "#EF553B",
          "pattern": {
           "shape": ""
          }
         },
         "name": "Trypostegidae",
         "offsetgroup": "Trypostegidae",
         "orientation": "v",
         "showlegend": true,
         "textposition": "auto",
         "type": "bar",
         "x": [
          "MCCDRS"
         ],
         "xaxis": "x",
         "y": [
          0.00019204916458613405
         ],
         "yaxis": "y"
        },
        {
         "alignmentgroup": "True",
         "customdata": [
          [
           "Diodontidae"
          ]
         ],
         "hovertemplate": "Family=%{customdata[0]}<br>Proportion=%{y}<extra></extra>",
         "legendgroup": "Diodontidae",
         "marker": {
          "color": "#00cc96",
          "pattern": {
           "shape": ""
          }
         },
         "name": "Diodontidae",
         "offsetgroup": "Diodontidae",
         "orientation": "v",
         "showlegend": true,
         "textposition": "auto",
         "type": "bar",
         "x": [
          "MCCDRS"
         ],
         "xaxis": "x",
         "y": [
          0.00019204916458613405
         ],
         "yaxis": "y"
        },
        {
         "alignmentgroup": "True",
         "customdata": [
          [
           "Diclidophoridae"
          ]
         ],
         "hovertemplate": "Family=%{customdata[0]}<br>Proportion=%{y}<extra></extra>",
         "legendgroup": "Diclidophoridae",
         "marker": {
          "color": "#ab63fa",
          "pattern": {
           "shape": ""
          }
         },
         "name": "Diclidophoridae",
         "offsetgroup": "Diclidophoridae",
         "orientation": "v",
         "showlegend": true,
         "textposition": "auto",
         "type": "bar",
         "x": [
          "MCCDRS"
         ],
         "xaxis": "x",
         "y": [
          0.00019204916458613405
         ],
         "yaxis": "y"
        },
        {
         "alignmentgroup": "True",
         "customdata": [
          [
           "Centropomidae"
          ]
         ],
         "hovertemplate": "Family=%{customdata[0]}<br>Proportion=%{y}<extra></extra>",
         "legendgroup": "Centropomidae",
         "marker": {
          "color": "#FFA15A",
          "pattern": {
           "shape": ""
          }
         },
         "name": "Centropomidae",
         "offsetgroup": "Centropomidae",
         "orientation": "v",
         "showlegend": true,
         "textposition": "auto",
         "type": "bar",
         "x": [
          "MCCDRS"
         ],
         "xaxis": "x",
         "y": [
          0.00019204916458613405
         ],
         "yaxis": "y"
        },
        {
         "alignmentgroup": "True",
         "customdata": [
          [
           "Deimatidae"
          ]
         ],
         "hovertemplate": "Family=%{customdata[0]}<br>Proportion=%{y}<extra></extra>",
         "legendgroup": "Deimatidae",
         "marker": {
          "color": "#19d3f3",
          "pattern": {
           "shape": ""
          }
         },
         "name": "Deimatidae",
         "offsetgroup": "Deimatidae",
         "orientation": "v",
         "showlegend": true,
         "textposition": "auto",
         "type": "bar",
         "x": [
          "MCCDRS"
         ],
         "xaxis": "x",
         "y": [
          0.00019204916458613405
         ],
         "yaxis": "y"
        },
        {
         "alignmentgroup": "True",
         "customdata": [
          [
           "Cyclodorippidae"
          ]
         ],
         "hovertemplate": "Family=%{customdata[0]}<br>Proportion=%{y}<extra></extra>",
         "legendgroup": "Cyclodorippidae",
         "marker": {
          "color": "#FF6692",
          "pattern": {
           "shape": ""
          }
         },
         "name": "Cyclodorippidae",
         "offsetgroup": "Cyclodorippidae",
         "orientation": "v",
         "showlegend": true,
         "textposition": "auto",
         "type": "bar",
         "x": [
          "MCCDRS"
         ],
         "xaxis": "x",
         "y": [
          0.00019204916458613405
         ],
         "yaxis": "y"
        },
        {
         "alignmentgroup": "True",
         "customdata": [
          [
           "Pseudodiaptomidae"
          ]
         ],
         "hovertemplate": "Family=%{customdata[0]}<br>Proportion=%{y}<extra></extra>",
         "legendgroup": "Pseudodiaptomidae",
         "marker": {
          "color": "#B6E880",
          "pattern": {
           "shape": ""
          }
         },
         "name": "Pseudodiaptomidae",
         "offsetgroup": "Pseudodiaptomidae",
         "orientation": "v",
         "showlegend": true,
         "textposition": "auto",
         "type": "bar",
         "x": [
          "MCCDRS"
         ],
         "xaxis": "x",
         "y": [
          0.00019204916458613405
         ],
         "yaxis": "y"
        },
        {
         "alignmentgroup": "True",
         "customdata": [
          [
           "Crisiidae"
          ]
         ],
         "hovertemplate": "Family=%{customdata[0]}<br>Proportion=%{y}<extra></extra>",
         "legendgroup": "Crisiidae",
         "marker": {
          "color": "#FF97FF",
          "pattern": {
           "shape": ""
          }
         },
         "name": "Crisiidae",
         "offsetgroup": "Crisiidae",
         "orientation": "v",
         "showlegend": true,
         "textposition": "auto",
         "type": "bar",
         "x": [
          "MCCDRS"
         ],
         "xaxis": "x",
         "y": [
          0.00019204916458613405
         ],
         "yaxis": "y"
        },
        {
         "alignmentgroup": "True",
         "customdata": [
          [
           "Vulcanellidae"
          ]
         ],
         "hovertemplate": "Family=%{customdata[0]}<br>Proportion=%{y}<extra></extra>",
         "legendgroup": "Vulcanellidae",
         "marker": {
          "color": "#FECB52",
          "pattern": {
           "shape": ""
          }
         },
         "name": "Vulcanellidae",
         "offsetgroup": "Vulcanellidae",
         "orientation": "v",
         "showlegend": true,
         "textposition": "auto",
         "type": "bar",
         "x": [
          "MCCDRS"
         ],
         "xaxis": "x",
         "y": [
          0.00019204916458613405
         ],
         "yaxis": "y"
        },
        {
         "alignmentgroup": "True",
         "customdata": [
          [
           "Colatooeciidae"
          ]
         ],
         "hovertemplate": "Family=%{customdata[0]}<br>Proportion=%{y}<extra></extra>",
         "legendgroup": "Colatooeciidae",
         "marker": {
          "color": "#636efa",
          "pattern": {
           "shape": ""
          }
         },
         "name": "Colatooeciidae",
         "offsetgroup": "Colatooeciidae",
         "orientation": "v",
         "showlegend": true,
         "textposition": "auto",
         "type": "bar",
         "x": [
          "MCCDRS"
         ],
         "xaxis": "x",
         "y": [
          0.00019204916458613405
         ],
         "yaxis": "y"
        },
        {
         "alignmentgroup": "True",
         "customdata": [
          [
           "Cleidochasmatidae"
          ]
         ],
         "hovertemplate": "Family=%{customdata[0]}<br>Proportion=%{y}<extra></extra>",
         "legendgroup": "Cleidochasmatidae",
         "marker": {
          "color": "#EF553B",
          "pattern": {
           "shape": ""
          }
         },
         "name": "Cleidochasmatidae",
         "offsetgroup": "Cleidochasmatidae",
         "orientation": "v",
         "showlegend": true,
         "textposition": "auto",
         "type": "bar",
         "x": [
          "MCCDRS"
         ],
         "xaxis": "x",
         "y": [
          0.00019204916458613405
         ],
         "yaxis": "y"
        },
        {
         "alignmentgroup": "True",
         "customdata": [
          [
           "Cirrhitidae"
          ]
         ],
         "hovertemplate": "Family=%{customdata[0]}<br>Proportion=%{y}<extra></extra>",
         "legendgroup": "Cirrhitidae",
         "marker": {
          "color": "#00cc96",
          "pattern": {
           "shape": ""
          }
         },
         "name": "Cirrhitidae",
         "offsetgroup": "Cirrhitidae",
         "orientation": "v",
         "showlegend": true,
         "textposition": "auto",
         "type": "bar",
         "x": [
          "MCCDRS"
         ],
         "xaxis": "x",
         "y": [
          0.00019204916458613405
         ],
         "yaxis": "y"
        },
        {
         "alignmentgroup": "True",
         "customdata": [
          [
           "Cichlidae"
          ]
         ],
         "hovertemplate": "Family=%{customdata[0]}<br>Proportion=%{y}<extra></extra>",
         "legendgroup": "Cichlidae",
         "marker": {
          "color": "#ab63fa",
          "pattern": {
           "shape": ""
          }
         },
         "name": "Cichlidae",
         "offsetgroup": "Cichlidae",
         "orientation": "v",
         "showlegend": true,
         "textposition": "auto",
         "type": "bar",
         "x": [
          "MCCDRS"
         ],
         "xaxis": "x",
         "y": [
          0.00019204916458613405
         ],
         "yaxis": "y"
        },
        {
         "alignmentgroup": "True",
         "customdata": [
          [
           "Chanidae"
          ]
         ],
         "hovertemplate": "Family=%{customdata[0]}<br>Proportion=%{y}<extra></extra>",
         "legendgroup": "Chanidae",
         "marker": {
          "color": "#FFA15A",
          "pattern": {
           "shape": ""
          }
         },
         "name": "Chanidae",
         "offsetgroup": "Chanidae",
         "orientation": "v",
         "showlegend": true,
         "textposition": "auto",
         "type": "bar",
         "x": [
          "MCCDRS"
         ],
         "xaxis": "x",
         "y": [
          0.00019204916458613405
         ],
         "yaxis": "y"
        },
        {
         "alignmentgroup": "True",
         "customdata": [
          [
           "Callianideidae"
          ]
         ],
         "hovertemplate": "Family=%{customdata[0]}<br>Proportion=%{y}<extra></extra>",
         "legendgroup": "Callianideidae",
         "marker": {
          "color": "#19d3f3",
          "pattern": {
           "shape": ""
          }
         },
         "name": "Callianideidae",
         "offsetgroup": "Callianideidae",
         "orientation": "v",
         "showlegend": true,
         "textposition": "auto",
         "type": "bar",
         "x": [
          "MCCDRS"
         ],
         "xaxis": "x",
         "y": [
          0.00019204916458613405
         ],
         "yaxis": "y"
        },
        {
         "alignmentgroup": "True",
         "customdata": [
          [
           "Sternostylidae"
          ]
         ],
         "hovertemplate": "Family=%{customdata[0]}<br>Proportion=%{y}<extra></extra>",
         "legendgroup": "Sternostylidae",
         "marker": {
          "color": "#FF6692",
          "pattern": {
           "shape": ""
          }
         },
         "name": "Sternostylidae",
         "offsetgroup": "Sternostylidae",
         "orientation": "v",
         "showlegend": true,
         "textposition": "auto",
         "type": "bar",
         "x": [
          "MCCDRS"
         ],
         "xaxis": "x",
         "y": [
          0.00019204916458613405
         ],
         "yaxis": "y"
        },
        {
         "alignmentgroup": "True",
         "customdata": [
          [
           "Turneraceae"
          ]
         ],
         "hovertemplate": "Family=%{customdata[0]}<br>Proportion=%{y}<extra></extra>",
         "legendgroup": "Turneraceae",
         "marker": {
          "color": "#B6E880",
          "pattern": {
           "shape": ""
          }
         },
         "name": "Turneraceae",
         "offsetgroup": "Turneraceae",
         "orientation": "v",
         "showlegend": true,
         "textposition": "auto",
         "type": "bar",
         "x": [
          "CDS"
         ],
         "xaxis": "x",
         "y": [
          0.00017964609718853857
         ],
         "yaxis": "y"
        },
        {
         "alignmentgroup": "True",
         "customdata": [
          [
           "Xenasmataceae"
          ]
         ],
         "hovertemplate": "Family=%{customdata[0]}<br>Proportion=%{y}<extra></extra>",
         "legendgroup": "Xenasmataceae",
         "marker": {
          "color": "#FF97FF",
          "pattern": {
           "shape": ""
          }
         },
         "name": "Xenasmataceae",
         "offsetgroup": "Xenasmataceae",
         "orientation": "v",
         "showlegend": true,
         "textposition": "auto",
         "type": "bar",
         "x": [
          "CDS"
         ],
         "xaxis": "x",
         "y": [
          0.00017964609718853857
         ],
         "yaxis": "y"
        },
        {
         "alignmentgroup": "True",
         "customdata": [
          [
           "Tremellaceae"
          ]
         ],
         "hovertemplate": "Family=%{customdata[0]}<br>Proportion=%{y}<extra></extra>",
         "legendgroup": "Tremellaceae",
         "marker": {
          "color": "#FECB52",
          "pattern": {
           "shape": ""
          }
         },
         "name": "Tremellaceae",
         "offsetgroup": "Tremellaceae",
         "orientation": "v",
         "showlegend": true,
         "textposition": "auto",
         "type": "bar",
         "x": [
          "CDS"
         ],
         "xaxis": "x",
         "y": [
          0.00017964609718853857
         ],
         "yaxis": "y"
        },
        {
         "alignmentgroup": "True",
         "customdata": [
          [
           "Daltoniaceae"
          ]
         ],
         "hovertemplate": "Family=%{customdata[0]}<br>Proportion=%{y}<extra></extra>",
         "legendgroup": "Daltoniaceae",
         "marker": {
          "color": "#636efa",
          "pattern": {
           "shape": ""
          }
         },
         "name": "Daltoniaceae",
         "offsetgroup": "Daltoniaceae",
         "orientation": "v",
         "showlegend": true,
         "textposition": "auto",
         "type": "bar",
         "x": [
          "CDS"
         ],
         "xaxis": "x",
         "y": [
          0.00017964609718853857
         ],
         "yaxis": "y"
        },
        {
         "alignmentgroup": "True",
         "customdata": [
          [
           "Metzgeriaceae"
          ]
         ],
         "hovertemplate": "Family=%{customdata[0]}<br>Proportion=%{y}<extra></extra>",
         "legendgroup": "Metzgeriaceae",
         "marker": {
          "color": "#EF553B",
          "pattern": {
           "shape": ""
          }
         },
         "name": "Metzgeriaceae",
         "offsetgroup": "Metzgeriaceae",
         "orientation": "v",
         "showlegend": true,
         "textposition": "auto",
         "type": "bar",
         "x": [
          "CDS"
         ],
         "xaxis": "x",
         "y": [
          0.00017964609718853857
         ],
         "yaxis": "y"
        },
        {
         "alignmentgroup": "True",
         "customdata": [
          [
           "Targioniaceae"
          ]
         ],
         "hovertemplate": "Family=%{customdata[0]}<br>Proportion=%{y}<extra></extra>",
         "legendgroup": "Targioniaceae",
         "marker": {
          "color": "#00cc96",
          "pattern": {
           "shape": ""
          }
         },
         "name": "Targioniaceae",
         "offsetgroup": "Targioniaceae",
         "orientation": "v",
         "showlegend": true,
         "textposition": "auto",
         "type": "bar",
         "x": [
          "CDS"
         ],
         "xaxis": "x",
         "y": [
          0.00017964609718853857
         ],
         "yaxis": "y"
        },
        {
         "alignmentgroup": "True",
         "customdata": [
          [
           "Violaceae"
          ]
         ],
         "hovertemplate": "Family=%{customdata[0]}<br>Proportion=%{y}<extra></extra>",
         "legendgroup": "Violaceae",
         "marker": {
          "color": "#ab63fa",
          "pattern": {
           "shape": ""
          }
         },
         "name": "Violaceae",
         "offsetgroup": "Violaceae",
         "orientation": "v",
         "showlegend": true,
         "textposition": "auto",
         "type": "bar",
         "x": [
          "CDS"
         ],
         "xaxis": "x",
         "y": [
          0.00017964609718853857
         ],
         "yaxis": "y"
        },
        {
         "alignmentgroup": "True",
         "customdata": [
          [
           "Asterothyriaceae"
          ]
         ],
         "hovertemplate": "Family=%{customdata[0]}<br>Proportion=%{y}<extra></extra>",
         "legendgroup": "Asterothyriaceae",
         "marker": {
          "color": "#FFA15A",
          "pattern": {
           "shape": ""
          }
         },
         "name": "Asterothyriaceae",
         "offsetgroup": "Asterothyriaceae",
         "orientation": "v",
         "showlegend": true,
         "textposition": "auto",
         "type": "bar",
         "x": [
          "CDS"
         ],
         "xaxis": "x",
         "y": [
          0.00017964609718853857
         ],
         "yaxis": "y"
        },
        {
         "alignmentgroup": "True",
         "customdata": [
          [
           "Xylariaceae"
          ]
         ],
         "hovertemplate": "Family=%{customdata[0]}<br>Proportion=%{y}<extra></extra>",
         "legendgroup": "Xylariaceae",
         "marker": {
          "color": "#19d3f3",
          "pattern": {
           "shape": ""
          }
         },
         "name": "Xylariaceae",
         "offsetgroup": "Xylariaceae",
         "orientation": "v",
         "showlegend": true,
         "textposition": "auto",
         "type": "bar",
         "x": [
          "CDS"
         ],
         "xaxis": "x",
         "y": [
          0.00017964609718853857
         ],
         "yaxis": "y"
        },
        {
         "alignmentgroup": "True",
         "customdata": [
          [
           "Eriococcidae"
          ]
         ],
         "hovertemplate": "Family=%{customdata[0]}<br>Proportion=%{y}<extra></extra>",
         "legendgroup": "Eriococcidae",
         "marker": {
          "color": "#FF6692",
          "pattern": {
           "shape": ""
          }
         },
         "name": "Eriococcidae",
         "offsetgroup": "Eriococcidae",
         "orientation": "v",
         "showlegend": true,
         "textposition": "auto",
         "type": "bar",
         "x": [
          "ICCDRS"
         ],
         "xaxis": "x",
         "y": [
          0.00016229155678175843
         ],
         "yaxis": "y"
        },
        {
         "alignmentgroup": "True",
         "customdata": [
          [
           "Opostegidae"
          ]
         ],
         "hovertemplate": "Family=%{customdata[0]}<br>Proportion=%{y}<extra></extra>",
         "legendgroup": "Opostegidae",
         "marker": {
          "color": "#B6E880",
          "pattern": {
           "shape": ""
          }
         },
         "name": "Opostegidae",
         "offsetgroup": "Opostegidae",
         "orientation": "v",
         "showlegend": true,
         "textposition": "auto",
         "type": "bar",
         "x": [
          "ICCDRS"
         ],
         "xaxis": "x",
         "y": [
          0.00016229155678175843
         ],
         "yaxis": "y"
        },
        {
         "alignmentgroup": "True",
         "customdata": [
          [
           "Selenopidae"
          ]
         ],
         "hovertemplate": "Family=%{customdata[0]}<br>Proportion=%{y}<extra></extra>",
         "legendgroup": "Selenopidae",
         "marker": {
          "color": "#FF97FF",
          "pattern": {
           "shape": ""
          }
         },
         "name": "Selenopidae",
         "offsetgroup": "Selenopidae",
         "orientation": "v",
         "showlegend": true,
         "textposition": "auto",
         "type": "bar",
         "x": [
          "ICCDRS"
         ],
         "xaxis": "x",
         "y": [
          0.00016229155678175843
         ],
         "yaxis": "y"
        },
        {
         "alignmentgroup": "True",
         "customdata": [
          [
           "Euxestidae"
          ]
         ],
         "hovertemplate": "Family=%{customdata[0]}<br>Proportion=%{y}<extra></extra>",
         "legendgroup": "Euxestidae",
         "marker": {
          "color": "#FECB52",
          "pattern": {
           "shape": ""
          }
         },
         "name": "Euxestidae",
         "offsetgroup": "Euxestidae",
         "orientation": "v",
         "showlegend": true,
         "textposition": "auto",
         "type": "bar",
         "x": [
          "ICCDRS"
         ],
         "xaxis": "x",
         "y": [
          0.00016229155678175843
         ],
         "yaxis": "y"
        },
        {
         "alignmentgroup": "True",
         "customdata": [
          [
           "Schendylidae"
          ]
         ],
         "hovertemplate": "Family=%{customdata[0]}<br>Proportion=%{y}<extra></extra>",
         "legendgroup": "Schendylidae",
         "marker": {
          "color": "#636efa",
          "pattern": {
           "shape": ""
          }
         },
         "name": "Schendylidae",
         "offsetgroup": "Schendylidae",
         "orientation": "v",
         "showlegend": true,
         "textposition": "auto",
         "type": "bar",
         "x": [
          "ICCDRS"
         ],
         "xaxis": "x",
         "y": [
          0.00016229155678175843
         ],
         "yaxis": "y"
        },
        {
         "alignmentgroup": "True",
         "customdata": [
          [
           "Kalotermitidae"
          ]
         ],
         "hovertemplate": "Family=%{customdata[0]}<br>Proportion=%{y}<extra></extra>",
         "legendgroup": "Kalotermitidae",
         "marker": {
          "color": "#EF553B",
          "pattern": {
           "shape": ""
          }
         },
         "name": "Kalotermitidae",
         "offsetgroup": "Kalotermitidae",
         "orientation": "v",
         "showlegend": true,
         "textposition": "auto",
         "type": "bar",
         "x": [
          "ICCDRS"
         ],
         "xaxis": "x",
         "y": [
          0.00016229155678175843
         ],
         "yaxis": "y"
        },
        {
         "alignmentgroup": "True",
         "customdata": [
          [
           "Elenchidae"
          ]
         ],
         "hovertemplate": "Family=%{customdata[0]}<br>Proportion=%{y}<extra></extra>",
         "legendgroup": "Elenchidae",
         "marker": {
          "color": "#00cc96",
          "pattern": {
           "shape": ""
          }
         },
         "name": "Elenchidae",
         "offsetgroup": "Elenchidae",
         "orientation": "v",
         "showlegend": true,
         "textposition": "auto",
         "type": "bar",
         "x": [
          "ICCDRS"
         ],
         "xaxis": "x",
         "y": [
          0.00016229155678175843
         ],
         "yaxis": "y"
        },
        {
         "alignmentgroup": "True",
         "customdata": [
          [
           "Tineidae"
          ]
         ],
         "hovertemplate": "Family=%{customdata[0]}<br>Proportion=%{y}<extra></extra>",
         "legendgroup": "Tineidae",
         "marker": {
          "color": "#ab63fa",
          "pattern": {
           "shape": ""
          }
         },
         "name": "Tineidae",
         "offsetgroup": "Tineidae",
         "orientation": "v",
         "showlegend": true,
         "textposition": "auto",
         "type": "bar",
         "x": [
          "ICCDRS"
         ],
         "xaxis": "x",
         "y": [
          0.00016229155678175843
         ],
         "yaxis": "y"
        },
        {
         "alignmentgroup": "True",
         "customdata": [
          [
           "Discolomatidae"
          ]
         ],
         "hovertemplate": "Family=%{customdata[0]}<br>Proportion=%{y}<extra></extra>",
         "legendgroup": "Discolomatidae",
         "marker": {
          "color": "#FFA15A",
          "pattern": {
           "shape": ""
          }
         },
         "name": "Discolomatidae",
         "offsetgroup": "Discolomatidae",
         "orientation": "v",
         "showlegend": true,
         "textposition": "auto",
         "type": "bar",
         "x": [
          "ICCDRS"
         ],
         "xaxis": "x",
         "y": [
          0.00016229155678175843
         ],
         "yaxis": "y"
        },
        {
         "alignmentgroup": "True",
         "customdata": [
          [
           "Veliidae"
          ]
         ],
         "hovertemplate": "Family=%{customdata[0]}<br>Proportion=%{y}<extra></extra>",
         "legendgroup": "Veliidae",
         "marker": {
          "color": "#19d3f3",
          "pattern": {
           "shape": ""
          }
         },
         "name": "Veliidae",
         "offsetgroup": "Veliidae",
         "orientation": "v",
         "showlegend": true,
         "textposition": "auto",
         "type": "bar",
         "x": [
          "ICCDRS"
         ],
         "xaxis": "x",
         "y": [
          0.00016229155678175843
         ],
         "yaxis": "y"
        },
        {
         "alignmentgroup": "True",
         "customdata": [
          [
           "Epipsocidae"
          ]
         ],
         "hovertemplate": "Family=%{customdata[0]}<br>Proportion=%{y}<extra></extra>",
         "legendgroup": "Epipsocidae",
         "marker": {
          "color": "#FF6692",
          "pattern": {
           "shape": ""
          }
         },
         "name": "Epipsocidae",
         "offsetgroup": "Epipsocidae",
         "orientation": "v",
         "showlegend": true,
         "textposition": "auto",
         "type": "bar",
         "x": [
          "ICCDRS"
         ],
         "xaxis": "x",
         "y": [
          0.00016229155678175843
         ],
         "yaxis": "y"
        },
        {
         "alignmentgroup": "True",
         "customdata": [
          [
           "Nolidae"
          ]
         ],
         "hovertemplate": "Family=%{customdata[0]}<br>Proportion=%{y}<extra></extra>",
         "legendgroup": "Nolidae",
         "marker": {
          "color": "#B6E880",
          "pattern": {
           "shape": ""
          }
         },
         "name": "Nolidae",
         "offsetgroup": "Nolidae",
         "orientation": "v",
         "showlegend": true,
         "textposition": "auto",
         "type": "bar",
         "x": [
          "ICCDRS"
         ],
         "xaxis": "x",
         "y": [
          0.00016229155678175843
         ],
         "yaxis": "y"
        },
        {
         "alignmentgroup": "True",
         "customdata": [
          [
           "Uraniidae"
          ]
         ],
         "hovertemplate": "Family=%{customdata[0]}<br>Proportion=%{y}<extra></extra>",
         "legendgroup": "Uraniidae",
         "marker": {
          "color": "#FF97FF",
          "pattern": {
           "shape": ""
          }
         },
         "name": "Uraniidae",
         "offsetgroup": "Uraniidae",
         "orientation": "v",
         "showlegend": true,
         "textposition": "auto",
         "type": "bar",
         "x": [
          "ICCDRS"
         ],
         "xaxis": "x",
         "y": [
          0.00016229155678175843
         ],
         "yaxis": "y"
        },
        {
         "alignmentgroup": "True",
         "customdata": [
          [
           "Segestriidae"
          ]
         ],
         "hovertemplate": "Family=%{customdata[0]}<br>Proportion=%{y}<extra></extra>",
         "legendgroup": "Segestriidae",
         "marker": {
          "color": "#FECB52",
          "pattern": {
           "shape": ""
          }
         },
         "name": "Segestriidae",
         "offsetgroup": "Segestriidae",
         "orientation": "v",
         "showlegend": true,
         "textposition": "auto",
         "type": "bar",
         "x": [
          "ICCDRS"
         ],
         "xaxis": "x",
         "y": [
          0.00016229155678175843
         ],
         "yaxis": "y"
        },
        {
         "alignmentgroup": "True",
         "customdata": [
          [
           "Lepismatidae"
          ]
         ],
         "hovertemplate": "Family=%{customdata[0]}<br>Proportion=%{y}<extra></extra>",
         "legendgroup": "Lepismatidae",
         "marker": {
          "color": "#636efa",
          "pattern": {
           "shape": ""
          }
         },
         "name": "Lepismatidae",
         "offsetgroup": "Lepismatidae",
         "orientation": "v",
         "showlegend": true,
         "textposition": "auto",
         "type": "bar",
         "x": [
          "ICCDRS"
         ],
         "xaxis": "x",
         "y": [
          0.00016229155678175843
         ],
         "yaxis": "y"
        },
        {
         "alignmentgroup": "True",
         "customdata": [
          [
           "Orobanchaceae"
          ]
         ],
         "hovertemplate": "Family=%{customdata[0]}<br>Proportion=%{y}<extra></extra>",
         "legendgroup": "Orobanchaceae",
         "marker": {
          "color": "#EF553B",
          "pattern": {
           "shape": ""
          }
         },
         "name": "Orobanchaceae",
         "offsetgroup": "Orobanchaceae",
         "orientation": "v",
         "showlegend": true,
         "textposition": "auto",
         "type": "bar",
         "x": [
          "CDS"
         ],
         "xaxis": "x",
         "y": [
          0.0001497050809904488
         ],
         "yaxis": "y"
        },
        {
         "alignmentgroup": "True",
         "customdata": [
          [
           "Equisetaceae"
          ]
         ],
         "hovertemplate": "Family=%{customdata[0]}<br>Proportion=%{y}<extra></extra>",
         "legendgroup": "Equisetaceae",
         "marker": {
          "color": "#00cc96",
          "pattern": {
           "shape": ""
          }
         },
         "name": "Equisetaceae",
         "offsetgroup": "Equisetaceae",
         "orientation": "v",
         "showlegend": true,
         "textposition": "auto",
         "type": "bar",
         "x": [
          "CDS"
         ],
         "xaxis": "x",
         "y": [
          0.0001497050809904488
         ],
         "yaxis": "y"
        },
        {
         "alignmentgroup": "True",
         "customdata": [
          [
           "Hydrangeaceae"
          ]
         ],
         "hovertemplate": "Family=%{customdata[0]}<br>Proportion=%{y}<extra></extra>",
         "legendgroup": "Hydrangeaceae",
         "marker": {
          "color": "#ab63fa",
          "pattern": {
           "shape": ""
          }
         },
         "name": "Hydrangeaceae",
         "offsetgroup": "Hydrangeaceae",
         "orientation": "v",
         "showlegend": true,
         "textposition": "auto",
         "type": "bar",
         "x": [
          "CDS"
         ],
         "xaxis": "x",
         "y": [
          0.0001497050809904488
         ],
         "yaxis": "y"
        },
        {
         "alignmentgroup": "True",
         "customdata": [
          [
           "Lachnocladiaceae"
          ]
         ],
         "hovertemplate": "Family=%{customdata[0]}<br>Proportion=%{y}<extra></extra>",
         "legendgroup": "Lachnocladiaceae",
         "marker": {
          "color": "#FFA15A",
          "pattern": {
           "shape": ""
          }
         },
         "name": "Lachnocladiaceae",
         "offsetgroup": "Lachnocladiaceae",
         "orientation": "v",
         "showlegend": true,
         "textposition": "auto",
         "type": "bar",
         "x": [
          "CDS"
         ],
         "xaxis": "x",
         "y": [
          0.0001497050809904488
         ],
         "yaxis": "y"
        },
        {
         "alignmentgroup": "True",
         "customdata": [
          [
           "Papaveraceae"
          ]
         ],
         "hovertemplate": "Family=%{customdata[0]}<br>Proportion=%{y}<extra></extra>",
         "legendgroup": "Papaveraceae",
         "marker": {
          "color": "#19d3f3",
          "pattern": {
           "shape": ""
          }
         },
         "name": "Papaveraceae",
         "offsetgroup": "Papaveraceae",
         "orientation": "v",
         "showlegend": true,
         "textposition": "auto",
         "type": "bar",
         "x": [
          "CDS"
         ],
         "xaxis": "x",
         "y": [
          0.0001497050809904488
         ],
         "yaxis": "y"
        },
        {
         "alignmentgroup": "True",
         "customdata": [
          [
           "Massalongiaceae"
          ]
         ],
         "hovertemplate": "Family=%{customdata[0]}<br>Proportion=%{y}<extra></extra>",
         "legendgroup": "Massalongiaceae",
         "marker": {
          "color": "#FF6692",
          "pattern": {
           "shape": ""
          }
         },
         "name": "Massalongiaceae",
         "offsetgroup": "Massalongiaceae",
         "orientation": "v",
         "showlegend": true,
         "textposition": "auto",
         "type": "bar",
         "x": [
          "CDS"
         ],
         "xaxis": "x",
         "y": [
          0.0001497050809904488
         ],
         "yaxis": "y"
        },
        {
         "alignmentgroup": "True",
         "customdata": [
          [
           "Megalosporaceae"
          ]
         ],
         "hovertemplate": "Family=%{customdata[0]}<br>Proportion=%{y}<extra></extra>",
         "legendgroup": "Megalosporaceae",
         "marker": {
          "color": "#B6E880",
          "pattern": {
           "shape": ""
          }
         },
         "name": "Megalosporaceae",
         "offsetgroup": "Megalosporaceae",
         "orientation": "v",
         "showlegend": true,
         "textposition": "auto",
         "type": "bar",
         "x": [
          "CDS"
         ],
         "xaxis": "x",
         "y": [
          0.0001497050809904488
         ],
         "yaxis": "y"
        },
        {
         "alignmentgroup": "True",
         "customdata": [
          [
           "Meruliaceae"
          ]
         ],
         "hovertemplate": "Family=%{customdata[0]}<br>Proportion=%{y}<extra></extra>",
         "legendgroup": "Meruliaceae",
         "marker": {
          "color": "#FF97FF",
          "pattern": {
           "shape": ""
          }
         },
         "name": "Meruliaceae",
         "offsetgroup": "Meruliaceae",
         "orientation": "v",
         "showlegend": true,
         "textposition": "auto",
         "type": "bar",
         "x": [
          "CDS"
         ],
         "xaxis": "x",
         "y": [
          0.0001497050809904488
         ],
         "yaxis": "y"
        },
        {
         "alignmentgroup": "True",
         "customdata": [
          [
           "Codiaceae"
          ]
         ],
         "hovertemplate": "Family=%{customdata[0]}<br>Proportion=%{y}<extra></extra>",
         "legendgroup": "Codiaceae",
         "marker": {
          "color": "#FECB52",
          "pattern": {
           "shape": ""
          }
         },
         "name": "Codiaceae",
         "offsetgroup": "Codiaceae",
         "orientation": "v",
         "showlegend": true,
         "textposition": "auto",
         "type": "bar",
         "x": [
          "CDS"
         ],
         "xaxis": "x",
         "y": [
          0.0001497050809904488
         ],
         "yaxis": "y"
        },
        {
         "alignmentgroup": "True",
         "customdata": [
          [
           "Ahnfeltiaceae"
          ]
         ],
         "hovertemplate": "Family=%{customdata[0]}<br>Proportion=%{y}<extra></extra>",
         "legendgroup": "Ahnfeltiaceae",
         "marker": {
          "color": "#636efa",
          "pattern": {
           "shape": ""
          }
         },
         "name": "Ahnfeltiaceae",
         "offsetgroup": "Ahnfeltiaceae",
         "orientation": "v",
         "showlegend": true,
         "textposition": "auto",
         "type": "bar",
         "x": [
          "CDS"
         ],
         "xaxis": "x",
         "y": [
          0.0001497050809904488
         ],
         "yaxis": "y"
        },
        {
         "alignmentgroup": "True",
         "customdata": [
          [
           "Aspidotheliaceae"
          ]
         ],
         "hovertemplate": "Family=%{customdata[0]}<br>Proportion=%{y}<extra></extra>",
         "legendgroup": "Aspidotheliaceae",
         "marker": {
          "color": "#EF553B",
          "pattern": {
           "shape": ""
          }
         },
         "name": "Aspidotheliaceae",
         "offsetgroup": "Aspidotheliaceae",
         "orientation": "v",
         "showlegend": true,
         "textposition": "auto",
         "type": "bar",
         "x": [
          "CDS"
         ],
         "xaxis": "x",
         "y": [
          0.0001497050809904488
         ],
         "yaxis": "y"
        },
        {
         "alignmentgroup": "True",
         "customdata": [
          [
           "Latridiidae"
          ]
         ],
         "hovertemplate": "Family=%{customdata[0]}<br>Proportion=%{y}<extra></extra>",
         "legendgroup": "Latridiidae",
         "marker": {
          "color": "#00cc96",
          "pattern": {
           "shape": ""
          }
         },
         "name": "Latridiidae",
         "offsetgroup": "Latridiidae",
         "orientation": "v",
         "showlegend": true,
         "textposition": "auto",
         "type": "bar",
         "x": [
          "ICCDRS"
         ],
         "xaxis": "x",
         "y": [
          0.00012171866758631882
         ],
         "yaxis": "y"
        },
        {
         "alignmentgroup": "True",
         "customdata": [
          [
           "Lachesillidae"
          ]
         ],
         "hovertemplate": "Family=%{customdata[0]}<br>Proportion=%{y}<extra></extra>",
         "legendgroup": "Lachesillidae",
         "marker": {
          "color": "#ab63fa",
          "pattern": {
           "shape": ""
          }
         },
         "name": "Lachesillidae",
         "offsetgroup": "Lachesillidae",
         "orientation": "v",
         "showlegend": true,
         "textposition": "auto",
         "type": "bar",
         "x": [
          "ICCDRS"
         ],
         "xaxis": "x",
         "y": [
          0.00012171866758631882
         ],
         "yaxis": "y"
        },
        {
         "alignmentgroup": "True",
         "customdata": [
          [
           "Oryidae"
          ]
         ],
         "hovertemplate": "Family=%{customdata[0]}<br>Proportion=%{y}<extra></extra>",
         "legendgroup": "Oryidae",
         "marker": {
          "color": "#FFA15A",
          "pattern": {
           "shape": ""
          }
         },
         "name": "Oryidae",
         "offsetgroup": "Oryidae",
         "orientation": "v",
         "showlegend": true,
         "textposition": "auto",
         "type": "bar",
         "x": [
          "ICCDRS"
         ],
         "xaxis": "x",
         "y": [
          0.00012171866758631882
         ],
         "yaxis": "y"
        },
        {
         "alignmentgroup": "True",
         "customdata": [
          [
           "Thomisidae"
          ]
         ],
         "hovertemplate": "Family=%{customdata[0]}<br>Proportion=%{y}<extra></extra>",
         "legendgroup": "Thomisidae",
         "marker": {
          "color": "#19d3f3",
          "pattern": {
           "shape": ""
          }
         },
         "name": "Thomisidae",
         "offsetgroup": "Thomisidae",
         "orientation": "v",
         "showlegend": true,
         "textposition": "auto",
         "type": "bar",
         "x": [
          "ICCDRS"
         ],
         "xaxis": "x",
         "y": [
          0.00012171866758631882
         ],
         "yaxis": "y"
        },
        {
         "alignmentgroup": "True",
         "customdata": [
          [
           "Philotarsidae"
          ]
         ],
         "hovertemplate": "Family=%{customdata[0]}<br>Proportion=%{y}<extra></extra>",
         "legendgroup": "Philotarsidae",
         "marker": {
          "color": "#FF6692",
          "pattern": {
           "shape": ""
          }
         },
         "name": "Philotarsidae",
         "offsetgroup": "Philotarsidae",
         "orientation": "v",
         "showlegend": true,
         "textposition": "auto",
         "type": "bar",
         "x": [
          "ICCDRS"
         ],
         "xaxis": "x",
         "y": [
          0.00012171866758631882
         ],
         "yaxis": "y"
        },
        {
         "alignmentgroup": "True",
         "customdata": [
          [
           "Ptiliidae"
          ]
         ],
         "hovertemplate": "Family=%{customdata[0]}<br>Proportion=%{y}<extra></extra>",
         "legendgroup": "Ptiliidae",
         "marker": {
          "color": "#B6E880",
          "pattern": {
           "shape": ""
          }
         },
         "name": "Ptiliidae",
         "offsetgroup": "Ptiliidae",
         "orientation": "v",
         "showlegend": true,
         "textposition": "auto",
         "type": "bar",
         "x": [
          "ICCDRS"
         ],
         "xaxis": "x",
         "y": [
          0.00012171866758631882
         ],
         "yaxis": "y"
        },
        {
         "alignmentgroup": "True",
         "customdata": [
          [
           "Neanuridae"
          ]
         ],
         "hovertemplate": "Family=%{customdata[0]}<br>Proportion=%{y}<extra></extra>",
         "legendgroup": "Neanuridae",
         "marker": {
          "color": "#FF97FF",
          "pattern": {
           "shape": ""
          }
         },
         "name": "Neanuridae",
         "offsetgroup": "Neanuridae",
         "orientation": "v",
         "showlegend": true,
         "textposition": "auto",
         "type": "bar",
         "x": [
          "ICCDRS"
         ],
         "xaxis": "x",
         "y": [
          0.00012171866758631882
         ],
         "yaxis": "y"
        },
        {
         "alignmentgroup": "True",
         "customdata": [
          [
           "Sphecidae"
          ]
         ],
         "hovertemplate": "Family=%{customdata[0]}<br>Proportion=%{y}<extra></extra>",
         "legendgroup": "Sphecidae",
         "marker": {
          "color": "#FECB52",
          "pattern": {
           "shape": ""
          }
         },
         "name": "Sphecidae",
         "offsetgroup": "Sphecidae",
         "orientation": "v",
         "showlegend": true,
         "textposition": "auto",
         "type": "bar",
         "x": [
          "ICCDRS"
         ],
         "xaxis": "x",
         "y": [
          0.00012171866758631882
         ],
         "yaxis": "y"
        },
        {
         "alignmentgroup": "True",
         "customdata": [
          [
           "Sicariidae"
          ]
         ],
         "hovertemplate": "Family=%{customdata[0]}<br>Proportion=%{y}<extra></extra>",
         "legendgroup": "Sicariidae",
         "marker": {
          "color": "#636efa",
          "pattern": {
           "shape": ""
          }
         },
         "name": "Sicariidae",
         "offsetgroup": "Sicariidae",
         "orientation": "v",
         "showlegend": true,
         "textposition": "auto",
         "type": "bar",
         "x": [
          "ICCDRS"
         ],
         "xaxis": "x",
         "y": [
          0.00012171866758631882
         ],
         "yaxis": "y"
        },
        {
         "alignmentgroup": "True",
         "customdata": [
          [
           "Euconulidae"
          ]
         ],
         "hovertemplate": "Family=%{customdata[0]}<br>Proportion=%{y}<extra></extra>",
         "legendgroup": "Euconulidae",
         "marker": {
          "color": "#EF553B",
          "pattern": {
           "shape": ""
          }
         },
         "name": "Euconulidae",
         "offsetgroup": "Euconulidae",
         "orientation": "v",
         "showlegend": true,
         "textposition": "auto",
         "type": "bar",
         "x": [
          "ICCDRS"
         ],
         "xaxis": "x",
         "y": [
          0.00012171866758631882
         ],
         "yaxis": "y"
        },
        {
         "alignmentgroup": "True",
         "customdata": [
          [
           "Ectopsocidae"
          ]
         ],
         "hovertemplate": "Family=%{customdata[0]}<br>Proportion=%{y}<extra></extra>",
         "legendgroup": "Ectopsocidae",
         "marker": {
          "color": "#00cc96",
          "pattern": {
           "shape": ""
          }
         },
         "name": "Ectopsocidae",
         "offsetgroup": "Ectopsocidae",
         "orientation": "v",
         "showlegend": true,
         "textposition": "auto",
         "type": "bar",
         "x": [
          "ICCDRS"
         ],
         "xaxis": "x",
         "y": [
          0.00012171866758631882
         ],
         "yaxis": "y"
        },
        {
         "alignmentgroup": "True",
         "customdata": [
          [
           "Pinaceae"
          ]
         ],
         "hovertemplate": "Family=%{customdata[0]}<br>Proportion=%{y}<extra></extra>",
         "legendgroup": "Pinaceae",
         "marker": {
          "color": "#ab63fa",
          "pattern": {
           "shape": ""
          }
         },
         "name": "Pinaceae",
         "offsetgroup": "Pinaceae",
         "orientation": "v",
         "showlegend": true,
         "textposition": "auto",
         "type": "bar",
         "x": [
          "CDS"
         ],
         "xaxis": "x",
         "y": [
          0.00011976406479235905
         ],
         "yaxis": "y"
        },
        {
         "alignmentgroup": "True",
         "customdata": [
          [
           "Potamogetonaceae"
          ]
         ],
         "hovertemplate": "Family=%{customdata[0]}<br>Proportion=%{y}<extra></extra>",
         "legendgroup": "Potamogetonaceae",
         "marker": {
          "color": "#FFA15A",
          "pattern": {
           "shape": ""
          }
         },
         "name": "Potamogetonaceae",
         "offsetgroup": "Potamogetonaceae",
         "orientation": "v",
         "showlegend": true,
         "textposition": "auto",
         "type": "bar",
         "x": [
          "CDS"
         ],
         "xaxis": "x",
         "y": [
          0.00011976406479235905
         ],
         "yaxis": "y"
        },
        {
         "alignmentgroup": "True",
         "customdata": [
          [
           "Desmarestiaceae"
          ]
         ],
         "hovertemplate": "Family=%{customdata[0]}<br>Proportion=%{y}<extra></extra>",
         "legendgroup": "Desmarestiaceae",
         "marker": {
          "color": "#19d3f3",
          "pattern": {
           "shape": ""
          }
         },
         "name": "Desmarestiaceae",
         "offsetgroup": "Desmarestiaceae",
         "orientation": "v",
         "showlegend": true,
         "textposition": "auto",
         "type": "bar",
         "x": [
          "CDS"
         ],
         "xaxis": "x",
         "y": [
          0.00011976406479235905
         ],
         "yaxis": "y"
        },
        {
         "alignmentgroup": "True",
         "customdata": [
          [
           "Callicostaceae"
          ]
         ],
         "hovertemplate": "Family=%{customdata[0]}<br>Proportion=%{y}<extra></extra>",
         "legendgroup": "Callicostaceae",
         "marker": {
          "color": "#FF6692",
          "pattern": {
           "shape": ""
          }
         },
         "name": "Callicostaceae",
         "offsetgroup": "Callicostaceae",
         "orientation": "v",
         "showlegend": true,
         "textposition": "auto",
         "type": "bar",
         "x": [
          "CDS"
         ],
         "xaxis": "x",
         "y": [
          0.00011976406479235905
         ],
         "yaxis": "y"
        },
        {
         "alignmentgroup": "True",
         "customdata": [
          [
           "Frullaniaceae"
          ]
         ],
         "hovertemplate": "Family=%{customdata[0]}<br>Proportion=%{y}<extra></extra>",
         "legendgroup": "Frullaniaceae",
         "marker": {
          "color": "#B6E880",
          "pattern": {
           "shape": ""
          }
         },
         "name": "Frullaniaceae",
         "offsetgroup": "Frullaniaceae",
         "orientation": "v",
         "showlegend": true,
         "textposition": "auto",
         "type": "bar",
         "x": [
          "CDS"
         ],
         "xaxis": "x",
         "y": [
          0.00011976406479235905
         ],
         "yaxis": "y"
        },
        {
         "alignmentgroup": "True",
         "customdata": [
          [
           "Auriscalpiaceae"
          ]
         ],
         "hovertemplate": "Family=%{customdata[0]}<br>Proportion=%{y}<extra></extra>",
         "legendgroup": "Auriscalpiaceae",
         "marker": {
          "color": "#FF97FF",
          "pattern": {
           "shape": ""
          }
         },
         "name": "Auriscalpiaceae",
         "offsetgroup": "Auriscalpiaceae",
         "orientation": "v",
         "showlegend": true,
         "textposition": "auto",
         "type": "bar",
         "x": [
          "CDS"
         ],
         "xaxis": "x",
         "y": [
          0.00011976406479235905
         ],
         "yaxis": "y"
        },
        {
         "alignmentgroup": "True",
         "customdata": [
          [
           "Heliconiaceae"
          ]
         ],
         "hovertemplate": "Family=%{customdata[0]}<br>Proportion=%{y}<extra></extra>",
         "legendgroup": "Heliconiaceae",
         "marker": {
          "color": "#FECB52",
          "pattern": {
           "shape": ""
          }
         },
         "name": "Heliconiaceae",
         "offsetgroup": "Heliconiaceae",
         "orientation": "v",
         "showlegend": true,
         "textposition": "auto",
         "type": "bar",
         "x": [
          "CDS"
         ],
         "xaxis": "x",
         "y": [
          0.00011976406479235905
         ],
         "yaxis": "y"
        },
        {
         "alignmentgroup": "True",
         "customdata": [
          [
           "Ophioglossaceae"
          ]
         ],
         "hovertemplate": "Family=%{customdata[0]}<br>Proportion=%{y}<extra></extra>",
         "legendgroup": "Ophioglossaceae",
         "marker": {
          "color": "#636efa",
          "pattern": {
           "shape": ""
          }
         },
         "name": "Ophioglossaceae",
         "offsetgroup": "Ophioglossaceae",
         "orientation": "v",
         "showlegend": true,
         "textposition": "auto",
         "type": "bar",
         "x": [
          "CDS"
         ],
         "xaxis": "x",
         "y": [
          0.00011976406479235905
         ],
         "yaxis": "y"
        },
        {
         "alignmentgroup": "True",
         "customdata": [
          [
           "Cordycipitaceae"
          ]
         ],
         "hovertemplate": "Family=%{customdata[0]}<br>Proportion=%{y}<extra></extra>",
         "legendgroup": "Cordycipitaceae",
         "marker": {
          "color": "#EF553B",
          "pattern": {
           "shape": ""
          }
         },
         "name": "Cordycipitaceae",
         "offsetgroup": "Cordycipitaceae",
         "orientation": "v",
         "showlegend": true,
         "textposition": "auto",
         "type": "bar",
         "x": [
          "CDS"
         ],
         "xaxis": "x",
         "y": [
          0.00011976406479235905
         ],
         "yaxis": "y"
        },
        {
         "alignmentgroup": "True",
         "customdata": [
          [
           "Proteaceae"
          ]
         ],
         "hovertemplate": "Family=%{customdata[0]}<br>Proportion=%{y}<extra></extra>",
         "legendgroup": "Proteaceae",
         "marker": {
          "color": "#00cc96",
          "pattern": {
           "shape": ""
          }
         },
         "name": "Proteaceae",
         "offsetgroup": "Proteaceae",
         "orientation": "v",
         "showlegend": true,
         "textposition": "auto",
         "type": "bar",
         "x": [
          "CDS"
         ],
         "xaxis": "x",
         "y": [
          0.00011976406479235905
         ],
         "yaxis": "y"
        },
        {
         "alignmentgroup": "True",
         "customdata": [
          [
           "Biatorellaceae"
          ]
         ],
         "hovertemplate": "Family=%{customdata[0]}<br>Proportion=%{y}<extra></extra>",
         "legendgroup": "Biatorellaceae",
         "marker": {
          "color": "#ab63fa",
          "pattern": {
           "shape": ""
          }
         },
         "name": "Biatorellaceae",
         "offsetgroup": "Biatorellaceae",
         "orientation": "v",
         "showlegend": true,
         "textposition": "auto",
         "type": "bar",
         "x": [
          "CDS"
         ],
         "xaxis": "x",
         "y": [
          0.00011976406479235905
         ],
         "yaxis": "y"
        },
        {
         "alignmentgroup": "True",
         "customdata": [
          [
           "Icmadophilaceae"
          ]
         ],
         "hovertemplate": "Family=%{customdata[0]}<br>Proportion=%{y}<extra></extra>",
         "legendgroup": "Icmadophilaceae",
         "marker": {
          "color": "#FFA15A",
          "pattern": {
           "shape": ""
          }
         },
         "name": "Icmadophilaceae",
         "offsetgroup": "Icmadophilaceae",
         "orientation": "v",
         "showlegend": true,
         "textposition": "auto",
         "type": "bar",
         "x": [
          "CDS"
         ],
         "xaxis": "x",
         "y": [
          0.00011976406479235905
         ],
         "yaxis": "y"
        },
        {
         "alignmentgroup": "True",
         "customdata": [
          [
           "Cycadaceae"
          ]
         ],
         "hovertemplate": "Family=%{customdata[0]}<br>Proportion=%{y}<extra></extra>",
         "legendgroup": "Cycadaceae",
         "marker": {
          "color": "#19d3f3",
          "pattern": {
           "shape": ""
          }
         },
         "name": "Cycadaceae",
         "offsetgroup": "Cycadaceae",
         "orientation": "v",
         "showlegend": true,
         "textposition": "auto",
         "type": "bar",
         "x": [
          "CDS"
         ],
         "xaxis": "x",
         "y": [
          0.00011976406479235905
         ],
         "yaxis": "y"
        },
        {
         "alignmentgroup": "True",
         "customdata": [
          [
           "Dasyaceae"
          ]
         ],
         "hovertemplate": "Family=%{customdata[0]}<br>Proportion=%{y}<extra></extra>",
         "legendgroup": "Dasyaceae",
         "marker": {
          "color": "#FF6692",
          "pattern": {
           "shape": ""
          }
         },
         "name": "Dasyaceae",
         "offsetgroup": "Dasyaceae",
         "orientation": "v",
         "showlegend": true,
         "textposition": "auto",
         "type": "bar",
         "x": [
          "CDS"
         ],
         "xaxis": "x",
         "y": [
          0.00011976406479235905
         ],
         "yaxis": "y"
        },
        {
         "alignmentgroup": "True",
         "customdata": [
          [
           "Galaxauraceae"
          ]
         ],
         "hovertemplate": "Family=%{customdata[0]}<br>Proportion=%{y}<extra></extra>",
         "legendgroup": "Galaxauraceae",
         "marker": {
          "color": "#B6E880",
          "pattern": {
           "shape": ""
          }
         },
         "name": "Galaxauraceae",
         "offsetgroup": "Galaxauraceae",
         "orientation": "v",
         "showlegend": true,
         "textposition": "auto",
         "type": "bar",
         "x": [
          "CDS"
         ],
         "xaxis": "x",
         "y": [
          0.00008982304859426928
         ],
         "yaxis": "y"
        },
        {
         "alignmentgroup": "True",
         "customdata": [
          [
           "Wrangeliaceae"
          ]
         ],
         "hovertemplate": "Family=%{customdata[0]}<br>Proportion=%{y}<extra></extra>",
         "legendgroup": "Wrangeliaceae",
         "marker": {
          "color": "#FF97FF",
          "pattern": {
           "shape": ""
          }
         },
         "name": "Wrangeliaceae",
         "offsetgroup": "Wrangeliaceae",
         "orientation": "v",
         "showlegend": true,
         "textposition": "auto",
         "type": "bar",
         "x": [
          "CDS"
         ],
         "xaxis": "x",
         "y": [
          0.00008982304859426928
         ],
         "yaxis": "y"
        },
        {
         "alignmentgroup": "True",
         "customdata": [
          [
           "Phallaceae"
          ]
         ],
         "hovertemplate": "Family=%{customdata[0]}<br>Proportion=%{y}<extra></extra>",
         "legendgroup": "Phallaceae",
         "marker": {
          "color": "#FECB52",
          "pattern": {
           "shape": ""
          }
         },
         "name": "Phallaceae",
         "offsetgroup": "Phallaceae",
         "orientation": "v",
         "showlegend": true,
         "textposition": "auto",
         "type": "bar",
         "x": [
          "CDS"
         ],
         "xaxis": "x",
         "y": [
          0.00008982304859426928
         ],
         "yaxis": "y"
        },
        {
         "alignmentgroup": "True",
         "customdata": [
          [
           "Caulacanthaceae"
          ]
         ],
         "hovertemplate": "Family=%{customdata[0]}<br>Proportion=%{y}<extra></extra>",
         "legendgroup": "Caulacanthaceae",
         "marker": {
          "color": "#636efa",
          "pattern": {
           "shape": ""
          }
         },
         "name": "Caulacanthaceae",
         "offsetgroup": "Caulacanthaceae",
         "orientation": "v",
         "showlegend": true,
         "textposition": "auto",
         "type": "bar",
         "x": [
          "CDS"
         ],
         "xaxis": "x",
         "y": [
          0.00008982304859426928
         ],
         "yaxis": "y"
        },
        {
         "alignmentgroup": "True",
         "customdata": [
          [
           "Schizophoraceae"
          ]
         ],
         "hovertemplate": "Family=%{customdata[0]}<br>Proportion=%{y}<extra></extra>",
         "legendgroup": "Schizophoraceae",
         "marker": {
          "color": "#EF553B",
          "pattern": {
           "shape": ""
          }
         },
         "name": "Schizophoraceae",
         "offsetgroup": "Schizophoraceae",
         "orientation": "v",
         "showlegend": true,
         "textposition": "auto",
         "type": "bar",
         "x": [
          "CDS"
         ],
         "xaxis": "x",
         "y": [
          0.00008982304859426928
         ],
         "yaxis": "y"
        },
        {
         "alignmentgroup": "True",
         "customdata": [
          [
           "Linderniaceae"
          ]
         ],
         "hovertemplate": "Family=%{customdata[0]}<br>Proportion=%{y}<extra></extra>",
         "legendgroup": "Linderniaceae",
         "marker": {
          "color": "#00cc96",
          "pattern": {
           "shape": ""
          }
         },
         "name": "Linderniaceae",
         "offsetgroup": "Linderniaceae",
         "orientation": "v",
         "showlegend": true,
         "textposition": "auto",
         "type": "bar",
         "x": [
          "CDS"
         ],
         "xaxis": "x",
         "y": [
          0.00008982304859426928
         ],
         "yaxis": "y"
        },
        {
         "alignmentgroup": "True",
         "customdata": [
          [
           "Callithamniaceae"
          ]
         ],
         "hovertemplate": "Family=%{customdata[0]}<br>Proportion=%{y}<extra></extra>",
         "legendgroup": "Callithamniaceae",
         "marker": {
          "color": "#ab63fa",
          "pattern": {
           "shape": ""
          }
         },
         "name": "Callithamniaceae",
         "offsetgroup": "Callithamniaceae",
         "orientation": "v",
         "showlegend": true,
         "textposition": "auto",
         "type": "bar",
         "x": [
          "CDS"
         ],
         "xaxis": "x",
         "y": [
          0.00008982304859426928
         ],
         "yaxis": "y"
        },
        {
         "alignmentgroup": "True",
         "customdata": [
          [
           "Pucciniaceae"
          ]
         ],
         "hovertemplate": "Family=%{customdata[0]}<br>Proportion=%{y}<extra></extra>",
         "legendgroup": "Pucciniaceae",
         "marker": {
          "color": "#FFA15A",
          "pattern": {
           "shape": ""
          }
         },
         "name": "Pucciniaceae",
         "offsetgroup": "Pucciniaceae",
         "orientation": "v",
         "showlegend": true,
         "textposition": "auto",
         "type": "bar",
         "x": [
          "CDS"
         ],
         "xaxis": "x",
         "y": [
          0.00008982304859426928
         ],
         "yaxis": "y"
        },
        {
         "alignmentgroup": "True",
         "customdata": [
          [
           "Calceolariaceae"
          ]
         ],
         "hovertemplate": "Family=%{customdata[0]}<br>Proportion=%{y}<extra></extra>",
         "legendgroup": "Calceolariaceae",
         "marker": {
          "color": "#19d3f3",
          "pattern": {
           "shape": ""
          }
         },
         "name": "Calceolariaceae",
         "offsetgroup": "Calceolariaceae",
         "orientation": "v",
         "showlegend": true,
         "textposition": "auto",
         "type": "bar",
         "x": [
          "CDS"
         ],
         "xaxis": "x",
         "y": [
          0.00008982304859426928
         ],
         "yaxis": "y"
        },
        {
         "alignmentgroup": "True",
         "customdata": [
          [
           "Pyrenotrichaceae"
          ]
         ],
         "hovertemplate": "Family=%{customdata[0]}<br>Proportion=%{y}<extra></extra>",
         "legendgroup": "Pyrenotrichaceae",
         "marker": {
          "color": "#FF6692",
          "pattern": {
           "shape": ""
          }
         },
         "name": "Pyrenotrichaceae",
         "offsetgroup": "Pyrenotrichaceae",
         "orientation": "v",
         "showlegend": true,
         "textposition": "auto",
         "type": "bar",
         "x": [
          "CDS"
         ],
         "xaxis": "x",
         "y": [
          0.00008982304859426928
         ],
         "yaxis": "y"
        },
        {
         "alignmentgroup": "True",
         "customdata": [
          [
           "Pallaviciniaceae"
          ]
         ],
         "hovertemplate": "Family=%{customdata[0]}<br>Proportion=%{y}<extra></extra>",
         "legendgroup": "Pallaviciniaceae",
         "marker": {
          "color": "#B6E880",
          "pattern": {
           "shape": ""
          }
         },
         "name": "Pallaviciniaceae",
         "offsetgroup": "Pallaviciniaceae",
         "orientation": "v",
         "showlegend": true,
         "textposition": "auto",
         "type": "bar",
         "x": [
          "CDS"
         ],
         "xaxis": "x",
         "y": [
          0.00008982304859426928
         ],
         "yaxis": "y"
        },
        {
         "alignmentgroup": "True",
         "customdata": [
          [
           "Hippoboscidae"
          ]
         ],
         "hovertemplate": "Family=%{customdata[0]}<br>Proportion=%{y}<extra></extra>",
         "legendgroup": "Hippoboscidae",
         "marker": {
          "color": "#FF97FF",
          "pattern": {
           "shape": ""
          }
         },
         "name": "Hippoboscidae",
         "offsetgroup": "Hippoboscidae",
         "orientation": "v",
         "showlegend": true,
         "textposition": "auto",
         "type": "bar",
         "x": [
          "ICCDRS"
         ],
         "xaxis": "x",
         "y": [
          0.00008114577839087921
         ],
         "yaxis": "y"
        },
        {
         "alignmentgroup": "True",
         "customdata": [
          [
           "Hybotidae"
          ]
         ],
         "hovertemplate": "Family=%{customdata[0]}<br>Proportion=%{y}<extra></extra>",
         "legendgroup": "Hybotidae",
         "marker": {
          "color": "#FECB52",
          "pattern": {
           "shape": ""
          }
         },
         "name": "Hybotidae",
         "offsetgroup": "Hybotidae",
         "orientation": "v",
         "showlegend": true,
         "textposition": "auto",
         "type": "bar",
         "x": [
          "ICCDRS"
         ],
         "xaxis": "x",
         "y": [
          0.00008114577839087921
         ],
         "yaxis": "y"
        },
        {
         "alignmentgroup": "True",
         "customdata": [
          [
           "Pteromalidae"
          ]
         ],
         "hovertemplate": "Family=%{customdata[0]}<br>Proportion=%{y}<extra></extra>",
         "legendgroup": "Pteromalidae",
         "marker": {
          "color": "#636efa",
          "pattern": {
           "shape": ""
          }
         },
         "name": "Pteromalidae",
         "offsetgroup": "Pteromalidae",
         "orientation": "v",
         "showlegend": true,
         "textposition": "auto",
         "type": "bar",
         "x": [
          "ICCDRS"
         ],
         "xaxis": "x",
         "y": [
          0.00008114577839087921
         ],
         "yaxis": "y"
        },
        {
         "alignmentgroup": "True",
         "customdata": [
          [
           "Myopsocidae"
          ]
         ],
         "hovertemplate": "Family=%{customdata[0]}<br>Proportion=%{y}<extra></extra>",
         "legendgroup": "Myopsocidae",
         "marker": {
          "color": "#EF553B",
          "pattern": {
           "shape": ""
          }
         },
         "name": "Myopsocidae",
         "offsetgroup": "Myopsocidae",
         "orientation": "v",
         "showlegend": true,
         "textposition": "auto",
         "type": "bar",
         "x": [
          "ICCDRS"
         ],
         "xaxis": "x",
         "y": [
          0.00008114577839087921
         ],
         "yaxis": "y"
        },
        {
         "alignmentgroup": "True",
         "customdata": [
          [
           "Ochyroceratidae"
          ]
         ],
         "hovertemplate": "Family=%{customdata[0]}<br>Proportion=%{y}<extra></extra>",
         "legendgroup": "Ochyroceratidae",
         "marker": {
          "color": "#00cc96",
          "pattern": {
           "shape": ""
          }
         },
         "name": "Ochyroceratidae",
         "offsetgroup": "Ochyroceratidae",
         "orientation": "v",
         "showlegend": true,
         "textposition": "auto",
         "type": "bar",
         "x": [
          "ICCDRS"
         ],
         "xaxis": "x",
         "y": [
          0.00008114577839087921
         ],
         "yaxis": "y"
        },
        {
         "alignmentgroup": "True",
         "customdata": [
          [
           "Scenopinidae"
          ]
         ],
         "hovertemplate": "Family=%{customdata[0]}<br>Proportion=%{y}<extra></extra>",
         "legendgroup": "Scenopinidae",
         "marker": {
          "color": "#ab63fa",
          "pattern": {
           "shape": ""
          }
         },
         "name": "Scenopinidae",
         "offsetgroup": "Scenopinidae",
         "orientation": "v",
         "showlegend": true,
         "textposition": "auto",
         "type": "bar",
         "x": [
          "ICCDRS"
         ],
         "xaxis": "x",
         "y": [
          0.00008114577839087921
         ],
         "yaxis": "y"
        },
        {
         "alignmentgroup": "True",
         "customdata": [
          [
           "Uloboridae"
          ]
         ],
         "hovertemplate": "Family=%{customdata[0]}<br>Proportion=%{y}<extra></extra>",
         "legendgroup": "Uloboridae",
         "marker": {
          "color": "#FFA15A",
          "pattern": {
           "shape": ""
          }
         },
         "name": "Uloboridae",
         "offsetgroup": "Uloboridae",
         "orientation": "v",
         "showlegend": true,
         "textposition": "auto",
         "type": "bar",
         "x": [
          "ICCDRS"
         ],
         "xaxis": "x",
         "y": [
          0.00008114577839087921
         ],
         "yaxis": "y"
        },
        {
         "alignmentgroup": "True",
         "customdata": [
          [
           "Onychiuridae"
          ]
         ],
         "hovertemplate": "Family=%{customdata[0]}<br>Proportion=%{y}<extra></extra>",
         "legendgroup": "Onychiuridae",
         "marker": {
          "color": "#19d3f3",
          "pattern": {
           "shape": ""
          }
         },
         "name": "Onychiuridae",
         "offsetgroup": "Onychiuridae",
         "orientation": "v",
         "showlegend": true,
         "textposition": "auto",
         "type": "bar",
         "x": [
          "ICCDRS"
         ],
         "xaxis": "x",
         "y": [
          0.00008114577839087921
         ],
         "yaxis": "y"
        },
        {
         "alignmentgroup": "True",
         "customdata": [
          [
           "Melyridae"
          ]
         ],
         "hovertemplate": "Family=%{customdata[0]}<br>Proportion=%{y}<extra></extra>",
         "legendgroup": "Melyridae",
         "marker": {
          "color": "#FF6692",
          "pattern": {
           "shape": ""
          }
         },
         "name": "Melyridae",
         "offsetgroup": "Melyridae",
         "orientation": "v",
         "showlegend": true,
         "textposition": "auto",
         "type": "bar",
         "x": [
          "ICCDRS"
         ],
         "xaxis": "x",
         "y": [
          0.00008114577839087921
         ],
         "yaxis": "y"
        },
        {
         "alignmentgroup": "True",
         "customdata": [
          [
           "Chyromyidae"
          ]
         ],
         "hovertemplate": "Family=%{customdata[0]}<br>Proportion=%{y}<extra></extra>",
         "legendgroup": "Chyromyidae",
         "marker": {
          "color": "#B6E880",
          "pattern": {
           "shape": ""
          }
         },
         "name": "Chyromyidae",
         "offsetgroup": "Chyromyidae",
         "orientation": "v",
         "showlegend": true,
         "textposition": "auto",
         "type": "bar",
         "x": [
          "ICCDRS"
         ],
         "xaxis": "x",
         "y": [
          0.00008114577839087921
         ],
         "yaxis": "y"
        },
        {
         "alignmentgroup": "True",
         "customdata": [
          [
           "Scutigerellidae"
          ]
         ],
         "hovertemplate": "Family=%{customdata[0]}<br>Proportion=%{y}<extra></extra>",
         "legendgroup": "Scutigerellidae",
         "marker": {
          "color": "#FF97FF",
          "pattern": {
           "shape": ""
          }
         },
         "name": "Scutigerellidae",
         "offsetgroup": "Scutigerellidae",
         "orientation": "v",
         "showlegend": true,
         "textposition": "auto",
         "type": "bar",
         "x": [
          "ICCDRS"
         ],
         "xaxis": "x",
         "y": [
          0.00008114577839087921
         ],
         "yaxis": "y"
        },
        {
         "alignmentgroup": "True",
         "customdata": [
          [
           "Tylidae"
          ]
         ],
         "hovertemplate": "Family=%{customdata[0]}<br>Proportion=%{y}<extra></extra>",
         "legendgroup": "Tylidae",
         "marker": {
          "color": "#FECB52",
          "pattern": {
           "shape": ""
          }
         },
         "name": "Tylidae",
         "offsetgroup": "Tylidae",
         "orientation": "v",
         "showlegend": true,
         "textposition": "auto",
         "type": "bar",
         "x": [
          "ICCDRS"
         ],
         "xaxis": "x",
         "y": [
          0.00008114577839087921
         ],
         "yaxis": "y"
        },
        {
         "alignmentgroup": "True",
         "customdata": [
          [
           "Cecidomyiidae"
          ]
         ],
         "hovertemplate": "Family=%{customdata[0]}<br>Proportion=%{y}<extra></extra>",
         "legendgroup": "Cecidomyiidae",
         "marker": {
          "color": "#636efa",
          "pattern": {
           "shape": ""
          }
         },
         "name": "Cecidomyiidae",
         "offsetgroup": "Cecidomyiidae",
         "orientation": "v",
         "showlegend": true,
         "textposition": "auto",
         "type": "bar",
         "x": [
          "ICCDRS"
         ],
         "xaxis": "x",
         "y": [
          0.00008114577839087921
         ],
         "yaxis": "y"
        },
        {
         "alignmentgroup": "True",
         "customdata": [
          [
           "Aeolothripidae"
          ]
         ],
         "hovertemplate": "Family=%{customdata[0]}<br>Proportion=%{y}<extra></extra>",
         "legendgroup": "Aeolothripidae",
         "marker": {
          "color": "#EF553B",
          "pattern": {
           "shape": ""
          }
         },
         "name": "Aeolothripidae",
         "offsetgroup": "Aeolothripidae",
         "orientation": "v",
         "showlegend": true,
         "textposition": "auto",
         "type": "bar",
         "x": [
          "ICCDRS"
         ],
         "xaxis": "x",
         "y": [
          0.00008114577839087921
         ],
         "yaxis": "y"
        },
        {
         "alignmentgroup": "True",
         "customdata": [
          [
           "Faucheaceae"
          ]
         ],
         "hovertemplate": "Family=%{customdata[0]}<br>Proportion=%{y}<extra></extra>",
         "legendgroup": "Faucheaceae",
         "marker": {
          "color": "#00cc96",
          "pattern": {
           "shape": ""
          }
         },
         "name": "Faucheaceae",
         "offsetgroup": "Faucheaceae",
         "orientation": "v",
         "showlegend": true,
         "textposition": "auto",
         "type": "bar",
         "x": [
          "CDS"
         ],
         "xaxis": "x",
         "y": [
          0.00005988203239617952
         ],
         "yaxis": "y"
        },
        {
         "alignmentgroup": "True",
         "customdata": [
          [
           "Schizothyriaceae"
          ]
         ],
         "hovertemplate": "Family=%{customdata[0]}<br>Proportion=%{y}<extra></extra>",
         "legendgroup": "Schizothyriaceae",
         "marker": {
          "color": "#ab63fa",
          "pattern": {
           "shape": ""
          }
         },
         "name": "Schizothyriaceae",
         "offsetgroup": "Schizothyriaceae",
         "orientation": "v",
         "showlegend": true,
         "textposition": "auto",
         "type": "bar",
         "x": [
          "CDS"
         ],
         "xaxis": "x",
         "y": [
          0.00005988203239617952
         ],
         "yaxis": "y"
        },
        {
         "alignmentgroup": "True",
         "customdata": [
          [
           "Ceramiaceae"
          ]
         ],
         "hovertemplate": "Family=%{customdata[0]}<br>Proportion=%{y}<extra></extra>",
         "legendgroup": "Ceramiaceae",
         "marker": {
          "color": "#FFA15A",
          "pattern": {
           "shape": ""
          }
         },
         "name": "Ceramiaceae",
         "offsetgroup": "Ceramiaceae",
         "orientation": "v",
         "showlegend": true,
         "textposition": "auto",
         "type": "bar",
         "x": [
          "CDS"
         ],
         "xaxis": "x",
         "y": [
          0.00005988203239617952
         ],
         "yaxis": "y"
        },
        {
         "alignmentgroup": "True",
         "customdata": [
          [
           "Hydrocharitaceae"
          ]
         ],
         "hovertemplate": "Family=%{customdata[0]}<br>Proportion=%{y}<extra></extra>",
         "legendgroup": "Hydrocharitaceae",
         "marker": {
          "color": "#19d3f3",
          "pattern": {
           "shape": ""
          }
         },
         "name": "Hydrocharitaceae",
         "offsetgroup": "Hydrocharitaceae",
         "orientation": "v",
         "showlegend": true,
         "textposition": "auto",
         "type": "bar",
         "x": [
          "CDS"
         ],
         "xaxis": "x",
         "y": [
          0.00005988203239617952
         ],
         "yaxis": "y"
        },
        {
         "alignmentgroup": "True",
         "customdata": [
          [
           "Erysiphaceae"
          ]
         ],
         "hovertemplate": "Family=%{customdata[0]}<br>Proportion=%{y}<extra></extra>",
         "legendgroup": "Erysiphaceae",
         "marker": {
          "color": "#FF6692",
          "pattern": {
           "shape": ""
          }
         },
         "name": "Erysiphaceae",
         "offsetgroup": "Erysiphaceae",
         "orientation": "v",
         "showlegend": true,
         "textposition": "auto",
         "type": "bar",
         "x": [
          "CDS"
         ],
         "xaxis": "x",
         "y": [
          0.00005988203239617952
         ],
         "yaxis": "y"
        },
        {
         "alignmentgroup": "True",
         "customdata": [
          [
           "Pyronemataceae"
          ]
         ],
         "hovertemplate": "Family=%{customdata[0]}<br>Proportion=%{y}<extra></extra>",
         "legendgroup": "Pyronemataceae",
         "marker": {
          "color": "#B6E880",
          "pattern": {
           "shape": ""
          }
         },
         "name": "Pyronemataceae",
         "offsetgroup": "Pyronemataceae",
         "orientation": "v",
         "showlegend": true,
         "textposition": "auto",
         "type": "bar",
         "x": [
          "CDS"
         ],
         "xaxis": "x",
         "y": [
          0.00005988203239617952
         ],
         "yaxis": "y"
        },
        {
         "alignmentgroup": "True",
         "customdata": [
          [
           "Scytosiphonaceae"
          ]
         ],
         "hovertemplate": "Family=%{customdata[0]}<br>Proportion=%{y}<extra></extra>",
         "legendgroup": "Scytosiphonaceae",
         "marker": {
          "color": "#FF97FF",
          "pattern": {
           "shape": ""
          }
         },
         "name": "Scytosiphonaceae",
         "offsetgroup": "Scytosiphonaceae",
         "orientation": "v",
         "showlegend": true,
         "textposition": "auto",
         "type": "bar",
         "x": [
          "CDS"
         ],
         "xaxis": "x",
         "y": [
          0.00005988203239617952
         ],
         "yaxis": "y"
        },
        {
         "alignmentgroup": "True",
         "customdata": [
          [
           "Araucariaceae"
          ]
         ],
         "hovertemplate": "Family=%{customdata[0]}<br>Proportion=%{y}<extra></extra>",
         "legendgroup": "Araucariaceae",
         "marker": {
          "color": "#FECB52",
          "pattern": {
           "shape": ""
          }
         },
         "name": "Araucariaceae",
         "offsetgroup": "Araucariaceae",
         "orientation": "v",
         "showlegend": true,
         "textposition": "auto",
         "type": "bar",
         "x": [
          "CDS"
         ],
         "xaxis": "x",
         "y": [
          0.00005988203239617952
         ],
         "yaxis": "y"
        },
        {
         "alignmentgroup": "True",
         "customdata": [
          [
           "Selaginellaceae"
          ]
         ],
         "hovertemplate": "Family=%{customdata[0]}<br>Proportion=%{y}<extra></extra>",
         "legendgroup": "Selaginellaceae",
         "marker": {
          "color": "#636efa",
          "pattern": {
           "shape": ""
          }
         },
         "name": "Selaginellaceae",
         "offsetgroup": "Selaginellaceae",
         "orientation": "v",
         "showlegend": true,
         "textposition": "auto",
         "type": "bar",
         "x": [
          "CDS"
         ],
         "xaxis": "x",
         "y": [
          0.00005988203239617952
         ],
         "yaxis": "y"
        },
        {
         "alignmentgroup": "True",
         "customdata": [
          [
           "Pterobryaceae"
          ]
         ],
         "hovertemplate": "Family=%{customdata[0]}<br>Proportion=%{y}<extra></extra>",
         "legendgroup": "Pterobryaceae",
         "marker": {
          "color": "#EF553B",
          "pattern": {
           "shape": ""
          }
         },
         "name": "Pterobryaceae",
         "offsetgroup": "Pterobryaceae",
         "orientation": "v",
         "showlegend": true,
         "textposition": "auto",
         "type": "bar",
         "x": [
          "CDS"
         ],
         "xaxis": "x",
         "y": [
          0.00005988203239617952
         ],
         "yaxis": "y"
        },
        {
         "alignmentgroup": "True",
         "customdata": [
          [
           "Stictidaceae"
          ]
         ],
         "hovertemplate": "Family=%{customdata[0]}<br>Proportion=%{y}<extra></extra>",
         "legendgroup": "Stictidaceae",
         "marker": {
          "color": "#00cc96",
          "pattern": {
           "shape": ""
          }
         },
         "name": "Stictidaceae",
         "offsetgroup": "Stictidaceae",
         "orientation": "v",
         "showlegend": true,
         "textposition": "auto",
         "type": "bar",
         "x": [
          "CDS"
         ],
         "xaxis": "x",
         "y": [
          0.00005988203239617952
         ],
         "yaxis": "y"
        },
        {
         "alignmentgroup": "True",
         "customdata": [
          [
           "Tubeufiaceae"
          ]
         ],
         "hovertemplate": "Family=%{customdata[0]}<br>Proportion=%{y}<extra></extra>",
         "legendgroup": "Tubeufiaceae",
         "marker": {
          "color": "#ab63fa",
          "pattern": {
           "shape": ""
          }
         },
         "name": "Tubeufiaceae",
         "offsetgroup": "Tubeufiaceae",
         "orientation": "v",
         "showlegend": true,
         "textposition": "auto",
         "type": "bar",
         "x": [
          "CDS"
         ],
         "xaxis": "x",
         "y": [
          0.00005988203239617952
         ],
         "yaxis": "y"
        },
        {
         "alignmentgroup": "True",
         "customdata": [
          [
           "Strelitziaceae"
          ]
         ],
         "hovertemplate": "Family=%{customdata[0]}<br>Proportion=%{y}<extra></extra>",
         "legendgroup": "Strelitziaceae",
         "marker": {
          "color": "#FFA15A",
          "pattern": {
           "shape": ""
          }
         },
         "name": "Strelitziaceae",
         "offsetgroup": "Strelitziaceae",
         "orientation": "v",
         "showlegend": true,
         "textposition": "auto",
         "type": "bar",
         "x": [
          "CDS"
         ],
         "xaxis": "x",
         "y": [
          0.00005988203239617952
         ],
         "yaxis": "y"
        },
        {
         "alignmentgroup": "True",
         "customdata": [
          [
           "Polemoniaceae"
          ]
         ],
         "hovertemplate": "Family=%{customdata[0]}<br>Proportion=%{y}<extra></extra>",
         "legendgroup": "Polemoniaceae",
         "marker": {
          "color": "#19d3f3",
          "pattern": {
           "shape": ""
          }
         },
         "name": "Polemoniaceae",
         "offsetgroup": "Polemoniaceae",
         "orientation": "v",
         "showlegend": true,
         "textposition": "auto",
         "type": "bar",
         "x": [
          "CDS"
         ],
         "xaxis": "x",
         "y": [
          0.00005988203239617952
         ],
         "yaxis": "y"
        },
        {
         "alignmentgroup": "True",
         "customdata": [
          [
           "Viburnaceae"
          ]
         ],
         "hovertemplate": "Family=%{customdata[0]}<br>Proportion=%{y}<extra></extra>",
         "legendgroup": "Viburnaceae",
         "marker": {
          "color": "#FF6692",
          "pattern": {
           "shape": ""
          }
         },
         "name": "Viburnaceae",
         "offsetgroup": "Viburnaceae",
         "orientation": "v",
         "showlegend": true,
         "textposition": "auto",
         "type": "bar",
         "x": [
          "CDS"
         ],
         "xaxis": "x",
         "y": [
          0.00005988203239617952
         ],
         "yaxis": "y"
        },
        {
         "alignmentgroup": "True",
         "customdata": [
          [
           "Rickenellaceae"
          ]
         ],
         "hovertemplate": "Family=%{customdata[0]}<br>Proportion=%{y}<extra></extra>",
         "legendgroup": "Rickenellaceae",
         "marker": {
          "color": "#B6E880",
          "pattern": {
           "shape": ""
          }
         },
         "name": "Rickenellaceae",
         "offsetgroup": "Rickenellaceae",
         "orientation": "v",
         "showlegend": true,
         "textposition": "auto",
         "type": "bar",
         "x": [
          "CDS"
         ],
         "xaxis": "x",
         "y": [
          0.00005988203239617952
         ],
         "yaxis": "y"
        },
        {
         "alignmentgroup": "True",
         "customdata": [
          [
           "Gyalectaceae"
          ]
         ],
         "hovertemplate": "Family=%{customdata[0]}<br>Proportion=%{y}<extra></extra>",
         "legendgroup": "Gyalectaceae",
         "marker": {
          "color": "#FF97FF",
          "pattern": {
           "shape": ""
          }
         },
         "name": "Gyalectaceae",
         "offsetgroup": "Gyalectaceae",
         "orientation": "v",
         "showlegend": true,
         "textposition": "auto",
         "type": "bar",
         "x": [
          "CDS"
         ],
         "xaxis": "x",
         "y": [
          0.00005988203239617952
         ],
         "yaxis": "y"
        },
        {
         "alignmentgroup": "True",
         "customdata": [
          [
           "Gleicheniaceae"
          ]
         ],
         "hovertemplate": "Family=%{customdata[0]}<br>Proportion=%{y}<extra></extra>",
         "legendgroup": "Gleicheniaceae",
         "marker": {
          "color": "#FECB52",
          "pattern": {
           "shape": ""
          }
         },
         "name": "Gleicheniaceae",
         "offsetgroup": "Gleicheniaceae",
         "orientation": "v",
         "showlegend": true,
         "textposition": "auto",
         "type": "bar",
         "x": [
          "CDS"
         ],
         "xaxis": "x",
         "y": [
          0.00005988203239617952
         ],
         "yaxis": "y"
        },
        {
         "alignmentgroup": "True",
         "customdata": [
          [
           "Pluteaceae"
          ]
         ],
         "hovertemplate": "Family=%{customdata[0]}<br>Proportion=%{y}<extra></extra>",
         "legendgroup": "Pluteaceae",
         "marker": {
          "color": "#636efa",
          "pattern": {
           "shape": ""
          }
         },
         "name": "Pluteaceae",
         "offsetgroup": "Pluteaceae",
         "orientation": "v",
         "showlegend": true,
         "textposition": "auto",
         "type": "bar",
         "x": [
          "CDS"
         ],
         "xaxis": "x",
         "y": [
          0.00005988203239617952
         ],
         "yaxis": "y"
        },
        {
         "alignmentgroup": "True",
         "customdata": [
          [
           "Geastraceae"
          ]
         ],
         "hovertemplate": "Family=%{customdata[0]}<br>Proportion=%{y}<extra></extra>",
         "legendgroup": "Geastraceae",
         "marker": {
          "color": "#EF553B",
          "pattern": {
           "shape": ""
          }
         },
         "name": "Geastraceae",
         "offsetgroup": "Geastraceae",
         "orientation": "v",
         "showlegend": true,
         "textposition": "auto",
         "type": "bar",
         "x": [
          "CDS"
         ],
         "xaxis": "x",
         "y": [
          0.00005988203239617952
         ],
         "yaxis": "y"
        },
        {
         "alignmentgroup": "True",
         "customdata": [
          [
           "Thuidiaceae"
          ]
         ],
         "hovertemplate": "Family=%{customdata[0]}<br>Proportion=%{y}<extra></extra>",
         "legendgroup": "Thuidiaceae",
         "marker": {
          "color": "#00cc96",
          "pattern": {
           "shape": ""
          }
         },
         "name": "Thuidiaceae",
         "offsetgroup": "Thuidiaceae",
         "orientation": "v",
         "showlegend": true,
         "textposition": "auto",
         "type": "bar",
         "x": [
          "CDS"
         ],
         "xaxis": "x",
         "y": [
          0.00005988203239617952
         ],
         "yaxis": "y"
        },
        {
         "alignmentgroup": "True",
         "customdata": [
          [
           "Rhyscotidae"
          ]
         ],
         "hovertemplate": "Family=%{customdata[0]}<br>Proportion=%{y}<extra></extra>",
         "legendgroup": "Rhyscotidae",
         "marker": {
          "color": "#ab63fa",
          "pattern": {
           "shape": ""
          }
         },
         "name": "Rhyscotidae",
         "offsetgroup": "Rhyscotidae",
         "orientation": "v",
         "showlegend": true,
         "textposition": "auto",
         "type": "bar",
         "x": [
          "ICCDRS"
         ],
         "xaxis": "x",
         "y": [
          0.00004057288919543961
         ],
         "yaxis": "y"
        },
        {
         "alignmentgroup": "True",
         "customdata": [
          [
           "Merothripidae"
          ]
         ],
         "hovertemplate": "Family=%{customdata[0]}<br>Proportion=%{y}<extra></extra>",
         "legendgroup": "Merothripidae",
         "marker": {
          "color": "#FFA15A",
          "pattern": {
           "shape": ""
          }
         },
         "name": "Merothripidae",
         "offsetgroup": "Merothripidae",
         "orientation": "v",
         "showlegend": true,
         "textposition": "auto",
         "type": "bar",
         "x": [
          "ICCDRS"
         ],
         "xaxis": "x",
         "y": [
          0.00004057288919543961
         ],
         "yaxis": "y"
        },
        {
         "alignmentgroup": "True",
         "customdata": [
          [
           "Zonitidae"
          ]
         ],
         "hovertemplate": "Family=%{customdata[0]}<br>Proportion=%{y}<extra></extra>",
         "legendgroup": "Zonitidae",
         "marker": {
          "color": "#19d3f3",
          "pattern": {
           "shape": ""
          }
         },
         "name": "Zonitidae",
         "offsetgroup": "Zonitidae",
         "orientation": "v",
         "showlegend": true,
         "textposition": "auto",
         "type": "bar",
         "x": [
          "ICCDRS"
         ],
         "xaxis": "x",
         "y": [
          0.00004057288919543961
         ],
         "yaxis": "y"
        },
        {
         "alignmentgroup": "True",
         "customdata": [
          [
           "Scatopsidae"
          ]
         ],
         "hovertemplate": "Family=%{customdata[0]}<br>Proportion=%{y}<extra></extra>",
         "legendgroup": "Scatopsidae",
         "marker": {
          "color": "#FF6692",
          "pattern": {
           "shape": ""
          }
         },
         "name": "Scatopsidae",
         "offsetgroup": "Scatopsidae",
         "orientation": "v",
         "showlegend": true,
         "textposition": "auto",
         "type": "bar",
         "x": [
          "ICCDRS"
         ],
         "xaxis": "x",
         "y": [
          0.00004057288919543961
         ],
         "yaxis": "y"
        },
        {
         "alignmentgroup": "True",
         "customdata": [
          [
           "Haliplidae"
          ]
         ],
         "hovertemplate": "Family=%{customdata[0]}<br>Proportion=%{y}<extra></extra>",
         "legendgroup": "Haliplidae",
         "marker": {
          "color": "#B6E880",
          "pattern": {
           "shape": ""
          }
         },
         "name": "Haliplidae",
         "offsetgroup": "Haliplidae",
         "orientation": "v",
         "showlegend": true,
         "textposition": "auto",
         "type": "bar",
         "x": [
          "ICCDRS"
         ],
         "xaxis": "x",
         "y": [
          0.00004057288919543961
         ],
         "yaxis": "y"
        },
        {
         "alignmentgroup": "True",
         "customdata": [
          [
           "Caeciliidae"
          ]
         ],
         "hovertemplate": "Family=%{customdata[0]}<br>Proportion=%{y}<extra></extra>",
         "legendgroup": "Caeciliidae",
         "marker": {
          "color": "#FF97FF",
          "pattern": {
           "shape": ""
          }
         },
         "name": "Caeciliidae",
         "offsetgroup": "Caeciliidae",
         "orientation": "v",
         "showlegend": true,
         "textposition": "auto",
         "type": "bar",
         "x": [
          "ICCDRS"
         ],
         "xaxis": "x",
         "y": [
          0.00004057288919543961
         ],
         "yaxis": "y"
        },
        {
         "alignmentgroup": "True",
         "customdata": [
          [
           "Succineidae"
          ]
         ],
         "hovertemplate": "Family=%{customdata[0]}<br>Proportion=%{y}<extra></extra>",
         "legendgroup": "Succineidae",
         "marker": {
          "color": "#FECB52",
          "pattern": {
           "shape": ""
          }
         },
         "name": "Succineidae",
         "offsetgroup": "Succineidae",
         "orientation": "v",
         "showlegend": true,
         "textposition": "auto",
         "type": "bar",
         "x": [
          "ICCDRS"
         ],
         "xaxis": "x",
         "y": [
          0.00004057288919543961
         ],
         "yaxis": "y"
        },
        {
         "alignmentgroup": "True",
         "customdata": [
          [
           "Charontidae"
          ]
         ],
         "hovertemplate": "Family=%{customdata[0]}<br>Proportion=%{y}<extra></extra>",
         "legendgroup": "Charontidae",
         "marker": {
          "color": "#636efa",
          "pattern": {
           "shape": ""
          }
         },
         "name": "Charontidae",
         "offsetgroup": "Charontidae",
         "orientation": "v",
         "showlegend": true,
         "textposition": "auto",
         "type": "bar",
         "x": [
          "ICCDRS"
         ],
         "xaxis": "x",
         "y": [
          0.00004057288919543961
         ],
         "yaxis": "y"
        },
        {
         "alignmentgroup": "True",
         "customdata": [
          [
           "Henicopidae"
          ]
         ],
         "hovertemplate": "Family=%{customdata[0]}<br>Proportion=%{y}<extra></extra>",
         "legendgroup": "Henicopidae",
         "marker": {
          "color": "#EF553B",
          "pattern": {
           "shape": ""
          }
         },
         "name": "Henicopidae",
         "offsetgroup": "Henicopidae",
         "orientation": "v",
         "showlegend": true,
         "textposition": "auto",
         "type": "bar",
         "x": [
          "ICCDRS"
         ],
         "xaxis": "x",
         "y": [
          0.00004057288919543961
         ],
         "yaxis": "y"
        },
        {
         "alignmentgroup": "True",
         "customdata": [
          [
           "Filistatidae"
          ]
         ],
         "hovertemplate": "Family=%{customdata[0]}<br>Proportion=%{y}<extra></extra>",
         "legendgroup": "Filistatidae",
         "marker": {
          "color": "#00cc96",
          "pattern": {
           "shape": ""
          }
         },
         "name": "Filistatidae",
         "offsetgroup": "Filistatidae",
         "orientation": "v",
         "showlegend": true,
         "textposition": "auto",
         "type": "bar",
         "x": [
          "ICCDRS"
         ],
         "xaxis": "x",
         "y": [
          0.00004057288919543961
         ],
         "yaxis": "y"
        },
        {
         "alignmentgroup": "True",
         "customdata": [
          [
           "Haplodesmidae"
          ]
         ],
         "hovertemplate": "Family=%{customdata[0]}<br>Proportion=%{y}<extra></extra>",
         "legendgroup": "Haplodesmidae",
         "marker": {
          "color": "#ab63fa",
          "pattern": {
           "shape": ""
          }
         },
         "name": "Haplodesmidae",
         "offsetgroup": "Haplodesmidae",
         "orientation": "v",
         "showlegend": true,
         "textposition": "auto",
         "type": "bar",
         "x": [
          "ICCDRS"
         ],
         "xaxis": "x",
         "y": [
          0.00004057288919543961
         ],
         "yaxis": "y"
        },
        {
         "alignmentgroup": "True",
         "customdata": [
          [
           "Sphingidae"
          ]
         ],
         "hovertemplate": "Family=%{customdata[0]}<br>Proportion=%{y}<extra></extra>",
         "legendgroup": "Sphingidae",
         "marker": {
          "color": "#FFA15A",
          "pattern": {
           "shape": ""
          }
         },
         "name": "Sphingidae",
         "offsetgroup": "Sphingidae",
         "orientation": "v",
         "showlegend": true,
         "textposition": "auto",
         "type": "bar",
         "x": [
          "ICCDRS"
         ],
         "xaxis": "x",
         "y": [
          0.00004057288919543961
         ],
         "yaxis": "y"
        },
        {
         "alignmentgroup": "True",
         "customdata": [
          [
           "Thripidae"
          ]
         ],
         "hovertemplate": "Family=%{customdata[0]}<br>Proportion=%{y}<extra></extra>",
         "legendgroup": "Thripidae",
         "marker": {
          "color": "#19d3f3",
          "pattern": {
           "shape": ""
          }
         },
         "name": "Thripidae",
         "offsetgroup": "Thripidae",
         "orientation": "v",
         "showlegend": true,
         "textposition": "auto",
         "type": "bar",
         "x": [
          "ICCDRS"
         ],
         "xaxis": "x",
         "y": [
          0.00004057288919543961
         ],
         "yaxis": "y"
        },
        {
         "alignmentgroup": "True",
         "customdata": [
          [
           "Pieridae"
          ]
         ],
         "hovertemplate": "Family=%{customdata[0]}<br>Proportion=%{y}<extra></extra>",
         "legendgroup": "Pieridae",
         "marker": {
          "color": "#FF6692",
          "pattern": {
           "shape": ""
          }
         },
         "name": "Pieridae",
         "offsetgroup": "Pieridae",
         "orientation": "v",
         "showlegend": true,
         "textposition": "auto",
         "type": "bar",
         "x": [
          "ICCDRS"
         ],
         "xaxis": "x",
         "y": [
          0.00004057288919543961
         ],
         "yaxis": "y"
        },
        {
         "alignmentgroup": "True",
         "customdata": [
          [
           "Archipsocidae"
          ]
         ],
         "hovertemplate": "Family=%{customdata[0]}<br>Proportion=%{y}<extra></extra>",
         "legendgroup": "Archipsocidae",
         "marker": {
          "color": "#B6E880",
          "pattern": {
           "shape": ""
          }
         },
         "name": "Archipsocidae",
         "offsetgroup": "Archipsocidae",
         "orientation": "v",
         "showlegend": true,
         "textposition": "auto",
         "type": "bar",
         "x": [
          "ICCDRS"
         ],
         "xaxis": "x",
         "y": [
          0.00004057288919543961
         ],
         "yaxis": "y"
        },
        {
         "alignmentgroup": "True",
         "customdata": [
          [
           "Issidae"
          ]
         ],
         "hovertemplate": "Family=%{customdata[0]}<br>Proportion=%{y}<extra></extra>",
         "legendgroup": "Issidae",
         "marker": {
          "color": "#FF97FF",
          "pattern": {
           "shape": ""
          }
         },
         "name": "Issidae",
         "offsetgroup": "Issidae",
         "orientation": "v",
         "showlegend": true,
         "textposition": "auto",
         "type": "bar",
         "x": [
          "ICCDRS"
         ],
         "xaxis": "x",
         "y": [
          0.00004057288919543961
         ],
         "yaxis": "y"
        },
        {
         "alignmentgroup": "True",
         "customdata": [
          [
           "Psocidae"
          ]
         ],
         "hovertemplate": "Family=%{customdata[0]}<br>Proportion=%{y}<extra></extra>",
         "legendgroup": "Psocidae",
         "marker": {
          "color": "#FECB52",
          "pattern": {
           "shape": ""
          }
         },
         "name": "Psocidae",
         "offsetgroup": "Psocidae",
         "orientation": "v",
         "showlegend": true,
         "textposition": "auto",
         "type": "bar",
         "x": [
          "ICCDRS"
         ],
         "xaxis": "x",
         "y": [
          0.00004057288919543961
         ],
         "yaxis": "y"
        },
        {
         "alignmentgroup": "True",
         "customdata": [
          [
           "Megascolecidae"
          ]
         ],
         "hovertemplate": "Family=%{customdata[0]}<br>Proportion=%{y}<extra></extra>",
         "legendgroup": "Megascolecidae",
         "marker": {
          "color": "#636efa",
          "pattern": {
           "shape": ""
          }
         },
         "name": "Megascolecidae",
         "offsetgroup": "Megascolecidae",
         "orientation": "v",
         "showlegend": true,
         "textposition": "auto",
         "type": "bar",
         "x": [
          "ICCDRS"
         ],
         "xaxis": "x",
         "y": [
          0.00004057288919543961
         ],
         "yaxis": "y"
        },
        {
         "alignmentgroup": "True",
         "customdata": [
          [
           "Tripiduchidae"
          ]
         ],
         "hovertemplate": "Family=%{customdata[0]}<br>Proportion=%{y}<extra></extra>",
         "legendgroup": "Tripiduchidae",
         "marker": {
          "color": "#EF553B",
          "pattern": {
           "shape": ""
          }
         },
         "name": "Tripiduchidae",
         "offsetgroup": "Tripiduchidae",
         "orientation": "v",
         "showlegend": true,
         "textposition": "auto",
         "type": "bar",
         "x": [
          "ICCDRS"
         ],
         "xaxis": "x",
         "y": [
          0.00004057288919543961
         ],
         "yaxis": "y"
        },
        {
         "alignmentgroup": "True",
         "customdata": [
          [
           "Physaraceae"
          ]
         ],
         "hovertemplate": "Family=%{customdata[0]}<br>Proportion=%{y}<extra></extra>",
         "legendgroup": "Physaraceae",
         "marker": {
          "color": "#00cc96",
          "pattern": {
           "shape": ""
          }
         },
         "name": "Physaraceae",
         "offsetgroup": "Physaraceae",
         "orientation": "v",
         "showlegend": true,
         "textposition": "auto",
         "type": "bar",
         "x": [
          "CDS"
         ],
         "xaxis": "x",
         "y": [
          0.00002994101619808976
         ],
         "yaxis": "y"
        },
        {
         "alignmentgroup": "True",
         "customdata": [
          [
           "Calypogeiaceae"
          ]
         ],
         "hovertemplate": "Family=%{customdata[0]}<br>Proportion=%{y}<extra></extra>",
         "legendgroup": "Calypogeiaceae",
         "marker": {
          "color": "#ab63fa",
          "pattern": {
           "shape": ""
          }
         },
         "name": "Calypogeiaceae",
         "offsetgroup": "Calypogeiaceae",
         "orientation": "v",
         "showlegend": true,
         "textposition": "auto",
         "type": "bar",
         "x": [
          "CDS"
         ],
         "xaxis": "x",
         "y": [
          0.00002994101619808976
         ],
         "yaxis": "y"
        },
        {
         "alignmentgroup": "True",
         "customdata": [
          [
           "Udoteaceae"
          ]
         ],
         "hovertemplate": "Family=%{customdata[0]}<br>Proportion=%{y}<extra></extra>",
         "legendgroup": "Udoteaceae",
         "marker": {
          "color": "#FFA15A",
          "pattern": {
           "shape": ""
          }
         },
         "name": "Udoteaceae",
         "offsetgroup": "Udoteaceae",
         "orientation": "v",
         "showlegend": true,
         "textposition": "auto",
         "type": "bar",
         "x": [
          "CDS"
         ],
         "xaxis": "x",
         "y": [
          0.00002994101619808976
         ],
         "yaxis": "y"
        },
        {
         "alignmentgroup": "True",
         "customdata": [
          [
           "Lithothamniaceae"
          ]
         ],
         "hovertemplate": "Family=%{customdata[0]}<br>Proportion=%{y}<extra></extra>",
         "legendgroup": "Lithothamniaceae",
         "marker": {
          "color": "#19d3f3",
          "pattern": {
           "shape": ""
          }
         },
         "name": "Lithothamniaceae",
         "offsetgroup": "Lithothamniaceae",
         "orientation": "v",
         "showlegend": true,
         "textposition": "auto",
         "type": "bar",
         "x": [
          "CDS"
         ],
         "xaxis": "x",
         "y": [
          0.00002994101619808976
         ],
         "yaxis": "y"
        },
        {
         "alignmentgroup": "True",
         "customdata": [
          [
           "Brachytheciaceae"
          ]
         ],
         "hovertemplate": "Family=%{customdata[0]}<br>Proportion=%{y}<extra></extra>",
         "legendgroup": "Brachytheciaceae",
         "marker": {
          "color": "#FF6692",
          "pattern": {
           "shape": ""
          }
         },
         "name": "Brachytheciaceae",
         "offsetgroup": "Brachytheciaceae",
         "orientation": "v",
         "showlegend": true,
         "textposition": "auto",
         "type": "bar",
         "x": [
          "CDS"
         ],
         "xaxis": "x",
         "y": [
          0.00002994101619808976
         ],
         "yaxis": "y"
        },
        {
         "alignmentgroup": "True",
         "customdata": [
          [
           "Brachybasidiaceae"
          ]
         ],
         "hovertemplate": "Family=%{customdata[0]}<br>Proportion=%{y}<extra></extra>",
         "legendgroup": "Brachybasidiaceae",
         "marker": {
          "color": "#B6E880",
          "pattern": {
           "shape": ""
          }
         },
         "name": "Brachybasidiaceae",
         "offsetgroup": "Brachybasidiaceae",
         "orientation": "v",
         "showlegend": true,
         "textposition": "auto",
         "type": "bar",
         "x": [
          "CDS"
         ],
         "xaxis": "x",
         "y": [
          0.00002994101619808976
         ],
         "yaxis": "y"
        },
        {
         "alignmentgroup": "True",
         "customdata": [
          [
           "Botryosphaeriaceae"
          ]
         ],
         "hovertemplate": "Family=%{customdata[0]}<br>Proportion=%{y}<extra></extra>",
         "legendgroup": "Botryosphaeriaceae",
         "marker": {
          "color": "#FF97FF",
          "pattern": {
           "shape": ""
          }
         },
         "name": "Botryosphaeriaceae",
         "offsetgroup": "Botryosphaeriaceae",
         "orientation": "v",
         "showlegend": true,
         "textposition": "auto",
         "type": "bar",
         "x": [
          "CDS"
         ],
         "xaxis": "x",
         "y": [
          0.00002994101619808976
         ],
         "yaxis": "y"
        },
        {
         "alignmentgroup": "True",
         "customdata": [
          [
           "Moringaceae"
          ]
         ],
         "hovertemplate": "Family=%{customdata[0]}<br>Proportion=%{y}<extra></extra>",
         "legendgroup": "Moringaceae",
         "marker": {
          "color": "#FECB52",
          "pattern": {
           "shape": ""
          }
         },
         "name": "Moringaceae",
         "offsetgroup": "Moringaceae",
         "orientation": "v",
         "showlegend": true,
         "textposition": "auto",
         "type": "bar",
         "x": [
          "CDS"
         ],
         "xaxis": "x",
         "y": [
          0.00002994101619808976
         ],
         "yaxis": "y"
        },
        {
         "alignmentgroup": "True",
         "customdata": [
          [
           "Funariaceae"
          ]
         ],
         "hovertemplate": "Family=%{customdata[0]}<br>Proportion=%{y}<extra></extra>",
         "legendgroup": "Funariaceae",
         "marker": {
          "color": "#636efa",
          "pattern": {
           "shape": ""
          }
         },
         "name": "Funariaceae",
         "offsetgroup": "Funariaceae",
         "orientation": "v",
         "showlegend": true,
         "textposition": "auto",
         "type": "bar",
         "x": [
          "CDS"
         ],
         "xaxis": "x",
         "y": [
          0.00002994101619808976
         ],
         "yaxis": "y"
        },
        {
         "alignmentgroup": "True",
         "customdata": [
          [
           "Glomerellaceae"
          ]
         ],
         "hovertemplate": "Family=%{customdata[0]}<br>Proportion=%{y}<extra></extra>",
         "legendgroup": "Glomerellaceae",
         "marker": {
          "color": "#EF553B",
          "pattern": {
           "shape": ""
          }
         },
         "name": "Glomerellaceae",
         "offsetgroup": "Glomerellaceae",
         "orientation": "v",
         "showlegend": true,
         "textposition": "auto",
         "type": "bar",
         "x": [
          "CDS"
         ],
         "xaxis": "x",
         "y": [
          0.00002994101619808976
         ],
         "yaxis": "y"
        },
        {
         "alignmentgroup": "True",
         "customdata": [
          [
           "Calophyllaceae"
          ]
         ],
         "hovertemplate": "Family=%{customdata[0]}<br>Proportion=%{y}<extra></extra>",
         "legendgroup": "Calophyllaceae",
         "marker": {
          "color": "#00cc96",
          "pattern": {
           "shape": ""
          }
         },
         "name": "Calophyllaceae",
         "offsetgroup": "Calophyllaceae",
         "orientation": "v",
         "showlegend": true,
         "textposition": "auto",
         "type": "bar",
         "x": [
          "CDS"
         ],
         "xaxis": "x",
         "y": [
          0.00002994101619808976
         ],
         "yaxis": "y"
        },
        {
         "alignmentgroup": "True",
         "customdata": [
          [
           "Haemodoraceae"
          ]
         ],
         "hovertemplate": "Family=%{customdata[0]}<br>Proportion=%{y}<extra></extra>",
         "legendgroup": "Haemodoraceae",
         "marker": {
          "color": "#ab63fa",
          "pattern": {
           "shape": ""
          }
         },
         "name": "Haemodoraceae",
         "offsetgroup": "Haemodoraceae",
         "orientation": "v",
         "showlegend": true,
         "textposition": "auto",
         "type": "bar",
         "x": [
          "CDS"
         ],
         "xaxis": "x",
         "y": [
          0.00002994101619808976
         ],
         "yaxis": "y"
        },
        {
         "alignmentgroup": "True",
         "customdata": [
          [
           "Schizymeniaceae"
          ]
         ],
         "hovertemplate": "Family=%{customdata[0]}<br>Proportion=%{y}<extra></extra>",
         "legendgroup": "Schizymeniaceae",
         "marker": {
          "color": "#FFA15A",
          "pattern": {
           "shape": ""
          }
         },
         "name": "Schizymeniaceae",
         "offsetgroup": "Schizymeniaceae",
         "orientation": "v",
         "showlegend": true,
         "textposition": "auto",
         "type": "bar",
         "x": [
          "CDS"
         ],
         "xaxis": "x",
         "y": [
          0.00002994101619808976
         ],
         "yaxis": "y"
        },
        {
         "alignmentgroup": "True",
         "customdata": [
          [
           "Mycenaceae"
          ]
         ],
         "hovertemplate": "Family=%{customdata[0]}<br>Proportion=%{y}<extra></extra>",
         "legendgroup": "Mycenaceae",
         "marker": {
          "color": "#19d3f3",
          "pattern": {
           "shape": ""
          }
         },
         "name": "Mycenaceae",
         "offsetgroup": "Mycenaceae",
         "orientation": "v",
         "showlegend": true,
         "textposition": "auto",
         "type": "bar",
         "x": [
          "CDS"
         ],
         "xaxis": "x",
         "y": [
          0.00002994101619808976
         ],
         "yaxis": "y"
        },
        {
         "alignmentgroup": "True",
         "customdata": [
          [
           "Ricciaceae"
          ]
         ],
         "hovertemplate": "Family=%{customdata[0]}<br>Proportion=%{y}<extra></extra>",
         "legendgroup": "Ricciaceae",
         "marker": {
          "color": "#FF6692",
          "pattern": {
           "shape": ""
          }
         },
         "name": "Ricciaceae",
         "offsetgroup": "Ricciaceae",
         "orientation": "v",
         "showlegend": true,
         "textposition": "auto",
         "type": "bar",
         "x": [
          "CDS"
         ],
         "xaxis": "x",
         "y": [
          0.00002994101619808976
         ],
         "yaxis": "y"
        },
        {
         "alignmentgroup": "True",
         "customdata": [
          [
           "Gloeophyllaceae"
          ]
         ],
         "hovertemplate": "Family=%{customdata[0]}<br>Proportion=%{y}<extra></extra>",
         "legendgroup": "Gloeophyllaceae",
         "marker": {
          "color": "#B6E880",
          "pattern": {
           "shape": ""
          }
         },
         "name": "Gloeophyllaceae",
         "offsetgroup": "Gloeophyllaceae",
         "orientation": "v",
         "showlegend": true,
         "textposition": "auto",
         "type": "bar",
         "x": [
          "CDS"
         ],
         "xaxis": "x",
         "y": [
          0.00002994101619808976
         ],
         "yaxis": "y"
        },
        {
         "alignmentgroup": "True",
         "customdata": [
          [
           "Balanophoraceae"
          ]
         ],
         "hovertemplate": "Family=%{customdata[0]}<br>Proportion=%{y}<extra></extra>",
         "legendgroup": "Balanophoraceae",
         "marker": {
          "color": "#FF97FF",
          "pattern": {
           "shape": ""
          }
         },
         "name": "Balanophoraceae",
         "offsetgroup": "Balanophoraceae",
         "orientation": "v",
         "showlegend": true,
         "textposition": "auto",
         "type": "bar",
         "x": [
          "CDS"
         ],
         "xaxis": "x",
         "y": [
          0.00002994101619808976
         ],
         "yaxis": "y"
        },
        {
         "alignmentgroup": "True",
         "customdata": [
          [
           "Plagiochilaceae"
          ]
         ],
         "hovertemplate": "Family=%{customdata[0]}<br>Proportion=%{y}<extra></extra>",
         "legendgroup": "Plagiochilaceae",
         "marker": {
          "color": "#FECB52",
          "pattern": {
           "shape": ""
          }
         },
         "name": "Plagiochilaceae",
         "offsetgroup": "Plagiochilaceae",
         "orientation": "v",
         "showlegend": true,
         "textposition": "auto",
         "type": "bar",
         "x": [
          "CDS"
         ],
         "xaxis": "x",
         "y": [
          0.00002994101619808976
         ],
         "yaxis": "y"
        },
        {
         "alignmentgroup": "True",
         "customdata": [
          [
           "Dioscoreaceae"
          ]
         ],
         "hovertemplate": "Family=%{customdata[0]}<br>Proportion=%{y}<extra></extra>",
         "legendgroup": "Dioscoreaceae",
         "marker": {
          "color": "#636efa",
          "pattern": {
           "shape": ""
          }
         },
         "name": "Dioscoreaceae",
         "offsetgroup": "Dioscoreaceae",
         "orientation": "v",
         "showlegend": true,
         "textposition": "auto",
         "type": "bar",
         "x": [
          "CDS"
         ],
         "xaxis": "x",
         "y": [
          0.00002994101619808976
         ],
         "yaxis": "y"
        },
        {
         "alignmentgroup": "True",
         "customdata": [
          [
           "Strophariaceae"
          ]
         ],
         "hovertemplate": "Family=%{customdata[0]}<br>Proportion=%{y}<extra></extra>",
         "legendgroup": "Strophariaceae",
         "marker": {
          "color": "#EF553B",
          "pattern": {
           "shape": ""
          }
         },
         "name": "Strophariaceae",
         "offsetgroup": "Strophariaceae",
         "orientation": "v",
         "showlegend": true,
         "textposition": "auto",
         "type": "bar",
         "x": [
          "CDS"
         ],
         "xaxis": "x",
         "y": [
          0.00002994101619808976
         ],
         "yaxis": "y"
        },
        {
         "alignmentgroup": "True",
         "customdata": [
          [
           "Dothideaceae"
          ]
         ],
         "hovertemplate": "Family=%{customdata[0]}<br>Proportion=%{y}<extra></extra>",
         "legendgroup": "Dothideaceae",
         "marker": {
          "color": "#00cc96",
          "pattern": {
           "shape": ""
          }
         },
         "name": "Dothideaceae",
         "offsetgroup": "Dothideaceae",
         "orientation": "v",
         "showlegend": true,
         "textposition": "auto",
         "type": "bar",
         "x": [
          "CDS"
         ],
         "xaxis": "x",
         "y": [
          0.00002994101619808976
         ],
         "yaxis": "y"
        },
        {
         "alignmentgroup": "True",
         "customdata": [
          [
           "Celotheliaceae"
          ]
         ],
         "hovertemplate": "Family=%{customdata[0]}<br>Proportion=%{y}<extra></extra>",
         "legendgroup": "Celotheliaceae",
         "marker": {
          "color": "#ab63fa",
          "pattern": {
           "shape": ""
          }
         },
         "name": "Celotheliaceae",
         "offsetgroup": "Celotheliaceae",
         "orientation": "v",
         "showlegend": true,
         "textposition": "auto",
         "type": "bar",
         "x": [
          "CDS"
         ],
         "xaxis": "x",
         "y": [
          0.00002994101619808976
         ],
         "yaxis": "y"
        },
        {
         "alignmentgroup": "True",
         "customdata": [
          [
           "Fissidentaceae"
          ]
         ],
         "hovertemplate": "Family=%{customdata[0]}<br>Proportion=%{y}<extra></extra>",
         "legendgroup": "Fissidentaceae",
         "marker": {
          "color": "#FFA15A",
          "pattern": {
           "shape": ""
          }
         },
         "name": "Fissidentaceae",
         "offsetgroup": "Fissidentaceae",
         "orientation": "v",
         "showlegend": true,
         "textposition": "auto",
         "type": "bar",
         "x": [
          "CDS"
         ],
         "xaxis": "x",
         "y": [
          0.00002994101619808976
         ],
         "yaxis": "y"
        },
        {
         "alignmentgroup": "True",
         "customdata": [
          [
           "Arcyriaceae"
          ]
         ],
         "hovertemplate": "Family=%{customdata[0]}<br>Proportion=%{y}<extra></extra>",
         "legendgroup": "Arcyriaceae",
         "marker": {
          "color": "#19d3f3",
          "pattern": {
           "shape": ""
          }
         },
         "name": "Arcyriaceae",
         "offsetgroup": "Arcyriaceae",
         "orientation": "v",
         "showlegend": true,
         "textposition": "auto",
         "type": "bar",
         "x": [
          "CDS"
         ],
         "xaxis": "x",
         "y": [
          0.00002994101619808976
         ],
         "yaxis": "y"
        },
        {
         "alignmentgroup": "True",
         "customdata": [
          [
           "Callitrichaceae"
          ]
         ],
         "hovertemplate": "Family=%{customdata[0]}<br>Proportion=%{y}<extra></extra>",
         "legendgroup": "Callitrichaceae",
         "marker": {
          "color": "#FF6692",
          "pattern": {
           "shape": ""
          }
         },
         "name": "Callitrichaceae",
         "offsetgroup": "Callitrichaceae",
         "orientation": "v",
         "showlegend": true,
         "textposition": "auto",
         "type": "bar",
         "x": [
          "CDS"
         ],
         "xaxis": "x",
         "y": [
          0.00002994101619808976
         ],
         "yaxis": "y"
        },
        {
         "alignmentgroup": "True",
         "customdata": [
          [
           "Requienellaceae"
          ]
         ],
         "hovertemplate": "Family=%{customdata[0]}<br>Proportion=%{y}<extra></extra>",
         "legendgroup": "Requienellaceae",
         "marker": {
          "color": "#B6E880",
          "pattern": {
           "shape": ""
          }
         },
         "name": "Requienellaceae",
         "offsetgroup": "Requienellaceae",
         "orientation": "v",
         "showlegend": true,
         "textposition": "auto",
         "type": "bar",
         "x": [
          "CDS"
         ],
         "xaxis": "x",
         "y": [
          0.00002994101619808976
         ],
         "yaxis": "y"
        },
        {
         "alignmentgroup": "True",
         "customdata": [
          [
           "Tetrachondraceae"
          ]
         ],
         "hovertemplate": "Family=%{customdata[0]}<br>Proportion=%{y}<extra></extra>",
         "legendgroup": "Tetrachondraceae",
         "marker": {
          "color": "#FF97FF",
          "pattern": {
           "shape": ""
          }
         },
         "name": "Tetrachondraceae",
         "offsetgroup": "Tetrachondraceae",
         "orientation": "v",
         "showlegend": true,
         "textposition": "auto",
         "type": "bar",
         "x": [
          "CDS"
         ],
         "xaxis": "x",
         "y": [
          0.00002994101619808976
         ],
         "yaxis": "y"
        },
        {
         "alignmentgroup": "True",
         "customdata": [
          [
           "Fragilariaceae"
          ]
         ],
         "hovertemplate": "Family=%{customdata[0]}<br>Proportion=%{y}<extra></extra>",
         "legendgroup": "Fragilariaceae",
         "marker": {
          "color": "#FECB52",
          "pattern": {
           "shape": ""
          }
         },
         "name": "Fragilariaceae",
         "offsetgroup": "Fragilariaceae",
         "orientation": "v",
         "showlegend": true,
         "textposition": "auto",
         "type": "bar",
         "x": [
          "CDS"
         ],
         "xaxis": "x",
         "y": [
          0.00002994101619808976
         ],
         "yaxis": "y"
        },
        {
         "alignmentgroup": "True",
         "customdata": [
          [
           "Ceratophyllaceae"
          ]
         ],
         "hovertemplate": "Family=%{customdata[0]}<br>Proportion=%{y}<extra></extra>",
         "legendgroup": "Ceratophyllaceae",
         "marker": {
          "color": "#636efa",
          "pattern": {
           "shape": ""
          }
         },
         "name": "Ceratophyllaceae",
         "offsetgroup": "Ceratophyllaceae",
         "orientation": "v",
         "showlegend": true,
         "textposition": "auto",
         "type": "bar",
         "x": [
          "CDS"
         ],
         "xaxis": "x",
         "y": [
          0.00002994101619808976
         ],
         "yaxis": "y"
        },
        {
         "alignmentgroup": "True",
         "customdata": [
          [
           "Chaconiaceae"
          ]
         ],
         "hovertemplate": "Family=%{customdata[0]}<br>Proportion=%{y}<extra></extra>",
         "legendgroup": "Chaconiaceae",
         "marker": {
          "color": "#EF553B",
          "pattern": {
           "shape": ""
          }
         },
         "name": "Chaconiaceae",
         "offsetgroup": "Chaconiaceae",
         "orientation": "v",
         "showlegend": true,
         "textposition": "auto",
         "type": "bar",
         "x": [
          "CDS"
         ],
         "xaxis": "x",
         "y": [
          0.00002994101619808976
         ],
         "yaxis": "y"
        },
        {
         "alignmentgroup": "True",
         "customdata": [
          [
           "Pedaliaceae"
          ]
         ],
         "hovertemplate": "Family=%{customdata[0]}<br>Proportion=%{y}<extra></extra>",
         "legendgroup": "Pedaliaceae",
         "marker": {
          "color": "#00cc96",
          "pattern": {
           "shape": ""
          }
         },
         "name": "Pedaliaceae",
         "offsetgroup": "Pedaliaceae",
         "orientation": "v",
         "showlegend": true,
         "textposition": "auto",
         "type": "bar",
         "x": [
          "CDS"
         ],
         "xaxis": "x",
         "y": [
          0.00002994101619808976
         ],
         "yaxis": "y"
        },
        {
         "alignmentgroup": "True",
         "customdata": [
          [
           "Peniophoraceae"
          ]
         ],
         "hovertemplate": "Family=%{customdata[0]}<br>Proportion=%{y}<extra></extra>",
         "legendgroup": "Peniophoraceae",
         "marker": {
          "color": "#ab63fa",
          "pattern": {
           "shape": ""
          }
         },
         "name": "Peniophoraceae",
         "offsetgroup": "Peniophoraceae",
         "orientation": "v",
         "showlegend": true,
         "textposition": "auto",
         "type": "bar",
         "x": [
          "CDS"
         ],
         "xaxis": "x",
         "y": [
          0.00002994101619808976
         ],
         "yaxis": "y"
        },
        {
         "alignmentgroup": "True",
         "customdata": [
          [
           "Phakopsoraceae"
          ]
         ],
         "hovertemplate": "Family=%{customdata[0]}<br>Proportion=%{y}<extra></extra>",
         "legendgroup": "Phakopsoraceae",
         "marker": {
          "color": "#FFA15A",
          "pattern": {
           "shape": ""
          }
         },
         "name": "Phakopsoraceae",
         "offsetgroup": "Phakopsoraceae",
         "orientation": "v",
         "showlegend": true,
         "textposition": "auto",
         "type": "bar",
         "x": [
          "CDS"
         ],
         "xaxis": "x",
         "y": [
          0.00002994101619808976
         ],
         "yaxis": "y"
        },
        {
         "alignmentgroup": "True",
         "customdata": [
          [
           "Sporolithaceae"
          ]
         ],
         "hovertemplate": "Family=%{customdata[0]}<br>Proportion=%{y}<extra></extra>",
         "legendgroup": "Sporolithaceae",
         "marker": {
          "color": "#19d3f3",
          "pattern": {
           "shape": ""
          }
         },
         "name": "Sporolithaceae",
         "offsetgroup": "Sporolithaceae",
         "orientation": "v",
         "showlegend": true,
         "textposition": "auto",
         "type": "bar",
         "x": [
          "CDS"
         ],
         "xaxis": "x",
         "y": [
          0.00002994101619808976
         ],
         "yaxis": "y"
        },
        {
         "alignmentgroup": "True",
         "customdata": [
          [
           "Stereaceae"
          ]
         ],
         "hovertemplate": "Family=%{customdata[0]}<br>Proportion=%{y}<extra></extra>",
         "legendgroup": "Stereaceae",
         "marker": {
          "color": "#FF6692",
          "pattern": {
           "shape": ""
          }
         },
         "name": "Stereaceae",
         "offsetgroup": "Stereaceae",
         "orientation": "v",
         "showlegend": true,
         "textposition": "auto",
         "type": "bar",
         "x": [
          "CDS"
         ],
         "xaxis": "x",
         "y": [
          0.00002994101619808976
         ],
         "yaxis": "y"
        },
        {
         "alignmentgroup": "True",
         "customdata": [
          [
           "Leptolyngbyaceae"
          ]
         ],
         "hovertemplate": "Family=%{customdata[0]}<br>Proportion=%{y}<extra></extra>",
         "legendgroup": "Leptolyngbyaceae",
         "marker": {
          "color": "#B6E880",
          "pattern": {
           "shape": ""
          }
         },
         "name": "Leptolyngbyaceae",
         "offsetgroup": "Leptolyngbyaceae",
         "orientation": "v",
         "showlegend": true,
         "textposition": "auto",
         "type": "bar",
         "x": [
          "CDS"
         ],
         "xaxis": "x",
         "y": [
          0.00002994101619808976
         ],
         "yaxis": "y"
        }
       ],
       "layout": {
        "barmode": "relative",
        "font": {
         "family": "Arial"
        },
        "height": 600,
        "legend": {
         "title": {
          "text": "Family"
         },
         "tracegroupgap": 0
        },
        "template": {
         "data": {
          "bar": [
           {
            "error_x": {
             "color": "#2a3f5f"
            },
            "error_y": {
             "color": "#2a3f5f"
            },
            "marker": {
             "line": {
              "color": "#E5ECF6",
              "width": 0.5
             },
             "pattern": {
              "fillmode": "overlay",
              "size": 10,
              "solidity": 0.2
             }
            },
            "type": "bar"
           }
          ],
          "barpolar": [
           {
            "marker": {
             "line": {
              "color": "#E5ECF6",
              "width": 0.5
             },
             "pattern": {
              "fillmode": "overlay",
              "size": 10,
              "solidity": 0.2
             }
            },
            "type": "barpolar"
           }
          ],
          "carpet": [
           {
            "aaxis": {
             "endlinecolor": "#2a3f5f",
             "gridcolor": "white",
             "linecolor": "white",
             "minorgridcolor": "white",
             "startlinecolor": "#2a3f5f"
            },
            "baxis": {
             "endlinecolor": "#2a3f5f",
             "gridcolor": "white",
             "linecolor": "white",
             "minorgridcolor": "white",
             "startlinecolor": "#2a3f5f"
            },
            "type": "carpet"
           }
          ],
          "choropleth": [
           {
            "colorbar": {
             "outlinewidth": 0,
             "ticks": ""
            },
            "type": "choropleth"
           }
          ],
          "contour": [
           {
            "colorbar": {
             "outlinewidth": 0,
             "ticks": ""
            },
            "colorscale": [
             [
              0,
              "#0d0887"
             ],
             [
              0.1111111111111111,
              "#46039f"
             ],
             [
              0.2222222222222222,
              "#7201a8"
             ],
             [
              0.3333333333333333,
              "#9c179e"
             ],
             [
              0.4444444444444444,
              "#bd3786"
             ],
             [
              0.5555555555555556,
              "#d8576b"
             ],
             [
              0.6666666666666666,
              "#ed7953"
             ],
             [
              0.7777777777777778,
              "#fb9f3a"
             ],
             [
              0.8888888888888888,
              "#fdca26"
             ],
             [
              1,
              "#f0f921"
             ]
            ],
            "type": "contour"
           }
          ],
          "contourcarpet": [
           {
            "colorbar": {
             "outlinewidth": 0,
             "ticks": ""
            },
            "type": "contourcarpet"
           }
          ],
          "heatmap": [
           {
            "colorbar": {
             "outlinewidth": 0,
             "ticks": ""
            },
            "colorscale": [
             [
              0,
              "#0d0887"
             ],
             [
              0.1111111111111111,
              "#46039f"
             ],
             [
              0.2222222222222222,
              "#7201a8"
             ],
             [
              0.3333333333333333,
              "#9c179e"
             ],
             [
              0.4444444444444444,
              "#bd3786"
             ],
             [
              0.5555555555555556,
              "#d8576b"
             ],
             [
              0.6666666666666666,
              "#ed7953"
             ],
             [
              0.7777777777777778,
              "#fb9f3a"
             ],
             [
              0.8888888888888888,
              "#fdca26"
             ],
             [
              1,
              "#f0f921"
             ]
            ],
            "type": "heatmap"
           }
          ],
          "heatmapgl": [
           {
            "colorbar": {
             "outlinewidth": 0,
             "ticks": ""
            },
            "colorscale": [
             [
              0,
              "#0d0887"
             ],
             [
              0.1111111111111111,
              "#46039f"
             ],
             [
              0.2222222222222222,
              "#7201a8"
             ],
             [
              0.3333333333333333,
              "#9c179e"
             ],
             [
              0.4444444444444444,
              "#bd3786"
             ],
             [
              0.5555555555555556,
              "#d8576b"
             ],
             [
              0.6666666666666666,
              "#ed7953"
             ],
             [
              0.7777777777777778,
              "#fb9f3a"
             ],
             [
              0.8888888888888888,
              "#fdca26"
             ],
             [
              1,
              "#f0f921"
             ]
            ],
            "type": "heatmapgl"
           }
          ],
          "histogram": [
           {
            "marker": {
             "pattern": {
              "fillmode": "overlay",
              "size": 10,
              "solidity": 0.2
             }
            },
            "type": "histogram"
           }
          ],
          "histogram2d": [
           {
            "colorbar": {
             "outlinewidth": 0,
             "ticks": ""
            },
            "colorscale": [
             [
              0,
              "#0d0887"
             ],
             [
              0.1111111111111111,
              "#46039f"
             ],
             [
              0.2222222222222222,
              "#7201a8"
             ],
             [
              0.3333333333333333,
              "#9c179e"
             ],
             [
              0.4444444444444444,
              "#bd3786"
             ],
             [
              0.5555555555555556,
              "#d8576b"
             ],
             [
              0.6666666666666666,
              "#ed7953"
             ],
             [
              0.7777777777777778,
              "#fb9f3a"
             ],
             [
              0.8888888888888888,
              "#fdca26"
             ],
             [
              1,
              "#f0f921"
             ]
            ],
            "type": "histogram2d"
           }
          ],
          "histogram2dcontour": [
           {
            "colorbar": {
             "outlinewidth": 0,
             "ticks": ""
            },
            "colorscale": [
             [
              0,
              "#0d0887"
             ],
             [
              0.1111111111111111,
              "#46039f"
             ],
             [
              0.2222222222222222,
              "#7201a8"
             ],
             [
              0.3333333333333333,
              "#9c179e"
             ],
             [
              0.4444444444444444,
              "#bd3786"
             ],
             [
              0.5555555555555556,
              "#d8576b"
             ],
             [
              0.6666666666666666,
              "#ed7953"
             ],
             [
              0.7777777777777778,
              "#fb9f3a"
             ],
             [
              0.8888888888888888,
              "#fdca26"
             ],
             [
              1,
              "#f0f921"
             ]
            ],
            "type": "histogram2dcontour"
           }
          ],
          "mesh3d": [
           {
            "colorbar": {
             "outlinewidth": 0,
             "ticks": ""
            },
            "type": "mesh3d"
           }
          ],
          "parcoords": [
           {
            "line": {
             "colorbar": {
              "outlinewidth": 0,
              "ticks": ""
             }
            },
            "type": "parcoords"
           }
          ],
          "pie": [
           {
            "automargin": true,
            "type": "pie"
           }
          ],
          "scatter": [
           {
            "fillpattern": {
             "fillmode": "overlay",
             "size": 10,
             "solidity": 0.2
            },
            "type": "scatter"
           }
          ],
          "scatter3d": [
           {
            "line": {
             "colorbar": {
              "outlinewidth": 0,
              "ticks": ""
             }
            },
            "marker": {
             "colorbar": {
              "outlinewidth": 0,
              "ticks": ""
             }
            },
            "type": "scatter3d"
           }
          ],
          "scattercarpet": [
           {
            "marker": {
             "colorbar": {
              "outlinewidth": 0,
              "ticks": ""
             }
            },
            "type": "scattercarpet"
           }
          ],
          "scattergeo": [
           {
            "marker": {
             "colorbar": {
              "outlinewidth": 0,
              "ticks": ""
             }
            },
            "type": "scattergeo"
           }
          ],
          "scattergl": [
           {
            "marker": {
             "colorbar": {
              "outlinewidth": 0,
              "ticks": ""
             }
            },
            "type": "scattergl"
           }
          ],
          "scattermapbox": [
           {
            "marker": {
             "colorbar": {
              "outlinewidth": 0,
              "ticks": ""
             }
            },
            "type": "scattermapbox"
           }
          ],
          "scatterpolar": [
           {
            "marker": {
             "colorbar": {
              "outlinewidth": 0,
              "ticks": ""
             }
            },
            "type": "scatterpolar"
           }
          ],
          "scatterpolargl": [
           {
            "marker": {
             "colorbar": {
              "outlinewidth": 0,
              "ticks": ""
             }
            },
            "type": "scatterpolargl"
           }
          ],
          "scatterternary": [
           {
            "marker": {
             "colorbar": {
              "outlinewidth": 0,
              "ticks": ""
             }
            },
            "type": "scatterternary"
           }
          ],
          "surface": [
           {
            "colorbar": {
             "outlinewidth": 0,
             "ticks": ""
            },
            "colorscale": [
             [
              0,
              "#0d0887"
             ],
             [
              0.1111111111111111,
              "#46039f"
             ],
             [
              0.2222222222222222,
              "#7201a8"
             ],
             [
              0.3333333333333333,
              "#9c179e"
             ],
             [
              0.4444444444444444,
              "#bd3786"
             ],
             [
              0.5555555555555556,
              "#d8576b"
             ],
             [
              0.6666666666666666,
              "#ed7953"
             ],
             [
              0.7777777777777778,
              "#fb9f3a"
             ],
             [
              0.8888888888888888,
              "#fdca26"
             ],
             [
              1,
              "#f0f921"
             ]
            ],
            "type": "surface"
           }
          ],
          "table": [
           {
            "cells": {
             "fill": {
              "color": "#EBF0F8"
             },
             "line": {
              "color": "white"
             }
            },
            "header": {
             "fill": {
              "color": "#C8D4E3"
             },
             "line": {
              "color": "white"
             }
            },
            "type": "table"
           }
          ]
         },
         "layout": {
          "annotationdefaults": {
           "arrowcolor": "#2a3f5f",
           "arrowhead": 0,
           "arrowwidth": 1
          },
          "autotypenumbers": "strict",
          "coloraxis": {
           "colorbar": {
            "outlinewidth": 0,
            "ticks": ""
           }
          },
          "colorscale": {
           "diverging": [
            [
             0,
             "#8e0152"
            ],
            [
             0.1,
             "#c51b7d"
            ],
            [
             0.2,
             "#de77ae"
            ],
            [
             0.3,
             "#f1b6da"
            ],
            [
             0.4,
             "#fde0ef"
            ],
            [
             0.5,
             "#f7f7f7"
            ],
            [
             0.6,
             "#e6f5d0"
            ],
            [
             0.7,
             "#b8e186"
            ],
            [
             0.8,
             "#7fbc41"
            ],
            [
             0.9,
             "#4d9221"
            ],
            [
             1,
             "#276419"
            ]
           ],
           "sequential": [
            [
             0,
             "#0d0887"
            ],
            [
             0.1111111111111111,
             "#46039f"
            ],
            [
             0.2222222222222222,
             "#7201a8"
            ],
            [
             0.3333333333333333,
             "#9c179e"
            ],
            [
             0.4444444444444444,
             "#bd3786"
            ],
            [
             0.5555555555555556,
             "#d8576b"
            ],
            [
             0.6666666666666666,
             "#ed7953"
            ],
            [
             0.7777777777777778,
             "#fb9f3a"
            ],
            [
             0.8888888888888888,
             "#fdca26"
            ],
            [
             1,
             "#f0f921"
            ]
           ],
           "sequentialminus": [
            [
             0,
             "#0d0887"
            ],
            [
             0.1111111111111111,
             "#46039f"
            ],
            [
             0.2222222222222222,
             "#7201a8"
            ],
            [
             0.3333333333333333,
             "#9c179e"
            ],
            [
             0.4444444444444444,
             "#bd3786"
            ],
            [
             0.5555555555555556,
             "#d8576b"
            ],
            [
             0.6666666666666666,
             "#ed7953"
            ],
            [
             0.7777777777777778,
             "#fb9f3a"
            ],
            [
             0.8888888888888888,
             "#fdca26"
            ],
            [
             1,
             "#f0f921"
            ]
           ]
          },
          "colorway": [
           "#636efa",
           "#EF553B",
           "#00cc96",
           "#ab63fa",
           "#FFA15A",
           "#19d3f3",
           "#FF6692",
           "#B6E880",
           "#FF97FF",
           "#FECB52"
          ],
          "font": {
           "color": "#2a3f5f"
          },
          "geo": {
           "bgcolor": "white",
           "lakecolor": "white",
           "landcolor": "#E5ECF6",
           "showlakes": true,
           "showland": true,
           "subunitcolor": "white"
          },
          "hoverlabel": {
           "align": "left"
          },
          "hovermode": "closest",
          "mapbox": {
           "style": "light"
          },
          "paper_bgcolor": "white",
          "plot_bgcolor": "#E5ECF6",
          "polar": {
           "angularaxis": {
            "gridcolor": "white",
            "linecolor": "white",
            "ticks": ""
           },
           "bgcolor": "#E5ECF6",
           "radialaxis": {
            "gridcolor": "white",
            "linecolor": "white",
            "ticks": ""
           }
          },
          "scene": {
           "xaxis": {
            "backgroundcolor": "#E5ECF6",
            "gridcolor": "white",
            "gridwidth": 2,
            "linecolor": "white",
            "showbackground": true,
            "ticks": "",
            "zerolinecolor": "white"
           },
           "yaxis": {
            "backgroundcolor": "#E5ECF6",
            "gridcolor": "white",
            "gridwidth": 2,
            "linecolor": "white",
            "showbackground": true,
            "ticks": "",
            "zerolinecolor": "white"
           },
           "zaxis": {
            "backgroundcolor": "#E5ECF6",
            "gridcolor": "white",
            "gridwidth": 2,
            "linecolor": "white",
            "showbackground": true,
            "ticks": "",
            "zerolinecolor": "white"
           }
          },
          "shapedefaults": {
           "line": {
            "color": "#2a3f5f"
           }
          },
          "ternary": {
           "aaxis": {
            "gridcolor": "white",
            "linecolor": "white",
            "ticks": ""
           },
           "baxis": {
            "gridcolor": "white",
            "linecolor": "white",
            "ticks": ""
           },
           "bgcolor": "#E5ECF6",
           "caxis": {
            "gridcolor": "white",
            "linecolor": "white",
            "ticks": ""
           }
          },
          "title": {
           "x": 0.05
          },
          "xaxis": {
           "automargin": true,
           "gridcolor": "white",
           "linecolor": "white",
           "ticks": "",
           "title": {
            "standoff": 15
           },
           "zerolinecolor": "white",
           "zerolinewidth": 2
          },
          "yaxis": {
           "automargin": true,
           "gridcolor": "white",
           "linecolor": "white",
           "ticks": "",
           "title": {
            "standoff": 15
           },
           "zerolinecolor": "white",
           "zerolinewidth": 2
          }
         }
        },
        "title": {
         "font": {
          "family": "Arial"
         },
         "text": "Proportion of Taxonomic Family, per Collection Code"
        },
        "xaxis": {
         "anchor": "y",
         "domain": [
          0,
          1
         ],
         "title": {
          "text": "Collection Code"
         }
        },
        "yaxis": {
         "anchor": "x",
         "domain": [
          0,
          1
         ],
         "title": {
          "text": "Proportion"
         }
        }
       }
      }
     },
     "metadata": {},
     "output_type": "display_data"
    }
   ],
   "source": [
    "# define a fig\n",
    "fig = px.bar(data_taxonomy_df.sort_values('proportion', ascending=False), \n",
    "             x=\"CollectionCode\", \n",
    "             y=\"proportion\", \n",
    "             labels = {'proportion': 'Proportion',\n",
    "                        'CollectionCode': 'Collection Code'},\n",
    "             hover_data = {'proportion':True,\n",
    "                           'CollectionCode':False,\n",
    "                           'Family':True},\n",
    "             color=\"Family\", \n",
    "             title=\"Proportion of Taxonomic Family, per Collection Code\",\n",
    "             width=None, \n",
    "             height=600             \n",
    "             )\n",
    "\n",
    "# font\n",
    "fig.update_layout(\n",
    "    font_family=\"Arial\",\n",
    "    title_font_family=\"Arial\")\n",
    "\n",
    "fig.show()"
   ]
  },
  {
   "cell_type": "code",
   "execution_count": 27,
   "metadata": {},
   "outputs": [
    {
     "data": {
      "text/html": [
       "<div>\n",
       "<style scoped>\n",
       "    .dataframe tbody tr th:only-of-type {\n",
       "        vertical-align: middle;\n",
       "    }\n",
       "\n",
       "    .dataframe tbody tr th {\n",
       "        vertical-align: top;\n",
       "    }\n",
       "\n",
       "    .dataframe thead th {\n",
       "        text-align: right;\n",
       "    }\n",
       "</style>\n",
       "<table border=\"1\" class=\"dataframe\">\n",
       "  <thead>\n",
       "    <tr style=\"text-align: right;\">\n",
       "      <th></th>\n",
       "      <th>Origin</th>\n",
       "      <th>proportion</th>\n",
       "    </tr>\n",
       "  </thead>\n",
       "  <tbody>\n",
       "    <tr>\n",
       "      <th>0</th>\n",
       "      <td>Native</td>\n",
       "      <td>0.368857</td>\n",
       "    </tr>\n",
       "    <tr>\n",
       "      <th>1</th>\n",
       "      <td>Endemic</td>\n",
       "      <td>0.303960</td>\n",
       "    </tr>\n",
       "    <tr>\n",
       "      <th>2</th>\n",
       "      <td>Introduced - established</td>\n",
       "      <td>0.271644</td>\n",
       "    </tr>\n",
       "    <tr>\n",
       "      <th>3</th>\n",
       "      <td>Cryptogenic</td>\n",
       "      <td>0.031823</td>\n",
       "    </tr>\n",
       "    <tr>\n",
       "      <th>4</th>\n",
       "      <td>No data</td>\n",
       "      <td>0.021370</td>\n",
       "    </tr>\n",
       "    <tr>\n",
       "      <th>5</th>\n",
       "      <td>Migrant</td>\n",
       "      <td>0.000803</td>\n",
       "    </tr>\n",
       "    <tr>\n",
       "      <th>6</th>\n",
       "      <td>Vagrant</td>\n",
       "      <td>0.000571</td>\n",
       "    </tr>\n",
       "    <tr>\n",
       "      <th>7</th>\n",
       "      <td>Introduced - eradicated</td>\n",
       "      <td>0.000494</td>\n",
       "    </tr>\n",
       "    <tr>\n",
       "      <th>8</th>\n",
       "      <td>Introduced - intercepted</td>\n",
       "      <td>0.000479</td>\n",
       "    </tr>\n",
       "  </tbody>\n",
       "</table>\n",
       "</div>"
      ],
      "text/plain": [
       "                     Origin  proportion\n",
       "0                    Native    0.368857\n",
       "1                   Endemic    0.303960\n",
       "2  Introduced - established    0.271644\n",
       "3               Cryptogenic    0.031823\n",
       "4                   No data    0.021370\n",
       "5                   Migrant    0.000803\n",
       "6                   Vagrant    0.000571\n",
       "7   Introduced - eradicated    0.000494\n",
       "8  Introduced - intercepted    0.000479"
      ]
     },
     "execution_count": 27,
     "metadata": {},
     "output_type": "execute_result"
    }
   ],
   "source": [
    "data_sp_origin_df"
   ]
  },
  {
   "cell_type": "code",
   "execution_count": 28,
   "metadata": {},
   "outputs": [
    {
     "data": {
      "application/vnd.plotly.v1+json": {
       "config": {
        "plotlyServerURL": "https://plot.ly"
       },
       "data": [
        {
         "domain": {
          "x": [
           0,
           1
          ],
          "y": [
           0,
           1
          ]
         },
         "hovertemplate": "Origin=%{label}<br>proportion=%{value}<extra></extra>",
         "labels": [
          "Native",
          "Endemic",
          "Introduced - established",
          "Cryptogenic",
          "No data",
          "Migrant",
          "Vagrant",
          "Introduced - eradicated",
          "Introduced - intercepted"
         ],
         "legendgroup": "",
         "name": "",
         "showlegend": true,
         "textinfo": "percent+label",
         "textposition": "outside",
         "type": "pie",
         "values": [
          0.368856635528449,
          0.30396047247741836,
          0.27164363467922487,
          0.03182274376592295,
          0.021369566895699837,
          0.0008029028024395893,
          0.0005712962248127847,
          0.0004940940322705165,
          0.00047865359376206285
         ]
        }
       ],
       "layout": {
        "font": {
         "family": "Arial"
        },
        "height": 600,
        "legend": {
         "tracegroupgap": 0
        },
        "template": {
         "data": {
          "bar": [
           {
            "error_x": {
             "color": "#2a3f5f"
            },
            "error_y": {
             "color": "#2a3f5f"
            },
            "marker": {
             "line": {
              "color": "#E5ECF6",
              "width": 0.5
             },
             "pattern": {
              "fillmode": "overlay",
              "size": 10,
              "solidity": 0.2
             }
            },
            "type": "bar"
           }
          ],
          "barpolar": [
           {
            "marker": {
             "line": {
              "color": "#E5ECF6",
              "width": 0.5
             },
             "pattern": {
              "fillmode": "overlay",
              "size": 10,
              "solidity": 0.2
             }
            },
            "type": "barpolar"
           }
          ],
          "carpet": [
           {
            "aaxis": {
             "endlinecolor": "#2a3f5f",
             "gridcolor": "white",
             "linecolor": "white",
             "minorgridcolor": "white",
             "startlinecolor": "#2a3f5f"
            },
            "baxis": {
             "endlinecolor": "#2a3f5f",
             "gridcolor": "white",
             "linecolor": "white",
             "minorgridcolor": "white",
             "startlinecolor": "#2a3f5f"
            },
            "type": "carpet"
           }
          ],
          "choropleth": [
           {
            "colorbar": {
             "outlinewidth": 0,
             "ticks": ""
            },
            "type": "choropleth"
           }
          ],
          "contour": [
           {
            "colorbar": {
             "outlinewidth": 0,
             "ticks": ""
            },
            "colorscale": [
             [
              0,
              "#0d0887"
             ],
             [
              0.1111111111111111,
              "#46039f"
             ],
             [
              0.2222222222222222,
              "#7201a8"
             ],
             [
              0.3333333333333333,
              "#9c179e"
             ],
             [
              0.4444444444444444,
              "#bd3786"
             ],
             [
              0.5555555555555556,
              "#d8576b"
             ],
             [
              0.6666666666666666,
              "#ed7953"
             ],
             [
              0.7777777777777778,
              "#fb9f3a"
             ],
             [
              0.8888888888888888,
              "#fdca26"
             ],
             [
              1,
              "#f0f921"
             ]
            ],
            "type": "contour"
           }
          ],
          "contourcarpet": [
           {
            "colorbar": {
             "outlinewidth": 0,
             "ticks": ""
            },
            "type": "contourcarpet"
           }
          ],
          "heatmap": [
           {
            "colorbar": {
             "outlinewidth": 0,
             "ticks": ""
            },
            "colorscale": [
             [
              0,
              "#0d0887"
             ],
             [
              0.1111111111111111,
              "#46039f"
             ],
             [
              0.2222222222222222,
              "#7201a8"
             ],
             [
              0.3333333333333333,
              "#9c179e"
             ],
             [
              0.4444444444444444,
              "#bd3786"
             ],
             [
              0.5555555555555556,
              "#d8576b"
             ],
             [
              0.6666666666666666,
              "#ed7953"
             ],
             [
              0.7777777777777778,
              "#fb9f3a"
             ],
             [
              0.8888888888888888,
              "#fdca26"
             ],
             [
              1,
              "#f0f921"
             ]
            ],
            "type": "heatmap"
           }
          ],
          "heatmapgl": [
           {
            "colorbar": {
             "outlinewidth": 0,
             "ticks": ""
            },
            "colorscale": [
             [
              0,
              "#0d0887"
             ],
             [
              0.1111111111111111,
              "#46039f"
             ],
             [
              0.2222222222222222,
              "#7201a8"
             ],
             [
              0.3333333333333333,
              "#9c179e"
             ],
             [
              0.4444444444444444,
              "#bd3786"
             ],
             [
              0.5555555555555556,
              "#d8576b"
             ],
             [
              0.6666666666666666,
              "#ed7953"
             ],
             [
              0.7777777777777778,
              "#fb9f3a"
             ],
             [
              0.8888888888888888,
              "#fdca26"
             ],
             [
              1,
              "#f0f921"
             ]
            ],
            "type": "heatmapgl"
           }
          ],
          "histogram": [
           {
            "marker": {
             "pattern": {
              "fillmode": "overlay",
              "size": 10,
              "solidity": 0.2
             }
            },
            "type": "histogram"
           }
          ],
          "histogram2d": [
           {
            "colorbar": {
             "outlinewidth": 0,
             "ticks": ""
            },
            "colorscale": [
             [
              0,
              "#0d0887"
             ],
             [
              0.1111111111111111,
              "#46039f"
             ],
             [
              0.2222222222222222,
              "#7201a8"
             ],
             [
              0.3333333333333333,
              "#9c179e"
             ],
             [
              0.4444444444444444,
              "#bd3786"
             ],
             [
              0.5555555555555556,
              "#d8576b"
             ],
             [
              0.6666666666666666,
              "#ed7953"
             ],
             [
              0.7777777777777778,
              "#fb9f3a"
             ],
             [
              0.8888888888888888,
              "#fdca26"
             ],
             [
              1,
              "#f0f921"
             ]
            ],
            "type": "histogram2d"
           }
          ],
          "histogram2dcontour": [
           {
            "colorbar": {
             "outlinewidth": 0,
             "ticks": ""
            },
            "colorscale": [
             [
              0,
              "#0d0887"
             ],
             [
              0.1111111111111111,
              "#46039f"
             ],
             [
              0.2222222222222222,
              "#7201a8"
             ],
             [
              0.3333333333333333,
              "#9c179e"
             ],
             [
              0.4444444444444444,
              "#bd3786"
             ],
             [
              0.5555555555555556,
              "#d8576b"
             ],
             [
              0.6666666666666666,
              "#ed7953"
             ],
             [
              0.7777777777777778,
              "#fb9f3a"
             ],
             [
              0.8888888888888888,
              "#fdca26"
             ],
             [
              1,
              "#f0f921"
             ]
            ],
            "type": "histogram2dcontour"
           }
          ],
          "mesh3d": [
           {
            "colorbar": {
             "outlinewidth": 0,
             "ticks": ""
            },
            "type": "mesh3d"
           }
          ],
          "parcoords": [
           {
            "line": {
             "colorbar": {
              "outlinewidth": 0,
              "ticks": ""
             }
            },
            "type": "parcoords"
           }
          ],
          "pie": [
           {
            "automargin": true,
            "type": "pie"
           }
          ],
          "scatter": [
           {
            "fillpattern": {
             "fillmode": "overlay",
             "size": 10,
             "solidity": 0.2
            },
            "type": "scatter"
           }
          ],
          "scatter3d": [
           {
            "line": {
             "colorbar": {
              "outlinewidth": 0,
              "ticks": ""
             }
            },
            "marker": {
             "colorbar": {
              "outlinewidth": 0,
              "ticks": ""
             }
            },
            "type": "scatter3d"
           }
          ],
          "scattercarpet": [
           {
            "marker": {
             "colorbar": {
              "outlinewidth": 0,
              "ticks": ""
             }
            },
            "type": "scattercarpet"
           }
          ],
          "scattergeo": [
           {
            "marker": {
             "colorbar": {
              "outlinewidth": 0,
              "ticks": ""
             }
            },
            "type": "scattergeo"
           }
          ],
          "scattergl": [
           {
            "marker": {
             "colorbar": {
              "outlinewidth": 0,
              "ticks": ""
             }
            },
            "type": "scattergl"
           }
          ],
          "scattermapbox": [
           {
            "marker": {
             "colorbar": {
              "outlinewidth": 0,
              "ticks": ""
             }
            },
            "type": "scattermapbox"
           }
          ],
          "scatterpolar": [
           {
            "marker": {
             "colorbar": {
              "outlinewidth": 0,
              "ticks": ""
             }
            },
            "type": "scatterpolar"
           }
          ],
          "scatterpolargl": [
           {
            "marker": {
             "colorbar": {
              "outlinewidth": 0,
              "ticks": ""
             }
            },
            "type": "scatterpolargl"
           }
          ],
          "scatterternary": [
           {
            "marker": {
             "colorbar": {
              "outlinewidth": 0,
              "ticks": ""
             }
            },
            "type": "scatterternary"
           }
          ],
          "surface": [
           {
            "colorbar": {
             "outlinewidth": 0,
             "ticks": ""
            },
            "colorscale": [
             [
              0,
              "#0d0887"
             ],
             [
              0.1111111111111111,
              "#46039f"
             ],
             [
              0.2222222222222222,
              "#7201a8"
             ],
             [
              0.3333333333333333,
              "#9c179e"
             ],
             [
              0.4444444444444444,
              "#bd3786"
             ],
             [
              0.5555555555555556,
              "#d8576b"
             ],
             [
              0.6666666666666666,
              "#ed7953"
             ],
             [
              0.7777777777777778,
              "#fb9f3a"
             ],
             [
              0.8888888888888888,
              "#fdca26"
             ],
             [
              1,
              "#f0f921"
             ]
            ],
            "type": "surface"
           }
          ],
          "table": [
           {
            "cells": {
             "fill": {
              "color": "#EBF0F8"
             },
             "line": {
              "color": "white"
             }
            },
            "header": {
             "fill": {
              "color": "#C8D4E3"
             },
             "line": {
              "color": "white"
             }
            },
            "type": "table"
           }
          ]
         },
         "layout": {
          "annotationdefaults": {
           "arrowcolor": "#2a3f5f",
           "arrowhead": 0,
           "arrowwidth": 1
          },
          "autotypenumbers": "strict",
          "coloraxis": {
           "colorbar": {
            "outlinewidth": 0,
            "ticks": ""
           }
          },
          "colorscale": {
           "diverging": [
            [
             0,
             "#8e0152"
            ],
            [
             0.1,
             "#c51b7d"
            ],
            [
             0.2,
             "#de77ae"
            ],
            [
             0.3,
             "#f1b6da"
            ],
            [
             0.4,
             "#fde0ef"
            ],
            [
             0.5,
             "#f7f7f7"
            ],
            [
             0.6,
             "#e6f5d0"
            ],
            [
             0.7,
             "#b8e186"
            ],
            [
             0.8,
             "#7fbc41"
            ],
            [
             0.9,
             "#4d9221"
            ],
            [
             1,
             "#276419"
            ]
           ],
           "sequential": [
            [
             0,
             "#0d0887"
            ],
            [
             0.1111111111111111,
             "#46039f"
            ],
            [
             0.2222222222222222,
             "#7201a8"
            ],
            [
             0.3333333333333333,
             "#9c179e"
            ],
            [
             0.4444444444444444,
             "#bd3786"
            ],
            [
             0.5555555555555556,
             "#d8576b"
            ],
            [
             0.6666666666666666,
             "#ed7953"
            ],
            [
             0.7777777777777778,
             "#fb9f3a"
            ],
            [
             0.8888888888888888,
             "#fdca26"
            ],
            [
             1,
             "#f0f921"
            ]
           ],
           "sequentialminus": [
            [
             0,
             "#0d0887"
            ],
            [
             0.1111111111111111,
             "#46039f"
            ],
            [
             0.2222222222222222,
             "#7201a8"
            ],
            [
             0.3333333333333333,
             "#9c179e"
            ],
            [
             0.4444444444444444,
             "#bd3786"
            ],
            [
             0.5555555555555556,
             "#d8576b"
            ],
            [
             0.6666666666666666,
             "#ed7953"
            ],
            [
             0.7777777777777778,
             "#fb9f3a"
            ],
            [
             0.8888888888888888,
             "#fdca26"
            ],
            [
             1,
             "#f0f921"
            ]
           ]
          },
          "colorway": [
           "#636efa",
           "#EF553B",
           "#00cc96",
           "#ab63fa",
           "#FFA15A",
           "#19d3f3",
           "#FF6692",
           "#B6E880",
           "#FF97FF",
           "#FECB52"
          ],
          "font": {
           "color": "#2a3f5f"
          },
          "geo": {
           "bgcolor": "white",
           "lakecolor": "white",
           "landcolor": "#E5ECF6",
           "showlakes": true,
           "showland": true,
           "subunitcolor": "white"
          },
          "hoverlabel": {
           "align": "left"
          },
          "hovermode": "closest",
          "mapbox": {
           "style": "light"
          },
          "paper_bgcolor": "white",
          "plot_bgcolor": "#E5ECF6",
          "polar": {
           "angularaxis": {
            "gridcolor": "white",
            "linecolor": "white",
            "ticks": ""
           },
           "bgcolor": "#E5ECF6",
           "radialaxis": {
            "gridcolor": "white",
            "linecolor": "white",
            "ticks": ""
           }
          },
          "scene": {
           "xaxis": {
            "backgroundcolor": "#E5ECF6",
            "gridcolor": "white",
            "gridwidth": 2,
            "linecolor": "white",
            "showbackground": true,
            "ticks": "",
            "zerolinecolor": "white"
           },
           "yaxis": {
            "backgroundcolor": "#E5ECF6",
            "gridcolor": "white",
            "gridwidth": 2,
            "linecolor": "white",
            "showbackground": true,
            "ticks": "",
            "zerolinecolor": "white"
           },
           "zaxis": {
            "backgroundcolor": "#E5ECF6",
            "gridcolor": "white",
            "gridwidth": 2,
            "linecolor": "white",
            "showbackground": true,
            "ticks": "",
            "zerolinecolor": "white"
           }
          },
          "shapedefaults": {
           "line": {
            "color": "#2a3f5f"
           }
          },
          "ternary": {
           "aaxis": {
            "gridcolor": "white",
            "linecolor": "white",
            "ticks": ""
           },
           "baxis": {
            "gridcolor": "white",
            "linecolor": "white",
            "ticks": ""
           },
           "bgcolor": "#E5ECF6",
           "caxis": {
            "gridcolor": "white",
            "linecolor": "white",
            "ticks": ""
           }
          },
          "title": {
           "x": 0.05
          },
          "xaxis": {
           "automargin": true,
           "gridcolor": "white",
           "linecolor": "white",
           "ticks": "",
           "title": {
            "standoff": 15
           },
           "zerolinecolor": "white",
           "zerolinewidth": 2
          },
          "yaxis": {
           "automargin": true,
           "gridcolor": "white",
           "linecolor": "white",
           "ticks": "",
           "title": {
            "standoff": 15
           },
           "zerolinecolor": "white",
           "zerolinewidth": 2
          }
         }
        },
        "title": {
         "font": {
          "family": "Arial"
         },
         "text": "Species Origin Status proportion"
        }
       }
      }
     },
     "metadata": {},
     "output_type": "display_data"
    }
   ],
   "source": [
    "fig = px.pie(data_sp_origin_df.sort_values('proportion', ascending=False), \n",
    "             values='proportion', \n",
    "             names='Origin', \n",
    "             title='Species Origin Status proportion',\n",
    "             width=None, \n",
    "             height=600             \n",
    "             )\n",
    "\n",
    "fig.update_traces(textposition='outside', textinfo='percent+label')\n",
    "\n",
    "\n",
    "# font\n",
    "fig.update_layout(\n",
    "    font_family=\"Arial\",\n",
    "    title_font_family=\"Arial\")\n",
    "\n",
    "fig.show()"
   ]
  },
  {
   "cell_type": "markdown",
   "metadata": {},
   "source": [
    "- Share the created code in a GitHub repo (Done!)"
   ]
  }
 ],
 "metadata": {
  "kernelspec": {
   "display_name": "Python 3",
   "language": "python",
   "name": "python3"
  },
  "language_info": {
   "codemirror_mode": {
    "name": "ipython",
    "version": 3
   },
   "file_extension": ".py",
   "mimetype": "text/x-python",
   "name": "python",
   "nbconvert_exporter": "python",
   "pygments_lexer": "ipython3",
   "version": "3.10.8"
  }
 },
 "nbformat": 4,
 "nbformat_minor": 2
}
